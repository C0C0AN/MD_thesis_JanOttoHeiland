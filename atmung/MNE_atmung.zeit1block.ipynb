{
 "cells": [
  {
   "cell_type": "code",
   "execution_count": 1,
   "metadata": {},
   "outputs": [],
   "source": [
    "%matplotlib qt5\n"
   ]
  },
  {
   "cell_type": "code",
   "execution_count": 2,
   "metadata": {},
   "outputs": [
    {
     "name": "stdout",
     "output_type": "stream",
     "text": [
      "Using matplotlib backend: Qt5Agg\n"
     ]
    }
   ],
   "source": [
    "import mne\n",
    "import os.path as op\n",
    "import numpy as np\n",
    "from matplotlib import pyplot as plt\n",
    "%matplotlib\n",
    "from mne.io import read_raw_brainvision\n",
    "\n",
    "from numpy.testing import assert_array_equal\n",
    "import os\n",
    "import numpy as np\n",
    "from mne.preprocessing.peak_finder import peak_finder"
   ]
  },
  {
   "cell_type": "code",
   "execution_count": 3,
   "metadata": {},
   "outputs": [
    {
     "data": {
      "text/plain": [
       "'0.17.0'"
      ]
     },
     "execution_count": 3,
     "metadata": {},
     "output_type": "execute_result"
    }
   ],
   "source": [
    "mne.__version__\n"
   ]
  },
  {
   "cell_type": "code",
   "execution_count": 4,
   "metadata": {},
   "outputs": [],
   "source": [
    "file = '/home/jan/Documents/Doktorarbeit/Daten/BekJan/HOAF_EDA_Resp0002.vhdr'"
   ]
  },
  {
   "cell_type": "code",
   "execution_count": 5,
   "metadata": {},
   "outputs": [
    {
     "name": "stdout",
     "output_type": "stream",
     "text": [
      "Extracting parameters from /home/jan/Documents/Doktorarbeit/Daten/BekJan/HOAF_EDA_Resp0002.vhdr...\n",
      "Setting channel info structure...\n"
     ]
    },
    {
     "name": "stderr",
     "output_type": "stream",
     "text": [
      "<ipython-input-5-a8df2c13f76c>:1: DeprecationWarning: stim_channel (default True in 0.17) will change to False in 0.18 and be removed in 0.19, set it to False in 0.17 to avoid this warning\n",
      "  raw = mne.io.read_raw_brainvision(file, preload=True)\n"
     ]
    },
    {
     "name": "stdout",
     "output_type": "stream",
     "text": [
      "Reading 0 ... 20218199  =      0.000 ...  4043.640 secs...\n",
      "Used Annotations descriptions: ['Stimulus/S 10', 'Stimulus/S  7', 'Response/R128', 'Stimulus/S  6', 'Stimulus/S  5', 'Stimulus/S  4', 'Stimulus/S  3', 'Stimulus/S  2', 'Stimulus/S  1']\n"
     ]
    },
    {
     "name": "stderr",
     "output_type": "stream",
     "text": [
      "<ipython-input-5-a8df2c13f76c>:1: RuntimeWarning: 1 event(s) will be dropped, such as ['SyncStatus/Sync On']. Consider using the event_id parameter to parse events that do not follow the BrainVision format. For more information, see the docstring of read_raw_brainvision.\n",
      "  raw = mne.io.read_raw_brainvision(file, preload=True)\n"
     ]
    }
   ],
   "source": [
    "raw = mne.io.read_raw_brainvision(file, preload=True)"
   ]
  },
  {
   "cell_type": "code",
   "execution_count": 6,
   "metadata": {},
   "outputs": [
    {
     "data": {
      "text/plain": [
       "<RawBrainVision  |  HOAF_EDA_Resp0002.eeg, n_channels x n_times : 3 x 20218200 (4043.6 sec), ~462.8 MB, data loaded>"
      ]
     },
     "execution_count": 6,
     "metadata": {},
     "output_type": "execute_result"
    }
   ],
   "source": [
    "raw\n"
   ]
  },
  {
   "cell_type": "code",
   "execution_count": 7,
   "metadata": {},
   "outputs": [
    {
     "data": {
      "text/plain": [
       "<Info | 16 non-empty fields\n",
       "    bads : list | 0 items\n",
       "    ch_names : list | GSR_MR_100, Resp, STI 014\n",
       "    chs : list | 3 items (EEG: 1, STIM: 1, MISC: 1)\n",
       "    comps : list | 0 items\n",
       "    custom_ref_applied : bool | False\n",
       "    dev_head_t : Transform | 3 items\n",
       "    events : list | 0 items\n",
       "    highpass : float | 0.0 Hz\n",
       "    hpi_meas : list | 0 items\n",
       "    hpi_results : list | 0 items\n",
       "    lowpass : float | 250.0 Hz\n",
       "    meas_date : tuple | 2018-06-13 13:52:50 GMT\n",
       "    nchan : int | 3\n",
       "    proc_history : list | 0 items\n",
       "    projs : list | 0 items\n",
       "    sfreq : float | 5000.0 Hz\n",
       "    acq_pars : NoneType\n",
       "    acq_stim : NoneType\n",
       "    ctf_head_t : NoneType\n",
       "    description : NoneType\n",
       "    dev_ctf_t : NoneType\n",
       "    dig : NoneType\n",
       "    experimenter : NoneType\n",
       "    file_id : NoneType\n",
       "    gantry_angle : NoneType\n",
       "    hpi_subsystem : NoneType\n",
       "    kit_system_id : NoneType\n",
       "    line_freq : NoneType\n",
       "    meas_id : NoneType\n",
       "    proj_id : NoneType\n",
       "    proj_name : NoneType\n",
       "    subject_info : NoneType\n",
       "    xplotter_layout : NoneType\n",
       ">"
      ]
     },
     "execution_count": 7,
     "metadata": {},
     "output_type": "execute_result"
    }
   ],
   "source": [
    "raw.info\n"
   ]
  },
  {
   "cell_type": "code",
   "execution_count": 8,
   "metadata": {},
   "outputs": [],
   "source": [
    "# Laden der roh Daten, hier noch in mehreren Dimensionen\n",
    "data = raw.get_data()\n",
    "fig = raw.plot(None, 10.0,0.0,3,'w',None,(0.8,0.8,0.8),'cyan','auto')"
   ]
  },
  {
   "cell_type": "code",
   "execution_count": 9,
   "metadata": {
    "scrolled": true
   },
   "outputs": [],
   "source": [
    "#raw.plot(None, 10.0,0.0,3,'w',None,(0.8,0.8,0.8),'cyan','auto')\n"
   ]
  },
  {
   "cell_type": "code",
   "execution_count": 10,
   "metadata": {},
   "outputs": [],
   "source": [
    "fig.savefig('/home/jan/Documents/Doktorarbeit/Analyse/Physio/')"
   ]
  },
  {
   "cell_type": "code",
   "execution_count": 11,
   "metadata": {},
   "outputs": [],
   "source": [
    "ch_labels = ['GSR_MR_100', 'Resp', 'Stim']\n",
    "ch_types = ['misc', 'misc', 'stim']\n",
    "sfreq = 250"
   ]
  },
  {
   "cell_type": "code",
   "execution_count": 12,
   "metadata": {},
   "outputs": [],
   "source": [
    "info = mne.create_info(ch_labels, sfreq, ch_types)\n",
    "raw.info['description'] = 'Music stress experiment in the MRI scanner with respiratory channel'\n",
    "raw.info['buffer_size_sec'] = 1"
   ]
  },
  {
   "cell_type": "code",
   "execution_count": 13,
   "metadata": {},
   "outputs": [
    {
     "data": {
      "text/plain": [
       "<RawBrainVision  |  HOAF_EDA_Resp0002.eeg, n_channels x n_times : 1 x 20218200 (4043.6 sec), ~154.3 MB, data loaded>"
      ]
     },
     "execution_count": 13,
     "metadata": {},
     "output_type": "execute_result"
    }
   ],
   "source": [
    "#Definiere dass nur der respiratorische Channel gnutzt wird\n",
    "raw.pick_channels(['Resp'])\n"
   ]
  },
  {
   "cell_type": "code",
   "execution_count": 14,
   "metadata": {},
   "outputs": [],
   "source": [
    "# Trennung des Zeit und des Datenvektors\n",
    "data,times=raw[:]\n",
    "datavector=np.reshape(data,20218200)\n"
   ]
  },
  {
   "cell_type": "code",
   "execution_count": 15,
   "metadata": {},
   "outputs": [],
   "source": [
    "default = (max(datavector)-min(datavector))/30"
   ]
  },
  {
   "cell_type": "code",
   "execution_count": 16,
   "metadata": {},
   "outputs": [],
   "source": [
    "#Einspeisen des Datenvektors in peakfinder \n",
    "peak_loc, peak_mag = peak_finder(datavector,thresh=default, extrema=-1)"
   ]
  },
  {
   "cell_type": "code",
   "execution_count": 17,
   "metadata": {},
   "outputs": [],
   "source": [
    "%edit peak_finder"
   ]
  },
  {
   "cell_type": "code",
   "execution_count": 18,
   "metadata": {},
   "outputs": [
    {
     "data": {
      "text/plain": [
       "array([-0.4716866, -0.4637514, -0.4201078, -0.4910668, -0.4687872,\n",
       "       -0.4643618, -0.4294164, -0.376159 , -0.4300268, -0.4024062,\n",
       "       -0.4620728, -0.441014 , -0.4680242, -0.475349 , -0.5789644,\n",
       "       -0.3988964, -0.4666508, -0.4431504, -0.482216 , -0.3900456])"
      ]
     },
     "execution_count": 18,
     "metadata": {},
     "output_type": "execute_result"
    }
   ],
   "source": [
    "peak_mag[:20]"
   ]
  },
  {
   "cell_type": "code",
   "execution_count": 19,
   "metadata": {},
   "outputs": [
    {
     "data": {
      "text/plain": [
       "array([    2718,    25294,    43971, ..., 20128698, 20131270, 20218144])"
      ]
     },
     "execution_count": 19,
     "metadata": {},
     "output_type": "execute_result"
    }
   ],
   "source": [
    "peak_loc"
   ]
  },
  {
   "cell_type": "code",
   "execution_count": 20,
   "metadata": {
    "scrolled": true
   },
   "outputs": [
    {
     "data": {
      "text/plain": [
       "1038"
      ]
     },
     "execution_count": 20,
     "metadata": {},
     "output_type": "execute_result"
    }
   ],
   "source": [
    "len(peak_loc)"
   ]
  },
  {
   "cell_type": "code",
   "execution_count": 21,
   "metadata": {},
   "outputs": [
    {
     "data": {
      "text/plain": [
       "array([5.4360000e-01, 5.0588000e+00, 8.7942000e+00, ..., 4.0257396e+03,\n",
       "       4.0262540e+03, 4.0436288e+03])"
      ]
     },
     "execution_count": 21,
     "metadata": {},
     "output_type": "execute_result"
    }
   ],
   "source": [
    "peak_times = times[peak_loc]\n",
    "peak_times"
   ]
  },
  {
   "cell_type": "code",
   "execution_count": 22,
   "metadata": {},
   "outputs": [
    {
     "data": {
      "text/plain": [
       "[<matplotlib.lines.Line2D at 0x7f1a0d543450>]"
      ]
     },
     "execution_count": 22,
     "metadata": {},
     "output_type": "execute_result"
    }
   ],
   "source": [
    "resp = raw.get_data()[0]\n",
    "plt.vlines(x=peak_times, ymin=-1, ymax=1)\n",
    "plt.plot(times, resp)"
   ]
  },
  {
   "cell_type": "code",
   "execution_count": 72,
   "metadata": {},
   "outputs": [
    {
     "data": {
      "text/plain": [
       "[<matplotlib.lines.Line2D at 0x7f19efc1e410>]"
      ]
     },
     "execution_count": 72,
     "metadata": {},
     "output_type": "execute_result"
    }
   ],
   "source": [
    "a = np.where(times >= 3000)[0][0]\n",
    "b = np.where(times <= 3300)[0][-1]\n",
    "a = 0; b = len(times)\n",
    "tresp = resp[a:b]\n",
    "# for thres in [default, default*90]:\n",
    "thres = default\n",
    "tpeak_loc, _ = peak_finder(tresp, thresh=thres, extrema=-1)\n",
    "tpeak_times = times[a:b][tpeak_loc]\n",
    "plt.vlines(x=tpeak_times, ymin=-1, ymax=1)\n",
    "plt.plot(times[a:b], tresp)"
   ]
  },
  {
   "cell_type": "code",
   "execution_count": 88,
   "metadata": {},
   "outputs": [
    {
     "data": {
      "text/plain": [
       "(array([0.        , 0.        , 0.        , 0.        , 0.        ,\n",
       "        0.01285297, 0.01285297, 0.02570594, 0.03855891, 0.01285297,\n",
       "        0.01285297, 0.02570594, 0.01285297, 0.01285297, 0.02570594,\n",
       "        0.        , 0.01285297, 0.01285297, 0.        , 0.        ,\n",
       "        0.        , 0.        , 0.02570594, 0.        , 0.01285297,\n",
       "        0.        , 0.        , 0.02570594, 0.03855891, 0.01285297,\n",
       "        0.02570594, 0.03855891, 0.10282376, 0.08997079, 0.1285297 ,\n",
       "        0.16708861, 0.15423564, 0.14138267, 0.20564752, 0.39844206,\n",
       "        0.23135346, 0.35988315, 0.33417722, 0.47555988, 0.46270691,\n",
       "        0.47555988, 0.61694255, 0.48841285, 0.46270691, 0.5526777 ,\n",
       "        0.65550146, 0.48841285, 0.69406037, 0.48841285, 0.424148  ,\n",
       "        0.50126582, 0.46270691, 0.33417722, 0.34703019, 0.20564752,\n",
       "        0.26991237, 0.28276534, 0.23135346, 0.21850049, 0.2570594 ,\n",
       "        0.10282376, 0.14138267, 0.15423564, 0.07711782, 0.06426485,\n",
       "        0.07711782, 0.06426485, 0.05141188, 0.03855891, 0.01285297,\n",
       "        0.03855891, 0.05141188, 0.02570594, 0.        , 0.        ,\n",
       "        0.01285297, 0.        , 0.02570594, 0.        , 0.        ,\n",
       "        0.01285297, 0.        , 0.01285297, 0.01285297, 0.01285297,\n",
       "        0.02570594, 0.02570594, 0.02570594, 0.        , 0.01285297,\n",
       "        0.01285297, 0.        , 0.        , 0.        ]),\n",
       " array([0.        , 0.07575758, 0.15151515, 0.22727273, 0.3030303 ,\n",
       "        0.37878788, 0.45454545, 0.53030303, 0.60606061, 0.68181818,\n",
       "        0.75757576, 0.83333333, 0.90909091, 0.98484848, 1.06060606,\n",
       "        1.13636364, 1.21212121, 1.28787879, 1.36363636, 1.43939394,\n",
       "        1.51515152, 1.59090909, 1.66666667, 1.74242424, 1.81818182,\n",
       "        1.89393939, 1.96969697, 2.04545455, 2.12121212, 2.1969697 ,\n",
       "        2.27272727, 2.34848485, 2.42424242, 2.5       , 2.57575758,\n",
       "        2.65151515, 2.72727273, 2.8030303 , 2.87878788, 2.95454545,\n",
       "        3.03030303, 3.10606061, 3.18181818, 3.25757576, 3.33333333,\n",
       "        3.40909091, 3.48484848, 3.56060606, 3.63636364, 3.71212121,\n",
       "        3.78787879, 3.86363636, 3.93939394, 4.01515152, 4.09090909,\n",
       "        4.16666667, 4.24242424, 4.31818182, 4.39393939, 4.46969697,\n",
       "        4.54545455, 4.62121212, 4.6969697 , 4.77272727, 4.84848485,\n",
       "        4.92424242, 5.        , 5.07575758, 5.15151515, 5.22727273,\n",
       "        5.3030303 , 5.37878788, 5.45454545, 5.53030303, 5.60606061,\n",
       "        5.68181818, 5.75757576, 5.83333333, 5.90909091, 5.98484848,\n",
       "        6.06060606, 6.13636364, 6.21212121, 6.28787879, 6.36363636,\n",
       "        6.43939394, 6.51515152, 6.59090909, 6.66666667, 6.74242424,\n",
       "        6.81818182, 6.89393939, 6.96969697, 7.04545455, 7.12121212,\n",
       "        7.1969697 , 7.27272727, 7.34848485, 7.42424242, 7.5       ]),\n",
       " <a list of 99 Patch objects>)"
      ]
     },
     "execution_count": 88,
     "metadata": {},
     "output_type": "execute_result"
    },
    {
     "data": {
      "image/png": "[encoded data removed]",
      "text/plain": [
       "<Figure size 432x288 with 1 Axes>"
      ]
     },
     "metadata": {},
     "output_type": "display_data"
    }
   ],
   "source": [
    "%matplotlib inline\n",
    "plt.xlabel(u\"Intervalllänge\")\n",
    "plt.hist(np.diff(tpeak_times), bins=np.linspace(0, 7.5, num=100), \n",
    "          label=\"Verteilung der Atmungsintervalllaengen\", density=True)\n"
   ]
  },
  {
   "cell_type": "code",
   "execution_count": 87,
   "metadata": {},
   "outputs": [
    {
     "data": {
      "text/plain": [
       "array([0.        , 0.83333333, 1.66666667, 2.5       , 3.33333333,\n",
       "       4.16666667, 5.        , 5.83333333, 6.66666667, 7.5       ])"
      ]
     },
     "execution_count": 87,
     "metadata": {},
     "output_type": "execute_result"
    }
   ],
   "source": [
    "np.linspace(0, 7.5, num=10)"
   ]
  },
  {
   "cell_type": "code",
   "execution_count": 25,
   "metadata": {},
   "outputs": [],
   "source": [
    "start = 1098\n",
    "stop = 1822"
   ]
  },
  {
   "cell_type": "code",
   "execution_count": 26,
   "metadata": {},
   "outputs": [],
   "source": [
    "def number_peak(start =start, stop=stop):\n",
    "    return len(peak_times[(peak_times>=start )& (peak_times<=stop)])\n",
    "\n",
    "    "
   ]
  },
  {
   "cell_type": "code",
   "execution_count": 27,
   "metadata": {},
   "outputs": [],
   "source": [
    "pt_1 = peak_times[(peak_times>=start )& (peak_times<=stop)]"
   ]
  },
  {
   "cell_type": "code",
   "execution_count": 28,
   "metadata": {},
   "outputs": [
    {
     "data": {
      "text/plain": [
       "196"
      ]
     },
     "execution_count": 28,
     "metadata": {},
     "output_type": "execute_result"
    }
   ],
   "source": [
    "len(pt_1)"
   ]
  },
  {
   "cell_type": "code",
   "execution_count": 29,
   "metadata": {},
   "outputs": [
    {
     "data": {
      "text/plain": [
       "4024.1082"
      ]
     },
     "execution_count": 29,
     "metadata": {},
     "output_type": "execute_result"
    }
   ],
   "source": [
    "times[20120541]"
   ]
  },
  {
   "cell_type": "code",
   "execution_count": 30,
   "metadata": {},
   "outputs": [
    {
     "data": {
      "text/plain": [
       "-4.9726235999999995"
      ]
     },
     "execution_count": 30,
     "metadata": {},
     "output_type": "execute_result"
    }
   ],
   "source": [
    "min(datavector)"
   ]
  },
  {
   "cell_type": "code",
   "execution_count": 31,
   "metadata": {},
   "outputs": [
    {
     "data": {
      "text/plain": [
       "1.0360014"
      ]
     },
     "execution_count": 31,
     "metadata": {},
     "output_type": "execute_result"
    }
   ],
   "source": [
    "max(datavector)"
   ]
  },
  {
   "cell_type": "code",
   "execution_count": 32,
   "metadata": {},
   "outputs": [
    {
     "data": {
      "text/plain": [
       "196"
      ]
     },
     "execution_count": 32,
     "metadata": {},
     "output_type": "execute_result"
    }
   ],
   "source": [
    "number_peak()"
   ]
  },
  {
   "cell_type": "code",
   "execution_count": 49,
   "metadata": {},
   "outputs": [
    {
     "data": {
      "text/plain": [
       "1080.0354"
      ]
     },
     "execution_count": 49,
     "metadata": {},
     "output_type": "execute_result"
    }
   ],
   "source": [
    "#time rc1 start\n",
    "rc1a = times[5365177]+6"
   ]
  },
  {
   "cell_type": "code",
   "execution_count": 50,
   "metadata": {},
   "outputs": [
    {
     "data": {
      "text/plain": [
       "1139.0354"
      ]
     },
     "execution_count": 50,
     "metadata": {},
     "output_type": "execute_result"
    }
   ],
   "source": [
    "#time rc1 stop\n",
    "1rc1e = times[5365177]+66"
   ]
  },
  {
   "cell_type": "code",
   "execution_count": 51,
   "metadata": {},
   "outputs": [
    {
     "data": {
      "text/plain": [
       "1167.0354"
      ]
     },
     "execution_count": 51,
     "metadata": {},
     "output_type": "execute_result"
    }
   ],
   "source": [
    "#time mc1 start\n",
    "1mc1a = times[5365177]+94"
   ]
  },
  {
   "cell_type": "code",
   "execution_count": 52,
   "metadata": {},
   "outputs": [
    {
     "data": {
      "text/plain": [
       "1225.0354"
      ]
     },
     "execution_count": 52,
     "metadata": {},
     "output_type": "execute_result"
    }
   ],
   "source": [
    "#time mc1 stop\n",
    "1mc1e = times[5365177]+152"
   ]
  },
  {
   "cell_type": "code",
   "execution_count": 53,
   "metadata": {},
   "outputs": [
    {
     "data": {
      "text/plain": [
       "1255.0354"
      ]
     },
     "execution_count": 53,
     "metadata": {},
     "output_type": "execute_result"
    }
   ],
   "source": [
    "#time rs1 start\n",
    "1rs1a = times[5365177]+182"
   ]
  },
  {
   "cell_type": "code",
   "execution_count": 54,
   "metadata": {},
   "outputs": [
    {
     "data": {
      "text/plain": [
       "1315.0354"
      ]
     },
     "execution_count": 54,
     "metadata": {},
     "output_type": "execute_result"
    }
   ],
   "source": [
    "#time rs1 stop\n",
    "1rs1e = times[5365177]+242"
   ]
  },
  {
   "cell_type": "code",
   "execution_count": 55,
   "metadata": {},
   "outputs": [
    {
     "data": {
      "text/plain": [
       "1343.0354"
      ]
     },
     "execution_count": 55,
     "metadata": {},
     "output_type": "execute_result"
    }
   ],
   "source": [
    "#time ms1 start\n",
    "1ms1a = times[5365177]+270"
   ]
  },
  {
   "cell_type": "code",
   "execution_count": 57,
   "metadata": {},
   "outputs": [
    {
     "data": {
      "text/plain": [
       "1403.0354"
      ]
     },
     "execution_count": 57,
     "metadata": {},
     "output_type": "execute_result"
    }
   ],
   "source": [
    "#time ms1 stop\n",
    "1ms1e = times[5365177]+330"
   ]
  },
  {
   "cell_type": "code",
   "execution_count": null,
   "metadata": {},
   "outputs": [],
   "source": [
    "#time rc2 start\n",
    "1rc2a = times[5365177]+358"
   ]
  },
  {
   "cell_type": "code",
   "execution_count": 58,
   "metadata": {},
   "outputs": [
    {
     "data": {
      "text/plain": [
       "1486.0354"
      ]
     },
     "execution_count": 58,
     "metadata": {},
     "output_type": "execute_result"
    }
   ],
   "source": [
    "#time rc2 stop\n",
    "1rc2e = times[5365177]+413"
   ]
  },
  {
   "cell_type": "code",
   "execution_count": 59,
   "metadata": {},
   "outputs": [
    {
     "data": {
      "text/plain": [
       "1519.0354"
      ]
     },
     "execution_count": 59,
     "metadata": {},
     "output_type": "execute_result"
    }
   ],
   "source": [
    "#time mc2 start\n",
    "1mc2a = times[5365177]+446"
   ]
  },
  {
   "cell_type": "code",
   "execution_count": 60,
   "metadata": {},
   "outputs": [
    {
     "data": {
      "text/plain": [
       "1574.0354"
      ]
     },
     "execution_count": 60,
     "metadata": {},
     "output_type": "execute_result"
    }
   ],
   "source": [
    "#time mc2 stop\n",
    "1mc2e = times[5365177]+501"
   ]
  },
  {
   "cell_type": "code",
   "execution_count": 61,
   "metadata": {},
   "outputs": [
    {
     "data": {
      "text/plain": [
       "1607.0354"
      ]
     },
     "execution_count": 61,
     "metadata": {},
     "output_type": "execute_result"
    }
   ],
   "source": [
    "#time rs2 start\n",
    "1rs2a = times[5365177]+534"
   ]
  },
  {
   "cell_type": "code",
   "execution_count": 62,
   "metadata": {},
   "outputs": [
    {
     "data": {
      "text/plain": [
       "1667.0354"
      ]
     },
     "execution_count": 62,
     "metadata": {},
     "output_type": "execute_result"
    }
   ],
   "source": [
    "#time rs2 stop\n",
    "1rs2e = times[5365177]+594"
   ]
  },
  {
   "cell_type": "code",
   "execution_count": 63,
   "metadata": {},
   "outputs": [
    {
     "data": {
      "text/plain": [
       "1695.0354"
      ]
     },
     "execution_count": 63,
     "metadata": {},
     "output_type": "execute_result"
    }
   ],
   "source": [
    "#time ms2 start\n",
    "1ms2a = times[5365177]+622"
   ]
  },
  {
   "cell_type": "code",
   "execution_count": 67,
   "metadata": {},
   "outputs": [
    {
     "data": {
      "text/plain": [
       "1755.0354"
      ]
     },
     "execution_count": 67,
     "metadata": {},
     "output_type": "execute_result"
    }
   ],
   "source": [
    "#time ms2 stop\n",
    "1ms2e = times[5365177]+682"
   ]
  },
  {
   "cell_type": "code",
   "execution_count": 65,
   "metadata": {},
   "outputs": [
    {
     "data": {
      "text/plain": [
       "723.5472"
      ]
     },
     "execution_count": 65,
     "metadata": {},
     "output_type": "execute_result"
    }
   ],
   "source": [
    "#Zeitspanne erster Stressblock\n",
    "times[8982913]-times[5365177]"
   ]
  },
  {
   "cell_type": "code",
   "execution_count": 40,
   "metadata": {},
   "outputs": [
    {
     "data": {
      "text/plain": [
       "723.5459999999998"
      ]
     },
     "execution_count": 40,
     "metadata": {},
     "output_type": "execute_result"
    }
   ],
   "source": [
    "#Zeitspanne zweiter Stressblock\n",
    "times[17888542]-times[14270812]"
   ]
  }
 ],
 "metadata": {
  "kernelspec": {
   "display_name": "Python 2",
   "language": "python",
   "name": "python2"
  },
  "language_info": {
   "codemirror_mode": {
    "name": "ipython",
    "version": 2
   },
   "file_extension": ".py",
   "mimetype": "text/x-python",
   "name": "python",
   "nbconvert_exporter": "python",
   "pygments_lexer": "ipython2",
   "version": "2.7.15"
  }
 },
 "nbformat": 4,
 "nbformat_minor": 2
}
