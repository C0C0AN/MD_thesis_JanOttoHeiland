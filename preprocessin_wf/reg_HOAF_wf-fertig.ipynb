{
 "cells": [
  {
   "cell_type": "markdown",
   "metadata": {},
   "source": [
    "# separte workflow for coregistration of anatomical image to mni template"
   ]
  },
  {
   "cell_type": "code",
   "execution_count": 4,
   "metadata": {},
   "outputs": [],
   "source": [
    "# import modules\n",
    "from os.path import join as opj\n",
    "import os\n",
    "from nipype.interfaces.utility import Function, IdentityInterface\n",
    "from nipype.interfaces.io import FreeSurferSource, SelectFiles, DataSink\n",
    "from nipype.pipeline.engine import Workflow, Node, MapNode\n",
    "from nipype.interfaces.ants import Registration\n",
    "from nipype.interfaces.fsl import Info, BET"
   ]
  },
  {
   "cell_type": "code",
   "execution_count": 13,
   "metadata": {},
   "outputs": [],
   "source": [
    "experiment_dir = '/media/lmn/86A406A0A406933B/HOAF/HOAF_BIDS/' # location of experiment folder\n",
    "subject_list = ['sub-00'] # create the subject_list variable\n",
    "# run_list = ['1', '2', '3', '4', '5', '6', '7', '8']\n",
    "\n",
    "output_dir = 'derivatives/antsreg/output_dir/' # name of output folder\n",
    "working_dir = 'derivatives/antsreg/working_dir/' # name of working directory\n",
    "\n",
    "number_of_slices = 25   # number of slices in volume\n",
    "TR = 1.5    # time of repetition of volume\n",
    "\n",
    "fwhm = [4,6]\n",
    "\n",
    "# location of template file for coregistration to mni template (full path needed, error otherwise)\n",
    "template = '/media/lmn/86A406A0A406933B/mni_icbm152_nlin_asym_09c_3mm/mni_icbm152_t1_tal_nlin_asym_09c.nii'"
   ]
  },
  {
   "cell_type": "code",
   "execution_count": 18,
   "metadata": {},
   "outputs": [],
   "source": [
    "# SelectFiles - to grab the data (alternativ to DataGrabber)\n",
    "templates = {'anat': '/media/lmn/86A406A0A406933B/HOAF/HOAF_BIDS/derivatives/mindboggle/freesurfer_subjects/sub-01/mri/brain.mgz'} # anatomical images\n",
    "        \n",
    "selectfiles = Node(SelectFiles(templates,\n",
    "                                base_directory=experiment_dir),\n",
    "                   name=\"selectfiles\")\n",
    "\n",
    "# Infosource - a function free node to iterate over the list of subject names\n",
    "infosource = Node(IdentityInterface(fields=['subject_id']),\n",
    "                  name=\"infosource\")\n",
    "infosource.iterables = [('subject_id', subject_list)]\n",
    "\n",
    "\n",
    "# Datasink - creates output folder for important outputs\n",
    "datasink = Node(DataSink(base_directory=experiment_dir,\n",
    "                         container=output_dir),\n",
    "                name=\"datasink\")"
   ]
  },
  {
   "cell_type": "code",
   "execution_count": 19,
   "metadata": {},
   "outputs": [],
   "source": [
    "# BET - Skullstrip mask Image\n",
    "bet_temp = Node(BET(frac=0.5,\n",
    "                    robust=True,\n",
    "                    in_file=template,\n",
    "                    output_type='NIFTI_GZ'),\n",
    "                name=\"bet_temp\")\n",
    "\n",
    "# antsRegistration - coregister t1 on mni template\n",
    "registrationtemp = Node(Registration(args='--float',\n",
    "                            collapse_output_transforms=True,\n",
    "                            initial_moving_transform_com=True,   # no additional connection in workflow needed\n",
    "                            num_threads=4,\n",
    "                            output_inverse_warped_image=True,\n",
    "                            output_warped_image=True,\n",
    "                            sigma_units=['vox']*3,\n",
    "                            transforms=['Rigid', 'Affine', 'SyN'],\n",
    "                            terminal_output='file',\n",
    "                            winsorize_lower_quantile=0.005,\n",
    "                            winsorize_upper_quantile=0.995,\n",
    "                            convergence_threshold=[1e-06],\n",
    "                            convergence_window_size=[10],\n",
    "                            metric=['MI', 'MI', 'CC'],\n",
    "                            metric_weight=[1.0]*3,\n",
    "                            number_of_iterations=[[1000, 500, 250, 100],\n",
    "                                                  [1000, 500, 250, 100],\n",
    "                                                  [100, 70, 50, 20]],\n",
    "                            radius_or_number_of_bins=[32, 32, 4],\n",
    "                            sampling_percentage=[0.25, 0.25, 1],\n",
    "                            sampling_strategy=['Regular',\n",
    "                                               'Regular',\n",
    "                                               'None'],\n",
    "                            shrink_factors=[[8, 4, 2, 1]]*3,\n",
    "                            smoothing_sigmas=[[3, 2, 1, 0]]*3,\n",
    "                            transform_parameters=[(0.1,),\n",
    "                                                  (0.1,),\n",
    "                                                  (0.1, 3.0, 0.0)],\n",
    "                            use_histogram_matching=True,\n",
    "                            write_composite_transform=True),\n",
    "               name='registrationtemp')"
   ]
  },
  {
   "cell_type": "code",
   "execution_count": 23,
   "metadata": {},
   "outputs": [
    {
     "name": "stdout",
     "output_type": "stream",
     "text": [
      "180726-15:16:33,698 nipype.workflow INFO:\n",
      "\t Generated workflow graph: /media/lmn/86A406A0A406933B/HOAF/HOAF_BIDS/derivatives/preprocessing_sub01/working_dir/reg_HOAF/graph.png (graph2use=colored, simple_form=True).\n"
     ]
    },
    {
     "data": {
      "text/plain": [
       "'/media/lmn/86A406A0A406933B/HOAF/HOAF_BIDS/derivatives/preprocessing_sub01/working_dir/reg_HOAF/graph.png'"
      ]
     },
     "execution_count": 23,
     "metadata": {},
     "output_type": "execute_result"
    }
   ],
   "source": [
    "# visualize\n",
    "# Create preproc output graph\n",
    "reg_HOAF.write_graph(graph2use='colored', format='png', simple_form=True)\n",
    "\n",
    "# Visualize the graph\n"
   ]
  },
  {
   "cell_type": "code",
   "execution_count": 25,
   "metadata": {},
   "outputs": [
    {
     "data": {
      "image/png": "[encoded data removed]",
      "text/plain": [
       "<IPython.core.display.Image object>"
      ]
     },
     "execution_count": 25,
     "metadata": {
      "image/png": {
       "width": 750
      }
     },
     "output_type": "execute_result"
    }
   ],
   "source": [
    "from IPython.display import Image\n",
    "Image(filename='/media/lmn/86A406A0A406933B/HOAF/HOAF_BIDS/derivatives/preprocessing_sub01/working_dir/reg_HOAF/graph.png', width=750)"
   ]
  },
  {
   "cell_type": "code",
   "execution_count": 27,
   "metadata": {},
   "outputs": [
    {
     "name": "stdout",
     "output_type": "stream",
     "text": [
      "<bound method Node.get_output of <nipype.pipeline.engine.nodes.Node object at 0x7f8fea1af5f8>>\n"
     ]
    }
   ],
   "source": []
  },
  {
   "cell_type": "code",
   "execution_count": 20,
   "metadata": {},
   "outputs": [],
   "source": [
    "# Create a preprocessing workflow\n",
    "reg_HOAF = Workflow(name='reg_HOAF')\n",
    "reg_HOAF.base_dir = opj(experiment_dir, working_dir)\n",
    "\n",
    "# Connect all components of the preprocessing workflow - aparc / ribbon mask \n",
    "reg_HOAF.connect([(infosource, selectfiles, [('subject_id', 'subject_id')]),\n",
    "                  (selectfiles, registrationtemp, [('anat', 'moving_image')]),\n",
    "                  (bet_temp, registrationtemp, [('out_file', 'fixed_image')]),\n",
    "                  (registrationtemp, datasink, [('warped_image', 'registrationtemp.@warped_image'),\n",
    "                                                ('inverse_warped_image', 'registrationtemp.@inverse_warped_image'),\n",
    "                                                ('inverse_composite_transform', 'registrationtemp.@inverse_composite_transform'),\n",
    "                                                ('composite_transform', 'registrationtemp.@composite_transform')]),\n",
    "                      ])"
   ]
  },
  {
   "cell_type": "code",
   "execution_count": 21,
   "metadata": {
    "scrolled": true
   },
   "outputs": [
    {
     "name": "stdout",
     "output_type": "stream",
     "text": [
      "180726-13:49:41,862 nipype.workflow INFO:\n",
      "\t Workflow reg_HOAF settings: ['check', 'execution', 'logging', 'monitoring']\n",
      "180726-13:49:41,874 nipype.workflow INFO:\n",
      "\t Running in parallel.\n",
      "180726-13:49:41,877 nipype.workflow INFO:\n",
      "\t [MultiProc] Running 0 tasks, and 2 jobs ready. Free memory (GB): 28.21/28.21, Free processors: 4/4.\n",
      "180726-13:49:41,937 nipype.workflow INFO:\n",
      "\t [Job 1] Cached (reg_HOAF.bet_temp).\n",
      "180726-13:49:41,937 nipype.workflow INFO:\n",
      "\t [Node] Setting-up \"reg_HOAF.selectfiles\" in \"/media/lmn/86A406A0A406933B/HOAF/HOAF_BIDS/derivatives/preprocessing_sub01/working_dir/reg_HOAF/_subject_id_sub-00/selectfiles\".\n",
      "180726-13:49:41,944 nipype.workflow INFO:\n",
      "\t [Node] Running \"selectfiles\" (\"nipype.interfaces.io.SelectFiles\")\n",
      "180726-13:49:41,955 nipype.workflow INFO:\n",
      "\t [Node] Finished \"reg_HOAF.selectfiles\".\n",
      "180726-13:49:43,879 nipype.workflow INFO:\n",
      "\t [Job 0] Completed (reg_HOAF.selectfiles).\n",
      "180726-13:49:43,881 nipype.workflow INFO:\n",
      "\t [MultiProc] Running 0 tasks, and 1 jobs ready. Free memory (GB): 28.21/28.21, Free processors: 4/4.\n",
      "180726-13:49:43,946 nipype.workflow INFO:\n",
      "\t [Node] Setting-up \"reg_HOAF.registrationtemp\" in \"/media/lmn/86A406A0A406933B/HOAF/HOAF_BIDS/derivatives/preprocessing_sub01/working_dir/reg_HOAF/_subject_id_sub-00/registrationtemp\".\n",
      "180726-13:49:43,956 nipype.workflow INFO:\n",
      "\t [Node] Running \"registrationtemp\" (\"nipype.interfaces.ants.registration.Registration\"), a CommandLine Interface with command:\n",
      "antsRegistration --float --collapse-output-transforms 1 --dimensionality 3 --initial-moving-transform [ /media/lmn/86A406A0A406933B/HOAF/HOAF_BIDS/derivatives/preprocessing_sub01/working_dir/reg_HOAF/bet_temp/mni_icbm152_t1_tal_nlin_asym_09c_brain.nii.gz, /media/lmn/86A406A0A406933B/HOAF/HOAF_BIDS/derivatives/mindboggle/freesurfer_subjects/sub-01/mri/brain.mgz, 1 ] --initialize-transforms-per-stage 0 --interpolation Linear --output [ transform, transform_Warped.nii.gz, transform_InverseWarped.nii.gz ] --transform Rigid[ 0.1 ] --metric MI[ /media/lmn/86A406A0A406933B/HOAF/HOAF_BIDS/derivatives/preprocessing_sub01/working_dir/reg_HOAF/bet_temp/mni_icbm152_t1_tal_nlin_asym_09c_brain.nii.gz, /media/lmn/86A406A0A406933B/HOAF/HOAF_BIDS/derivatives/mindboggle/freesurfer_subjects/sub-01/mri/brain.mgz, 1, 32, Regular, 0.25 ] --convergence [ 1000x500x250x100, 1e-06, 10 ] --smoothing-sigmas 3.0x2.0x1.0x0.0vox --shrink-factors 8x4x2x1 --use-histogram-matching 1 --transform Affine[ 0.1 ] --metric MI[ /media/lmn/86A406A0A406933B/HOAF/HOAF_BIDS/derivatives/preprocessing_sub01/working_dir/reg_HOAF/bet_temp/mni_icbm152_t1_tal_nlin_asym_09c_brain.nii.gz, /media/lmn/86A406A0A406933B/HOAF/HOAF_BIDS/derivatives/mindboggle/freesurfer_subjects/sub-01/mri/brain.mgz, 1, 32, Regular, 0.25 ] --convergence [ 1000x500x250x100, 1e-06, 10 ] --smoothing-sigmas 3.0x2.0x1.0x0.0vox --shrink-factors 8x4x2x1 --use-histogram-matching 1 --transform SyN[ 0.1, 3.0, 0.0 ] --metric CC[ /media/lmn/86A406A0A406933B/HOAF/HOAF_BIDS/derivatives/preprocessing_sub01/working_dir/reg_HOAF/bet_temp/mni_icbm152_t1_tal_nlin_asym_09c_brain.nii.gz, /media/lmn/86A406A0A406933B/HOAF/HOAF_BIDS/derivatives/mindboggle/freesurfer_subjects/sub-01/mri/brain.mgz, 1, 4, None, 1 ] --convergence [ 100x70x50x20, 1e-06, 10 ] --smoothing-sigmas 3.0x2.0x1.0x0.0vox --shrink-factors 8x4x2x1 --use-histogram-matching 1 --winsorize-image-intensities [ 0.005, 0.995 ]  --write-composite-transform 1\n",
      "180726-13:49:45,881 nipype.workflow INFO:\n",
      "\t [MultiProc] Running 1 tasks, and 0 jobs ready. Free memory (GB): 28.01/28.21, Free processors: 0/4.\n",
      "                     Currently running:\n",
      "                       * reg_HOAF.registrationtemp\n",
      "180726-14:32:38,992 nipype.workflow INFO:\n",
      "\t [Node] Finished \"reg_HOAF.registrationtemp\".\n",
      "180726-14:32:40,390 nipype.workflow INFO:\n",
      "\t [Job 2] Completed (reg_HOAF.registrationtemp).\n",
      "180726-14:32:40,393 nipype.workflow INFO:\n",
      "\t [MultiProc] Running 0 tasks, and 1 jobs ready. Free memory (GB): 28.21/28.21, Free processors: 4/4.\n",
      "180726-14:32:40,448 nipype.workflow INFO:\n",
      "\t [Node] Setting-up \"reg_HOAF.datasink\" in \"/media/lmn/86A406A0A406933B/HOAF/HOAF_BIDS/derivatives/preprocessing_sub01/working_dir/reg_HOAF/_subject_id_sub-00/datasink\".\n",
      "180726-14:32:40,457 nipype.workflow INFO:\n",
      "\t [Node] Running \"datasink\" (\"nipype.interfaces.io.DataSink\")\n",
      "180726-14:32:40,472 nipype.workflow INFO:\n",
      "\t [Node] Finished \"reg_HOAF.datasink\".\n",
      "180726-14:32:42,392 nipype.workflow INFO:\n",
      "\t [Job 3] Completed (reg_HOAF.datasink).\n",
      "180726-14:32:42,396 nipype.workflow INFO:\n",
      "\t [MultiProc] Running 0 tasks, and 0 jobs ready. Free memory (GB): 28.21/28.21, Free processors: 4/4.\n"
     ]
    },
    {
     "data": {
      "text/plain": [
       "<networkx.classes.digraph.DiGraph at 0x7f8fea334080>"
      ]
     },
     "execution_count": 21,
     "metadata": {},
     "output_type": "execute_result"
    }
   ],
   "source": [
    "#### run the workflow using multiple cores ####\n",
    "reg_HOAF.run('MultiProc', plugin_args={'n_procs':4})"
   ]
  }
 ],
 "metadata": {
  "kernelspec": {
   "display_name": "Python 2",
   "language": "python",
   "name": "python2"
  },
  "language_info": {
   "codemirror_mode": {
    "name": "ipython",
    "version": 2
   },
   "file_extension": ".py",
   "mimetype": "text/x-python",
   "name": "python",
   "nbconvert_exporter": "python",
   "pygments_lexer": "ipython2",
   "version": "2.7.15"
  }
 },
 "nbformat": 4,
 "nbformat_minor": 2
}
