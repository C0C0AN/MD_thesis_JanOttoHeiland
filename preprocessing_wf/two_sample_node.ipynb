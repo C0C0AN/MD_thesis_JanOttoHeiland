{
 "cells": [
  {
   "cell_type": "code",
   "execution_count": 5,
   "metadata": {},
   "outputs": [],
   "source": [
    "%matplotlib inline\n",
    "import scipy.io\n",
    "\n",
    "from nipype.interfaces.spm import (TwoSampleTTestDesign, EstimateModel,\n",
    "                                   EstimateContrast, Threshold)\n",
    "from nipype.interfaces.utility import IdentityInterface\n",
    "from nipype import Workflow, Node\n",
    "import nipype.interfaces.spm as spm"
   ]
  },
  {
   "cell_type": "code",
   "execution_count": 3,
   "metadata": {},
   "outputs": [],
   "source": [
    "# SPM standalone\n",
    "matlab_cmd = '/usr/local/spm12/run_spm12.sh /usr/local/MCR/v713/ script'\n",
    "spm.SPMCommand.set_mlab_paths(matlab_cmd=matlab_cmd, use_mcr=True)"
   ]
  },
  {
   "cell_type": "code",
   "execution_count": null,
   "metadata": {},
   "outputs": [],
   "source": [
    "ttest = TwoSampleTTestDesign(threshold_mask_absolute = 0.001)\n",
    "ttest.inputs.group1_files = ['con_0003_sub-03.nii', 'con_0003_sub-05.nii', 'con_0003_sub-06.nii', 'con_0003_sub-11.nii', 'con_0003_sub-14.nii', 'con_0003_sub-16.nii', 'con_0003_sub-19.nii', 'con_0003_sub-23.nii', 'con_0003_sub-26.nii', 'con_0003_sub-27.nii', 'con_0003_sub-28.nii', 'con_0003_sub-29.nii']\n",
    "ttest.inputs.group2_files = ['con_0003_sub-07.nii', 'con_0003_sub-09.nii', 'con_0003_sub-12.nii', 'con_0003_sub-13.nii', 'con_0003_sub-15.nii', 'con_0003_sub-17.nii', 'con_0003_sub-20.nii', 'con_0003_sub-21.nii', 'con_0003_sub-22.nii', 'con_0003_sub-25.nii']\n",
    "ttest.run()"
   ]
  }
 ],
 "metadata": {
  "kernelspec": {
   "display_name": "Python 3",
   "language": "python",
   "name": "python3"
  },
  "language_info": {
   "codemirror_mode": {
    "name": "ipython",
    "version": 3
   },
   "file_extension": ".py",
   "mimetype": "text/x-python",
   "name": "python",
   "nbconvert_exporter": "python",
   "pygments_lexer": "ipython3",
   "version": "3.6.2"
  }
 },
 "nbformat": 4,
 "nbformat_minor": 2
}
