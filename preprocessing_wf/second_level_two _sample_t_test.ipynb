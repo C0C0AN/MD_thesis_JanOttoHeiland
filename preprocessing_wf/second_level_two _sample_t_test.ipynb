{
 "cells": [
  {
   "cell_type": "code",
   "execution_count": 258,
   "metadata": {},
   "outputs": [],
   "source": [
    "%matplotlib inline\n",
    "import scipy.io\n",
    "from os.path import join as opj\n",
    "from nipype.interfaces.io import SelectFiles, DataSink\n",
    "from nipype.interfaces.spm import (TwoSampleTTestDesign, EstimateModel,\n",
    "                                   EstimateContrast, Threshold)\n",
    "from nipype.interfaces.utility import IdentityInterface\n",
    "from nipype import Workflow, Node\n",
    "from nipype.interfaces.fsl import Info\n",
    "from nipype.algorithms.misc import Gunzip\n",
    "import nipype.interfaces.spm as spm\n",
    "from nipype.interfaces.base import Bunch\n",
    "from nipype.interfaces.spm import Level1Design, EstimateModel, EstimateContrast\n",
    "from nilearn.plotting import plot_stat_map\n",
    "from nilearn.plotting import plot_glass_brain"
   ]
  },
  {
   "cell_type": "code",
   "execution_count": 259,
   "metadata": {},
   "outputs": [],
   "source": [
    "from nipype.interfaces.base import traits\n",
    "from nipype.interfaces.base import File"
   ]
  },
  {
   "cell_type": "code",
   "execution_count": 260,
   "metadata": {},
   "outputs": [],
   "source": [
    "experiment_dir = '/media/lmn/86A406A0A406933B6/HOAF/HOAF_BIDS/derivatives/secondlevel/datasink/two_sample'\n",
    "output_dir = '/media/lmn/86A406A0A406933B6/HOAF/HOAF_BIDS/derivatives/secondlevel/datasink/two_sample/datasink'\n",
    "working_dir = '/media/lmn/86A406A0A406933B6/HOAF/HOAF_BIDS/derivatives/secondlevel/datasink/two_sample/workindir'\n",
    "\n",
    "# Smoothing withds used during preprocessing\n",
    "fwhm = [4]\n",
    "\n",
    "#subject_list = ['sub-02','sub-03', 'sub-05', 'sub-06', 'sub-11', 'sub-14', 'sub-16', 'sub-19', 'sub-23', 'sub-24', 'sub-26', 'sub-27', 'sub-28', 'sub-29']\n",
    "\n",
    "# Which contrasts to use for the 2nd-level analysis\n",
    "contrast_list = ['con_015']\n",
    "\n",
    "#mask = \"/media/lmn/86A406A0A406933B6/HOAF/HOAF_BIDS/derivatives/fmriprep/mni_icbm152_nlin_asym_09c/1mm_T1.nii.gz\""
   ]
  },
  {
   "cell_type": "code",
   "execution_count": 261,
   "metadata": {},
   "outputs": [],
   "source": [
    "# SPM standalone\n",
    "matlab_cmd = '/usr/local/spm12/run_spm12.sh /usr/local/MCR/v713/ script'\n",
    "spm.SPMCommand.set_mlab_paths(matlab_cmd=matlab_cmd, use_mcr=True)"
   ]
  },
  {
   "cell_type": "code",
   "execution_count": 262,
   "metadata": {},
   "outputs": [],
   "source": [
    "level2estimate = Node(EstimateModel(spm_mat_file = '/media/lmn/86A406A0A406933B6/HOAF/HOAF_BIDS/derivatives/secondlevel/datasink/two_sample/workindir/con_015/SPM.mat', estimation_method={'Classical': 1}),\n",
    "                      name=\"twosampttestdes\")\n",
    "\n",
    "# EstimateContrast - estimates group contrast\n",
    "level2conestimate = Node(EstimateContrast(group_contrast=True),\n",
    "                         name=\"twosampleconestimate\")\n",
    "con_1 = ('Musik','T', ['Group_{1}'],[1])\n",
    "con_2 = ('Sound','T', ['Group_{2}'],[1])\n",
    "con_3 = ('Musik>Sound','T',['Group_{1}','Group_{2}'],[1,-1])\n",
    "con_4 = ('Sound>Musik','T',['Group_{1}','Group_{2}'],[-1,1])\n",
    "level2conestimate.inputs.contrasts = [con_1,con_2,con_3,con_4]\n",
    "level2conestimate.inputs.group_contrast = True"
   ]
  },
  {
   "cell_type": "code",
   "execution_count": 263,
   "metadata": {},
   "outputs": [],
   "source": [
    "# Datasink - creates output folder for important outputs\n",
    "datasink = Node(DataSink(base_directory=experiment_dir,\n",
    "                         container=output_dir),\n",
    "                name=\"datasink\")\n",
    "\n",
    "# Change the substituion parameters for the datasink\n",
    "substitutions = [('_contrast_id_', '')]\n",
    "subjFolders = [('%s_fwhm_id_%s' % (con, f), 'ants_%s_fwhm%s' % (con, f))\n",
    "               for f in fwhm\n",
    "               for con in contrast_list]\n",
    "substitutions.extend(subjFolders)\n",
    "datasink.inputs.substitutions = substitutions"
   ]
  },
  {
   "cell_type": "code",
   "execution_count": 264,
   "metadata": {},
   "outputs": [],
   "source": [
    "# Initiation of the 2nd-level analysis workflow\n",
    "l2analysis = Workflow(name='ants_l2analysis')\n",
    "l2analysis.base_dir = opj(experiment_dir, working_dir)\n",
    "\n",
    "# Connect up the 2nd-level analysis components\n",
    "l2analysis.connect([(level2estimate, level2conestimate, [('spm_mat_file',\n",
    "                                                          'spm_mat_file'),\n",
    "                                                         ('beta_images',\n",
    "                                                          'beta_images'),\n",
    "                                                         ('residual_image',\n",
    "                                                          'residual_image')]),\n",
    "                    (level2conestimate, datasink, [('spm_mat_file',\n",
    "                                                    '2ndLevel.@spm_mat'),\n",
    "                                                   ('spmT_images',\n",
    "                                                    '2ndLevel.@T'),\n",
    "                                                   ('con_images',\n",
    "                                                    '2ndLevel.@con')]),  \n",
    "                   ])\n",
    "\n"
   ]
  },
  {
   "cell_type": "code",
   "execution_count": 265,
   "metadata": {
    "scrolled": true
   },
   "outputs": [
    {
     "name": "stdout",
     "output_type": "stream",
     "text": [
      "220314-15:20:15,474 nipype.workflow INFO:\n",
      "\t Generated workflow graph: /media/lmn/86A406A0A406933B6/HOAF/HOAF_BIDS/derivatives/secondlevel/datasink/two_sample/workindir/ants_l2analysis/graph.png (graph2use=colored, simple_form=True).\n"
     ]
    },
    {
     "data": {
      "image/png": "[encoded data removed]",
      "text/plain": [
       "<IPython.core.display.Image object>"
      ]
     },
     "execution_count": 265,
     "metadata": {},
     "output_type": "execute_result"
    }
   ],
   "source": [
    "# Create 1st-level analysis output graph\n",
    "l2analysis.write_graph(graph2use='colored', format='png', simple_form=True)\n",
    "\n",
    "# Visualize the graph\n",
    "from IPython.display import Image\n",
    "Image(filename=opj(l2analysis.base_dir, 'ants_l2analysis', 'graph.png'))"
   ]
  },
  {
   "cell_type": "code",
   "execution_count": 266,
   "metadata": {},
   "outputs": [
    {
     "name": "stdout",
     "output_type": "stream",
     "text": [
      "220314-15:20:15,489 nipype.workflow INFO:\n",
      "\t Workflow ants_l2analysis settings: ['check', 'execution', 'logging', 'monitoring']\n",
      "220314-15:20:15,499 nipype.workflow INFO:\n",
      "\t Running in parallel.\n",
      "220314-15:20:15,502 nipype.workflow INFO:\n",
      "\t [MultiProc] Running 0 tasks, and 1 jobs ready. Free memory (GB): 28.21/28.21, Free processors: 8/8.\n",
      "220314-15:20:15,741 nipype.workflow INFO:\n",
      "\t [Node] Outdated cache found for \"ants_l2analysis.twosampttestdes\".\n",
      "220314-15:20:15,789 nipype.workflow INFO:\n",
      "\t [Node] Setting-up \"ants_l2analysis.twosampttestdes\" in \"/media/lmn/86A406A0A406933B6/HOAF/HOAF_BIDS/derivatives/secondlevel/datasink/two_sample/workindir/ants_l2analysis/twosampttestdes\".\n",
      "220314-15:20:15,793 nipype.workflow INFO:\n",
      "\t [Node] Outdated cache found for \"ants_l2analysis.twosampttestdes\".\n",
      "220314-15:20:15,802 nipype.workflow INFO:\n",
      "\t [Node] Running \"twosampttestdes\" (\"nipype.interfaces.spm.model.EstimateModel\")\n",
      "220314-15:20:17,505 nipype.workflow INFO:\n",
      "\t [MultiProc] Running 1 tasks, and 0 jobs ready. Free memory (GB): 28.01/28.21, Free processors: 7/8.\n",
      "                     Currently running:\n",
      "                       * ants_l2analysis.twosampttestdes\n",
      "220314-15:20:25,584 nipype.workflow INFO:\n",
      "\t [Node] Finished \"ants_l2analysis.twosampttestdes\".\n",
      "220314-15:20:27,512 nipype.workflow INFO:\n",
      "\t [Job 0] Completed (ants_l2analysis.twosampttestdes).\n",
      "220314-15:20:27,514 nipype.workflow INFO:\n",
      "\t [MultiProc] Running 0 tasks, and 1 jobs ready. Free memory (GB): 28.21/28.21, Free processors: 8/8.\n"
     ]
    },
    {
     "name": "stderr",
     "output_type": "stream",
     "text": [
      "/home/lmn/install/miniconda3/lib/python3.6/site-packages/scipy/sparse/lil.py:518: FutureWarning: future versions will not create a writeable array from broadcast_array. Set the writable flag explicitly to avoid this warning.\n",
      "  if not x.flags.writeable:\n",
      "/home/lmn/install/miniconda3/lib/python3.6/site-packages/scipy/sparse/lil.py:514: FutureWarning: future versions will not create a writeable array from broadcast_array. Set the writable flag explicitly to avoid this warning.\n",
      "  if not j.flags.writeable or j.dtype not in (np.int32, np.int64):\n"
     ]
    },
    {
     "name": "stdout",
     "output_type": "stream",
     "text": [
      "220314-15:20:27,750 nipype.workflow INFO:\n",
      "\t [Node] Outdated cache found for \"ants_l2analysis.twosampleconestimate\".\n",
      "220314-15:20:27,757 nipype.workflow INFO:\n",
      "\t [Node] Setting-up \"ants_l2analysis.twosampleconestimate\" in \"/media/lmn/86A406A0A406933B6/HOAF/HOAF_BIDS/derivatives/secondlevel/datasink/two_sample/workindir/ants_l2analysis/twosampleconestimate\".\n",
      "220314-15:20:27,763 nipype.workflow INFO:\n",
      "\t [Node] Outdated cache found for \"ants_l2analysis.twosampleconestimate\".\n",
      "220314-15:20:27,782 nipype.workflow INFO:\n",
      "\t [Node] Running \"twosampleconestimate\" (\"nipype.interfaces.spm.model.EstimateContrast\")\n",
      "220314-15:20:29,515 nipype.workflow INFO:\n",
      "\t [MultiProc] Running 1 tasks, and 0 jobs ready. Free memory (GB): 28.01/28.21, Free processors: 7/8.\n",
      "                     Currently running:\n",
      "                       * ants_l2analysis.twosampleconestimate\n",
      "220314-15:20:36,788 nipype.workflow INFO:\n",
      "\t [Node] Finished \"ants_l2analysis.twosampleconestimate\".\n",
      "220314-15:20:37,521 nipype.workflow INFO:\n",
      "\t [Job 1] Completed (ants_l2analysis.twosampleconestimate).\n",
      "220314-15:20:37,523 nipype.workflow INFO:\n",
      "\t [MultiProc] Running 0 tasks, and 1 jobs ready. Free memory (GB): 28.21/28.21, Free processors: 8/8.\n",
      "220314-15:20:37,776 nipype.workflow INFO:\n",
      "\t [Node] Outdated cache found for \"ants_l2analysis.datasink\".\n",
      "220314-15:20:37,781 nipype.workflow INFO:\n",
      "\t [Node] Setting-up \"ants_l2analysis.datasink\" in \"/media/lmn/86A406A0A406933B6/HOAF/HOAF_BIDS/derivatives/secondlevel/datasink/two_sample/workindir/ants_l2analysis/datasink\".\n",
      "220314-15:20:37,785 nipype.workflow INFO:\n",
      "\t [Node] Outdated cache found for \"ants_l2analysis.datasink\".\n",
      "220314-15:20:37,794 nipype.workflow INFO:\n",
      "\t [Node] Running \"datasink\" (\"nipype.interfaces.io.DataSink\")\n",
      "220314-15:20:37,819 nipype.workflow INFO:\n",
      "\t [Node] Finished \"ants_l2analysis.datasink\".\n",
      "220314-15:20:39,523 nipype.workflow INFO:\n",
      "\t [Job 2] Completed (ants_l2analysis.datasink).\n",
      "220314-15:20:39,525 nipype.workflow INFO:\n",
      "\t [MultiProc] Running 0 tasks, and 0 jobs ready. Free memory (GB): 28.21/28.21, Free processors: 8/8.\n"
     ]
    },
    {
     "data": {
      "text/plain": [
       "<networkx.classes.digraph.DiGraph at 0x7f7a1a7e10f0>"
      ]
     },
     "execution_count": 266,
     "metadata": {},
     "output_type": "execute_result"
    }
   ],
   "source": [
    "l2analysis.run('MultiProc', plugin_args={'n_procs': 8})"
   ]
  }
 ],
 "metadata": {
  "kernelspec": {
   "display_name": "Python 3",
   "language": "python",
   "name": "python3"
  },
  "language_info": {
   "codemirror_mode": {
    "name": "ipython",
    "version": 3
   },
   "file_extension": ".py",
   "mimetype": "text/x-python",
   "name": "python",
   "nbconvert_exporter": "python",
   "pygments_lexer": "ipython3",
   "version": "3.6.2"
  }
 },
 "nbformat": 4,
 "nbformat_minor": 2
}
