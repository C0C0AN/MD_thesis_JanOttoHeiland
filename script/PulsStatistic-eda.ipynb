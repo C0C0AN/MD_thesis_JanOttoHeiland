{
 "cells": [
  {
   "cell_type": "code",
   "execution_count": 1,
   "id": "b371c5ab",
   "metadata": {},
   "outputs": [
    {
     "name": "stderr",
     "output_type": "stream",
     "text": [
      "Loading required package: lme4\n",
      "\n",
      "Loading required package: Matrix\n",
      "\n",
      "************\n",
      "Welcome to afex. For support visit: http://afex.singmann.science/\n",
      "\n",
      "- Functions for ANOVAs: aov_car(), aov_ez(), and aov_4()\n",
      "- Methods for calculating p-values with mixed(): 'S', 'KR', 'LRT', and 'PB'\n",
      "- 'afex_aov' and 'mixed' objects can be passed to emmeans() for follow-up tests\n",
      "- NEWS: emmeans() for ANOVA models now uses model = 'multivariate' as default.\n",
      "- Get and set global package options with: afex_options()\n",
      "- Set orthogonal sum-to-zero contrasts globally: set_sum_contrasts()\n",
      "- For example analyses see: browseVignettes(\"afex\")\n",
      "************\n",
      "\n",
      "\n",
      "Attaching package: ‘afex’\n",
      "\n",
      "\n",
      "The following object is masked from ‘package:lme4’:\n",
      "\n",
      "    lmer\n",
      "\n",
      "\n",
      "── \u001b[1mAttaching packages\u001b[22m ─────────────────────────────────────── tidyverse 1.3.1 ──\n",
      "\n",
      "\u001b[32m✔\u001b[39m \u001b[34mggplot2\u001b[39m 3.3.5     \u001b[32m✔\u001b[39m \u001b[34mdplyr  \u001b[39m 1.0.7\n",
      "\u001b[32m✔\u001b[39m \u001b[34mtibble \u001b[39m 3.1.6     \u001b[32m✔\u001b[39m \u001b[34mstringr\u001b[39m 1.4.0\n",
      "\u001b[32m✔\u001b[39m \u001b[34mtidyr  \u001b[39m 1.2.0     \u001b[32m✔\u001b[39m \u001b[34mforcats\u001b[39m 0.5.1\n",
      "\u001b[32m✔\u001b[39m \u001b[34mpurrr  \u001b[39m 0.3.4     \n",
      "\n",
      "── \u001b[1mConflicts\u001b[22m ────────────────────────────────────────── tidyverse_conflicts() ──\n",
      "\u001b[31m✖\u001b[39m \u001b[34mtidyr\u001b[39m::\u001b[32mexpand()\u001b[39m masks \u001b[34mMatrix\u001b[39m::expand()\n",
      "\u001b[31m✖\u001b[39m \u001b[34mdplyr\u001b[39m::\u001b[32mfilter()\u001b[39m masks \u001b[34mstats\u001b[39m::filter()\n",
      "\u001b[31m✖\u001b[39m \u001b[34mdplyr\u001b[39m::\u001b[32mlag()\u001b[39m    masks \u001b[34mstats\u001b[39m::lag()\n",
      "\u001b[31m✖\u001b[39m \u001b[34mtidyr\u001b[39m::\u001b[32mpack()\u001b[39m   masks \u001b[34mMatrix\u001b[39m::pack()\n",
      "\u001b[31m✖\u001b[39m \u001b[34mtidyr\u001b[39m::\u001b[32munpack()\u001b[39m masks \u001b[34mMatrix\u001b[39m::unpack()\n",
      "\n",
      "\n",
      "Attaching package: ‘rstatix’\n",
      "\n",
      "\n",
      "The following object is masked from ‘package:stats’:\n",
      "\n",
      "    filter\n",
      "\n",
      "\n"
     ]
    }
   ],
   "source": [
    "library(readr) # for importing the datafile\n",
    "library(afex) # for the anova\n",
    "library(tidyverse) # for restructuring it\n",
    "library(rstatix) # for testing assumptions\n",
    "library(ggpubr) # for graphical test of normality\n",
    "library(emmeans) # for post-hoc tests\n"
   ]
  },
  {
   "cell_type": "code",
   "execution_count": 2,
   "id": "2f55bad9",
   "metadata": {},
   "outputs": [
    {
     "data": {
      "text/html": [
       "'eda'"
      ],
      "text/latex": [
       "'eda'"
      ],
      "text/markdown": [
       "'eda'"
      ],
      "text/plain": [
       "[1] \"eda\""
      ]
     },
     "metadata": {},
     "output_type": "display_data"
    },
    {
     "data": {
      "text/html": [
       "<table class=\"dataframe\">\n",
       "<caption>A data.frame: 31826 × 11</caption>\n",
       "<thead>\n",
       "\t<tr><th scope=col>prob_id</th><th scope=col>time</th><th scope=col>eda</th><th scope=col>run</th><th scope=col>phase</th><th scope=col>repetition</th><th scope=col>trial_type</th><th scope=col>condition</th><th scope=col>age</th><th scope=col>sex</th><th scope=col>group</th></tr>\n",
       "\t<tr><th scope=col>&lt;int&gt;</th><th scope=col>&lt;int&gt;</th><th scope=col>&lt;dbl&gt;</th><th scope=col>&lt;int&gt;</th><th scope=col>&lt;int&gt;</th><th scope=col>&lt;int&gt;</th><th scope=col>&lt;chr&gt;</th><th scope=col>&lt;chr&gt;</th><th scope=col>&lt;int&gt;</th><th scope=col>&lt;chr&gt;</th><th scope=col>&lt;chr&gt;</th></tr>\n",
       "</thead>\n",
       "<tbody>\n",
       "\t<tr><td> 2</td><td>0</td><td>-0.478</td><td>1</td><td>-1</td><td>0</td><td>pause</td><td>pause</td><td>26</td><td>F</td><td>Musik</td></tr>\n",
       "\t<tr><td> 3</td><td>0</td><td> 0.312</td><td>1</td><td>-1</td><td>0</td><td>pause</td><td>pause</td><td>23</td><td>M</td><td>Musik</td></tr>\n",
       "\t<tr><td> 5</td><td>0</td><td>-2.526</td><td>1</td><td>-1</td><td>0</td><td>pause</td><td>pause</td><td>25</td><td>M</td><td>Musik</td></tr>\n",
       "\t<tr><td> 9</td><td>0</td><td> 2.859</td><td>1</td><td>-1</td><td>0</td><td>pause</td><td>pause</td><td>30</td><td>M</td><td>Sound</td></tr>\n",
       "\t<tr><td>11</td><td>0</td><td>-0.035</td><td>1</td><td>-1</td><td>0</td><td>pause</td><td>pause</td><td>23</td><td>F</td><td>Musik</td></tr>\n",
       "\t<tr><td>12</td><td>0</td><td>-1.822</td><td>1</td><td>-1</td><td>0</td><td>pause</td><td>pause</td><td>21</td><td>F</td><td>Sound</td></tr>\n",
       "\t<tr><td>13</td><td>0</td><td> 7.210</td><td>1</td><td>-1</td><td>0</td><td>pause</td><td>pause</td><td>22</td><td>F</td><td>Sound</td></tr>\n",
       "\t<tr><td>14</td><td>0</td><td> 1.827</td><td>1</td><td>-1</td><td>0</td><td>pause</td><td>pause</td><td>23</td><td>F</td><td>Musik</td></tr>\n",
       "\t<tr><td>15</td><td>0</td><td>-5.524</td><td>1</td><td>-1</td><td>0</td><td>pause</td><td>pause</td><td>23</td><td>F</td><td>Sound</td></tr>\n",
       "\t<tr><td>16</td><td>0</td><td>-0.417</td><td>1</td><td>-1</td><td>0</td><td>pause</td><td>pause</td><td>25</td><td>M</td><td>Musik</td></tr>\n",
       "\t<tr><td>17</td><td>0</td><td> 3.218</td><td>1</td><td>-1</td><td>0</td><td>pause</td><td>pause</td><td>23</td><td>M</td><td>Sound</td></tr>\n",
       "\t<tr><td>19</td><td>0</td><td>-1.233</td><td>1</td><td>-1</td><td>0</td><td>pause</td><td>pause</td><td>24</td><td>M</td><td>Musik</td></tr>\n",
       "\t<tr><td>20</td><td>0</td><td> 0.888</td><td>1</td><td>-1</td><td>0</td><td>pause</td><td>pause</td><td>22</td><td>F</td><td>Sound</td></tr>\n",
       "\t<tr><td>21</td><td>0</td><td>-4.893</td><td>1</td><td>-1</td><td>0</td><td>pause</td><td>pause</td><td>24</td><td>M</td><td>Sound</td></tr>\n",
       "\t<tr><td>22</td><td>0</td><td> 1.465</td><td>1</td><td>-1</td><td>0</td><td>pause</td><td>pause</td><td>21</td><td>M</td><td>Sound</td></tr>\n",
       "\t<tr><td>23</td><td>0</td><td>-0.506</td><td>1</td><td>-1</td><td>0</td><td>pause</td><td>pause</td><td>23</td><td>F</td><td>Musik</td></tr>\n",
       "\t<tr><td>24</td><td>0</td><td>-1.752</td><td>1</td><td>-1</td><td>0</td><td>pause</td><td>pause</td><td>25</td><td>M</td><td>Musik</td></tr>\n",
       "\t<tr><td>25</td><td>0</td><td> 1.931</td><td>1</td><td>-1</td><td>0</td><td>pause</td><td>pause</td><td>28</td><td>M</td><td>Sound</td></tr>\n",
       "\t<tr><td>26</td><td>0</td><td>-0.021</td><td>1</td><td>-1</td><td>0</td><td>pause</td><td>pause</td><td>24</td><td>M</td><td>Musik</td></tr>\n",
       "\t<tr><td>27</td><td>0</td><td> 2.170</td><td>1</td><td>-1</td><td>0</td><td>pause</td><td>pause</td><td>22</td><td>F</td><td>Musik</td></tr>\n",
       "\t<tr><td>28</td><td>0</td><td>-0.578</td><td>1</td><td>-1</td><td>0</td><td>pause</td><td>pause</td><td>24</td><td>F</td><td>Musik</td></tr>\n",
       "\t<tr><td>29</td><td>0</td><td> 2.915</td><td>1</td><td>-1</td><td>0</td><td>pause</td><td>pause</td><td>25</td><td>M</td><td>Musik</td></tr>\n",
       "\t<tr><td> 2</td><td>1</td><td>-0.560</td><td>1</td><td>-1</td><td>0</td><td>pause</td><td>pause</td><td>26</td><td>F</td><td>Musik</td></tr>\n",
       "\t<tr><td> 3</td><td>1</td><td> 0.204</td><td>1</td><td>-1</td><td>0</td><td>pause</td><td>pause</td><td>23</td><td>M</td><td>Musik</td></tr>\n",
       "\t<tr><td> 5</td><td>1</td><td>-2.493</td><td>1</td><td>-1</td><td>0</td><td>pause</td><td>pause</td><td>25</td><td>M</td><td>Musik</td></tr>\n",
       "\t<tr><td> 9</td><td>1</td><td> 2.695</td><td>1</td><td>-1</td><td>0</td><td>pause</td><td>pause</td><td>30</td><td>M</td><td>Sound</td></tr>\n",
       "\t<tr><td>11</td><td>1</td><td>-0.401</td><td>1</td><td>-1</td><td>0</td><td>pause</td><td>pause</td><td>23</td><td>F</td><td>Musik</td></tr>\n",
       "\t<tr><td>12</td><td>1</td><td>-1.793</td><td>1</td><td>-1</td><td>0</td><td>pause</td><td>pause</td><td>21</td><td>F</td><td>Sound</td></tr>\n",
       "\t<tr><td>13</td><td>1</td><td> 8.576</td><td>1</td><td>-1</td><td>0</td><td>pause</td><td>pause</td><td>22</td><td>F</td><td>Sound</td></tr>\n",
       "\t<tr><td>14</td><td>1</td><td> 1.578</td><td>1</td><td>-1</td><td>0</td><td>pause</td><td>pause</td><td>23</td><td>F</td><td>Musik</td></tr>\n",
       "\t<tr><td>⋮</td><td>⋮</td><td>⋮</td><td>⋮</td><td>⋮</td><td>⋮</td><td>⋮</td><td>⋮</td><td>⋮</td><td>⋮</td><td>⋮</td></tr>\n",
       "\t<tr><td>29</td><td>721</td><td>-1.077</td><td>2</td><td>-1</td><td>0</td><td>pause</td><td>pause</td><td>25</td><td>M</td><td>Musik</td></tr>\n",
       "\t<tr><td> 2</td><td>722</td><td>-2.077</td><td>2</td><td>-1</td><td>0</td><td>pause</td><td>pause</td><td>26</td><td>F</td><td>Musik</td></tr>\n",
       "\t<tr><td> 3</td><td>722</td><td>-1.236</td><td>2</td><td>-1</td><td>0</td><td>pause</td><td>pause</td><td>23</td><td>M</td><td>Musik</td></tr>\n",
       "\t<tr><td> 5</td><td>722</td><td>-1.786</td><td>2</td><td>-1</td><td>0</td><td>pause</td><td>pause</td><td>25</td><td>M</td><td>Musik</td></tr>\n",
       "\t<tr><td> 9</td><td>722</td><td>-6.736</td><td>2</td><td>-1</td><td>0</td><td>pause</td><td>pause</td><td>30</td><td>M</td><td>Sound</td></tr>\n",
       "\t<tr><td>11</td><td>722</td><td>-3.408</td><td>2</td><td>-1</td><td>0</td><td>pause</td><td>pause</td><td>23</td><td>F</td><td>Musik</td></tr>\n",
       "\t<tr><td>12</td><td>722</td><td>-2.869</td><td>2</td><td>-1</td><td>0</td><td>pause</td><td>pause</td><td>21</td><td>F</td><td>Sound</td></tr>\n",
       "\t<tr><td>13</td><td>722</td><td>-3.989</td><td>2</td><td>-1</td><td>0</td><td>pause</td><td>pause</td><td>22</td><td>F</td><td>Sound</td></tr>\n",
       "\t<tr><td>14</td><td>722</td><td>-2.755</td><td>2</td><td>-1</td><td>0</td><td>pause</td><td>pause</td><td>23</td><td>F</td><td>Musik</td></tr>\n",
       "\t<tr><td>15</td><td>722</td><td> 0.360</td><td>2</td><td>-1</td><td>0</td><td>pause</td><td>pause</td><td>23</td><td>F</td><td>Sound</td></tr>\n",
       "\t<tr><td>16</td><td>722</td><td> 0.915</td><td>2</td><td>-1</td><td>0</td><td>pause</td><td>pause</td><td>25</td><td>M</td><td>Musik</td></tr>\n",
       "\t<tr><td>17</td><td>722</td><td>-2.205</td><td>2</td><td>-1</td><td>0</td><td>pause</td><td>pause</td><td>23</td><td>M</td><td>Sound</td></tr>\n",
       "\t<tr><td>19</td><td>722</td><td>-3.388</td><td>2</td><td>-1</td><td>0</td><td>pause</td><td>pause</td><td>24</td><td>M</td><td>Musik</td></tr>\n",
       "\t<tr><td>20</td><td>722</td><td>-0.482</td><td>2</td><td>-1</td><td>0</td><td>pause</td><td>pause</td><td>22</td><td>F</td><td>Sound</td></tr>\n",
       "\t<tr><td>21</td><td>722</td><td>-2.244</td><td>2</td><td>-1</td><td>0</td><td>pause</td><td>pause</td><td>24</td><td>M</td><td>Sound</td></tr>\n",
       "\t<tr><td>22</td><td>722</td><td>-1.605</td><td>2</td><td>-1</td><td>0</td><td>pause</td><td>pause</td><td>21</td><td>M</td><td>Sound</td></tr>\n",
       "\t<tr><td>23</td><td>722</td><td>-0.103</td><td>2</td><td>-1</td><td>0</td><td>pause</td><td>pause</td><td>23</td><td>F</td><td>Musik</td></tr>\n",
       "\t<tr><td>24</td><td>722</td><td> 0.231</td><td>2</td><td>-1</td><td>0</td><td>pause</td><td>pause</td><td>25</td><td>M</td><td>Musik</td></tr>\n",
       "\t<tr><td>25</td><td>722</td><td>-4.282</td><td>2</td><td>-1</td><td>0</td><td>pause</td><td>pause</td><td>28</td><td>M</td><td>Sound</td></tr>\n",
       "\t<tr><td>26</td><td>722</td><td>-0.235</td><td>2</td><td>-1</td><td>0</td><td>pause</td><td>pause</td><td>24</td><td>M</td><td>Musik</td></tr>\n",
       "\t<tr><td>27</td><td>722</td><td>-1.591</td><td>2</td><td>-1</td><td>0</td><td>pause</td><td>pause</td><td>22</td><td>F</td><td>Musik</td></tr>\n",
       "\t<tr><td>28</td><td>722</td><td> 1.620</td><td>2</td><td>-1</td><td>0</td><td>pause</td><td>pause</td><td>24</td><td>F</td><td>Musik</td></tr>\n",
       "\t<tr><td>29</td><td>722</td><td>-2.322</td><td>2</td><td>-1</td><td>0</td><td>pause</td><td>pause</td><td>25</td><td>M</td><td>Musik</td></tr>\n",
       "\t<tr><td>14</td><td>723</td><td>-2.773</td><td>2</td><td>-1</td><td>0</td><td>pause</td><td>pause</td><td>23</td><td>F</td><td>Musik</td></tr>\n",
       "\t<tr><td>16</td><td>723</td><td> 0.829</td><td>2</td><td>-1</td><td>0</td><td>pause</td><td>pause</td><td>25</td><td>M</td><td>Musik</td></tr>\n",
       "\t<tr><td>24</td><td>723</td><td> 0.234</td><td>2</td><td>-1</td><td>0</td><td>pause</td><td>pause</td><td>25</td><td>M</td><td>Musik</td></tr>\n",
       "\t<tr><td>25</td><td>723</td><td>-4.276</td><td>2</td><td>-1</td><td>0</td><td>pause</td><td>pause</td><td>28</td><td>M</td><td>Sound</td></tr>\n",
       "\t<tr><td>26</td><td>723</td><td>-0.260</td><td>2</td><td>-1</td><td>0</td><td>pause</td><td>pause</td><td>24</td><td>M</td><td>Musik</td></tr>\n",
       "\t<tr><td>28</td><td>723</td><td> 1.599</td><td>2</td><td>-1</td><td>0</td><td>pause</td><td>pause</td><td>24</td><td>F</td><td>Musik</td></tr>\n",
       "\t<tr><td>29</td><td>723</td><td>-2.792</td><td>2</td><td>-1</td><td>0</td><td>pause</td><td>pause</td><td>25</td><td>M</td><td>Musik</td></tr>\n",
       "</tbody>\n",
       "</table>\n"
      ],
      "text/latex": [
       "A data.frame: 31826 × 11\n",
       "\\begin{tabular}{lllllllllll}\n",
       " prob\\_id & time & eda & run & phase & repetition & trial\\_type & condition & age & sex & group\\\\\n",
       " <int> & <int> & <dbl> & <int> & <int> & <int> & <chr> & <chr> & <int> & <chr> & <chr>\\\\\n",
       "\\hline\n",
       "\t  2 & 0 & -0.478 & 1 & -1 & 0 & pause & pause & 26 & F & Musik\\\\\n",
       "\t  3 & 0 &  0.312 & 1 & -1 & 0 & pause & pause & 23 & M & Musik\\\\\n",
       "\t  5 & 0 & -2.526 & 1 & -1 & 0 & pause & pause & 25 & M & Musik\\\\\n",
       "\t  9 & 0 &  2.859 & 1 & -1 & 0 & pause & pause & 30 & M & Sound\\\\\n",
       "\t 11 & 0 & -0.035 & 1 & -1 & 0 & pause & pause & 23 & F & Musik\\\\\n",
       "\t 12 & 0 & -1.822 & 1 & -1 & 0 & pause & pause & 21 & F & Sound\\\\\n",
       "\t 13 & 0 &  7.210 & 1 & -1 & 0 & pause & pause & 22 & F & Sound\\\\\n",
       "\t 14 & 0 &  1.827 & 1 & -1 & 0 & pause & pause & 23 & F & Musik\\\\\n",
       "\t 15 & 0 & -5.524 & 1 & -1 & 0 & pause & pause & 23 & F & Sound\\\\\n",
       "\t 16 & 0 & -0.417 & 1 & -1 & 0 & pause & pause & 25 & M & Musik\\\\\n",
       "\t 17 & 0 &  3.218 & 1 & -1 & 0 & pause & pause & 23 & M & Sound\\\\\n",
       "\t 19 & 0 & -1.233 & 1 & -1 & 0 & pause & pause & 24 & M & Musik\\\\\n",
       "\t 20 & 0 &  0.888 & 1 & -1 & 0 & pause & pause & 22 & F & Sound\\\\\n",
       "\t 21 & 0 & -4.893 & 1 & -1 & 0 & pause & pause & 24 & M & Sound\\\\\n",
       "\t 22 & 0 &  1.465 & 1 & -1 & 0 & pause & pause & 21 & M & Sound\\\\\n",
       "\t 23 & 0 & -0.506 & 1 & -1 & 0 & pause & pause & 23 & F & Musik\\\\\n",
       "\t 24 & 0 & -1.752 & 1 & -1 & 0 & pause & pause & 25 & M & Musik\\\\\n",
       "\t 25 & 0 &  1.931 & 1 & -1 & 0 & pause & pause & 28 & M & Sound\\\\\n",
       "\t 26 & 0 & -0.021 & 1 & -1 & 0 & pause & pause & 24 & M & Musik\\\\\n",
       "\t 27 & 0 &  2.170 & 1 & -1 & 0 & pause & pause & 22 & F & Musik\\\\\n",
       "\t 28 & 0 & -0.578 & 1 & -1 & 0 & pause & pause & 24 & F & Musik\\\\\n",
       "\t 29 & 0 &  2.915 & 1 & -1 & 0 & pause & pause & 25 & M & Musik\\\\\n",
       "\t  2 & 1 & -0.560 & 1 & -1 & 0 & pause & pause & 26 & F & Musik\\\\\n",
       "\t  3 & 1 &  0.204 & 1 & -1 & 0 & pause & pause & 23 & M & Musik\\\\\n",
       "\t  5 & 1 & -2.493 & 1 & -1 & 0 & pause & pause & 25 & M & Musik\\\\\n",
       "\t  9 & 1 &  2.695 & 1 & -1 & 0 & pause & pause & 30 & M & Sound\\\\\n",
       "\t 11 & 1 & -0.401 & 1 & -1 & 0 & pause & pause & 23 & F & Musik\\\\\n",
       "\t 12 & 1 & -1.793 & 1 & -1 & 0 & pause & pause & 21 & F & Sound\\\\\n",
       "\t 13 & 1 &  8.576 & 1 & -1 & 0 & pause & pause & 22 & F & Sound\\\\\n",
       "\t 14 & 1 &  1.578 & 1 & -1 & 0 & pause & pause & 23 & F & Musik\\\\\n",
       "\t ⋮ & ⋮ & ⋮ & ⋮ & ⋮ & ⋮ & ⋮ & ⋮ & ⋮ & ⋮ & ⋮\\\\\n",
       "\t 29 & 721 & -1.077 & 2 & -1 & 0 & pause & pause & 25 & M & Musik\\\\\n",
       "\t  2 & 722 & -2.077 & 2 & -1 & 0 & pause & pause & 26 & F & Musik\\\\\n",
       "\t  3 & 722 & -1.236 & 2 & -1 & 0 & pause & pause & 23 & M & Musik\\\\\n",
       "\t  5 & 722 & -1.786 & 2 & -1 & 0 & pause & pause & 25 & M & Musik\\\\\n",
       "\t  9 & 722 & -6.736 & 2 & -1 & 0 & pause & pause & 30 & M & Sound\\\\\n",
       "\t 11 & 722 & -3.408 & 2 & -1 & 0 & pause & pause & 23 & F & Musik\\\\\n",
       "\t 12 & 722 & -2.869 & 2 & -1 & 0 & pause & pause & 21 & F & Sound\\\\\n",
       "\t 13 & 722 & -3.989 & 2 & -1 & 0 & pause & pause & 22 & F & Sound\\\\\n",
       "\t 14 & 722 & -2.755 & 2 & -1 & 0 & pause & pause & 23 & F & Musik\\\\\n",
       "\t 15 & 722 &  0.360 & 2 & -1 & 0 & pause & pause & 23 & F & Sound\\\\\n",
       "\t 16 & 722 &  0.915 & 2 & -1 & 0 & pause & pause & 25 & M & Musik\\\\\n",
       "\t 17 & 722 & -2.205 & 2 & -1 & 0 & pause & pause & 23 & M & Sound\\\\\n",
       "\t 19 & 722 & -3.388 & 2 & -1 & 0 & pause & pause & 24 & M & Musik\\\\\n",
       "\t 20 & 722 & -0.482 & 2 & -1 & 0 & pause & pause & 22 & F & Sound\\\\\n",
       "\t 21 & 722 & -2.244 & 2 & -1 & 0 & pause & pause & 24 & M & Sound\\\\\n",
       "\t 22 & 722 & -1.605 & 2 & -1 & 0 & pause & pause & 21 & M & Sound\\\\\n",
       "\t 23 & 722 & -0.103 & 2 & -1 & 0 & pause & pause & 23 & F & Musik\\\\\n",
       "\t 24 & 722 &  0.231 & 2 & -1 & 0 & pause & pause & 25 & M & Musik\\\\\n",
       "\t 25 & 722 & -4.282 & 2 & -1 & 0 & pause & pause & 28 & M & Sound\\\\\n",
       "\t 26 & 722 & -0.235 & 2 & -1 & 0 & pause & pause & 24 & M & Musik\\\\\n",
       "\t 27 & 722 & -1.591 & 2 & -1 & 0 & pause & pause & 22 & F & Musik\\\\\n",
       "\t 28 & 722 &  1.620 & 2 & -1 & 0 & pause & pause & 24 & F & Musik\\\\\n",
       "\t 29 & 722 & -2.322 & 2 & -1 & 0 & pause & pause & 25 & M & Musik\\\\\n",
       "\t 14 & 723 & -2.773 & 2 & -1 & 0 & pause & pause & 23 & F & Musik\\\\\n",
       "\t 16 & 723 &  0.829 & 2 & -1 & 0 & pause & pause & 25 & M & Musik\\\\\n",
       "\t 24 & 723 &  0.234 & 2 & -1 & 0 & pause & pause & 25 & M & Musik\\\\\n",
       "\t 25 & 723 & -4.276 & 2 & -1 & 0 & pause & pause & 28 & M & Sound\\\\\n",
       "\t 26 & 723 & -0.260 & 2 & -1 & 0 & pause & pause & 24 & M & Musik\\\\\n",
       "\t 28 & 723 &  1.599 & 2 & -1 & 0 & pause & pause & 24 & F & Musik\\\\\n",
       "\t 29 & 723 & -2.792 & 2 & -1 & 0 & pause & pause & 25 & M & Musik\\\\\n",
       "\\end{tabular}\n"
      ],
      "text/markdown": [
       "\n",
       "A data.frame: 31826 × 11\n",
       "\n",
       "| prob_id &lt;int&gt; | time &lt;int&gt; | eda &lt;dbl&gt; | run &lt;int&gt; | phase &lt;int&gt; | repetition &lt;int&gt; | trial_type &lt;chr&gt; | condition &lt;chr&gt; | age &lt;int&gt; | sex &lt;chr&gt; | group &lt;chr&gt; |\n",
       "|---|---|---|---|---|---|---|---|---|---|---|\n",
       "|  2 | 0 | -0.478 | 1 | -1 | 0 | pause | pause | 26 | F | Musik |\n",
       "|  3 | 0 |  0.312 | 1 | -1 | 0 | pause | pause | 23 | M | Musik |\n",
       "|  5 | 0 | -2.526 | 1 | -1 | 0 | pause | pause | 25 | M | Musik |\n",
       "|  9 | 0 |  2.859 | 1 | -1 | 0 | pause | pause | 30 | M | Sound |\n",
       "| 11 | 0 | -0.035 | 1 | -1 | 0 | pause | pause | 23 | F | Musik |\n",
       "| 12 | 0 | -1.822 | 1 | -1 | 0 | pause | pause | 21 | F | Sound |\n",
       "| 13 | 0 |  7.210 | 1 | -1 | 0 | pause | pause | 22 | F | Sound |\n",
       "| 14 | 0 |  1.827 | 1 | -1 | 0 | pause | pause | 23 | F | Musik |\n",
       "| 15 | 0 | -5.524 | 1 | -1 | 0 | pause | pause | 23 | F | Sound |\n",
       "| 16 | 0 | -0.417 | 1 | -1 | 0 | pause | pause | 25 | M | Musik |\n",
       "| 17 | 0 |  3.218 | 1 | -1 | 0 | pause | pause | 23 | M | Sound |\n",
       "| 19 | 0 | -1.233 | 1 | -1 | 0 | pause | pause | 24 | M | Musik |\n",
       "| 20 | 0 |  0.888 | 1 | -1 | 0 | pause | pause | 22 | F | Sound |\n",
       "| 21 | 0 | -4.893 | 1 | -1 | 0 | pause | pause | 24 | M | Sound |\n",
       "| 22 | 0 |  1.465 | 1 | -1 | 0 | pause | pause | 21 | M | Sound |\n",
       "| 23 | 0 | -0.506 | 1 | -1 | 0 | pause | pause | 23 | F | Musik |\n",
       "| 24 | 0 | -1.752 | 1 | -1 | 0 | pause | pause | 25 | M | Musik |\n",
       "| 25 | 0 |  1.931 | 1 | -1 | 0 | pause | pause | 28 | M | Sound |\n",
       "| 26 | 0 | -0.021 | 1 | -1 | 0 | pause | pause | 24 | M | Musik |\n",
       "| 27 | 0 |  2.170 | 1 | -1 | 0 | pause | pause | 22 | F | Musik |\n",
       "| 28 | 0 | -0.578 | 1 | -1 | 0 | pause | pause | 24 | F | Musik |\n",
       "| 29 | 0 |  2.915 | 1 | -1 | 0 | pause | pause | 25 | M | Musik |\n",
       "|  2 | 1 | -0.560 | 1 | -1 | 0 | pause | pause | 26 | F | Musik |\n",
       "|  3 | 1 |  0.204 | 1 | -1 | 0 | pause | pause | 23 | M | Musik |\n",
       "|  5 | 1 | -2.493 | 1 | -1 | 0 | pause | pause | 25 | M | Musik |\n",
       "|  9 | 1 |  2.695 | 1 | -1 | 0 | pause | pause | 30 | M | Sound |\n",
       "| 11 | 1 | -0.401 | 1 | -1 | 0 | pause | pause | 23 | F | Musik |\n",
       "| 12 | 1 | -1.793 | 1 | -1 | 0 | pause | pause | 21 | F | Sound |\n",
       "| 13 | 1 |  8.576 | 1 | -1 | 0 | pause | pause | 22 | F | Sound |\n",
       "| 14 | 1 |  1.578 | 1 | -1 | 0 | pause | pause | 23 | F | Musik |\n",
       "| ⋮ | ⋮ | ⋮ | ⋮ | ⋮ | ⋮ | ⋮ | ⋮ | ⋮ | ⋮ | ⋮ |\n",
       "| 29 | 721 | -1.077 | 2 | -1 | 0 | pause | pause | 25 | M | Musik |\n",
       "|  2 | 722 | -2.077 | 2 | -1 | 0 | pause | pause | 26 | F | Musik |\n",
       "|  3 | 722 | -1.236 | 2 | -1 | 0 | pause | pause | 23 | M | Musik |\n",
       "|  5 | 722 | -1.786 | 2 | -1 | 0 | pause | pause | 25 | M | Musik |\n",
       "|  9 | 722 | -6.736 | 2 | -1 | 0 | pause | pause | 30 | M | Sound |\n",
       "| 11 | 722 | -3.408 | 2 | -1 | 0 | pause | pause | 23 | F | Musik |\n",
       "| 12 | 722 | -2.869 | 2 | -1 | 0 | pause | pause | 21 | F | Sound |\n",
       "| 13 | 722 | -3.989 | 2 | -1 | 0 | pause | pause | 22 | F | Sound |\n",
       "| 14 | 722 | -2.755 | 2 | -1 | 0 | pause | pause | 23 | F | Musik |\n",
       "| 15 | 722 |  0.360 | 2 | -1 | 0 | pause | pause | 23 | F | Sound |\n",
       "| 16 | 722 |  0.915 | 2 | -1 | 0 | pause | pause | 25 | M | Musik |\n",
       "| 17 | 722 | -2.205 | 2 | -1 | 0 | pause | pause | 23 | M | Sound |\n",
       "| 19 | 722 | -3.388 | 2 | -1 | 0 | pause | pause | 24 | M | Musik |\n",
       "| 20 | 722 | -0.482 | 2 | -1 | 0 | pause | pause | 22 | F | Sound |\n",
       "| 21 | 722 | -2.244 | 2 | -1 | 0 | pause | pause | 24 | M | Sound |\n",
       "| 22 | 722 | -1.605 | 2 | -1 | 0 | pause | pause | 21 | M | Sound |\n",
       "| 23 | 722 | -0.103 | 2 | -1 | 0 | pause | pause | 23 | F | Musik |\n",
       "| 24 | 722 |  0.231 | 2 | -1 | 0 | pause | pause | 25 | M | Musik |\n",
       "| 25 | 722 | -4.282 | 2 | -1 | 0 | pause | pause | 28 | M | Sound |\n",
       "| 26 | 722 | -0.235 | 2 | -1 | 0 | pause | pause | 24 | M | Musik |\n",
       "| 27 | 722 | -1.591 | 2 | -1 | 0 | pause | pause | 22 | F | Musik |\n",
       "| 28 | 722 |  1.620 | 2 | -1 | 0 | pause | pause | 24 | F | Musik |\n",
       "| 29 | 722 | -2.322 | 2 | -1 | 0 | pause | pause | 25 | M | Musik |\n",
       "| 14 | 723 | -2.773 | 2 | -1 | 0 | pause | pause | 23 | F | Musik |\n",
       "| 16 | 723 |  0.829 | 2 | -1 | 0 | pause | pause | 25 | M | Musik |\n",
       "| 24 | 723 |  0.234 | 2 | -1 | 0 | pause | pause | 25 | M | Musik |\n",
       "| 25 | 723 | -4.276 | 2 | -1 | 0 | pause | pause | 28 | M | Sound |\n",
       "| 26 | 723 | -0.260 | 2 | -1 | 0 | pause | pause | 24 | M | Musik |\n",
       "| 28 | 723 |  1.599 | 2 | -1 | 0 | pause | pause | 24 | F | Musik |\n",
       "| 29 | 723 | -2.792 | 2 | -1 | 0 | pause | pause | 25 | M | Musik |\n",
       "\n"
      ],
      "text/plain": [
       "      prob_id time eda    run phase repetition trial_type condition age sex\n",
       "1      2      0    -0.478 1   -1    0          pause      pause     26  F  \n",
       "2      3      0     0.312 1   -1    0          pause      pause     23  M  \n",
       "3      5      0    -2.526 1   -1    0          pause      pause     25  M  \n",
       "4      9      0     2.859 1   -1    0          pause      pause     30  M  \n",
       "5     11      0    -0.035 1   -1    0          pause      pause     23  F  \n",
       "6     12      0    -1.822 1   -1    0          pause      pause     21  F  \n",
       "7     13      0     7.210 1   -1    0          pause      pause     22  F  \n",
       "8     14      0     1.827 1   -1    0          pause      pause     23  F  \n",
       "9     15      0    -5.524 1   -1    0          pause      pause     23  F  \n",
       "10    16      0    -0.417 1   -1    0          pause      pause     25  M  \n",
       "11    17      0     3.218 1   -1    0          pause      pause     23  M  \n",
       "12    19      0    -1.233 1   -1    0          pause      pause     24  M  \n",
       "13    20      0     0.888 1   -1    0          pause      pause     22  F  \n",
       "14    21      0    -4.893 1   -1    0          pause      pause     24  M  \n",
       "15    22      0     1.465 1   -1    0          pause      pause     21  M  \n",
       "16    23      0    -0.506 1   -1    0          pause      pause     23  F  \n",
       "17    24      0    -1.752 1   -1    0          pause      pause     25  M  \n",
       "18    25      0     1.931 1   -1    0          pause      pause     28  M  \n",
       "19    26      0    -0.021 1   -1    0          pause      pause     24  M  \n",
       "20    27      0     2.170 1   -1    0          pause      pause     22  F  \n",
       "21    28      0    -0.578 1   -1    0          pause      pause     24  F  \n",
       "22    29      0     2.915 1   -1    0          pause      pause     25  M  \n",
       "23     2      1    -0.560 1   -1    0          pause      pause     26  F  \n",
       "24     3      1     0.204 1   -1    0          pause      pause     23  M  \n",
       "25     5      1    -2.493 1   -1    0          pause      pause     25  M  \n",
       "26     9      1     2.695 1   -1    0          pause      pause     30  M  \n",
       "27    11      1    -0.401 1   -1    0          pause      pause     23  F  \n",
       "28    12      1    -1.793 1   -1    0          pause      pause     21  F  \n",
       "29    13      1     8.576 1   -1    0          pause      pause     22  F  \n",
       "30    14      1     1.578 1   -1    0          pause      pause     23  F  \n",
       "⋮     ⋮       ⋮    ⋮      ⋮   ⋮     ⋮          ⋮          ⋮         ⋮   ⋮  \n",
       "31797 29      721  -1.077 2   -1    0          pause      pause     25  M  \n",
       "31798  2      722  -2.077 2   -1    0          pause      pause     26  F  \n",
       "31799  3      722  -1.236 2   -1    0          pause      pause     23  M  \n",
       "31800  5      722  -1.786 2   -1    0          pause      pause     25  M  \n",
       "31801  9      722  -6.736 2   -1    0          pause      pause     30  M  \n",
       "31802 11      722  -3.408 2   -1    0          pause      pause     23  F  \n",
       "31803 12      722  -2.869 2   -1    0          pause      pause     21  F  \n",
       "31804 13      722  -3.989 2   -1    0          pause      pause     22  F  \n",
       "31805 14      722  -2.755 2   -1    0          pause      pause     23  F  \n",
       "31806 15      722   0.360 2   -1    0          pause      pause     23  F  \n",
       "31807 16      722   0.915 2   -1    0          pause      pause     25  M  \n",
       "31808 17      722  -2.205 2   -1    0          pause      pause     23  M  \n",
       "31809 19      722  -3.388 2   -1    0          pause      pause     24  M  \n",
       "31810 20      722  -0.482 2   -1    0          pause      pause     22  F  \n",
       "31811 21      722  -2.244 2   -1    0          pause      pause     24  M  \n",
       "31812 22      722  -1.605 2   -1    0          pause      pause     21  M  \n",
       "31813 23      722  -0.103 2   -1    0          pause      pause     23  F  \n",
       "31814 24      722   0.231 2   -1    0          pause      pause     25  M  \n",
       "31815 25      722  -4.282 2   -1    0          pause      pause     28  M  \n",
       "31816 26      722  -0.235 2   -1    0          pause      pause     24  M  \n",
       "31817 27      722  -1.591 2   -1    0          pause      pause     22  F  \n",
       "31818 28      722   1.620 2   -1    0          pause      pause     24  F  \n",
       "31819 29      722  -2.322 2   -1    0          pause      pause     25  M  \n",
       "31820 14      723  -2.773 2   -1    0          pause      pause     23  F  \n",
       "31821 16      723   0.829 2   -1    0          pause      pause     25  M  \n",
       "31822 24      723   0.234 2   -1    0          pause      pause     25  M  \n",
       "31823 25      723  -4.276 2   -1    0          pause      pause     28  M  \n",
       "31824 26      723  -0.260 2   -1    0          pause      pause     24  M  \n",
       "31825 28      723   1.599 2   -1    0          pause      pause     24  F  \n",
       "31826 29      723  -2.792 2   -1    0          pause      pause     25  M  \n",
       "      group\n",
       "1     Musik\n",
       "2     Musik\n",
       "3     Musik\n",
       "4     Sound\n",
       "5     Musik\n",
       "6     Sound\n",
       "7     Sound\n",
       "8     Musik\n",
       "9     Sound\n",
       "10    Musik\n",
       "11    Sound\n",
       "12    Musik\n",
       "13    Sound\n",
       "14    Sound\n",
       "15    Sound\n",
       "16    Musik\n",
       "17    Musik\n",
       "18    Sound\n",
       "19    Musik\n",
       "20    Musik\n",
       "21    Musik\n",
       "22    Musik\n",
       "23    Musik\n",
       "24    Musik\n",
       "25    Musik\n",
       "26    Sound\n",
       "27    Musik\n",
       "28    Sound\n",
       "29    Sound\n",
       "30    Musik\n",
       "⋮     ⋮    \n",
       "31797 Musik\n",
       "31798 Musik\n",
       "31799 Musik\n",
       "31800 Musik\n",
       "31801 Sound\n",
       "31802 Musik\n",
       "31803 Sound\n",
       "31804 Sound\n",
       "31805 Musik\n",
       "31806 Sound\n",
       "31807 Musik\n",
       "31808 Sound\n",
       "31809 Musik\n",
       "31810 Sound\n",
       "31811 Sound\n",
       "31812 Sound\n",
       "31813 Musik\n",
       "31814 Musik\n",
       "31815 Sound\n",
       "31816 Musik\n",
       "31817 Musik\n",
       "31818 Musik\n",
       "31819 Musik\n",
       "31820 Musik\n",
       "31821 Musik\n",
       "31822 Musik\n",
       "31823 Sound\n",
       "31824 Musik\n",
       "31825 Musik\n",
       "31826 Musik"
      ]
     },
     "metadata": {},
     "output_type": "display_data"
    }
   ],
   "source": [
    "d_long <- read.csv(\"eda/eda_complete_baseline.tsv\", sep=\"\\t\")\n",
    "names(d_long)[names(d_long) == \"eda\"] \n",
    "d_long\n"
   ]
  },
  {
   "cell_type": "code",
   "execution_count": 3,
   "id": "40723b87",
   "metadata": {},
   "outputs": [],
   "source": [
    "d_long$type <- as.factor(d_long$trial_type)\n",
    "d_long$condition <- as.factor(d_long$condition)\n",
    "d_long$group <- as.factor(d_long$group)\n",
    "d_long$sex <- as.factor(d_long$sex)\n",
    "d_long$eda <- as.numeric(d_long$eda)\n",
    "d_long$time<- as.factor(paste(d_long$run, d_long$repetition, sep = \"_\"))\n",
    "\n",
    "# bad data structure. See what happens if I eliminate all rows that are \"pause\" in \"condition\"\n",
    "\n",
    "d_long_new <- d_long[d_long$condition != \"pause\", ] "
   ]
  },
  {
   "cell_type": "code",
   "execution_count": 22,
   "id": "dd59b82d",
   "metadata": {},
   "outputs": [],
   "source": [
    "#round(eda)\n",
    "#apply(is.na(d_long_new), 2, which)"
   ]
  },
  {
   "cell_type": "code",
   "execution_count": 11,
   "id": "55f1948c",
   "metadata": {},
   "outputs": [
    {
     "data": {
      "text/html": [
       "<table class=\"dataframe\">\n",
       "<caption>A matrix: 0 × 2 of type int</caption>\n",
       "<thead>\n",
       "\t<tr><th scope=col>row</th><th scope=col>col</th></tr>\n",
       "</thead>\n",
       "<tbody>\n",
       "</tbody>\n",
       "</table>\n"
      ],
      "text/latex": [
       "A matrix: 0 × 2 of type int\n",
       "\\begin{tabular}{ll}\n",
       " row & col\\\\\n",
       "\\hline\n",
       "\\end{tabular}\n"
      ],
      "text/markdown": [
       "\n",
       "A matrix: 0 × 2 of type int\n",
       "\n",
       "| row | col |\n",
       "|---|---|\n",
       "\n"
      ],
      "text/plain": [
       "     row col"
      ]
     },
     "metadata": {},
     "output_type": "display_data"
    }
   ],
   "source": [
    "which(is.na(d_long_new), arr.ind = TRUE)\n",
    "d_long_new = na.omit(d_long_new)"
   ]
  },
  {
   "cell_type": "code",
   "execution_count": 12,
   "id": "4c32041d",
   "metadata": {},
   "outputs": [
    {
     "data": {
      "text/plain": [
       "    prob_id       time           eda               run          phase     \n",
       " Min.   : 2.00   1_0:   0   Min.   :-7.8820   Min.   :1.0   Min.   :0.00  \n",
       " 1st Qu.:12.00   1_1:5192   1st Qu.:-0.9980   1st Qu.:1.0   1st Qu.:1.75  \n",
       " Median :18.00   1_2:5192   Median : 0.0260   Median :1.5   Median :3.50  \n",
       " Mean   :17.32   2_0:   0   Mean   : 0.1053   Mean   :1.5   Mean   :3.50  \n",
       " 3rd Qu.:24.00   2_1:5192   3rd Qu.: 1.1293   3rd Qu.:2.0   3rd Qu.:5.25  \n",
       " Max.   :29.00   2_2:5192   Max.   :11.8530   Max.   :2.0   Max.   :7.00  \n",
       "   repetition   trial_type           condition          age        sex      \n",
       " Min.   :1.0   Length:20768       math    :10384   Min.   :21.00   F: 9440  \n",
       " 1st Qu.:1.0   Class :character   pause   :    0   1st Qu.:23.00   M:11328  \n",
       " Median :1.5   Mode  :character   rotation:10384   Median :23.50            \n",
       " Mean   :1.5                                       Mean   :23.91            \n",
       " 3rd Qu.:2.0                                       3rd Qu.:25.00            \n",
       " Max.   :2.0                                       Max.   :30.00            \n",
       "   group           type      \n",
       " Musik:12272   pause :    0  \n",
       " Sound: 8496   relax :10384  \n",
       "               stress:10384  \n",
       "                             \n",
       "                             \n",
       "                             "
      ]
     },
     "metadata": {},
     "output_type": "display_data"
    }
   ],
   "source": [
    "summary(d_long_new)"
   ]
  },
  {
   "cell_type": "code",
   "execution_count": 191,
   "id": "7b0cae2c",
   "metadata": {},
   "outputs": [],
   "source": [
    "# our four factors are:\n",
    "# music vs sound (d_long$group, btw)\n",
    "# stress vs relaxation (d_long$type, wth)\n",
    "# maths vs rotation (d_long$condition, wth)\n",
    "# run + repetition within run (d_long$time, wth)\n",
    "# \n",
    "# covariates are:\n",
    "# age (d_long$age, btw)\n",
    "# gender (d_long$sex, btw)"
   ]
  },
  {
   "cell_type": "markdown",
   "id": "1ed66384",
   "metadata": {},
   "source": [
    "Test assumptions"
   ]
  },
  {
   "cell_type": "code",
   "execution_count": 5,
   "id": "6e644011",
   "metadata": {
    "scrolled": true
   },
   "outputs": [
    {
     "data": {
      "text/html": [
       "<table class=\"dataframe\">\n",
       "<caption>A tibble: 32 × 7</caption>\n",
       "<thead>\n",
       "\t<tr><th scope=col>time</th><th scope=col>condition</th><th scope=col>group</th><th scope=col>type</th><th scope=col>variable</th><th scope=col>statistic</th><th scope=col>p</th></tr>\n",
       "\t<tr><th scope=col>&lt;fct&gt;</th><th scope=col>&lt;fct&gt;</th><th scope=col>&lt;fct&gt;</th><th scope=col>&lt;fct&gt;</th><th scope=col>&lt;chr&gt;</th><th scope=col>&lt;dbl&gt;</th><th scope=col>&lt;dbl&gt;</th></tr>\n",
       "</thead>\n",
       "<tbody>\n",
       "\t<tr><td>1_1</td><td>math    </td><td>Musik</td><td>relax </td><td>eda</td><td>0.8983762</td><td>4.052755e-22</td></tr>\n",
       "\t<tr><td>1_1</td><td>math    </td><td>Sound</td><td>relax </td><td>eda</td><td>0.8866030</td><td>2.604008e-19</td></tr>\n",
       "\t<tr><td>1_1</td><td>rotation</td><td>Musik</td><td>relax </td><td>eda</td><td>0.8967208</td><td>2.758563e-22</td></tr>\n",
       "\t<tr><td>1_1</td><td>rotation</td><td>Sound</td><td>relax </td><td>eda</td><td>0.9761312</td><td>1.290865e-07</td></tr>\n",
       "\t<tr><td>1_1</td><td>math    </td><td>Musik</td><td>stress</td><td>eda</td><td>0.9455682</td><td>3.530740e-16</td></tr>\n",
       "\t<tr><td>1_1</td><td>math    </td><td>Sound</td><td>stress</td><td>eda</td><td>0.9342419</td><td>1.546973e-14</td></tr>\n",
       "\t<tr><td>1_1</td><td>rotation</td><td>Musik</td><td>stress</td><td>eda</td><td>0.8731786</td><td>1.815176e-24</td></tr>\n",
       "\t<tr><td>1_1</td><td>rotation</td><td>Sound</td><td>stress</td><td>eda</td><td>0.9486665</td><td>1.303450e-12</td></tr>\n",
       "\t<tr><td>1_2</td><td>math    </td><td>Musik</td><td>relax </td><td>eda</td><td>0.8248624</td><td>4.066381e-28</td></tr>\n",
       "\t<tr><td>1_2</td><td>math    </td><td>Sound</td><td>relax </td><td>eda</td><td>0.9412194</td><td>1.203809e-13</td></tr>\n",
       "\t<tr><td>1_2</td><td>rotation</td><td>Musik</td><td>relax </td><td>eda</td><td>0.7338873</td><td>3.008809e-33</td></tr>\n",
       "\t<tr><td>1_2</td><td>rotation</td><td>Sound</td><td>relax </td><td>eda</td><td>0.9481423</td><td>1.094173e-12</td></tr>\n",
       "\t<tr><td>1_2</td><td>math    </td><td>Musik</td><td>stress</td><td>eda</td><td>0.8910625</td><td>7.663384e-23</td></tr>\n",
       "\t<tr><td>1_2</td><td>math    </td><td>Sound</td><td>stress</td><td>eda</td><td>0.9689488</td><td>3.609640e-09</td></tr>\n",
       "\t<tr><td>1_2</td><td>rotation</td><td>Musik</td><td>stress</td><td>eda</td><td>0.9201465</td><td>1.048201e-19</td></tr>\n",
       "\t<tr><td>1_2</td><td>rotation</td><td>Sound</td><td>stress</td><td>eda</td><td>0.9069443</td><td>1.710210e-17</td></tr>\n",
       "\t<tr><td>2_1</td><td>math    </td><td>Musik</td><td>relax </td><td>eda</td><td>0.8606573</td><td>1.667704e-25</td></tr>\n",
       "\t<tr><td>2_1</td><td>math    </td><td>Sound</td><td>relax </td><td>eda</td><td>0.9333782</td><td>1.212836e-14</td></tr>\n",
       "\t<tr><td>2_1</td><td>rotation</td><td>Musik</td><td>relax </td><td>eda</td><td>0.9854987</td><td>6.832438e-07</td></tr>\n",
       "\t<tr><td>2_1</td><td>rotation</td><td>Sound</td><td>relax </td><td>eda</td><td>0.9497991</td><td>1.910393e-12</td></tr>\n",
       "\t<tr><td>2_1</td><td>math    </td><td>Musik</td><td>stress</td><td>eda</td><td>0.8139056</td><td>7.816933e-29</td></tr>\n",
       "\t<tr><td>2_1</td><td>math    </td><td>Sound</td><td>stress</td><td>eda</td><td>0.9534683</td><td>6.865598e-12</td></tr>\n",
       "\t<tr><td>2_1</td><td>rotation</td><td>Musik</td><td>stress</td><td>eda</td><td>0.8147773</td><td>8.887720e-29</td></tr>\n",
       "\t<tr><td>2_1</td><td>rotation</td><td>Sound</td><td>stress</td><td>eda</td><td>0.9597763</td><td>7.295722e-11</td></tr>\n",
       "\t<tr><td>2_2</td><td>math    </td><td>Musik</td><td>relax </td><td>eda</td><td>0.9662399</td><td>2.608675e-12</td></tr>\n",
       "\t<tr><td>2_2</td><td>math    </td><td>Sound</td><td>relax </td><td>eda</td><td>0.9531681</td><td>6.168172e-12</td></tr>\n",
       "\t<tr><td>2_2</td><td>rotation</td><td>Musik</td><td>relax </td><td>eda</td><td>0.9780461</td><td>2.524623e-09</td></tr>\n",
       "\t<tr><td>2_2</td><td>rotation</td><td>Sound</td><td>relax </td><td>eda</td><td>0.9476362</td><td>9.250904e-13</td></tr>\n",
       "\t<tr><td>2_2</td><td>math    </td><td>Musik</td><td>stress</td><td>eda</td><td>0.9813559</td><td>2.585897e-08</td></tr>\n",
       "\t<tr><td>2_2</td><td>math    </td><td>Sound</td><td>stress</td><td>eda</td><td>0.8178946</td><td>4.616736e-24</td></tr>\n",
       "\t<tr><td>2_2</td><td>rotation</td><td>Musik</td><td>stress</td><td>eda</td><td>0.9002774</td><td>6.340948e-22</td></tr>\n",
       "\t<tr><td>2_2</td><td>rotation</td><td>Sound</td><td>stress</td><td>eda</td><td>0.8728759</td><td>2.092844e-20</td></tr>\n",
       "</tbody>\n",
       "</table>\n"
      ],
      "text/latex": [
       "A tibble: 32 × 7\n",
       "\\begin{tabular}{lllllll}\n",
       " time & condition & group & type & variable & statistic & p\\\\\n",
       " <fct> & <fct> & <fct> & <fct> & <chr> & <dbl> & <dbl>\\\\\n",
       "\\hline\n",
       "\t 1\\_1 & math     & Musik & relax  & eda & 0.8983762 & 4.052755e-22\\\\\n",
       "\t 1\\_1 & math     & Sound & relax  & eda & 0.8866030 & 2.604008e-19\\\\\n",
       "\t 1\\_1 & rotation & Musik & relax  & eda & 0.8967208 & 2.758563e-22\\\\\n",
       "\t 1\\_1 & rotation & Sound & relax  & eda & 0.9761312 & 1.290865e-07\\\\\n",
       "\t 1\\_1 & math     & Musik & stress & eda & 0.9455682 & 3.530740e-16\\\\\n",
       "\t 1\\_1 & math     & Sound & stress & eda & 0.9342419 & 1.546973e-14\\\\\n",
       "\t 1\\_1 & rotation & Musik & stress & eda & 0.8731786 & 1.815176e-24\\\\\n",
       "\t 1\\_1 & rotation & Sound & stress & eda & 0.9486665 & 1.303450e-12\\\\\n",
       "\t 1\\_2 & math     & Musik & relax  & eda & 0.8248624 & 4.066381e-28\\\\\n",
       "\t 1\\_2 & math     & Sound & relax  & eda & 0.9412194 & 1.203809e-13\\\\\n",
       "\t 1\\_2 & rotation & Musik & relax  & eda & 0.7338873 & 3.008809e-33\\\\\n",
       "\t 1\\_2 & rotation & Sound & relax  & eda & 0.9481423 & 1.094173e-12\\\\\n",
       "\t 1\\_2 & math     & Musik & stress & eda & 0.8910625 & 7.663384e-23\\\\\n",
       "\t 1\\_2 & math     & Sound & stress & eda & 0.9689488 & 3.609640e-09\\\\\n",
       "\t 1\\_2 & rotation & Musik & stress & eda & 0.9201465 & 1.048201e-19\\\\\n",
       "\t 1\\_2 & rotation & Sound & stress & eda & 0.9069443 & 1.710210e-17\\\\\n",
       "\t 2\\_1 & math     & Musik & relax  & eda & 0.8606573 & 1.667704e-25\\\\\n",
       "\t 2\\_1 & math     & Sound & relax  & eda & 0.9333782 & 1.212836e-14\\\\\n",
       "\t 2\\_1 & rotation & Musik & relax  & eda & 0.9854987 & 6.832438e-07\\\\\n",
       "\t 2\\_1 & rotation & Sound & relax  & eda & 0.9497991 & 1.910393e-12\\\\\n",
       "\t 2\\_1 & math     & Musik & stress & eda & 0.8139056 & 7.816933e-29\\\\\n",
       "\t 2\\_1 & math     & Sound & stress & eda & 0.9534683 & 6.865598e-12\\\\\n",
       "\t 2\\_1 & rotation & Musik & stress & eda & 0.8147773 & 8.887720e-29\\\\\n",
       "\t 2\\_1 & rotation & Sound & stress & eda & 0.9597763 & 7.295722e-11\\\\\n",
       "\t 2\\_2 & math     & Musik & relax  & eda & 0.9662399 & 2.608675e-12\\\\\n",
       "\t 2\\_2 & math     & Sound & relax  & eda & 0.9531681 & 6.168172e-12\\\\\n",
       "\t 2\\_2 & rotation & Musik & relax  & eda & 0.9780461 & 2.524623e-09\\\\\n",
       "\t 2\\_2 & rotation & Sound & relax  & eda & 0.9476362 & 9.250904e-13\\\\\n",
       "\t 2\\_2 & math     & Musik & stress & eda & 0.9813559 & 2.585897e-08\\\\\n",
       "\t 2\\_2 & math     & Sound & stress & eda & 0.8178946 & 4.616736e-24\\\\\n",
       "\t 2\\_2 & rotation & Musik & stress & eda & 0.9002774 & 6.340948e-22\\\\\n",
       "\t 2\\_2 & rotation & Sound & stress & eda & 0.8728759 & 2.092844e-20\\\\\n",
       "\\end{tabular}\n"
      ],
      "text/markdown": [
       "\n",
       "A tibble: 32 × 7\n",
       "\n",
       "| time &lt;fct&gt; | condition &lt;fct&gt; | group &lt;fct&gt; | type &lt;fct&gt; | variable &lt;chr&gt; | statistic &lt;dbl&gt; | p &lt;dbl&gt; |\n",
       "|---|---|---|---|---|---|---|\n",
       "| 1_1 | math     | Musik | relax  | eda | 0.8983762 | 4.052755e-22 |\n",
       "| 1_1 | math     | Sound | relax  | eda | 0.8866030 | 2.604008e-19 |\n",
       "| 1_1 | rotation | Musik | relax  | eda | 0.8967208 | 2.758563e-22 |\n",
       "| 1_1 | rotation | Sound | relax  | eda | 0.9761312 | 1.290865e-07 |\n",
       "| 1_1 | math     | Musik | stress | eda | 0.9455682 | 3.530740e-16 |\n",
       "| 1_1 | math     | Sound | stress | eda | 0.9342419 | 1.546973e-14 |\n",
       "| 1_1 | rotation | Musik | stress | eda | 0.8731786 | 1.815176e-24 |\n",
       "| 1_1 | rotation | Sound | stress | eda | 0.9486665 | 1.303450e-12 |\n",
       "| 1_2 | math     | Musik | relax  | eda | 0.8248624 | 4.066381e-28 |\n",
       "| 1_2 | math     | Sound | relax  | eda | 0.9412194 | 1.203809e-13 |\n",
       "| 1_2 | rotation | Musik | relax  | eda | 0.7338873 | 3.008809e-33 |\n",
       "| 1_2 | rotation | Sound | relax  | eda | 0.9481423 | 1.094173e-12 |\n",
       "| 1_2 | math     | Musik | stress | eda | 0.8910625 | 7.663384e-23 |\n",
       "| 1_2 | math     | Sound | stress | eda | 0.9689488 | 3.609640e-09 |\n",
       "| 1_2 | rotation | Musik | stress | eda | 0.9201465 | 1.048201e-19 |\n",
       "| 1_2 | rotation | Sound | stress | eda | 0.9069443 | 1.710210e-17 |\n",
       "| 2_1 | math     | Musik | relax  | eda | 0.8606573 | 1.667704e-25 |\n",
       "| 2_1 | math     | Sound | relax  | eda | 0.9333782 | 1.212836e-14 |\n",
       "| 2_1 | rotation | Musik | relax  | eda | 0.9854987 | 6.832438e-07 |\n",
       "| 2_1 | rotation | Sound | relax  | eda | 0.9497991 | 1.910393e-12 |\n",
       "| 2_1 | math     | Musik | stress | eda | 0.8139056 | 7.816933e-29 |\n",
       "| 2_1 | math     | Sound | stress | eda | 0.9534683 | 6.865598e-12 |\n",
       "| 2_1 | rotation | Musik | stress | eda | 0.8147773 | 8.887720e-29 |\n",
       "| 2_1 | rotation | Sound | stress | eda | 0.9597763 | 7.295722e-11 |\n",
       "| 2_2 | math     | Musik | relax  | eda | 0.9662399 | 2.608675e-12 |\n",
       "| 2_2 | math     | Sound | relax  | eda | 0.9531681 | 6.168172e-12 |\n",
       "| 2_2 | rotation | Musik | relax  | eda | 0.9780461 | 2.524623e-09 |\n",
       "| 2_2 | rotation | Sound | relax  | eda | 0.9476362 | 9.250904e-13 |\n",
       "| 2_2 | math     | Musik | stress | eda | 0.9813559 | 2.585897e-08 |\n",
       "| 2_2 | math     | Sound | stress | eda | 0.8178946 | 4.616736e-24 |\n",
       "| 2_2 | rotation | Musik | stress | eda | 0.9002774 | 6.340948e-22 |\n",
       "| 2_2 | rotation | Sound | stress | eda | 0.8728759 | 2.092844e-20 |\n",
       "\n"
      ],
      "text/plain": [
       "   time condition group type   variable statistic p           \n",
       "1  1_1  math      Musik relax  eda      0.8983762 4.052755e-22\n",
       "2  1_1  math      Sound relax  eda      0.8866030 2.604008e-19\n",
       "3  1_1  rotation  Musik relax  eda      0.8967208 2.758563e-22\n",
       "4  1_1  rotation  Sound relax  eda      0.9761312 1.290865e-07\n",
       "5  1_1  math      Musik stress eda      0.9455682 3.530740e-16\n",
       "6  1_1  math      Sound stress eda      0.9342419 1.546973e-14\n",
       "7  1_1  rotation  Musik stress eda      0.8731786 1.815176e-24\n",
       "8  1_1  rotation  Sound stress eda      0.9486665 1.303450e-12\n",
       "9  1_2  math      Musik relax  eda      0.8248624 4.066381e-28\n",
       "10 1_2  math      Sound relax  eda      0.9412194 1.203809e-13\n",
       "11 1_2  rotation  Musik relax  eda      0.7338873 3.008809e-33\n",
       "12 1_2  rotation  Sound relax  eda      0.9481423 1.094173e-12\n",
       "13 1_2  math      Musik stress eda      0.8910625 7.663384e-23\n",
       "14 1_2  math      Sound stress eda      0.9689488 3.609640e-09\n",
       "15 1_2  rotation  Musik stress eda      0.9201465 1.048201e-19\n",
       "16 1_2  rotation  Sound stress eda      0.9069443 1.710210e-17\n",
       "17 2_1  math      Musik relax  eda      0.8606573 1.667704e-25\n",
       "18 2_1  math      Sound relax  eda      0.9333782 1.212836e-14\n",
       "19 2_1  rotation  Musik relax  eda      0.9854987 6.832438e-07\n",
       "20 2_1  rotation  Sound relax  eda      0.9497991 1.910393e-12\n",
       "21 2_1  math      Musik stress eda      0.8139056 7.816933e-29\n",
       "22 2_1  math      Sound stress eda      0.9534683 6.865598e-12\n",
       "23 2_1  rotation  Musik stress eda      0.8147773 8.887720e-29\n",
       "24 2_1  rotation  Sound stress eda      0.9597763 7.295722e-11\n",
       "25 2_2  math      Musik relax  eda      0.9662399 2.608675e-12\n",
       "26 2_2  math      Sound relax  eda      0.9531681 6.168172e-12\n",
       "27 2_2  rotation  Musik relax  eda      0.9780461 2.524623e-09\n",
       "28 2_2  rotation  Sound relax  eda      0.9476362 9.250904e-13\n",
       "29 2_2  math      Musik stress eda      0.9813559 2.585897e-08\n",
       "30 2_2  math      Sound stress eda      0.8178946 4.616736e-24\n",
       "31 2_2  rotation  Musik stress eda      0.9002774 6.340948e-22\n",
       "32 2_2  rotation  Sound stress eda      0.8728759 2.092844e-20"
      ]
     },
     "metadata": {},
     "output_type": "display_data"
    },
    {
     "data": {
      "text/plain": [
       "    prob_id       time           eda               run          phase     \n",
       " Min.   : 2.00   1_0:   0   Min.   :-7.8820   Min.   :1.0   Min.   :0.00  \n",
       " 1st Qu.:12.00   1_1:5192   1st Qu.:-0.9980   1st Qu.:1.0   1st Qu.:1.75  \n",
       " Median :18.00   1_2:5192   Median : 0.0260   Median :1.5   Median :3.50  \n",
       " Mean   :17.32   2_0:   0   Mean   : 0.1053   Mean   :1.5   Mean   :3.50  \n",
       " 3rd Qu.:24.00   2_1:5192   3rd Qu.: 1.1293   3rd Qu.:2.0   3rd Qu.:5.25  \n",
       " Max.   :29.00   2_2:5192   Max.   :11.8530   Max.   :2.0   Max.   :7.00  \n",
       "   repetition   trial_type           condition          age        sex      \n",
       " Min.   :1.0   Length:20768       math    :10384   Min.   :21.00   F: 9440  \n",
       " 1st Qu.:1.0   Class :character   pause   :    0   1st Qu.:23.00   M:11328  \n",
       " Median :1.5   Mode  :character   rotation:10384   Median :23.50            \n",
       " Mean   :1.5                                       Mean   :23.91            \n",
       " 3rd Qu.:2.0                                       3rd Qu.:25.00            \n",
       " Max.   :2.0                                       Max.   :30.00            \n",
       "   group           type      \n",
       " Musik:12272   pause :    0  \n",
       " Sound: 8496   relax :10384  \n",
       "               stress:10384  \n",
       "                             \n",
       "                             \n",
       "                             "
      ]
     },
     "metadata": {},
     "output_type": "display_data"
    }
   ],
   "source": [
    "# 1) normality\n",
    "\n",
    "d_long_new %>%\n",
    "  group_by(time, type, condition, group) %>%\n",
    "  shapiro_test(eda)\n",
    "\n",
    "d_long_new %>%\n",
    "  group_by(time, type, condition, group) %>%\n",
    "  summary()"
   ]
  },
  {
   "cell_type": "code",
   "execution_count": 6,
   "id": "184a60b0",
   "metadata": {},
   "outputs": [
    {
     "ename": "ERROR",
     "evalue": "Error in `[.data.frame`(d_long_new, group = \"Musik\"): unused argument (group = \"Musik\")\n",
     "output_type": "error",
     "traceback": [
      "Error in `[.data.frame`(d_long_new, group = \"Musik\"): unused argument (group = \"Musik\")\nTraceback:\n",
      "1. ggqqplot(d_long_new[group = \"Musik\"], \"eda\", ggtheme = theme_bw(), \n .     title = \"Probanden in Musikbedingung\")",
      "2. d_long_new[group = \"Musik\"]"
     ]
    }
   ],
   "source": [
    "ggqqplot(d_long_new[group = \"Musik\"], \"eda\", ggtheme = theme_bw(),\n",
    "         title = 'Probanden in Musikbedingung') +\n",
    "  facet_grid(time ~ type)\n",
    "\n",
    "ggqqplot(d_long_new[group = 'Sound'], \"eda\", ggtheme = theme_bw(),\n",
    "         title = 'Probanden in Soundbedingung') +\n",
    "  facet_grid(condition ~ type)\n",
    "\n",
    "ggqqplot(d_long_new[group = 'Sound'], \"eda\", ggtheme = theme_bw(),\n",
    "         title = 'Probanden in Soundbedingung') +\n",
    "  facet_grid(condition ~ group)\n",
    "\n",
    "ggqqplot(d_long_new[group = 'Sound'], \"eda\", ggtheme = theme_bw(),\n",
    "         title = 'Probanden in Soundbedingung') +\n",
    "  facet_grid(time ~ group)\n",
    "\n",
    "\n",
    "ggqqplot(d_long_new[group = 'Musik'], \"eda\", ggtheme = theme_bw(),\n",
    "         title = 'Probanden in Musikbedingung') +\n",
    "  facet_grid(time ~ type)\n",
    "\n",
    "ggqqplot(d_long_new[group = 'Sound'], \"eda\", ggtheme = theme_bw(),\n",
    "         title = 'Probanden in Soundbedingung') +\n",
    "  facet_grid(condition ~ type)\n",
    "\n",
    "ggqqplot(d_long_new[group = 'Sound'], \"eda\", ggtheme = theme_bw(),\n",
    "         title = 'Probanden in Soundbedingung') +\n",
    "  facet_grid(condition ~ group)\n",
    "\n",
    "ggqqplot(d_long_new[group = 'Sound'], \"eda\", ggtheme = theme_bw(),\n",
    "         title = 'Probanden in Soundbedingung') +\n",
    "  facet_grid(time ~ group)\n",
    "\n",
    "# qqplots show that distribution is mostly OK"
   ]
  },
  {
   "cell_type": "code",
   "execution_count": 41,
   "id": "7655f5c5",
   "metadata": {},
   "outputs": [],
   "source": [
    "# Installing\n",
    "#install.packages(\"readr\")\n",
    "# Loading\n",
    "#library(\"readr\")"
   ]
  },
  {
   "cell_type": "code",
   "execution_count": 7,
   "id": "1e2e0617",
   "metadata": {},
   "outputs": [
    {
     "data": {
      "text/html": [
       "<table class=\"dataframe\">\n",
       "<caption>A tibble: 18 × 6</caption>\n",
       "<thead>\n",
       "\t<tr><th scope=col>run</th><th scope=col>phase</th><th scope=col>df1</th><th scope=col>df2</th><th scope=col>statistic</th><th scope=col>p</th></tr>\n",
       "\t<tr><th scope=col>&lt;int&gt;</th><th scope=col>&lt;int&gt;</th><th scope=col>&lt;int&gt;</th><th scope=col>&lt;int&gt;</th><th scope=col>&lt;dbl&gt;</th><th scope=col>&lt;dbl&gt;</th></tr>\n",
       "</thead>\n",
       "<tbody>\n",
       "\t<tr><td>1</td><td>-1</td><td>1</td><td>5527</td><td>166.69338983</td><td>1.358165e-37</td></tr>\n",
       "\t<tr><td>1</td><td> 0</td><td>1</td><td>1296</td><td>206.58461870</td><td>1.415007e-43</td></tr>\n",
       "\t<tr><td>1</td><td> 1</td><td>1</td><td>1296</td><td>107.16661334</td><td>3.478357e-24</td></tr>\n",
       "\t<tr><td>1</td><td> 2</td><td>1</td><td>1296</td><td> 97.44276518</td><td>3.289754e-22</td></tr>\n",
       "\t<tr><td>1</td><td> 3</td><td>1</td><td>1296</td><td> 70.99360745</td><td>9.403291e-17</td></tr>\n",
       "\t<tr><td>1</td><td> 4</td><td>1</td><td>1296</td><td> 37.94044552</td><td>9.714877e-10</td></tr>\n",
       "\t<tr><td>1</td><td> 5</td><td>1</td><td>1296</td><td> 11.92648746</td><td>5.712606e-04</td></tr>\n",
       "\t<tr><td>1</td><td> 6</td><td>1</td><td>1296</td><td> 23.70340892</td><td>1.262056e-06</td></tr>\n",
       "\t<tr><td>1</td><td> 7</td><td>1</td><td>1296</td><td>112.95421904</td><td>2.358603e-25</td></tr>\n",
       "\t<tr><td>2</td><td>-1</td><td>1</td><td>5527</td><td> 25.57263046</td><td>4.397893e-07</td></tr>\n",
       "\t<tr><td>2</td><td> 0</td><td>1</td><td>1296</td><td>  0.03300470</td><td>8.558686e-01</td></tr>\n",
       "\t<tr><td>2</td><td> 1</td><td>1</td><td>1296</td><td> 20.89854379</td><td>5.305115e-06</td></tr>\n",
       "\t<tr><td>2</td><td> 2</td><td>1</td><td>1296</td><td> 83.92700782</td><td>1.948893e-19</td></tr>\n",
       "\t<tr><td>2</td><td> 3</td><td>1</td><td>1296</td><td> 18.00307051</td><td>2.362365e-05</td></tr>\n",
       "\t<tr><td>2</td><td> 4</td><td>1</td><td>1296</td><td>  6.25795477</td><td>1.248621e-02</td></tr>\n",
       "\t<tr><td>2</td><td> 5</td><td>1</td><td>1296</td><td>  0.09928012</td><td>7.527460e-01</td></tr>\n",
       "\t<tr><td>2</td><td> 6</td><td>1</td><td>1296</td><td>  1.35266564</td><td>2.450267e-01</td></tr>\n",
       "\t<tr><td>2</td><td> 7</td><td>1</td><td>1296</td><td>  4.97695531</td><td>2.585772e-02</td></tr>\n",
       "</tbody>\n",
       "</table>\n"
      ],
      "text/latex": [
       "A tibble: 18 × 6\n",
       "\\begin{tabular}{llllll}\n",
       " run & phase & df1 & df2 & statistic & p\\\\\n",
       " <int> & <int> & <int> & <int> & <dbl> & <dbl>\\\\\n",
       "\\hline\n",
       "\t 1 & -1 & 1 & 5527 & 166.69338983 & 1.358165e-37\\\\\n",
       "\t 1 &  0 & 1 & 1296 & 206.58461870 & 1.415007e-43\\\\\n",
       "\t 1 &  1 & 1 & 1296 & 107.16661334 & 3.478357e-24\\\\\n",
       "\t 1 &  2 & 1 & 1296 &  97.44276518 & 3.289754e-22\\\\\n",
       "\t 1 &  3 & 1 & 1296 &  70.99360745 & 9.403291e-17\\\\\n",
       "\t 1 &  4 & 1 & 1296 &  37.94044552 & 9.714877e-10\\\\\n",
       "\t 1 &  5 & 1 & 1296 &  11.92648746 & 5.712606e-04\\\\\n",
       "\t 1 &  6 & 1 & 1296 &  23.70340892 & 1.262056e-06\\\\\n",
       "\t 1 &  7 & 1 & 1296 & 112.95421904 & 2.358603e-25\\\\\n",
       "\t 2 & -1 & 1 & 5527 &  25.57263046 & 4.397893e-07\\\\\n",
       "\t 2 &  0 & 1 & 1296 &   0.03300470 & 8.558686e-01\\\\\n",
       "\t 2 &  1 & 1 & 1296 &  20.89854379 & 5.305115e-06\\\\\n",
       "\t 2 &  2 & 1 & 1296 &  83.92700782 & 1.948893e-19\\\\\n",
       "\t 2 &  3 & 1 & 1296 &  18.00307051 & 2.362365e-05\\\\\n",
       "\t 2 &  4 & 1 & 1296 &   6.25795477 & 1.248621e-02\\\\\n",
       "\t 2 &  5 & 1 & 1296 &   0.09928012 & 7.527460e-01\\\\\n",
       "\t 2 &  6 & 1 & 1296 &   1.35266564 & 2.450267e-01\\\\\n",
       "\t 2 &  7 & 1 & 1296 &   4.97695531 & 2.585772e-02\\\\\n",
       "\\end{tabular}\n"
      ],
      "text/markdown": [
       "\n",
       "A tibble: 18 × 6\n",
       "\n",
       "| run &lt;int&gt; | phase &lt;int&gt; | df1 &lt;int&gt; | df2 &lt;int&gt; | statistic &lt;dbl&gt; | p &lt;dbl&gt; |\n",
       "|---|---|---|---|---|---|\n",
       "| 1 | -1 | 1 | 5527 | 166.69338983 | 1.358165e-37 |\n",
       "| 1 |  0 | 1 | 1296 | 206.58461870 | 1.415007e-43 |\n",
       "| 1 |  1 | 1 | 1296 | 107.16661334 | 3.478357e-24 |\n",
       "| 1 |  2 | 1 | 1296 |  97.44276518 | 3.289754e-22 |\n",
       "| 1 |  3 | 1 | 1296 |  70.99360745 | 9.403291e-17 |\n",
       "| 1 |  4 | 1 | 1296 |  37.94044552 | 9.714877e-10 |\n",
       "| 1 |  5 | 1 | 1296 |  11.92648746 | 5.712606e-04 |\n",
       "| 1 |  6 | 1 | 1296 |  23.70340892 | 1.262056e-06 |\n",
       "| 1 |  7 | 1 | 1296 | 112.95421904 | 2.358603e-25 |\n",
       "| 2 | -1 | 1 | 5527 |  25.57263046 | 4.397893e-07 |\n",
       "| 2 |  0 | 1 | 1296 |   0.03300470 | 8.558686e-01 |\n",
       "| 2 |  1 | 1 | 1296 |  20.89854379 | 5.305115e-06 |\n",
       "| 2 |  2 | 1 | 1296 |  83.92700782 | 1.948893e-19 |\n",
       "| 2 |  3 | 1 | 1296 |  18.00307051 | 2.362365e-05 |\n",
       "| 2 |  4 | 1 | 1296 |   6.25795477 | 1.248621e-02 |\n",
       "| 2 |  5 | 1 | 1296 |   0.09928012 | 7.527460e-01 |\n",
       "| 2 |  6 | 1 | 1296 |   1.35266564 | 2.450267e-01 |\n",
       "| 2 |  7 | 1 | 1296 |   4.97695531 | 2.585772e-02 |\n",
       "\n"
      ],
      "text/plain": [
       "   run phase df1 df2  statistic    p           \n",
       "1  1   -1    1   5527 166.69338983 1.358165e-37\n",
       "2  1    0    1   1296 206.58461870 1.415007e-43\n",
       "3  1    1    1   1296 107.16661334 3.478357e-24\n",
       "4  1    2    1   1296  97.44276518 3.289754e-22\n",
       "5  1    3    1   1296  70.99360745 9.403291e-17\n",
       "6  1    4    1   1296  37.94044552 9.714877e-10\n",
       "7  1    5    1   1296  11.92648746 5.712606e-04\n",
       "8  1    6    1   1296  23.70340892 1.262056e-06\n",
       "9  1    7    1   1296 112.95421904 2.358603e-25\n",
       "10 2   -1    1   5527  25.57263046 4.397893e-07\n",
       "11 2    0    1   1296   0.03300470 8.558686e-01\n",
       "12 2    1    1   1296  20.89854379 5.305115e-06\n",
       "13 2    2    1   1296  83.92700782 1.948893e-19\n",
       "14 2    3    1   1296  18.00307051 2.362365e-05\n",
       "15 2    4    1   1296   6.25795477 1.248621e-02\n",
       "16 2    5    1   1296   0.09928012 7.527460e-01\n",
       "17 2    6    1   1296   1.35266564 2.450267e-01\n",
       "18 2    7    1   1296   4.97695531 2.585772e-02"
      ]
     },
     "metadata": {},
     "output_type": "display_data"
    }
   ],
   "source": [
    "# 2) homogeneity of variance (only for between-subject factors)\n",
    "\n",
    "d_long %>%\n",
    "  group_by(run, phase) %>%\n",
    "  levene_test(eda ~ group)\n",
    "# not given, we need to correct the results."
   ]
  },
  {
   "cell_type": "code",
   "execution_count": null,
   "id": "5f12d952",
   "metadata": {},
   "outputs": [],
   "source": [
    "# 3) assumption of sphericity (only for within-subject factors)\n",
    "\n",
    "# will be checked and corrected for automatically when computing the ANOVA. Look at that then."
   ]
  },
  {
   "cell_type": "markdown",
   "id": "c953d0b0",
   "metadata": {},
   "source": [
    "Define model "
   ]
  },
  {
   "cell_type": "code",
   "execution_count": 9,
   "id": "b1b8cda4",
   "metadata": {},
   "outputs": [
    {
     "ename": "ERROR",
     "evalue": "Error: Empty cells in within-subjects design  (i.e., bad data structure).\ntable(data[c(\"time\", \"condition\", \"type\")])\n# , , type = pause\n# \n#       condition\n# time   math pause rotation\n#   X1_0    0  5529        0\n#   X1_1    0     0        0\n#   X1_2    0     0        0\n#   X2_0    0  5529        0\n#   X2_1    0     0        0\n#   X2_2    0     0        0\n# \n# , , type = relax\n# \n#       condition\n# time   math pause rotation\n#   X1_0    0     0        0\n#   X1_1 1298     0     1298\n#   X1_2 1298     0     1298\n#   X2_0    0     0        0\n#   X2_1 1298     0     1298\n#   X2_2 1298     0     1298\n# \n# , , type = stress\n# \n#       condition\n# time   math pause rotation\n#   X1_0    0     0        0\n#   X1_1 1298     0     1298\n#   X1_2 1298     0     1298\n#   X2_0    0     0        0\n#   X2_1 1298     0     1298\n#   X2_2 1298     0     1298\n# \n",
     "output_type": "error",
     "traceback": [
      "Error: Empty cells in within-subjects design  (i.e., bad data structure).\ntable(data[c(\"time\", \"condition\", \"type\")])\n# , , type = pause\n# \n#       condition\n# time   math pause rotation\n#   X1_0    0  5529        0\n#   X1_1    0     0        0\n#   X1_2    0     0        0\n#   X2_0    0  5529        0\n#   X2_1    0     0        0\n#   X2_2    0     0        0\n# \n# , , type = relax\n# \n#       condition\n# time   math pause rotation\n#   X1_0    0     0        0\n#   X1_1 1298     0     1298\n#   X1_2 1298     0     1298\n#   X2_0    0     0        0\n#   X2_1 1298     0     1298\n#   X2_2 1298     0     1298\n# \n# , , type = stress\n# \n#       condition\n# time   math pause rotation\n#   X1_0    0     0        0\n#   X1_1 1298     0     1298\n#   X1_2 1298     0     1298\n#   X2_0    0     0        0\n#   X2_1 1298     0     1298\n#   X2_2 1298     0     1298\n# \nTraceback:\n",
      "1. aov_ez(\"prob_id\", \"eda\", d_long, between = c(\"group\", \"sex\"), \n .     within = c(\"time\", \"condition\", \"type\"), include_aov = TRUE)",
      "2. aov_car(formula = as.formula(formula), data = data, fun_aggregate = fun_aggregate, \n .     type = type, return = return, factorize = factorize, check_contrasts = check_contrasts, \n .     observed = observed, anova_table = anova_table, include_aov = include_aov, \n .     ...)",
      "3. stop(\"Empty cells in within-subjects design \", \" (i.e., bad data structure).\\n\", \n .     \"\", paste0(\"table(data[\", deparse(within), \"])\"), \"\\n# \", \n .     paste(utils::capture.output(table(data[within])), collapse = \"\\n# \"), \n .     call. = FALSE)"
     ]
    }
   ],
   "source": [
    "model1 <- aov_ez(\"prob_id\", # Variable/column defining your participants\n",
    "       \"eda\", # dv\n",
    "       d_long, # name of your dataframe\n",
    "       between = c(\"group\", \"sex\"), # if sex was also included, this would be c('group', 'sex')\n",
    "       within = c(\"time\", \"condition\", \"type\"), \n",
    "       include_aov = TRUE)\n",
    "\n",
    "\n",
    "model1\n",
    "summary(model1)"
   ]
  },
  {
   "cell_type": "code",
   "execution_count": 4,
   "id": "368245cf",
   "metadata": {},
   "outputs": [
    {
     "name": "stderr",
     "output_type": "stream",
     "text": [
      "Warning message:\n",
      "“More than one observation per cell, aggregating the data using mean (i.e, fun_aggregate = mean)!”\n",
      "Contrasts set to contr.sum for the following variables: group, sex\n",
      "\n"
     ]
    },
    {
     "data": {
      "text/plain": [
       "Anova Table (Type 3 tests)\n",
       "\n",
       "Response: eda\n",
       "                          Effect          df   MSE         F   ges p.value\n",
       "1                          group       1, 18  0.20      0.24 <.001    .629\n",
       "2                            sex       1, 18  0.20      0.10 <.001    .759\n",
       "3                      group:sex       1, 18  0.20      0.69 <.001    .416\n",
       "4                           time 1.66, 29.87 23.60    3.82 *  .137    .041\n",
       "5                     group:time 1.66, 29.87 23.60    4.08 *  .145    .034\n",
       "6                       sex:time 1.66, 29.87 23.60      0.64  .026    .506\n",
       "7                 group:sex:time 1.66, 29.87 23.60      1.19  .047    .310\n",
       "8                      condition       1, 18  0.75      0.36 <.001    .554\n",
       "9                group:condition       1, 18  0.75      0.44 <.001    .514\n",
       "10                 sex:condition       1, 18  0.75      0.79 <.001    .385\n",
       "11           group:sex:condition       1, 18  0.75      1.44  .001    .246\n",
       "12                          type       1, 18  3.48 26.76 ***  .090   <.001\n",
       "13                    group:type       1, 18  3.48      0.77  .003    .392\n",
       "14                      sex:type       1, 18  3.48      0.52  .002    .481\n",
       "15                group:sex:type       1, 18  3.48      0.01 <.001    .909\n",
       "16                time:condition 2.25, 40.49  0.62      1.11  .002    .344\n",
       "17          group:time:condition 2.25, 40.49  0.62      0.15 <.001    .882\n",
       "18            sex:time:condition 2.25, 40.49  0.62      1.43  .002    .252\n",
       "19      group:sex:time:condition 2.25, 40.49  0.62      0.41 <.001    .692\n",
       "20                     time:type 2.34, 42.04  1.47    2.53 +  .009    .083\n",
       "21               group:time:type 2.34, 42.04  1.47      2.25  .008    .110\n",
       "22                 sex:time:type 2.34, 42.04  1.47      0.13 <.001    .908\n",
       "23           group:sex:time:type 2.34, 42.04  1.47      0.39  .001    .714\n",
       "24                condition:type       1, 18  2.55  11.59 **  .030    .003\n",
       "25          group:condition:type       1, 18  2.55      0.99  .003    .332\n",
       "26            sex:condition:type       1, 18  2.55      1.87  .005    .188\n",
       "27      group:sex:condition:type       1, 18  2.55      0.00 <.001    .946\n",
       "28           time:condition:type 2.45, 44.16  0.58      0.33 <.001    .763\n",
       "29     group:time:condition:type 2.45, 44.16  0.58      0.76  .001    .501\n",
       "30       sex:time:condition:type 2.45, 44.16  0.58      0.82  .001    .470\n",
       "31 group:sex:time:condition:type 2.45, 44.16  0.58      1.18  .002    .324\n",
       "---\n",
       "Signif. codes:  0 ‘***’ 0.001 ‘**’ 0.01 ‘*’ 0.05 ‘+’ 0.1 ‘ ’ 1\n",
       "\n",
       "Sphericity correction method: GG "
      ]
     },
     "metadata": {},
     "output_type": "display_data"
    },
    {
     "data": {
      "text/plain": [
       "\n",
       "Univariate Type III Repeated-Measures ANOVA Assuming Sphericity\n",
       "\n",
       "                               Sum Sq num Df Error SS den Df F value    Pr(>F)\n",
       "(Intercept)                     3.946      1     3.65     18 19.4687 0.0003362\n",
       "group                           0.049      1     3.65     18  0.2412 0.6292956\n",
       "sex                             0.020      1     3.65     18  0.0967 0.7594076\n",
       "group:sex                       0.141      1     3.65     18  0.6945 0.4155609\n",
       "time                          149.444      3   705.03     54  3.8154 0.0149308\n",
       "group:time                    159.809      3   705.03     54  4.0800 0.0110334\n",
       "sex:time                       25.074      3   705.03     54  0.6402 0.5924801\n",
       "group:sex:time                 46.767      3   705.03     54  1.1940 0.3207732\n",
       "condition                       0.273      1    13.49     18  0.3639 0.5538883\n",
       "group:condition                 0.332      1    13.49     18  0.4431 0.5140829\n",
       "sex:condition                   0.595      1    13.49     18  0.7937 0.3847448\n",
       "group:sex:condition             1.077      1    13.49     18  1.4372 0.2461322\n",
       "type                           93.115      1    62.64     18 26.7584 6.396e-05\n",
       "group:type                      2.677      1    62.64     18  0.7692 0.3920053\n",
       "sex:type                        1.800      1    62.64     18  0.5172 0.4812696\n",
       "group:sex:type                  0.047      1    62.64     18  0.0135 0.9089230\n",
       "time:condition                  1.542      3    24.98     54  1.1115 0.3525174\n",
       "group:time:condition            0.210      3    24.98     54  0.1516 0.9282281\n",
       "sex:time:condition              1.981      3    24.98     54  1.4280 0.2446735\n",
       "group:sex:time:condition        0.564      3    24.98     54  0.4067 0.7487637\n",
       "time:type                       8.674      3    61.61     54  2.5344 0.0664323\n",
       "group:time:type                 7.699      3    61.61     54  2.2494 0.0930140\n",
       "sex:time:type                   0.436      3    61.61     54  0.1274 0.9434793\n",
       "group:sex:time:type             1.319      3    61.61     54  0.3854 0.7639664\n",
       "condition:type                 29.553      1    45.89     18 11.5907 0.0031598\n",
       "group:condition:type            2.534      1    45.89     18  0.9938 0.3320202\n",
       "sex:condition:type              4.764      1    45.89     18  1.8684 0.1884903\n",
       "group:sex:condition:type        0.012      1    45.89     18  0.0048 0.9456651\n",
       "time:condition:type             0.468      3    25.45     54  0.3308 0.8031098\n",
       "group:time:condition:type       1.068      3    25.45     54  0.7551 0.5242576\n",
       "sex:time:condition:type         1.157      3    25.45     54  0.8182 0.4894765\n",
       "group:sex:time:condition:type   1.665      3    25.45     54  1.1779 0.3267582\n",
       "                                 \n",
       "(Intercept)                   ***\n",
       "group                            \n",
       "sex                              \n",
       "group:sex                        \n",
       "time                          *  \n",
       "group:time                    *  \n",
       "sex:time                         \n",
       "group:sex:time                   \n",
       "condition                        \n",
       "group:condition                  \n",
       "sex:condition                    \n",
       "group:sex:condition              \n",
       "type                          ***\n",
       "group:type                       \n",
       "sex:type                         \n",
       "group:sex:type                   \n",
       "time:condition                   \n",
       "group:time:condition             \n",
       "sex:time:condition               \n",
       "group:sex:time:condition         \n",
       "time:type                     .  \n",
       "group:time:type               .  \n",
       "sex:time:type                    \n",
       "group:sex:time:type              \n",
       "condition:type                ** \n",
       "group:condition:type             \n",
       "sex:condition:type               \n",
       "group:sex:condition:type         \n",
       "time:condition:type              \n",
       "group:time:condition:type        \n",
       "sex:time:condition:type          \n",
       "group:sex:time:condition:type    \n",
       "---\n",
       "Signif. codes:  0 ‘***’ 0.001 ‘**’ 0.01 ‘*’ 0.05 ‘.’ 0.1 ‘ ’ 1\n",
       "\n",
       "\n",
       "Mauchly Tests for Sphericity\n",
       "\n",
       "                              Test statistic p-value\n",
       "time                                 0.25144 0.00034\n",
       "group:time                           0.25144 0.00034\n",
       "sex:time                             0.25144 0.00034\n",
       "group:sex:time                       0.25144 0.00034\n",
       "time:condition                       0.60319 0.13372\n",
       "group:time:condition                 0.60319 0.13372\n",
       "sex:time:condition                   0.60319 0.13372\n",
       "group:sex:time:condition             0.60319 0.13372\n",
       "time:type                            0.56482 0.08960\n",
       "group:time:type                      0.56482 0.08960\n",
       "sex:time:type                        0.56482 0.08960\n",
       "group:sex:time:type                  0.56482 0.08960\n",
       "time:condition:type                  0.72888 0.38263\n",
       "group:time:condition:type            0.72888 0.38263\n",
       "sex:time:condition:type              0.72888 0.38263\n",
       "group:sex:time:condition:type        0.72888 0.38263\n",
       "\n",
       "\n",
       "Greenhouse-Geisser and Huynh-Feldt Corrections\n",
       " for Departure from Sphericity\n",
       "\n",
       "                               GG eps Pr(>F[GG])  \n",
       "time                          0.55319    0.04059 *\n",
       "group:time                    0.55319    0.03366 *\n",
       "sex:time                      0.55319    0.50619  \n",
       "group:sex:time                0.55319    0.30964  \n",
       "time:condition                0.74981    0.34429  \n",
       "group:time:condition          0.74981    0.88206  \n",
       "sex:time:condition            0.74981    0.25152  \n",
       "group:sex:time:condition      0.74981    0.69221  \n",
       "time:type                     0.77852    0.08329 .\n",
       "group:time:type               0.77852    0.11028  \n",
       "sex:time:type                 0.77852    0.90780  \n",
       "group:sex:time:type           0.77852    0.71432  \n",
       "time:condition:type           0.81779    0.76295  \n",
       "group:time:condition:type     0.81779    0.50093  \n",
       "sex:time:condition:type       0.81779    0.46963  \n",
       "group:sex:time:condition:type 0.81779    0.32400  \n",
       "---\n",
       "Signif. codes:  0 ‘***’ 0.001 ‘**’ 0.01 ‘*’ 0.05 ‘.’ 0.1 ‘ ’ 1\n",
       "\n",
       "                                 HF eps Pr(>F[HF])\n",
       "time                          0.6024336 0.03631778\n",
       "group:time                    0.6024336 0.02972752\n",
       "sex:time                      0.6024336 0.51845988\n",
       "group:sex:time                0.6024336 0.31213743\n",
       "time:condition                0.8621682 0.34864597\n",
       "group:time:condition          0.8621682 0.90596914\n",
       "sex:time:condition            0.8621682 0.24874831\n",
       "group:sex:time:condition      0.8621682 0.71980327\n",
       "time:type                     0.9017345 0.07343400\n",
       "group:time:type               0.9017345 0.10032015\n",
       "sex:time:type                 0.9017345 0.92996182\n",
       "group:sex:time:type           0.9017345 0.74363990\n",
       "time:condition:type           0.9565650 0.79441332\n",
       "group:time:condition:type     0.9565650 0.51909731\n",
       "sex:time:condition:type       0.9565650 0.48510562\n",
       "group:sex:time:condition:type 0.9565650 0.32629214"
      ]
     },
     "metadata": {},
     "output_type": "display_data"
    }
   ],
   "source": [
    "# with pause excluded\n",
    "\n",
    "model1 <- aov_ez(\"prob_id\", # Variable/column defining your participants\n",
    "                 \"eda\", # dv\n",
    "                 d_long_new, # name of your dataframe\n",
    "                 between = c(\"group\", \"sex\"), # if sex was also included, this would be c('group', 'sex')\n",
    "                 within = c(\"time\", \"condition\", \"type\"), \n",
    "                 include_aov = TRUE, na.rm=TRUE)\n",
    "model1\n",
    "summary(model1)\n",
    "\n",
    "\n",
    "# we see that the assumption of sphericity was corrected for using the Greenhouse-Geisser correction\n",
    "# we also see that we have an effect for time\n",
    "# and for time*condition*type"
   ]
  },
  {
   "cell_type": "markdown",
   "id": "e6b9b6d7",
   "metadata": {},
   "source": [
    "# post hoc tests:"
   ]
  },
  {
   "cell_type": "code",
   "execution_count": 9,
   "id": "65b2cd56",
   "metadata": {},
   "outputs": [
    {
     "data": {
      "text/plain": [
       " type   emmean     SE df lower.CL upper.CL\n",
       " relax  -0.417 0.0844 18   -0.595   -0.240\n",
       " stress  0.634 0.1214 18    0.379    0.889\n",
       "\n",
       "Results are averaged over the levels of: group, sex, condition, time \n",
       "Confidence level used: 0.95 "
      ]
     },
     "metadata": {},
     "output_type": "display_data"
    },
    {
     "data": {
      "text/plain": [
       " contrast       estimate    SE df t.ratio p.value\n",
       " relax - stress    -1.05 0.203 18  -5.173  0.0001\n",
       "\n",
       "Results are averaged over the levels of: group, sex, condition, time "
      ]
     },
     "metadata": {},
     "output_type": "display_data"
    }
   ],
   "source": [
    "m1_ph <- emmeans(model1, \"type\") # defining here which variables plus their interaction I would like to include in my posthoc-Tests\n",
    "m1_ph\n",
    "pairs(m1_ph) # gives you a massive table with all pair comparisons between the two significant factors, with p-values already corrected for multiple testing\n",
    "\n",
    "# to combine pairs of factor levels define contrasts:\n",
    "# e.g. test phases -1 to 3 against phases 4 to 7, but define that for each of the runs"
   ]
  },
  {
   "cell_type": "code",
   "execution_count": 10,
   "id": "6c33abaa",
   "metadata": {},
   "outputs": [
    {
     "data": {
      "text/plain": [
       " time emmean    SE df lower.CL upper.CL\n",
       " X1_1  1.043 0.415 18    0.171   1.9150\n",
       " X1_2  0.291 0.286 18   -0.311   0.8929\n",
       " X2_1 -0.102 0.319 18   -0.772   0.5669\n",
       " X2_2 -0.799 0.334 18   -1.500  -0.0977\n",
       "\n",
       "Results are averaged over the levels of: group, sex, type, condition \n",
       "Confidence level used: 0.95 "
      ]
     },
     "metadata": {},
     "output_type": "display_data"
    },
    {
     "data": {
      "text/plain": [
       " contrast    estimate    SE df t.ratio p.value\n",
       " X1_1 - X1_2    0.752 0.391 18   1.920  0.2547\n",
       " X1_1 - X2_1    1.145 0.660 18   1.734  0.3358\n",
       " X1_1 - X2_2    1.841 0.724 18   2.542  0.0867\n",
       " X1_2 - X2_1    0.393 0.576 18   0.683  0.9023\n",
       " X1_2 - X2_2    1.090 0.558 18   1.952  0.2424\n",
       " X2_1 - X2_2    0.696 0.320 18   2.179  0.1670\n",
       "\n",
       "Results are averaged over the levels of: group, sex, type, condition \n",
       "P value adjustment: tukey method for comparing a family of 4 estimates "
      ]
     },
     "metadata": {},
     "output_type": "display_data"
    }
   ],
   "source": [
    "m2_ph <- emmeans(model1, \"time\") # defining here which variables plus their interaction I would like to include in my posthoc-Tests\n",
    "m2_ph\n",
    "pairs(m2_ph) # gives you a massive table with all pair comparisons between the two significant factors, with p-values already corrected for multiple testing\n",
    "\n",
    "# to combine pairs of factor levels define contrasts:\n",
    "# e.g. test phases -1 to 3 against phases 4 to 7, but define that for each of the runs"
   ]
  },
  {
   "cell_type": "code",
   "execution_count": 13,
   "id": "0078aed6",
   "metadata": {},
   "outputs": [
    {
     "data": {
      "text/plain": [
       "time = X1_1:\n",
       " group emmean    SE df lower.CL upper.CL\n",
       " Musik  0.649 0.530 18  -0.4644    1.763\n",
       " Sound  1.436 0.639 18   0.0936    2.779\n",
       "\n",
       "time = X1_2:\n",
       " group emmean    SE df lower.CL upper.CL\n",
       " Musik -0.659 0.366 18  -1.4276    0.109\n",
       " Sound  1.241 0.441 18   0.3146    2.168\n",
       "\n",
       "time = X2_1:\n",
       " group emmean    SE df lower.CL upper.CL\n",
       " Musik  0.535 0.407 18  -0.3194    1.390\n",
       " Sound -0.740 0.490 18  -1.7701    0.290\n",
       "\n",
       "time = X2_2:\n",
       " group emmean    SE df lower.CL upper.CL\n",
       " Musik -0.141 0.426 18  -1.0356    0.754\n",
       " Sound -1.457 0.514 18  -2.5358   -0.378\n",
       "\n",
       "Results are averaged over the levels of: sex, type, condition \n",
       "Confidence level used: 0.95 "
      ]
     },
     "metadata": {},
     "output_type": "display_data"
    },
    {
     "data": {
      "text/plain": [
       "time = X1_1:\n",
       " contrast      estimate    SE df t.ratio p.value\n",
       " Musik - Sound   -0.787 0.830 18  -0.948  0.3557\n",
       "\n",
       "time = X1_2:\n",
       " contrast      estimate    SE df t.ratio p.value\n",
       " Musik - Sound   -1.900 0.573 18  -3.317  0.0038\n",
       "\n",
       "time = X2_1:\n",
       " contrast      estimate    SE df t.ratio p.value\n",
       " Musik - Sound    1.275 0.637 18   2.001  0.0607\n",
       "\n",
       "time = X2_2:\n",
       " contrast      estimate    SE df t.ratio p.value\n",
       " Musik - Sound    1.316 0.667 18   1.972  0.0641\n",
       "\n",
       "Results are averaged over the levels of: sex, type, condition "
      ]
     },
     "metadata": {},
     "output_type": "display_data"
    }
   ],
   "source": [
    "m3_ph <- emmeans(model1, \"group\", \"time\") # defining here which variables plus their interaction I would like to include in my posthoc-Tests\n",
    "m3_ph\n",
    "pairs(m3_ph) # gives you a massive table with all pair comparisons between the two significant factors, with p-values already corrected for multiple testing\n",
    "\n",
    "# to combine pairs of factor levels define contrasts:\n",
    "# e.g. test phases -1 to 3 against phases 4 to 7, but define that for each of the runs"
   ]
  },
  {
   "cell_type": "code",
   "execution_count": 14,
   "id": "dfd6d650",
   "metadata": {},
   "outputs": [
    {
     "data": {
      "text/plain": [
       "type = relax:\n",
       " condition  emmean     SE df lower.CL upper.CL\n",
       " math      -0.7420 0.1430 18  -1.0424   -0.441\n",
       " rotation  -0.0929 0.0955 18  -0.2935    0.108\n",
       "\n",
       "type = stress:\n",
       " condition  emmean     SE df lower.CL upper.CL\n",
       " math       0.9015 0.1824 18   0.5183    1.285\n",
       " rotation   0.3661 0.1415 18   0.0689    0.663\n",
       "\n",
       "Results are averaged over the levels of: group, sex, time \n",
       "Confidence level used: 0.95 "
      ]
     },
     "metadata": {},
     "output_type": "display_data"
    },
    {
     "data": {
      "text/plain": [
       "type = relax:\n",
       " contrast        estimate    SE df t.ratio p.value\n",
       " math - rotation   -0.649 0.175 18  -3.708  0.0016\n",
       "\n",
       "type = stress:\n",
       " contrast        estimate    SE df t.ratio p.value\n",
       " math - rotation    0.535 0.218 18   2.452  0.0246\n",
       "\n",
       "Results are averaged over the levels of: group, sex, time "
      ]
     },
     "metadata": {},
     "output_type": "display_data"
    }
   ],
   "source": [
    "m4_ph <- emmeans(model1, \"condition\", \"type\") # defining here which variables plus their interaction I would like to include in my posthoc-Tests\n",
    "m4_ph\n",
    "pairs(m4_ph) # gives you a massive table with all pair comparisons between the two significant factors, with p-values already corrected for multiple testing\n",
    "\n",
    "# to combine pairs of factor levels define contrasts:\n",
    "# e.g. test phases -1 to 3 against phases 4 to 7, but define that for each of the runs"
   ]
  },
  {
   "cell_type": "code",
   "execution_count": 12,
   "id": "b3fe3454",
   "metadata": {},
   "outputs": [
    {
     "data": {
      "text/plain": [
       " contrast   estimate    SE df t.ratio p.value\n",
       " run1vsrun2     2.23 1.161 18   1.924  0.0703\n",
       " run_wdh        1.45 0.603 18   2.400  0.0549\n",
       "\n",
       "Results are averaged over the levels of: group, sex, type, condition \n",
       "P value adjustment: holm method for 2 tests "
      ]
     },
     "metadata": {},
     "output_type": "display_data"
    }
   ],
   "source": [
    "c1 <- list(run1vsrun2 = c(1, 1, -1, -1), \n",
    "           run_wdh = c(1, -1, 1, -1)\n",
    "        # this vector gives each line in the object 'm1_ph' a weight\n",
    "          )\n",
    "\n",
    "# if several contrasts are defined, these go into a list of vectors and each get their own name.\n",
    "  \n",
    "contrast(m2_ph, c1, adjust = \"holm\") # here we define how to adjust the alpha-level, specified here is the Bonferroni-Holm correction, \n",
    "                                     # which is less strict than the Bonferroni correction\n",
    "\n",
    "# and we see: there is a difference, t(20) = 3.222, p = 0.0043"
   ]
  },
  {
   "cell_type": "markdown",
   "id": "15d1d650",
   "metadata": {},
   "source": [
    "plots"
   ]
  },
  {
   "cell_type": "code",
   "execution_count": 32,
   "id": "712ed8d9",
   "metadata": {},
   "outputs": [
    {
     "data": {
      "image/png": "[encoded data removed]",
      "text/plain": [
       "plot without title"
      ]
     },
     "metadata": {
      "image/png": {
       "height": 420,
       "width": 420
      }
     },
     "output_type": "display_data"
    }
   ],
   "source": [
    "p_groupxtime1 <- ggboxplot(\n",
    "  d_long_new, x = \"time\", y = \"eda\" ,ylab= \"eda(μS)\", \n",
    "  color = \"group\", palette = c(\"#00AFBB\", \"#E7B800\")\n",
    ")\n",
    "p_groupxtime"
   ]
  },
  {
   "cell_type": "code",
   "execution_count": 33,
   "id": "ed313286",
   "metadata": {},
   "outputs": [
    {
     "data": {
      "image/png": "[encoded data removed]",
      "text/plain": [
       "plot without title"
      ]
     },
     "metadata": {
      "image/png": {
       "height": 420,
       "width": 420
      }
     },
     "output_type": "display_data"
    }
   ],
   "source": [
    "p_groupxtime2 <- ggboxplot(\n",
    "  d_long_new, x = \"time\", y = \"eda\", ylab= \"eda(μS)\", \n",
    "  palette = c(\"#4e07fc\",\"#00AFBB\", \"#FC4E07\", \"#E7B800\" ), color = \"time\", shape = \"time\"\n",
    ")\n",
    "p_groupxtime3\n"
   ]
  },
  {
   "cell_type": "code",
   "execution_count": 34,
   "id": "34f7ed25",
   "metadata": {},
   "outputs": [
    {
     "data": {
      "image/png": "[encoded data removed]",
      "text/plain": [
       "plot without title"
      ]
     },
     "metadata": {
      "image/png": {
       "height": 420,
       "width": 420
      }
     },
     "output_type": "display_data"
    }
   ],
   "source": [
    "p_groupxtime3 <- ggboxplot(\n",
    "  d_long_new, x = \"type\", y = \"eda\", ylab= \"eda(μS)\", \n",
    "  palette = c(\"#00AFBB\", \"#E7B800\"), color = \"type\", shape = \"type\"\n",
    ")\n",
    "p_groupxtime4"
   ]
  },
  {
   "cell_type": "code",
   "execution_count": 35,
   "id": "1522a9e8",
   "metadata": {},
   "outputs": [
    {
     "data": {
      "image/png": "[encoded data removed]",
      "text/plain": [
       "plot without title"
      ]
     },
     "metadata": {
      "image/png": {
       "height": 420,
       "width": 420
      }
     },
     "output_type": "display_data"
    }
   ],
   "source": [
    "p_groupxtime4  <- ggboxplot(\n",
    "  d_long_new, x = \"type\", y = \"eda\", facet.by = \"condition\", ylab= \"eda(μS)\", \n",
    "  color = \"condition\", palette = c(\"#00AFBB\", \"#E7B800\"), title = \"type-condition-Interaktion\",\n",
    ")\n",
    "p_timextype6"
   ]
  },
  {
   "cell_type": "code",
   "execution_count": 37,
   "id": "13d641a4",
   "metadata": {},
   "outputs": [
    {
     "data": {
      "text/html": [
       "<strong>png:</strong> 2"
      ],
      "text/latex": [
       "\\textbf{png:} 2"
      ],
      "text/markdown": [
       "**png:** 2"
      ],
      "text/plain": [
       "png \n",
       "  2 "
      ]
     },
     "metadata": {},
     "output_type": "display_data"
    },
    {
     "data": {
      "text/html": [
       "<strong>png:</strong> 2"
      ],
      "text/latex": [
       "\\textbf{png:} 2"
      ],
      "text/markdown": [
       "**png:** 2"
      ],
      "text/plain": [
       "png \n",
       "  2 "
      ]
     },
     "metadata": {},
     "output_type": "display_data"
    },
    {
     "data": {
      "text/html": [
       "<strong>png:</strong> 2"
      ],
      "text/latex": [
       "\\textbf{png:} 2"
      ],
      "text/markdown": [
       "**png:** 2"
      ],
      "text/plain": [
       "png \n",
       "  2 "
      ]
     },
     "metadata": {},
     "output_type": "display_data"
    },
    {
     "data": {
      "text/html": [
       "<strong>png:</strong> 2"
      ],
      "text/latex": [
       "\\textbf{png:} 2"
      ],
      "text/markdown": [
       "**png:** 2"
      ],
      "text/plain": [
       "png \n",
       "  2 "
      ]
     },
     "metadata": {},
     "output_type": "display_data"
    }
   ],
   "source": [
    "# PNG device\n",
    "png(\"plot1.png\")\n",
    "plot(p_groupxtime1)\n",
    "dev.off()\n",
    "\n",
    "png(\"plot2.png\")\n",
    "plot(p_groupxtime2)\n",
    "dev.off()\n",
    "\n",
    "png(\"plot3.png\")\n",
    "plot(p_groupxtime3)\n",
    "dev.off()\n",
    "\n",
    "png(\"plot4.png\")\n",
    "plot(p_groupxtime4)\n",
    "dev.off()"
   ]
  }
 ],
 "metadata": {
  "kernelspec": {
   "display_name": "R",
   "language": "R",
   "name": "ir"
  },
  "language_info": {
   "codemirror_mode": "r",
   "file_extension": ".r",
   "mimetype": "text/x-r-source",
   "name": "R",
   "pygments_lexer": "r",
   "version": "4.1.2"
  }
 },
 "nbformat": 4,
 "nbformat_minor": 5
}
