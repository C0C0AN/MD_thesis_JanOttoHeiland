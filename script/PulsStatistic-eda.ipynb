{
 "cells": [
  {
   "cell_type": "code",
   "execution_count": 2,
   "id": "b371c5ab",
   "metadata": {},
   "outputs": [
    {
     "name": "stderr",
     "output_type": "stream",
     "text": [
      "Loading required package: lme4\n",
      "\n",
      "Loading required package: Matrix\n",
      "\n",
      "************\n",
      "Welcome to afex. For support visit: http://afex.singmann.science/\n",
      "\n",
      "- Functions for ANOVAs: aov_car(), aov_ez(), and aov_4()\n",
      "- Methods for calculating p-values with mixed(): 'S', 'KR', 'LRT', and 'PB'\n",
      "- 'afex_aov' and 'mixed' objects can be passed to emmeans() for follow-up tests\n",
      "- NEWS: emmeans() for ANOVA models now uses model = 'multivariate' as default.\n",
      "- Get and set global package options with: afex_options()\n",
      "- Set orthogonal sum-to-zero contrasts globally: set_sum_contrasts()\n",
      "- For example analyses see: browseVignettes(\"afex\")\n",
      "************\n",
      "\n",
      "\n",
      "Attaching package: ‘afex’\n",
      "\n",
      "\n",
      "The following object is masked from ‘package:lme4’:\n",
      "\n",
      "    lmer\n",
      "\n",
      "\n",
      "── \u001b[1mAttaching packages\u001b[22m ─────────────────────────────────────── tidyverse 1.3.1 ──\n",
      "\n",
      "\u001b[32m✔\u001b[39m \u001b[34mggplot2\u001b[39m 3.3.5     \u001b[32m✔\u001b[39m \u001b[34mdplyr  \u001b[39m 1.0.7\n",
      "\u001b[32m✔\u001b[39m \u001b[34mtibble \u001b[39m 3.1.6     \u001b[32m✔\u001b[39m \u001b[34mstringr\u001b[39m 1.4.0\n",
      "\u001b[32m✔\u001b[39m \u001b[34mtidyr  \u001b[39m 1.2.0     \u001b[32m✔\u001b[39m \u001b[34mforcats\u001b[39m 0.5.1\n",
      "\u001b[32m✔\u001b[39m \u001b[34mpurrr  \u001b[39m 0.3.4     \n",
      "\n",
      "── \u001b[1mConflicts\u001b[22m ────────────────────────────────────────── tidyverse_conflicts() ──\n",
      "\u001b[31m✖\u001b[39m \u001b[34mtidyr\u001b[39m::\u001b[32mexpand()\u001b[39m masks \u001b[34mMatrix\u001b[39m::expand()\n",
      "\u001b[31m✖\u001b[39m \u001b[34mdplyr\u001b[39m::\u001b[32mfilter()\u001b[39m masks \u001b[34mstats\u001b[39m::filter()\n",
      "\u001b[31m✖\u001b[39m \u001b[34mdplyr\u001b[39m::\u001b[32mlag()\u001b[39m    masks \u001b[34mstats\u001b[39m::lag()\n",
      "\u001b[31m✖\u001b[39m \u001b[34mtidyr\u001b[39m::\u001b[32mpack()\u001b[39m   masks \u001b[34mMatrix\u001b[39m::pack()\n",
      "\u001b[31m✖\u001b[39m \u001b[34mtidyr\u001b[39m::\u001b[32munpack()\u001b[39m masks \u001b[34mMatrix\u001b[39m::unpack()\n",
      "\n",
      "\n",
      "Attaching package: ‘rstatix’\n",
      "\n",
      "\n",
      "The following object is masked from ‘package:stats’:\n",
      "\n",
      "    filter\n",
      "\n",
      "\n"
     ]
    }
   ],
   "source": [
    "library(readr) # for importing the datafile\n",
    "library(afex) # for the anova\n",
    "library(tidyverse) # for restructuring it\n",
    "library(rstatix) # for testing assumptions\n",
    "library(ggpubr) # for graphical test of normality\n",
    "library(emmeans) # for post-hoc tests\n"
   ]
  },
  {
   "cell_type": "code",
   "execution_count": 3,
   "id": "2f55bad9",
   "metadata": {},
   "outputs": [
    {
     "data": {
      "text/html": [
       "'eda'"
      ],
      "text/latex": [
       "'eda'"
      ],
      "text/markdown": [
       "'eda'"
      ],
      "text/plain": [
       "[1] \"eda\""
      ]
     },
     "metadata": {},
     "output_type": "display_data"
    },
    {
     "data": {
      "text/html": [
       "<table class=\"dataframe\">\n",
       "<caption>A data.frame: 31826 × 12</caption>\n",
       "<thead>\n",
       "\t<tr><th scope=col>prob_id</th><th scope=col>time</th><th scope=col>eda</th><th scope=col>run</th><th scope=col>phase</th><th scope=col>index</th><th scope=col>repetition</th><th scope=col>trial_type</th><th scope=col>condition</th><th scope=col>age</th><th scope=col>sex</th><th scope=col>group</th></tr>\n",
       "\t<tr><th scope=col>&lt;int&gt;</th><th scope=col>&lt;int&gt;</th><th scope=col>&lt;dbl&gt;</th><th scope=col>&lt;int&gt;</th><th scope=col>&lt;int&gt;</th><th scope=col>&lt;dbl&gt;</th><th scope=col>&lt;int&gt;</th><th scope=col>&lt;chr&gt;</th><th scope=col>&lt;chr&gt;</th><th scope=col>&lt;int&gt;</th><th scope=col>&lt;chr&gt;</th><th scope=col>&lt;chr&gt;</th></tr>\n",
       "</thead>\n",
       "<tbody>\n",
       "\t<tr><td> 2</td><td>0</td><td>-0.90</td><td>1</td><td>-1</td><td>0</td><td>0</td><td>pause</td><td>pause</td><td>26</td><td>F</td><td>Musik</td></tr>\n",
       "\t<tr><td> 3</td><td>0</td><td> 0.33</td><td>1</td><td>-1</td><td>0</td><td>0</td><td>pause</td><td>pause</td><td>23</td><td>M</td><td>Musik</td></tr>\n",
       "\t<tr><td> 5</td><td>0</td><td>-0.29</td><td>1</td><td>-1</td><td>0</td><td>0</td><td>pause</td><td>pause</td><td>25</td><td>M</td><td>Musik</td></tr>\n",
       "\t<tr><td> 9</td><td>0</td><td>-0.73</td><td>1</td><td>-1</td><td>0</td><td>0</td><td>pause</td><td>pause</td><td>30</td><td>M</td><td>Sound</td></tr>\n",
       "\t<tr><td>11</td><td>0</td><td> 0.81</td><td>1</td><td>-1</td><td>0</td><td>0</td><td>pause</td><td>pause</td><td>23</td><td>F</td><td>Musik</td></tr>\n",
       "\t<tr><td>12</td><td>0</td><td>-2.33</td><td>1</td><td>-1</td><td>0</td><td>0</td><td>pause</td><td>pause</td><td>21</td><td>F</td><td>Sound</td></tr>\n",
       "\t<tr><td>13</td><td>0</td><td> 3.95</td><td>1</td><td>-1</td><td>0</td><td>0</td><td>pause</td><td>pause</td><td>22</td><td>F</td><td>Sound</td></tr>\n",
       "\t<tr><td>14</td><td>0</td><td> 0.91</td><td>1</td><td>-1</td><td>0</td><td>0</td><td>pause</td><td>pause</td><td>23</td><td>F</td><td>Musik</td></tr>\n",
       "\t<tr><td>15</td><td>0</td><td>-3.90</td><td>1</td><td>-1</td><td>0</td><td>0</td><td>pause</td><td>pause</td><td>23</td><td>F</td><td>Sound</td></tr>\n",
       "\t<tr><td>16</td><td>0</td><td> 0.08</td><td>1</td><td>-1</td><td>0</td><td>0</td><td>pause</td><td>pause</td><td>25</td><td>M</td><td>Musik</td></tr>\n",
       "\t<tr><td>17</td><td>0</td><td> 1.87</td><td>1</td><td>-1</td><td>0</td><td>0</td><td>pause</td><td>pause</td><td>23</td><td>M</td><td>Sound</td></tr>\n",
       "\t<tr><td>19</td><td>0</td><td>-2.25</td><td>1</td><td>-1</td><td>0</td><td>0</td><td>pause</td><td>pause</td><td>24</td><td>M</td><td>Musik</td></tr>\n",
       "\t<tr><td>20</td><td>0</td><td> 0.66</td><td>1</td><td>-1</td><td>0</td><td>0</td><td>pause</td><td>pause</td><td>22</td><td>F</td><td>Sound</td></tr>\n",
       "\t<tr><td>21</td><td>0</td><td>-5.40</td><td>1</td><td>-1</td><td>0</td><td>0</td><td>pause</td><td>pause</td><td>24</td><td>M</td><td>Sound</td></tr>\n",
       "\t<tr><td>22</td><td>0</td><td> 0.41</td><td>1</td><td>-1</td><td>0</td><td>0</td><td>pause</td><td>pause</td><td>21</td><td>M</td><td>Sound</td></tr>\n",
       "\t<tr><td>23</td><td>0</td><td>-0.46</td><td>1</td><td>-1</td><td>0</td><td>0</td><td>pause</td><td>pause</td><td>23</td><td>F</td><td>Musik</td></tr>\n",
       "\t<tr><td>24</td><td>0</td><td>-0.96</td><td>1</td><td>-1</td><td>0</td><td>0</td><td>pause</td><td>pause</td><td>25</td><td>M</td><td>Musik</td></tr>\n",
       "\t<tr><td>25</td><td>0</td><td>-0.65</td><td>1</td><td>-1</td><td>0</td><td>0</td><td>pause</td><td>pause</td><td>28</td><td>M</td><td>Sound</td></tr>\n",
       "\t<tr><td>26</td><td>0</td><td> 0.54</td><td>1</td><td>-1</td><td>0</td><td>0</td><td>pause</td><td>pause</td><td>24</td><td>M</td><td>Musik</td></tr>\n",
       "\t<tr><td>27</td><td>0</td><td> 2.20</td><td>1</td><td>-1</td><td>0</td><td>0</td><td>pause</td><td>pause</td><td>22</td><td>F</td><td>Musik</td></tr>\n",
       "\t<tr><td>28</td><td>0</td><td>-0.04</td><td>1</td><td>-1</td><td>0</td><td>0</td><td>pause</td><td>pause</td><td>24</td><td>F</td><td>Musik</td></tr>\n",
       "\t<tr><td>29</td><td>0</td><td> 1.10</td><td>1</td><td>-1</td><td>0</td><td>0</td><td>pause</td><td>pause</td><td>25</td><td>M</td><td>Musik</td></tr>\n",
       "\t<tr><td> 2</td><td>1</td><td>-0.98</td><td>1</td><td>-1</td><td>0</td><td>0</td><td>pause</td><td>pause</td><td>26</td><td>F</td><td>Musik</td></tr>\n",
       "\t<tr><td> 3</td><td>1</td><td> 0.23</td><td>1</td><td>-1</td><td>0</td><td>0</td><td>pause</td><td>pause</td><td>23</td><td>M</td><td>Musik</td></tr>\n",
       "\t<tr><td> 5</td><td>1</td><td>-0.26</td><td>1</td><td>-1</td><td>0</td><td>0</td><td>pause</td><td>pause</td><td>25</td><td>M</td><td>Musik</td></tr>\n",
       "\t<tr><td> 9</td><td>1</td><td>-0.89</td><td>1</td><td>-1</td><td>0</td><td>0</td><td>pause</td><td>pause</td><td>30</td><td>M</td><td>Sound</td></tr>\n",
       "\t<tr><td>11</td><td>1</td><td> 0.44</td><td>1</td><td>-1</td><td>0</td><td>0</td><td>pause</td><td>pause</td><td>23</td><td>F</td><td>Musik</td></tr>\n",
       "\t<tr><td>12</td><td>1</td><td>-2.30</td><td>1</td><td>-1</td><td>0</td><td>0</td><td>pause</td><td>pause</td><td>21</td><td>F</td><td>Sound</td></tr>\n",
       "\t<tr><td>13</td><td>1</td><td> 5.32</td><td>1</td><td>-1</td><td>0</td><td>0</td><td>pause</td><td>pause</td><td>22</td><td>F</td><td>Sound</td></tr>\n",
       "\t<tr><td>14</td><td>1</td><td> 0.66</td><td>1</td><td>-1</td><td>0</td><td>0</td><td>pause</td><td>pause</td><td>23</td><td>F</td><td>Musik</td></tr>\n",
       "\t<tr><td>⋮</td><td>⋮</td><td>⋮</td><td>⋮</td><td>⋮</td><td>⋮</td><td>⋮</td><td>⋮</td><td>⋮</td><td>⋮</td><td>⋮</td><td>⋮</td></tr>\n",
       "\t<tr><td>29</td><td>721</td><td> 0.74</td><td>2</td><td>-1</td><td>1</td><td>0</td><td>pause</td><td>pause</td><td>25</td><td>M</td><td>Musik</td></tr>\n",
       "\t<tr><td> 2</td><td>722</td><td>-1.66</td><td>2</td><td>-1</td><td>1</td><td>0</td><td>pause</td><td>pause</td><td>26</td><td>F</td><td>Musik</td></tr>\n",
       "\t<tr><td> 3</td><td>722</td><td>-1.26</td><td>2</td><td>-1</td><td>1</td><td>0</td><td>pause</td><td>pause</td><td>23</td><td>M</td><td>Musik</td></tr>\n",
       "\t<tr><td> 5</td><td>722</td><td>-4.02</td><td>2</td><td>-1</td><td>1</td><td>0</td><td>pause</td><td>pause</td><td>25</td><td>M</td><td>Musik</td></tr>\n",
       "\t<tr><td> 9</td><td>722</td><td>-3.15</td><td>2</td><td>-1</td><td>1</td><td>0</td><td>pause</td><td>pause</td><td>30</td><td>M</td><td>Sound</td></tr>\n",
       "\t<tr><td>11</td><td>722</td><td>-4.25</td><td>2</td><td>-1</td><td>1</td><td>0</td><td>pause</td><td>pause</td><td>23</td><td>F</td><td>Musik</td></tr>\n",
       "\t<tr><td>12</td><td>722</td><td>-2.36</td><td>2</td><td>-1</td><td>1</td><td>0</td><td>pause</td><td>pause</td><td>21</td><td>F</td><td>Sound</td></tr>\n",
       "\t<tr><td>13</td><td>722</td><td>-0.73</td><td>2</td><td>-1</td><td>1</td><td>0</td><td>pause</td><td>pause</td><td>22</td><td>F</td><td>Sound</td></tr>\n",
       "\t<tr><td>14</td><td>722</td><td>-1.84</td><td>2</td><td>-1</td><td>1</td><td>0</td><td>pause</td><td>pause</td><td>23</td><td>F</td><td>Musik</td></tr>\n",
       "\t<tr><td>15</td><td>722</td><td>-1.26</td><td>2</td><td>-1</td><td>1</td><td>0</td><td>pause</td><td>pause</td><td>23</td><td>F</td><td>Sound</td></tr>\n",
       "\t<tr><td>16</td><td>722</td><td> 0.42</td><td>2</td><td>-1</td><td>1</td><td>0</td><td>pause</td><td>pause</td><td>25</td><td>M</td><td>Musik</td></tr>\n",
       "\t<tr><td>17</td><td>722</td><td>-0.86</td><td>2</td><td>-1</td><td>1</td><td>0</td><td>pause</td><td>pause</td><td>23</td><td>M</td><td>Sound</td></tr>\n",
       "\t<tr><td>19</td><td>722</td><td>-2.38</td><td>2</td><td>-1</td><td>1</td><td>0</td><td>pause</td><td>pause</td><td>24</td><td>M</td><td>Musik</td></tr>\n",
       "\t<tr><td>20</td><td>722</td><td>-0.25</td><td>2</td><td>-1</td><td>1</td><td>0</td><td>pause</td><td>pause</td><td>22</td><td>F</td><td>Sound</td></tr>\n",
       "\t<tr><td>21</td><td>722</td><td>-1.74</td><td>2</td><td>-1</td><td>1</td><td>0</td><td>pause</td><td>pause</td><td>24</td><td>M</td><td>Sound</td></tr>\n",
       "\t<tr><td>22</td><td>722</td><td>-0.55</td><td>2</td><td>-1</td><td>1</td><td>0</td><td>pause</td><td>pause</td><td>21</td><td>M</td><td>Sound</td></tr>\n",
       "\t<tr><td>23</td><td>722</td><td>-0.14</td><td>2</td><td>-1</td><td>1</td><td>0</td><td>pause</td><td>pause</td><td>23</td><td>F</td><td>Musik</td></tr>\n",
       "\t<tr><td>24</td><td>722</td><td>-0.57</td><td>2</td><td>-1</td><td>1</td><td>0</td><td>pause</td><td>pause</td><td>25</td><td>M</td><td>Musik</td></tr>\n",
       "\t<tr><td>25</td><td>722</td><td>-1.70</td><td>2</td><td>-1</td><td>1</td><td>0</td><td>pause</td><td>pause</td><td>28</td><td>M</td><td>Sound</td></tr>\n",
       "\t<tr><td>26</td><td>722</td><td>-0.79</td><td>2</td><td>-1</td><td>1</td><td>0</td><td>pause</td><td>pause</td><td>24</td><td>M</td><td>Musik</td></tr>\n",
       "\t<tr><td>27</td><td>722</td><td>-1.62</td><td>2</td><td>-1</td><td>1</td><td>0</td><td>pause</td><td>pause</td><td>22</td><td>F</td><td>Musik</td></tr>\n",
       "\t<tr><td>28</td><td>722</td><td> 1.09</td><td>2</td><td>-1</td><td>1</td><td>0</td><td>pause</td><td>pause</td><td>24</td><td>F</td><td>Musik</td></tr>\n",
       "\t<tr><td>29</td><td>722</td><td>-0.51</td><td>2</td><td>-1</td><td>1</td><td>0</td><td>pause</td><td>pause</td><td>25</td><td>M</td><td>Musik</td></tr>\n",
       "\t<tr><td>14</td><td>723</td><td>-1.86</td><td>2</td><td>-1</td><td>1</td><td>0</td><td>pause</td><td>pause</td><td>23</td><td>F</td><td>Musik</td></tr>\n",
       "\t<tr><td>16</td><td>723</td><td> 0.33</td><td>2</td><td>-1</td><td>1</td><td>0</td><td>pause</td><td>pause</td><td>25</td><td>M</td><td>Musik</td></tr>\n",
       "\t<tr><td>24</td><td>723</td><td>-0.56</td><td>2</td><td>-1</td><td>1</td><td>0</td><td>pause</td><td>pause</td><td>25</td><td>M</td><td>Musik</td></tr>\n",
       "\t<tr><td>25</td><td>723</td><td>-1.69</td><td>2</td><td>-1</td><td>1</td><td>0</td><td>pause</td><td>pause</td><td>28</td><td>M</td><td>Sound</td></tr>\n",
       "\t<tr><td>26</td><td>723</td><td>-0.82</td><td>2</td><td>-1</td><td>1</td><td>0</td><td>pause</td><td>pause</td><td>24</td><td>M</td><td>Musik</td></tr>\n",
       "\t<tr><td>28</td><td>723</td><td> 1.07</td><td>2</td><td>-1</td><td>1</td><td>0</td><td>pause</td><td>pause</td><td>24</td><td>F</td><td>Musik</td></tr>\n",
       "\t<tr><td>29</td><td>723</td><td>-0.98</td><td>2</td><td>-1</td><td>1</td><td>0</td><td>pause</td><td>pause</td><td>25</td><td>M</td><td>Musik</td></tr>\n",
       "</tbody>\n",
       "</table>\n"
      ],
      "text/latex": [
       "A data.frame: 31826 × 12\n",
       "\\begin{tabular}{llllllllllll}\n",
       " prob\\_id & time & eda & run & phase & index & repetition & trial\\_type & condition & age & sex & group\\\\\n",
       " <int> & <int> & <dbl> & <int> & <int> & <dbl> & <int> & <chr> & <chr> & <int> & <chr> & <chr>\\\\\n",
       "\\hline\n",
       "\t  2 & 0 & -0.90 & 1 & -1 & 0 & 0 & pause & pause & 26 & F & Musik\\\\\n",
       "\t  3 & 0 &  0.33 & 1 & -1 & 0 & 0 & pause & pause & 23 & M & Musik\\\\\n",
       "\t  5 & 0 & -0.29 & 1 & -1 & 0 & 0 & pause & pause & 25 & M & Musik\\\\\n",
       "\t  9 & 0 & -0.73 & 1 & -1 & 0 & 0 & pause & pause & 30 & M & Sound\\\\\n",
       "\t 11 & 0 &  0.81 & 1 & -1 & 0 & 0 & pause & pause & 23 & F & Musik\\\\\n",
       "\t 12 & 0 & -2.33 & 1 & -1 & 0 & 0 & pause & pause & 21 & F & Sound\\\\\n",
       "\t 13 & 0 &  3.95 & 1 & -1 & 0 & 0 & pause & pause & 22 & F & Sound\\\\\n",
       "\t 14 & 0 &  0.91 & 1 & -1 & 0 & 0 & pause & pause & 23 & F & Musik\\\\\n",
       "\t 15 & 0 & -3.90 & 1 & -1 & 0 & 0 & pause & pause & 23 & F & Sound\\\\\n",
       "\t 16 & 0 &  0.08 & 1 & -1 & 0 & 0 & pause & pause & 25 & M & Musik\\\\\n",
       "\t 17 & 0 &  1.87 & 1 & -1 & 0 & 0 & pause & pause & 23 & M & Sound\\\\\n",
       "\t 19 & 0 & -2.25 & 1 & -1 & 0 & 0 & pause & pause & 24 & M & Musik\\\\\n",
       "\t 20 & 0 &  0.66 & 1 & -1 & 0 & 0 & pause & pause & 22 & F & Sound\\\\\n",
       "\t 21 & 0 & -5.40 & 1 & -1 & 0 & 0 & pause & pause & 24 & M & Sound\\\\\n",
       "\t 22 & 0 &  0.41 & 1 & -1 & 0 & 0 & pause & pause & 21 & M & Sound\\\\\n",
       "\t 23 & 0 & -0.46 & 1 & -1 & 0 & 0 & pause & pause & 23 & F & Musik\\\\\n",
       "\t 24 & 0 & -0.96 & 1 & -1 & 0 & 0 & pause & pause & 25 & M & Musik\\\\\n",
       "\t 25 & 0 & -0.65 & 1 & -1 & 0 & 0 & pause & pause & 28 & M & Sound\\\\\n",
       "\t 26 & 0 &  0.54 & 1 & -1 & 0 & 0 & pause & pause & 24 & M & Musik\\\\\n",
       "\t 27 & 0 &  2.20 & 1 & -1 & 0 & 0 & pause & pause & 22 & F & Musik\\\\\n",
       "\t 28 & 0 & -0.04 & 1 & -1 & 0 & 0 & pause & pause & 24 & F & Musik\\\\\n",
       "\t 29 & 0 &  1.10 & 1 & -1 & 0 & 0 & pause & pause & 25 & M & Musik\\\\\n",
       "\t  2 & 1 & -0.98 & 1 & -1 & 0 & 0 & pause & pause & 26 & F & Musik\\\\\n",
       "\t  3 & 1 &  0.23 & 1 & -1 & 0 & 0 & pause & pause & 23 & M & Musik\\\\\n",
       "\t  5 & 1 & -0.26 & 1 & -1 & 0 & 0 & pause & pause & 25 & M & Musik\\\\\n",
       "\t  9 & 1 & -0.89 & 1 & -1 & 0 & 0 & pause & pause & 30 & M & Sound\\\\\n",
       "\t 11 & 1 &  0.44 & 1 & -1 & 0 & 0 & pause & pause & 23 & F & Musik\\\\\n",
       "\t 12 & 1 & -2.30 & 1 & -1 & 0 & 0 & pause & pause & 21 & F & Sound\\\\\n",
       "\t 13 & 1 &  5.32 & 1 & -1 & 0 & 0 & pause & pause & 22 & F & Sound\\\\\n",
       "\t 14 & 1 &  0.66 & 1 & -1 & 0 & 0 & pause & pause & 23 & F & Musik\\\\\n",
       "\t ⋮ & ⋮ & ⋮ & ⋮ & ⋮ & ⋮ & ⋮ & ⋮ & ⋮ & ⋮ & ⋮ & ⋮\\\\\n",
       "\t 29 & 721 &  0.74 & 2 & -1 & 1 & 0 & pause & pause & 25 & M & Musik\\\\\n",
       "\t  2 & 722 & -1.66 & 2 & -1 & 1 & 0 & pause & pause & 26 & F & Musik\\\\\n",
       "\t  3 & 722 & -1.26 & 2 & -1 & 1 & 0 & pause & pause & 23 & M & Musik\\\\\n",
       "\t  5 & 722 & -4.02 & 2 & -1 & 1 & 0 & pause & pause & 25 & M & Musik\\\\\n",
       "\t  9 & 722 & -3.15 & 2 & -1 & 1 & 0 & pause & pause & 30 & M & Sound\\\\\n",
       "\t 11 & 722 & -4.25 & 2 & -1 & 1 & 0 & pause & pause & 23 & F & Musik\\\\\n",
       "\t 12 & 722 & -2.36 & 2 & -1 & 1 & 0 & pause & pause & 21 & F & Sound\\\\\n",
       "\t 13 & 722 & -0.73 & 2 & -1 & 1 & 0 & pause & pause & 22 & F & Sound\\\\\n",
       "\t 14 & 722 & -1.84 & 2 & -1 & 1 & 0 & pause & pause & 23 & F & Musik\\\\\n",
       "\t 15 & 722 & -1.26 & 2 & -1 & 1 & 0 & pause & pause & 23 & F & Sound\\\\\n",
       "\t 16 & 722 &  0.42 & 2 & -1 & 1 & 0 & pause & pause & 25 & M & Musik\\\\\n",
       "\t 17 & 722 & -0.86 & 2 & -1 & 1 & 0 & pause & pause & 23 & M & Sound\\\\\n",
       "\t 19 & 722 & -2.38 & 2 & -1 & 1 & 0 & pause & pause & 24 & M & Musik\\\\\n",
       "\t 20 & 722 & -0.25 & 2 & -1 & 1 & 0 & pause & pause & 22 & F & Sound\\\\\n",
       "\t 21 & 722 & -1.74 & 2 & -1 & 1 & 0 & pause & pause & 24 & M & Sound\\\\\n",
       "\t 22 & 722 & -0.55 & 2 & -1 & 1 & 0 & pause & pause & 21 & M & Sound\\\\\n",
       "\t 23 & 722 & -0.14 & 2 & -1 & 1 & 0 & pause & pause & 23 & F & Musik\\\\\n",
       "\t 24 & 722 & -0.57 & 2 & -1 & 1 & 0 & pause & pause & 25 & M & Musik\\\\\n",
       "\t 25 & 722 & -1.70 & 2 & -1 & 1 & 0 & pause & pause & 28 & M & Sound\\\\\n",
       "\t 26 & 722 & -0.79 & 2 & -1 & 1 & 0 & pause & pause & 24 & M & Musik\\\\\n",
       "\t 27 & 722 & -1.62 & 2 & -1 & 1 & 0 & pause & pause & 22 & F & Musik\\\\\n",
       "\t 28 & 722 &  1.09 & 2 & -1 & 1 & 0 & pause & pause & 24 & F & Musik\\\\\n",
       "\t 29 & 722 & -0.51 & 2 & -1 & 1 & 0 & pause & pause & 25 & M & Musik\\\\\n",
       "\t 14 & 723 & -1.86 & 2 & -1 & 1 & 0 & pause & pause & 23 & F & Musik\\\\\n",
       "\t 16 & 723 &  0.33 & 2 & -1 & 1 & 0 & pause & pause & 25 & M & Musik\\\\\n",
       "\t 24 & 723 & -0.56 & 2 & -1 & 1 & 0 & pause & pause & 25 & M & Musik\\\\\n",
       "\t 25 & 723 & -1.69 & 2 & -1 & 1 & 0 & pause & pause & 28 & M & Sound\\\\\n",
       "\t 26 & 723 & -0.82 & 2 & -1 & 1 & 0 & pause & pause & 24 & M & Musik\\\\\n",
       "\t 28 & 723 &  1.07 & 2 & -1 & 1 & 0 & pause & pause & 24 & F & Musik\\\\\n",
       "\t 29 & 723 & -0.98 & 2 & -1 & 1 & 0 & pause & pause & 25 & M & Musik\\\\\n",
       "\\end{tabular}\n"
      ],
      "text/markdown": [
       "\n",
       "A data.frame: 31826 × 12\n",
       "\n",
       "| prob_id &lt;int&gt; | time &lt;int&gt; | eda &lt;dbl&gt; | run &lt;int&gt; | phase &lt;int&gt; | index &lt;dbl&gt; | repetition &lt;int&gt; | trial_type &lt;chr&gt; | condition &lt;chr&gt; | age &lt;int&gt; | sex &lt;chr&gt; | group &lt;chr&gt; |\n",
       "|---|---|---|---|---|---|---|---|---|---|---|---|\n",
       "|  2 | 0 | -0.90 | 1 | -1 | 0 | 0 | pause | pause | 26 | F | Musik |\n",
       "|  3 | 0 |  0.33 | 1 | -1 | 0 | 0 | pause | pause | 23 | M | Musik |\n",
       "|  5 | 0 | -0.29 | 1 | -1 | 0 | 0 | pause | pause | 25 | M | Musik |\n",
       "|  9 | 0 | -0.73 | 1 | -1 | 0 | 0 | pause | pause | 30 | M | Sound |\n",
       "| 11 | 0 |  0.81 | 1 | -1 | 0 | 0 | pause | pause | 23 | F | Musik |\n",
       "| 12 | 0 | -2.33 | 1 | -1 | 0 | 0 | pause | pause | 21 | F | Sound |\n",
       "| 13 | 0 |  3.95 | 1 | -1 | 0 | 0 | pause | pause | 22 | F | Sound |\n",
       "| 14 | 0 |  0.91 | 1 | -1 | 0 | 0 | pause | pause | 23 | F | Musik |\n",
       "| 15 | 0 | -3.90 | 1 | -1 | 0 | 0 | pause | pause | 23 | F | Sound |\n",
       "| 16 | 0 |  0.08 | 1 | -1 | 0 | 0 | pause | pause | 25 | M | Musik |\n",
       "| 17 | 0 |  1.87 | 1 | -1 | 0 | 0 | pause | pause | 23 | M | Sound |\n",
       "| 19 | 0 | -2.25 | 1 | -1 | 0 | 0 | pause | pause | 24 | M | Musik |\n",
       "| 20 | 0 |  0.66 | 1 | -1 | 0 | 0 | pause | pause | 22 | F | Sound |\n",
       "| 21 | 0 | -5.40 | 1 | -1 | 0 | 0 | pause | pause | 24 | M | Sound |\n",
       "| 22 | 0 |  0.41 | 1 | -1 | 0 | 0 | pause | pause | 21 | M | Sound |\n",
       "| 23 | 0 | -0.46 | 1 | -1 | 0 | 0 | pause | pause | 23 | F | Musik |\n",
       "| 24 | 0 | -0.96 | 1 | -1 | 0 | 0 | pause | pause | 25 | M | Musik |\n",
       "| 25 | 0 | -0.65 | 1 | -1 | 0 | 0 | pause | pause | 28 | M | Sound |\n",
       "| 26 | 0 |  0.54 | 1 | -1 | 0 | 0 | pause | pause | 24 | M | Musik |\n",
       "| 27 | 0 |  2.20 | 1 | -1 | 0 | 0 | pause | pause | 22 | F | Musik |\n",
       "| 28 | 0 | -0.04 | 1 | -1 | 0 | 0 | pause | pause | 24 | F | Musik |\n",
       "| 29 | 0 |  1.10 | 1 | -1 | 0 | 0 | pause | pause | 25 | M | Musik |\n",
       "|  2 | 1 | -0.98 | 1 | -1 | 0 | 0 | pause | pause | 26 | F | Musik |\n",
       "|  3 | 1 |  0.23 | 1 | -1 | 0 | 0 | pause | pause | 23 | M | Musik |\n",
       "|  5 | 1 | -0.26 | 1 | -1 | 0 | 0 | pause | pause | 25 | M | Musik |\n",
       "|  9 | 1 | -0.89 | 1 | -1 | 0 | 0 | pause | pause | 30 | M | Sound |\n",
       "| 11 | 1 |  0.44 | 1 | -1 | 0 | 0 | pause | pause | 23 | F | Musik |\n",
       "| 12 | 1 | -2.30 | 1 | -1 | 0 | 0 | pause | pause | 21 | F | Sound |\n",
       "| 13 | 1 |  5.32 | 1 | -1 | 0 | 0 | pause | pause | 22 | F | Sound |\n",
       "| 14 | 1 |  0.66 | 1 | -1 | 0 | 0 | pause | pause | 23 | F | Musik |\n",
       "| ⋮ | ⋮ | ⋮ | ⋮ | ⋮ | ⋮ | ⋮ | ⋮ | ⋮ | ⋮ | ⋮ | ⋮ |\n",
       "| 29 | 721 |  0.74 | 2 | -1 | 1 | 0 | pause | pause | 25 | M | Musik |\n",
       "|  2 | 722 | -1.66 | 2 | -1 | 1 | 0 | pause | pause | 26 | F | Musik |\n",
       "|  3 | 722 | -1.26 | 2 | -1 | 1 | 0 | pause | pause | 23 | M | Musik |\n",
       "|  5 | 722 | -4.02 | 2 | -1 | 1 | 0 | pause | pause | 25 | M | Musik |\n",
       "|  9 | 722 | -3.15 | 2 | -1 | 1 | 0 | pause | pause | 30 | M | Sound |\n",
       "| 11 | 722 | -4.25 | 2 | -1 | 1 | 0 | pause | pause | 23 | F | Musik |\n",
       "| 12 | 722 | -2.36 | 2 | -1 | 1 | 0 | pause | pause | 21 | F | Sound |\n",
       "| 13 | 722 | -0.73 | 2 | -1 | 1 | 0 | pause | pause | 22 | F | Sound |\n",
       "| 14 | 722 | -1.84 | 2 | -1 | 1 | 0 | pause | pause | 23 | F | Musik |\n",
       "| 15 | 722 | -1.26 | 2 | -1 | 1 | 0 | pause | pause | 23 | F | Sound |\n",
       "| 16 | 722 |  0.42 | 2 | -1 | 1 | 0 | pause | pause | 25 | M | Musik |\n",
       "| 17 | 722 | -0.86 | 2 | -1 | 1 | 0 | pause | pause | 23 | M | Sound |\n",
       "| 19 | 722 | -2.38 | 2 | -1 | 1 | 0 | pause | pause | 24 | M | Musik |\n",
       "| 20 | 722 | -0.25 | 2 | -1 | 1 | 0 | pause | pause | 22 | F | Sound |\n",
       "| 21 | 722 | -1.74 | 2 | -1 | 1 | 0 | pause | pause | 24 | M | Sound |\n",
       "| 22 | 722 | -0.55 | 2 | -1 | 1 | 0 | pause | pause | 21 | M | Sound |\n",
       "| 23 | 722 | -0.14 | 2 | -1 | 1 | 0 | pause | pause | 23 | F | Musik |\n",
       "| 24 | 722 | -0.57 | 2 | -1 | 1 | 0 | pause | pause | 25 | M | Musik |\n",
       "| 25 | 722 | -1.70 | 2 | -1 | 1 | 0 | pause | pause | 28 | M | Sound |\n",
       "| 26 | 722 | -0.79 | 2 | -1 | 1 | 0 | pause | pause | 24 | M | Musik |\n",
       "| 27 | 722 | -1.62 | 2 | -1 | 1 | 0 | pause | pause | 22 | F | Musik |\n",
       "| 28 | 722 |  1.09 | 2 | -1 | 1 | 0 | pause | pause | 24 | F | Musik |\n",
       "| 29 | 722 | -0.51 | 2 | -1 | 1 | 0 | pause | pause | 25 | M | Musik |\n",
       "| 14 | 723 | -1.86 | 2 | -1 | 1 | 0 | pause | pause | 23 | F | Musik |\n",
       "| 16 | 723 |  0.33 | 2 | -1 | 1 | 0 | pause | pause | 25 | M | Musik |\n",
       "| 24 | 723 | -0.56 | 2 | -1 | 1 | 0 | pause | pause | 25 | M | Musik |\n",
       "| 25 | 723 | -1.69 | 2 | -1 | 1 | 0 | pause | pause | 28 | M | Sound |\n",
       "| 26 | 723 | -0.82 | 2 | -1 | 1 | 0 | pause | pause | 24 | M | Musik |\n",
       "| 28 | 723 |  1.07 | 2 | -1 | 1 | 0 | pause | pause | 24 | F | Musik |\n",
       "| 29 | 723 | -0.98 | 2 | -1 | 1 | 0 | pause | pause | 25 | M | Musik |\n",
       "\n"
      ],
      "text/plain": [
       "      prob_id time eda   run phase index repetition trial_type condition age\n",
       "1      2      0    -0.90 1   -1    0     0          pause      pause     26 \n",
       "2      3      0     0.33 1   -1    0     0          pause      pause     23 \n",
       "3      5      0    -0.29 1   -1    0     0          pause      pause     25 \n",
       "4      9      0    -0.73 1   -1    0     0          pause      pause     30 \n",
       "5     11      0     0.81 1   -1    0     0          pause      pause     23 \n",
       "6     12      0    -2.33 1   -1    0     0          pause      pause     21 \n",
       "7     13      0     3.95 1   -1    0     0          pause      pause     22 \n",
       "8     14      0     0.91 1   -1    0     0          pause      pause     23 \n",
       "9     15      0    -3.90 1   -1    0     0          pause      pause     23 \n",
       "10    16      0     0.08 1   -1    0     0          pause      pause     25 \n",
       "11    17      0     1.87 1   -1    0     0          pause      pause     23 \n",
       "12    19      0    -2.25 1   -1    0     0          pause      pause     24 \n",
       "13    20      0     0.66 1   -1    0     0          pause      pause     22 \n",
       "14    21      0    -5.40 1   -1    0     0          pause      pause     24 \n",
       "15    22      0     0.41 1   -1    0     0          pause      pause     21 \n",
       "16    23      0    -0.46 1   -1    0     0          pause      pause     23 \n",
       "17    24      0    -0.96 1   -1    0     0          pause      pause     25 \n",
       "18    25      0    -0.65 1   -1    0     0          pause      pause     28 \n",
       "19    26      0     0.54 1   -1    0     0          pause      pause     24 \n",
       "20    27      0     2.20 1   -1    0     0          pause      pause     22 \n",
       "21    28      0    -0.04 1   -1    0     0          pause      pause     24 \n",
       "22    29      0     1.10 1   -1    0     0          pause      pause     25 \n",
       "23     2      1    -0.98 1   -1    0     0          pause      pause     26 \n",
       "24     3      1     0.23 1   -1    0     0          pause      pause     23 \n",
       "25     5      1    -0.26 1   -1    0     0          pause      pause     25 \n",
       "26     9      1    -0.89 1   -1    0     0          pause      pause     30 \n",
       "27    11      1     0.44 1   -1    0     0          pause      pause     23 \n",
       "28    12      1    -2.30 1   -1    0     0          pause      pause     21 \n",
       "29    13      1     5.32 1   -1    0     0          pause      pause     22 \n",
       "30    14      1     0.66 1   -1    0     0          pause      pause     23 \n",
       "⋮     ⋮       ⋮    ⋮     ⋮   ⋮     ⋮     ⋮          ⋮          ⋮         ⋮  \n",
       "31797 29      721   0.74 2   -1    1     0          pause      pause     25 \n",
       "31798  2      722  -1.66 2   -1    1     0          pause      pause     26 \n",
       "31799  3      722  -1.26 2   -1    1     0          pause      pause     23 \n",
       "31800  5      722  -4.02 2   -1    1     0          pause      pause     25 \n",
       "31801  9      722  -3.15 2   -1    1     0          pause      pause     30 \n",
       "31802 11      722  -4.25 2   -1    1     0          pause      pause     23 \n",
       "31803 12      722  -2.36 2   -1    1     0          pause      pause     21 \n",
       "31804 13      722  -0.73 2   -1    1     0          pause      pause     22 \n",
       "31805 14      722  -1.84 2   -1    1     0          pause      pause     23 \n",
       "31806 15      722  -1.26 2   -1    1     0          pause      pause     23 \n",
       "31807 16      722   0.42 2   -1    1     0          pause      pause     25 \n",
       "31808 17      722  -0.86 2   -1    1     0          pause      pause     23 \n",
       "31809 19      722  -2.38 2   -1    1     0          pause      pause     24 \n",
       "31810 20      722  -0.25 2   -1    1     0          pause      pause     22 \n",
       "31811 21      722  -1.74 2   -1    1     0          pause      pause     24 \n",
       "31812 22      722  -0.55 2   -1    1     0          pause      pause     21 \n",
       "31813 23      722  -0.14 2   -1    1     0          pause      pause     23 \n",
       "31814 24      722  -0.57 2   -1    1     0          pause      pause     25 \n",
       "31815 25      722  -1.70 2   -1    1     0          pause      pause     28 \n",
       "31816 26      722  -0.79 2   -1    1     0          pause      pause     24 \n",
       "31817 27      722  -1.62 2   -1    1     0          pause      pause     22 \n",
       "31818 28      722   1.09 2   -1    1     0          pause      pause     24 \n",
       "31819 29      722  -0.51 2   -1    1     0          pause      pause     25 \n",
       "31820 14      723  -1.86 2   -1    1     0          pause      pause     23 \n",
       "31821 16      723   0.33 2   -1    1     0          pause      pause     25 \n",
       "31822 24      723  -0.56 2   -1    1     0          pause      pause     25 \n",
       "31823 25      723  -1.69 2   -1    1     0          pause      pause     28 \n",
       "31824 26      723  -0.82 2   -1    1     0          pause      pause     24 \n",
       "31825 28      723   1.07 2   -1    1     0          pause      pause     24 \n",
       "31826 29      723  -0.98 2   -1    1     0          pause      pause     25 \n",
       "      sex group\n",
       "1     F   Musik\n",
       "2     M   Musik\n",
       "3     M   Musik\n",
       "4     M   Sound\n",
       "5     F   Musik\n",
       "6     F   Sound\n",
       "7     F   Sound\n",
       "8     F   Musik\n",
       "9     F   Sound\n",
       "10    M   Musik\n",
       "11    M   Sound\n",
       "12    M   Musik\n",
       "13    F   Sound\n",
       "14    M   Sound\n",
       "15    M   Sound\n",
       "16    F   Musik\n",
       "17    M   Musik\n",
       "18    M   Sound\n",
       "19    M   Musik\n",
       "20    F   Musik\n",
       "21    F   Musik\n",
       "22    M   Musik\n",
       "23    F   Musik\n",
       "24    M   Musik\n",
       "25    M   Musik\n",
       "26    M   Sound\n",
       "27    F   Musik\n",
       "28    F   Sound\n",
       "29    F   Sound\n",
       "30    F   Musik\n",
       "⋮     ⋮   ⋮    \n",
       "31797 M   Musik\n",
       "31798 F   Musik\n",
       "31799 M   Musik\n",
       "31800 M   Musik\n",
       "31801 M   Sound\n",
       "31802 F   Musik\n",
       "31803 F   Sound\n",
       "31804 F   Sound\n",
       "31805 F   Musik\n",
       "31806 F   Sound\n",
       "31807 M   Musik\n",
       "31808 M   Sound\n",
       "31809 M   Musik\n",
       "31810 F   Sound\n",
       "31811 M   Sound\n",
       "31812 M   Sound\n",
       "31813 F   Musik\n",
       "31814 M   Musik\n",
       "31815 M   Sound\n",
       "31816 M   Musik\n",
       "31817 F   Musik\n",
       "31818 F   Musik\n",
       "31819 M   Musik\n",
       "31820 F   Musik\n",
       "31821 M   Musik\n",
       "31822 M   Musik\n",
       "31823 M   Sound\n",
       "31824 M   Musik\n",
       "31825 F   Musik\n",
       "31826 M   Musik"
      ]
     },
     "metadata": {},
     "output_type": "display_data"
    }
   ],
   "source": [
    "d_long <- read.csv(\"eda_base_run.tsv\", sep=\"\\t\")\n",
    "names(d_long)[names(d_long) == \"eda\"] \n",
    "d_long\n"
   ]
  },
  {
   "cell_type": "code",
   "execution_count": 4,
   "id": "40723b87",
   "metadata": {},
   "outputs": [],
   "source": [
    "d_long$type <- as.factor(d_long$trial_type)\n",
    "d_long$condition <- as.factor(d_long$condition)\n",
    "d_long$group <- as.factor(d_long$group)\n",
    "d_long$sex <- as.factor(d_long$sex)\n",
    "d_long$eda <- as.numeric(d_long$eda)\n",
    "d_long$time<- as.factor(paste(d_long$run, d_long$repetition, sep = \"_\"))\n",
    "\n",
    "# bad data structure. See what happens if I eliminate all rows that are \"pause\" in \"condition\"\n",
    "\n",
    "d_long_new <- d_long[d_long$condition != \"pause\", ] "
   ]
  },
  {
   "cell_type": "code",
   "execution_count": 5,
   "id": "4c32041d",
   "metadata": {},
   "outputs": [
    {
     "data": {
      "text/plain": [
       "    prob_id       time           eda               run          phase     \n",
       " Min.   : 2.00   1_0:   0   Min.   :-5.6400   Min.   :1.0   Min.   :0.00  \n",
       " 1st Qu.:12.00   1_1:5192   1st Qu.:-0.7100   1st Qu.:1.0   1st Qu.:1.75  \n",
       " Median :18.00   1_2:5192   Median : 0.0000   Median :1.5   Median :3.50  \n",
       " Mean   :17.32   2_0:   0   Mean   : 0.1054   Mean   :1.5   Mean   :3.50  \n",
       " 3rd Qu.:24.00   2_1:5192   3rd Qu.: 0.7200   3rd Qu.:2.0   3rd Qu.:5.25  \n",
       " Max.   :29.00   2_2:5192   Max.   :10.0400   Max.   :2.0   Max.   :7.00  \n",
       "     index         repetition   trial_type           condition    \n",
       " Min.   : 0.00   Min.   :1.0   Length:20768       math    :10384  \n",
       " 1st Qu.: 3.75   1st Qu.:1.0   Class :character   pause   :    0  \n",
       " Median : 7.50   Median :1.5   Mode  :character   rotation:10384  \n",
       " Mean   : 7.50   Mean   :1.5                                      \n",
       " 3rd Qu.:11.25   3rd Qu.:2.0                                      \n",
       " Max.   :15.00   Max.   :2.0                                      \n",
       "      age        sex         group           type      \n",
       " Min.   :21.00   F: 9440   Musik:12272   pause :    0  \n",
       " 1st Qu.:23.00   M:11328   Sound: 8496   relax :10384  \n",
       " Median :23.50                           stress:10384  \n",
       " Mean   :23.91                                         \n",
       " 3rd Qu.:25.00                                         \n",
       " Max.   :30.00                                         "
      ]
     },
     "metadata": {},
     "output_type": "display_data"
    }
   ],
   "source": [
    "summary(d_long_new)"
   ]
  },
  {
   "cell_type": "code",
   "execution_count": 6,
   "id": "7b0cae2c",
   "metadata": {},
   "outputs": [],
   "source": [
    "# our four factors are:\n",
    "# music vs sound (d_long$group, btw)\n",
    "# stress vs relaxation (d_long$type, wth)\n",
    "# maths vs rotation (d_long$condition, wth)\n",
    "# run + repetition within run (d_long$time, wth)\n",
    "# \n",
    "# covariates are:\n",
    "# age (d_long$age, btw)\n",
    "# gender (d_long$sex, btw)"
   ]
  },
  {
   "cell_type": "markdown",
   "id": "1ed66384",
   "metadata": {},
   "source": [
    "Test assumptions"
   ]
  },
  {
   "cell_type": "code",
   "execution_count": 7,
   "id": "6e644011",
   "metadata": {
    "scrolled": true
   },
   "outputs": [
    {
     "data": {
      "text/html": [
       "<table class=\"dataframe\">\n",
       "<caption>A tibble: 32 × 7</caption>\n",
       "<thead>\n",
       "\t<tr><th scope=col>time</th><th scope=col>condition</th><th scope=col>group</th><th scope=col>type</th><th scope=col>variable</th><th scope=col>statistic</th><th scope=col>p</th></tr>\n",
       "\t<tr><th scope=col>&lt;fct&gt;</th><th scope=col>&lt;fct&gt;</th><th scope=col>&lt;fct&gt;</th><th scope=col>&lt;fct&gt;</th><th scope=col>&lt;chr&gt;</th><th scope=col>&lt;dbl&gt;</th><th scope=col>&lt;dbl&gt;</th></tr>\n",
       "</thead>\n",
       "<tbody>\n",
       "\t<tr><td>1_1</td><td>math    </td><td>Musik</td><td>relax </td><td>eda</td><td>0.9156311</td><td>3.041952e-20</td></tr>\n",
       "\t<tr><td>1_1</td><td>math    </td><td>Sound</td><td>relax </td><td>eda</td><td>0.9547673</td><td>1.097181e-11</td></tr>\n",
       "\t<tr><td>1_1</td><td>rotation</td><td>Musik</td><td>relax </td><td>eda</td><td>0.9163329</td><td>3.674951e-20</td></tr>\n",
       "\t<tr><td>1_1</td><td>rotation</td><td>Sound</td><td>relax </td><td>eda</td><td>0.9753427</td><td>8.475009e-08</td></tr>\n",
       "\t<tr><td>1_1</td><td>math    </td><td>Musik</td><td>stress</td><td>eda</td><td>0.7762312</td><td>4.558507e-31</td></tr>\n",
       "\t<tr><td>1_1</td><td>math    </td><td>Sound</td><td>stress</td><td>eda</td><td>0.9479478</td><td>1.025707e-12</td></tr>\n",
       "\t<tr><td>1_1</td><td>rotation</td><td>Musik</td><td>stress</td><td>eda</td><td>0.8170780</td><td>1.250052e-28</td></tr>\n",
       "\t<tr><td>1_1</td><td>rotation</td><td>Sound</td><td>stress</td><td>eda</td><td>0.8997494</td><td>3.629487e-18</td></tr>\n",
       "\t<tr><td>1_2</td><td>math    </td><td>Musik</td><td>relax </td><td>eda</td><td>0.8739763</td><td>2.126077e-24</td></tr>\n",
       "\t<tr><td>1_2</td><td>math    </td><td>Sound</td><td>relax </td><td>eda</td><td>0.9285201</td><td>3.209500e-15</td></tr>\n",
       "\t<tr><td>1_2</td><td>rotation</td><td>Musik</td><td>relax </td><td>eda</td><td>0.9514597</td><td>3.380151e-15</td></tr>\n",
       "\t<tr><td>1_2</td><td>rotation</td><td>Sound</td><td>relax </td><td>eda</td><td>0.9363821</td><td>2.854818e-14</td></tr>\n",
       "\t<tr><td>1_2</td><td>math    </td><td>Musik</td><td>stress</td><td>eda</td><td>0.9760492</td><td>6.858392e-10</td></tr>\n",
       "\t<tr><td>1_2</td><td>math    </td><td>Sound</td><td>stress</td><td>eda</td><td>0.9288543</td><td>3.509599e-15</td></tr>\n",
       "\t<tr><td>1_2</td><td>rotation</td><td>Musik</td><td>stress</td><td>eda</td><td>0.9129880</td><td>1.508118e-20</td></tr>\n",
       "\t<tr><td>1_2</td><td>rotation</td><td>Sound</td><td>stress</td><td>eda</td><td>0.9161983</td><td>1.433894e-16</td></tr>\n",
       "\t<tr><td>2_1</td><td>math    </td><td>Musik</td><td>relax </td><td>eda</td><td>0.9099555</td><td>6.872924e-21</td></tr>\n",
       "\t<tr><td>2_1</td><td>math    </td><td>Sound</td><td>relax </td><td>eda</td><td>0.9331587</td><td>1.140496e-14</td></tr>\n",
       "\t<tr><td>2_1</td><td>rotation</td><td>Musik</td><td>relax </td><td>eda</td><td>0.9423831</td><td>1.117675e-16</td></tr>\n",
       "\t<tr><td>2_1</td><td>rotation</td><td>Sound</td><td>relax </td><td>eda</td><td>0.9323621</td><td>9.134181e-15</td></tr>\n",
       "\t<tr><td>2_1</td><td>math    </td><td>Musik</td><td>stress</td><td>eda</td><td>0.9524022</td><td>4.937402e-15</td></tr>\n",
       "\t<tr><td>2_1</td><td>math    </td><td>Sound</td><td>stress</td><td>eda</td><td>0.7903474</td><td>1.390771e-25</td></tr>\n",
       "\t<tr><td>2_1</td><td>rotation</td><td>Musik</td><td>stress</td><td>eda</td><td>0.9642093</td><td>9.434932e-13</td></tr>\n",
       "\t<tr><td>2_1</td><td>rotation</td><td>Sound</td><td>stress</td><td>eda</td><td>0.9467361</td><td>6.881690e-13</td></tr>\n",
       "\t<tr><td>2_2</td><td>math    </td><td>Musik</td><td>relax </td><td>eda</td><td>0.9771269</td><td>1.373817e-09</td></tr>\n",
       "\t<tr><td>2_2</td><td>math    </td><td>Sound</td><td>relax </td><td>eda</td><td>0.9144710</td><td>9.523239e-17</td></tr>\n",
       "\t<tr><td>2_2</td><td>rotation</td><td>Musik</td><td>relax </td><td>eda</td><td>0.9796575</td><td>7.620538e-09</td></tr>\n",
       "\t<tr><td>2_2</td><td>rotation</td><td>Sound</td><td>relax </td><td>eda</td><td>0.9510160</td><td>2.899394e-12</td></tr>\n",
       "\t<tr><td>2_2</td><td>math    </td><td>Musik</td><td>stress</td><td>eda</td><td>0.9853476</td><td>6.012798e-07</td></tr>\n",
       "\t<tr><td>2_2</td><td>math    </td><td>Sound</td><td>stress</td><td>eda</td><td>0.7467052</td><td>1.055092e-27</td></tr>\n",
       "\t<tr><td>2_2</td><td>rotation</td><td>Musik</td><td>stress</td><td>eda</td><td>0.9093012</td><td>5.816030e-21</td></tr>\n",
       "\t<tr><td>2_2</td><td>rotation</td><td>Sound</td><td>stress</td><td>eda</td><td>0.9465327</td><td>6.439702e-13</td></tr>\n",
       "</tbody>\n",
       "</table>\n"
      ],
      "text/latex": [
       "A tibble: 32 × 7\n",
       "\\begin{tabular}{lllllll}\n",
       " time & condition & group & type & variable & statistic & p\\\\\n",
       " <fct> & <fct> & <fct> & <fct> & <chr> & <dbl> & <dbl>\\\\\n",
       "\\hline\n",
       "\t 1\\_1 & math     & Musik & relax  & eda & 0.9156311 & 3.041952e-20\\\\\n",
       "\t 1\\_1 & math     & Sound & relax  & eda & 0.9547673 & 1.097181e-11\\\\\n",
       "\t 1\\_1 & rotation & Musik & relax  & eda & 0.9163329 & 3.674951e-20\\\\\n",
       "\t 1\\_1 & rotation & Sound & relax  & eda & 0.9753427 & 8.475009e-08\\\\\n",
       "\t 1\\_1 & math     & Musik & stress & eda & 0.7762312 & 4.558507e-31\\\\\n",
       "\t 1\\_1 & math     & Sound & stress & eda & 0.9479478 & 1.025707e-12\\\\\n",
       "\t 1\\_1 & rotation & Musik & stress & eda & 0.8170780 & 1.250052e-28\\\\\n",
       "\t 1\\_1 & rotation & Sound & stress & eda & 0.8997494 & 3.629487e-18\\\\\n",
       "\t 1\\_2 & math     & Musik & relax  & eda & 0.8739763 & 2.126077e-24\\\\\n",
       "\t 1\\_2 & math     & Sound & relax  & eda & 0.9285201 & 3.209500e-15\\\\\n",
       "\t 1\\_2 & rotation & Musik & relax  & eda & 0.9514597 & 3.380151e-15\\\\\n",
       "\t 1\\_2 & rotation & Sound & relax  & eda & 0.9363821 & 2.854818e-14\\\\\n",
       "\t 1\\_2 & math     & Musik & stress & eda & 0.9760492 & 6.858392e-10\\\\\n",
       "\t 1\\_2 & math     & Sound & stress & eda & 0.9288543 & 3.509599e-15\\\\\n",
       "\t 1\\_2 & rotation & Musik & stress & eda & 0.9129880 & 1.508118e-20\\\\\n",
       "\t 1\\_2 & rotation & Sound & stress & eda & 0.9161983 & 1.433894e-16\\\\\n",
       "\t 2\\_1 & math     & Musik & relax  & eda & 0.9099555 & 6.872924e-21\\\\\n",
       "\t 2\\_1 & math     & Sound & relax  & eda & 0.9331587 & 1.140496e-14\\\\\n",
       "\t 2\\_1 & rotation & Musik & relax  & eda & 0.9423831 & 1.117675e-16\\\\\n",
       "\t 2\\_1 & rotation & Sound & relax  & eda & 0.9323621 & 9.134181e-15\\\\\n",
       "\t 2\\_1 & math     & Musik & stress & eda & 0.9524022 & 4.937402e-15\\\\\n",
       "\t 2\\_1 & math     & Sound & stress & eda & 0.7903474 & 1.390771e-25\\\\\n",
       "\t 2\\_1 & rotation & Musik & stress & eda & 0.9642093 & 9.434932e-13\\\\\n",
       "\t 2\\_1 & rotation & Sound & stress & eda & 0.9467361 & 6.881690e-13\\\\\n",
       "\t 2\\_2 & math     & Musik & relax  & eda & 0.9771269 & 1.373817e-09\\\\\n",
       "\t 2\\_2 & math     & Sound & relax  & eda & 0.9144710 & 9.523239e-17\\\\\n",
       "\t 2\\_2 & rotation & Musik & relax  & eda & 0.9796575 & 7.620538e-09\\\\\n",
       "\t 2\\_2 & rotation & Sound & relax  & eda & 0.9510160 & 2.899394e-12\\\\\n",
       "\t 2\\_2 & math     & Musik & stress & eda & 0.9853476 & 6.012798e-07\\\\\n",
       "\t 2\\_2 & math     & Sound & stress & eda & 0.7467052 & 1.055092e-27\\\\\n",
       "\t 2\\_2 & rotation & Musik & stress & eda & 0.9093012 & 5.816030e-21\\\\\n",
       "\t 2\\_2 & rotation & Sound & stress & eda & 0.9465327 & 6.439702e-13\\\\\n",
       "\\end{tabular}\n"
      ],
      "text/markdown": [
       "\n",
       "A tibble: 32 × 7\n",
       "\n",
       "| time &lt;fct&gt; | condition &lt;fct&gt; | group &lt;fct&gt; | type &lt;fct&gt; | variable &lt;chr&gt; | statistic &lt;dbl&gt; | p &lt;dbl&gt; |\n",
       "|---|---|---|---|---|---|---|\n",
       "| 1_1 | math     | Musik | relax  | eda | 0.9156311 | 3.041952e-20 |\n",
       "| 1_1 | math     | Sound | relax  | eda | 0.9547673 | 1.097181e-11 |\n",
       "| 1_1 | rotation | Musik | relax  | eda | 0.9163329 | 3.674951e-20 |\n",
       "| 1_1 | rotation | Sound | relax  | eda | 0.9753427 | 8.475009e-08 |\n",
       "| 1_1 | math     | Musik | stress | eda | 0.7762312 | 4.558507e-31 |\n",
       "| 1_1 | math     | Sound | stress | eda | 0.9479478 | 1.025707e-12 |\n",
       "| 1_1 | rotation | Musik | stress | eda | 0.8170780 | 1.250052e-28 |\n",
       "| 1_1 | rotation | Sound | stress | eda | 0.8997494 | 3.629487e-18 |\n",
       "| 1_2 | math     | Musik | relax  | eda | 0.8739763 | 2.126077e-24 |\n",
       "| 1_2 | math     | Sound | relax  | eda | 0.9285201 | 3.209500e-15 |\n",
       "| 1_2 | rotation | Musik | relax  | eda | 0.9514597 | 3.380151e-15 |\n",
       "| 1_2 | rotation | Sound | relax  | eda | 0.9363821 | 2.854818e-14 |\n",
       "| 1_2 | math     | Musik | stress | eda | 0.9760492 | 6.858392e-10 |\n",
       "| 1_2 | math     | Sound | stress | eda | 0.9288543 | 3.509599e-15 |\n",
       "| 1_2 | rotation | Musik | stress | eda | 0.9129880 | 1.508118e-20 |\n",
       "| 1_2 | rotation | Sound | stress | eda | 0.9161983 | 1.433894e-16 |\n",
       "| 2_1 | math     | Musik | relax  | eda | 0.9099555 | 6.872924e-21 |\n",
       "| 2_1 | math     | Sound | relax  | eda | 0.9331587 | 1.140496e-14 |\n",
       "| 2_1 | rotation | Musik | relax  | eda | 0.9423831 | 1.117675e-16 |\n",
       "| 2_1 | rotation | Sound | relax  | eda | 0.9323621 | 9.134181e-15 |\n",
       "| 2_1 | math     | Musik | stress | eda | 0.9524022 | 4.937402e-15 |\n",
       "| 2_1 | math     | Sound | stress | eda | 0.7903474 | 1.390771e-25 |\n",
       "| 2_1 | rotation | Musik | stress | eda | 0.9642093 | 9.434932e-13 |\n",
       "| 2_1 | rotation | Sound | stress | eda | 0.9467361 | 6.881690e-13 |\n",
       "| 2_2 | math     | Musik | relax  | eda | 0.9771269 | 1.373817e-09 |\n",
       "| 2_2 | math     | Sound | relax  | eda | 0.9144710 | 9.523239e-17 |\n",
       "| 2_2 | rotation | Musik | relax  | eda | 0.9796575 | 7.620538e-09 |\n",
       "| 2_2 | rotation | Sound | relax  | eda | 0.9510160 | 2.899394e-12 |\n",
       "| 2_2 | math     | Musik | stress | eda | 0.9853476 | 6.012798e-07 |\n",
       "| 2_2 | math     | Sound | stress | eda | 0.7467052 | 1.055092e-27 |\n",
       "| 2_2 | rotation | Musik | stress | eda | 0.9093012 | 5.816030e-21 |\n",
       "| 2_2 | rotation | Sound | stress | eda | 0.9465327 | 6.439702e-13 |\n",
       "\n"
      ],
      "text/plain": [
       "   time condition group type   variable statistic p           \n",
       "1  1_1  math      Musik relax  eda      0.9156311 3.041952e-20\n",
       "2  1_1  math      Sound relax  eda      0.9547673 1.097181e-11\n",
       "3  1_1  rotation  Musik relax  eda      0.9163329 3.674951e-20\n",
       "4  1_1  rotation  Sound relax  eda      0.9753427 8.475009e-08\n",
       "5  1_1  math      Musik stress eda      0.7762312 4.558507e-31\n",
       "6  1_1  math      Sound stress eda      0.9479478 1.025707e-12\n",
       "7  1_1  rotation  Musik stress eda      0.8170780 1.250052e-28\n",
       "8  1_1  rotation  Sound stress eda      0.8997494 3.629487e-18\n",
       "9  1_2  math      Musik relax  eda      0.8739763 2.126077e-24\n",
       "10 1_2  math      Sound relax  eda      0.9285201 3.209500e-15\n",
       "11 1_2  rotation  Musik relax  eda      0.9514597 3.380151e-15\n",
       "12 1_2  rotation  Sound relax  eda      0.9363821 2.854818e-14\n",
       "13 1_2  math      Musik stress eda      0.9760492 6.858392e-10\n",
       "14 1_2  math      Sound stress eda      0.9288543 3.509599e-15\n",
       "15 1_2  rotation  Musik stress eda      0.9129880 1.508118e-20\n",
       "16 1_2  rotation  Sound stress eda      0.9161983 1.433894e-16\n",
       "17 2_1  math      Musik relax  eda      0.9099555 6.872924e-21\n",
       "18 2_1  math      Sound relax  eda      0.9331587 1.140496e-14\n",
       "19 2_1  rotation  Musik relax  eda      0.9423831 1.117675e-16\n",
       "20 2_1  rotation  Sound relax  eda      0.9323621 9.134181e-15\n",
       "21 2_1  math      Musik stress eda      0.9524022 4.937402e-15\n",
       "22 2_1  math      Sound stress eda      0.7903474 1.390771e-25\n",
       "23 2_1  rotation  Musik stress eda      0.9642093 9.434932e-13\n",
       "24 2_1  rotation  Sound stress eda      0.9467361 6.881690e-13\n",
       "25 2_2  math      Musik relax  eda      0.9771269 1.373817e-09\n",
       "26 2_2  math      Sound relax  eda      0.9144710 9.523239e-17\n",
       "27 2_2  rotation  Musik relax  eda      0.9796575 7.620538e-09\n",
       "28 2_2  rotation  Sound relax  eda      0.9510160 2.899394e-12\n",
       "29 2_2  math      Musik stress eda      0.9853476 6.012798e-07\n",
       "30 2_2  math      Sound stress eda      0.7467052 1.055092e-27\n",
       "31 2_2  rotation  Musik stress eda      0.9093012 5.816030e-21\n",
       "32 2_2  rotation  Sound stress eda      0.9465327 6.439702e-13"
      ]
     },
     "metadata": {},
     "output_type": "display_data"
    },
    {
     "data": {
      "text/plain": [
       "    prob_id       time           eda               run          phase     \n",
       " Min.   : 2.00   1_0:   0   Min.   :-5.6400   Min.   :1.0   Min.   :0.00  \n",
       " 1st Qu.:12.00   1_1:5192   1st Qu.:-0.7100   1st Qu.:1.0   1st Qu.:1.75  \n",
       " Median :18.00   1_2:5192   Median : 0.0000   Median :1.5   Median :3.50  \n",
       " Mean   :17.32   2_0:   0   Mean   : 0.1054   Mean   :1.5   Mean   :3.50  \n",
       " 3rd Qu.:24.00   2_1:5192   3rd Qu.: 0.7200   3rd Qu.:2.0   3rd Qu.:5.25  \n",
       " Max.   :29.00   2_2:5192   Max.   :10.0400   Max.   :2.0   Max.   :7.00  \n",
       "     index         repetition   trial_type           condition    \n",
       " Min.   : 0.00   Min.   :1.0   Length:20768       math    :10384  \n",
       " 1st Qu.: 3.75   1st Qu.:1.0   Class :character   pause   :    0  \n",
       " Median : 7.50   Median :1.5   Mode  :character   rotation:10384  \n",
       " Mean   : 7.50   Mean   :1.5                                      \n",
       " 3rd Qu.:11.25   3rd Qu.:2.0                                      \n",
       " Max.   :15.00   Max.   :2.0                                      \n",
       "      age        sex         group           type      \n",
       " Min.   :21.00   F: 9440   Musik:12272   pause :    0  \n",
       " 1st Qu.:23.00   M:11328   Sound: 8496   relax :10384  \n",
       " Median :23.50                           stress:10384  \n",
       " Mean   :23.91                                         \n",
       " 3rd Qu.:25.00                                         \n",
       " Max.   :30.00                                         "
      ]
     },
     "metadata": {},
     "output_type": "display_data"
    }
   ],
   "source": [
    "# 1) normality\n",
    "\n",
    "d_long_new %>%\n",
    "  group_by(time, type, condition, group) %>%\n",
    "  shapiro_test(eda)\n",
    "\n",
    "d_long_new %>%\n",
    "  group_by(time, type, condition, group) %>%\n",
    "  summary()"
   ]
  },
  {
   "cell_type": "code",
   "execution_count": 8,
   "id": "1e2e0617",
   "metadata": {},
   "outputs": [
    {
     "data": {
      "text/html": [
       "<table class=\"dataframe\">\n",
       "<caption>A tibble: 18 × 6</caption>\n",
       "<thead>\n",
       "\t<tr><th scope=col>run</th><th scope=col>phase</th><th scope=col>df1</th><th scope=col>df2</th><th scope=col>statistic</th><th scope=col>p</th></tr>\n",
       "\t<tr><th scope=col>&lt;int&gt;</th><th scope=col>&lt;int&gt;</th><th scope=col>&lt;int&gt;</th><th scope=col>&lt;int&gt;</th><th scope=col>&lt;dbl&gt;</th><th scope=col>&lt;dbl&gt;</th></tr>\n",
       "</thead>\n",
       "<tbody>\n",
       "\t<tr><td>1</td><td>-1</td><td>1</td><td>5527</td><td>142.9220509</td><td>1.535607e-32</td></tr>\n",
       "\t<tr><td>1</td><td> 0</td><td>1</td><td>1296</td><td> 72.7622751</td><td>4.022316e-17</td></tr>\n",
       "\t<tr><td>1</td><td> 1</td><td>1</td><td>1296</td><td> 96.1988557</td><td>5.902548e-22</td></tr>\n",
       "\t<tr><td>1</td><td> 2</td><td>1</td><td>1296</td><td>  5.8716663</td><td>1.552274e-02</td></tr>\n",
       "\t<tr><td>1</td><td> 3</td><td>1</td><td>1296</td><td>125.6145843</td><td>6.830110e-28</td></tr>\n",
       "\t<tr><td>1</td><td> 4</td><td>1</td><td>1296</td><td> 30.5084119</td><td>4.012814e-08</td></tr>\n",
       "\t<tr><td>1</td><td> 5</td><td>1</td><td>1296</td><td>  1.5872228</td><td>2.079502e-01</td></tr>\n",
       "\t<tr><td>1</td><td> 6</td><td>1</td><td>1296</td><td>  0.7907513</td><td>3.740381e-01</td></tr>\n",
       "\t<tr><td>1</td><td> 7</td><td>1</td><td>1296</td><td> 80.9465208</td><td>8.044326e-19</td></tr>\n",
       "\t<tr><td>2</td><td>-1</td><td>1</td><td>5527</td><td>115.6108736</td><td>1.060753e-26</td></tr>\n",
       "\t<tr><td>2</td><td> 0</td><td>1</td><td>1296</td><td>205.3982842</td><td>2.366493e-43</td></tr>\n",
       "\t<tr><td>2</td><td> 1</td><td>1</td><td>1296</td><td> 23.6243023</td><td>1.314044e-06</td></tr>\n",
       "\t<tr><td>2</td><td> 2</td><td>1</td><td>1296</td><td> 44.8097868</td><td>3.224592e-11</td></tr>\n",
       "\t<tr><td>2</td><td> 3</td><td>1</td><td>1296</td><td> 54.0669471</td><td>3.422856e-13</td></tr>\n",
       "\t<tr><td>2</td><td> 4</td><td>1</td><td>1296</td><td>  5.3500592</td><td>2.087752e-02</td></tr>\n",
       "\t<tr><td>2</td><td> 5</td><td>1</td><td>1296</td><td>  0.5492550</td><td>4.587565e-01</td></tr>\n",
       "\t<tr><td>2</td><td> 6</td><td>1</td><td>1296</td><td>282.3550669</td><td>1.774703e-57</td></tr>\n",
       "\t<tr><td>2</td><td> 7</td><td>1</td><td>1296</td><td>121.9162010</td><td>3.744006e-27</td></tr>\n",
       "</tbody>\n",
       "</table>\n"
      ],
      "text/latex": [
       "A tibble: 18 × 6\n",
       "\\begin{tabular}{llllll}\n",
       " run & phase & df1 & df2 & statistic & p\\\\\n",
       " <int> & <int> & <int> & <int> & <dbl> & <dbl>\\\\\n",
       "\\hline\n",
       "\t 1 & -1 & 1 & 5527 & 142.9220509 & 1.535607e-32\\\\\n",
       "\t 1 &  0 & 1 & 1296 &  72.7622751 & 4.022316e-17\\\\\n",
       "\t 1 &  1 & 1 & 1296 &  96.1988557 & 5.902548e-22\\\\\n",
       "\t 1 &  2 & 1 & 1296 &   5.8716663 & 1.552274e-02\\\\\n",
       "\t 1 &  3 & 1 & 1296 & 125.6145843 & 6.830110e-28\\\\\n",
       "\t 1 &  4 & 1 & 1296 &  30.5084119 & 4.012814e-08\\\\\n",
       "\t 1 &  5 & 1 & 1296 &   1.5872228 & 2.079502e-01\\\\\n",
       "\t 1 &  6 & 1 & 1296 &   0.7907513 & 3.740381e-01\\\\\n",
       "\t 1 &  7 & 1 & 1296 &  80.9465208 & 8.044326e-19\\\\\n",
       "\t 2 & -1 & 1 & 5527 & 115.6108736 & 1.060753e-26\\\\\n",
       "\t 2 &  0 & 1 & 1296 & 205.3982842 & 2.366493e-43\\\\\n",
       "\t 2 &  1 & 1 & 1296 &  23.6243023 & 1.314044e-06\\\\\n",
       "\t 2 &  2 & 1 & 1296 &  44.8097868 & 3.224592e-11\\\\\n",
       "\t 2 &  3 & 1 & 1296 &  54.0669471 & 3.422856e-13\\\\\n",
       "\t 2 &  4 & 1 & 1296 &   5.3500592 & 2.087752e-02\\\\\n",
       "\t 2 &  5 & 1 & 1296 &   0.5492550 & 4.587565e-01\\\\\n",
       "\t 2 &  6 & 1 & 1296 & 282.3550669 & 1.774703e-57\\\\\n",
       "\t 2 &  7 & 1 & 1296 & 121.9162010 & 3.744006e-27\\\\\n",
       "\\end{tabular}\n"
      ],
      "text/markdown": [
       "\n",
       "A tibble: 18 × 6\n",
       "\n",
       "| run &lt;int&gt; | phase &lt;int&gt; | df1 &lt;int&gt; | df2 &lt;int&gt; | statistic &lt;dbl&gt; | p &lt;dbl&gt; |\n",
       "|---|---|---|---|---|---|\n",
       "| 1 | -1 | 1 | 5527 | 142.9220509 | 1.535607e-32 |\n",
       "| 1 |  0 | 1 | 1296 |  72.7622751 | 4.022316e-17 |\n",
       "| 1 |  1 | 1 | 1296 |  96.1988557 | 5.902548e-22 |\n",
       "| 1 |  2 | 1 | 1296 |   5.8716663 | 1.552274e-02 |\n",
       "| 1 |  3 | 1 | 1296 | 125.6145843 | 6.830110e-28 |\n",
       "| 1 |  4 | 1 | 1296 |  30.5084119 | 4.012814e-08 |\n",
       "| 1 |  5 | 1 | 1296 |   1.5872228 | 2.079502e-01 |\n",
       "| 1 |  6 | 1 | 1296 |   0.7907513 | 3.740381e-01 |\n",
       "| 1 |  7 | 1 | 1296 |  80.9465208 | 8.044326e-19 |\n",
       "| 2 | -1 | 1 | 5527 | 115.6108736 | 1.060753e-26 |\n",
       "| 2 |  0 | 1 | 1296 | 205.3982842 | 2.366493e-43 |\n",
       "| 2 |  1 | 1 | 1296 |  23.6243023 | 1.314044e-06 |\n",
       "| 2 |  2 | 1 | 1296 |  44.8097868 | 3.224592e-11 |\n",
       "| 2 |  3 | 1 | 1296 |  54.0669471 | 3.422856e-13 |\n",
       "| 2 |  4 | 1 | 1296 |   5.3500592 | 2.087752e-02 |\n",
       "| 2 |  5 | 1 | 1296 |   0.5492550 | 4.587565e-01 |\n",
       "| 2 |  6 | 1 | 1296 | 282.3550669 | 1.774703e-57 |\n",
       "| 2 |  7 | 1 | 1296 | 121.9162010 | 3.744006e-27 |\n",
       "\n"
      ],
      "text/plain": [
       "   run phase df1 df2  statistic   p           \n",
       "1  1   -1    1   5527 142.9220509 1.535607e-32\n",
       "2  1    0    1   1296  72.7622751 4.022316e-17\n",
       "3  1    1    1   1296  96.1988557 5.902548e-22\n",
       "4  1    2    1   1296   5.8716663 1.552274e-02\n",
       "5  1    3    1   1296 125.6145843 6.830110e-28\n",
       "6  1    4    1   1296  30.5084119 4.012814e-08\n",
       "7  1    5    1   1296   1.5872228 2.079502e-01\n",
       "8  1    6    1   1296   0.7907513 3.740381e-01\n",
       "9  1    7    1   1296  80.9465208 8.044326e-19\n",
       "10 2   -1    1   5527 115.6108736 1.060753e-26\n",
       "11 2    0    1   1296 205.3982842 2.366493e-43\n",
       "12 2    1    1   1296  23.6243023 1.314044e-06\n",
       "13 2    2    1   1296  44.8097868 3.224592e-11\n",
       "14 2    3    1   1296  54.0669471 3.422856e-13\n",
       "15 2    4    1   1296   5.3500592 2.087752e-02\n",
       "16 2    5    1   1296   0.5492550 4.587565e-01\n",
       "17 2    6    1   1296 282.3550669 1.774703e-57\n",
       "18 2    7    1   1296 121.9162010 3.744006e-27"
      ]
     },
     "metadata": {},
     "output_type": "display_data"
    }
   ],
   "source": [
    "# 2) homogeneity of variance (only for between-subject factors)\n",
    "\n",
    "d_long %>%\n",
    "  group_by(run, phase) %>%\n",
    "  levene_test(eda ~ group)\n",
    "# not given, we need to correct the results."
   ]
  },
  {
   "cell_type": "code",
   "execution_count": 9,
   "id": "5f12d952",
   "metadata": {},
   "outputs": [],
   "source": [
    "# 3) assumption of sphericity (only for within-subject factors)\n",
    "\n",
    "# will be checked and corrected for automatically when computing the ANOVA. Look at that then."
   ]
  },
  {
   "cell_type": "markdown",
   "id": "c953d0b0",
   "metadata": {},
   "source": [
    "Define model "
   ]
  },
  {
   "cell_type": "code",
   "execution_count": 10,
   "id": "b1b8cda4",
   "metadata": {},
   "outputs": [],
   "source": [
    "#model1 <- aov_ez(\"prob_id\", # Variable/column defining your participants\n",
    "#       \"eda\", # dv\n",
    "#       d_long, # name of your dataframe\n",
    "#       between = c(\"group\", \"sex\"), # if sex was also included, this would be c('group', 'sex')\n",
    "#       within = c(\"time\", \"condition\", \"type\"), \n",
    "#       include_aov = TRUE)\n",
    "#\n",
    "#\n",
    "#model1\n",
    "#summary(model1)"
   ]
  },
  {
   "cell_type": "code",
   "execution_count": 11,
   "id": "368245cf",
   "metadata": {},
   "outputs": [
    {
     "name": "stderr",
     "output_type": "stream",
     "text": [
      "Warning message:\n",
      "“More than one observation per cell, aggregating the data using mean (i.e, fun_aggregate = mean)!”\n",
      "Contrasts set to contr.sum for the following variables: group, sex\n",
      "\n"
     ]
    },
    {
     "data": {
      "text/plain": [
       "Anova Table (Type 3 tests)\n",
       "\n",
       "Response: eda\n",
       "                          Effect          df  MSE         F   ges p.value\n",
       "1                          group       1, 18 0.20      0.24 <.001    .631\n",
       "2                            sex       1, 18 0.20      0.10 <.001    .758\n",
       "3                      group:sex       1, 18 0.20      0.71 <.001    .411\n",
       "4                           time 1.65, 29.63 6.56    4.10 *  .093    .034\n",
       "5                     group:time 1.65, 29.63 6.56      1.21  .029    .304\n",
       "6                       sex:time 1.65, 29.63 6.56      0.15  .004    .819\n",
       "7                 group:sex:time 1.65, 29.63 6.56      0.58  .014    .532\n",
       "8                      condition       1, 18 0.75      0.36 <.001    .554\n",
       "9                group:condition       1, 18 0.75      0.44 <.001    .514\n",
       "10                 sex:condition       1, 18 0.75      0.79  .001    .385\n",
       "11           group:sex:condition       1, 18 0.75      1.44  .002    .246\n",
       "12                          type       1, 18 3.48 26.76 ***  .177   <.001\n",
       "13                    group:type       1, 18 3.48      0.77  .006    .392\n",
       "14                      sex:type       1, 18 3.48      0.52  .004    .481\n",
       "15                group:sex:type       1, 18 3.48      0.01 <.001    .909\n",
       "16                time:condition 2.25, 40.50 0.62      1.11  .004    .345\n",
       "17          group:time:condition 2.25, 40.50 0.62      0.15 <.001    .882\n",
       "18            sex:time:condition 2.25, 40.50 0.62      1.43  .005    .251\n",
       "19      group:sex:time:condition 2.25, 40.50 0.62      0.41  .001    .692\n",
       "20                     time:type 2.34, 42.04 1.47    2.54 +  .020    .083\n",
       "21               group:time:type 2.34, 42.04 1.47      2.25  .018    .110\n",
       "22                 sex:time:type 2.34, 42.04 1.47      0.13  .001    .908\n",
       "23           group:sex:time:type 2.34, 42.04 1.47      0.39  .003    .714\n",
       "24                condition:type       1, 18 2.55  11.59 **  .064    .003\n",
       "25          group:condition:type       1, 18 2.55      0.99  .006    .332\n",
       "26            sex:condition:type       1, 18 2.55      1.87  .011    .189\n",
       "27      group:sex:condition:type       1, 18 2.55      0.00 <.001    .946\n",
       "28           time:condition:type 2.45, 44.16 0.58      0.33  .001    .763\n",
       "29     group:time:condition:type 2.45, 44.16 0.58      0.76  .002    .501\n",
       "30       sex:time:condition:type 2.45, 44.16 0.58      0.82  .003    .470\n",
       "31 group:sex:time:condition:type 2.45, 44.16 0.58      1.18  .004    .324\n",
       "---\n",
       "Signif. codes:  0 ‘***’ 0.001 ‘**’ 0.01 ‘*’ 0.05 ‘+’ 0.1 ‘ ’ 1\n",
       "\n",
       "Sphericity correction method: GG "
      ]
     },
     "metadata": {},
     "output_type": "display_data"
    },
    {
     "data": {
      "text/plain": [
       "\n",
       "Univariate Type III Repeated-Measures ANOVA Assuming Sphericity\n",
       "\n",
       "                              Sum Sq num Df Error SS den Df F value    Pr(>F)\n",
       "(Intercept)                    3.948      1    3.638     18 19.5329 0.0003308\n",
       "group                          0.048      1    3.638     18  0.2385 0.6311983\n",
       "sex                            0.020      1    3.638     18  0.0979 0.7579117\n",
       "group:sex                      0.143      1    3.638     18  0.7073 0.4113881\n",
       "time                          44.254      3  194.229     54  4.1012 0.0107710\n",
       "group:time                    13.088      3  194.229     54  1.2129 0.3138951\n",
       "sex:time                       1.646      3  194.229     54  0.1525 0.9276099\n",
       "group:sex:time                 6.311      3  194.229     54  0.5848 0.6275512\n",
       "condition                      0.273      1   13.486     18  0.3640 0.5538226\n",
       "group:condition                0.332      1   13.486     18  0.4429 0.5141435\n",
       "sex:condition                  0.594      1   13.486     18  0.7924 0.3851257\n",
       "group:sex:condition            1.076      1   13.486     18  1.4355 0.2464107\n",
       "type                          93.113      1   62.633     18 26.7597 6.395e-05\n",
       "group:type                     2.676      1   62.633     18  0.7690 0.3920923\n",
       "sex:type                       1.799      1   62.633     18  0.5169 0.4813839\n",
       "group:sex:type                 0.047      1   62.633     18  0.0135 0.9088750\n",
       "time:condition                 1.541      3   24.976     54  1.1107 0.3528405\n",
       "group:time:condition           0.210      3   24.976     54  0.1516 0.9282119\n",
       "sex:time:condition             1.982      3   24.976     54  1.4281 0.2446495\n",
       "group:sex:time:condition       0.564      3   24.976     54  0.4066 0.7488352\n",
       "time:type                      8.682      3   61.596     54  2.5371 0.0662268\n",
       "group:time:type                7.696      3   61.596     54  2.2491 0.0930510\n",
       "sex:time:type                  0.436      3   61.596     54  0.1275 0.9434231\n",
       "group:sex:time:type            1.318      3   61.596     54  0.3852 0.7640586\n",
       "condition:type                29.553      1   45.894     18 11.5910 0.0031595\n",
       "group:condition:type           2.536      1   45.894     18  0.9945 0.3318691\n",
       "sex:condition:type             4.763      1   45.894     18  1.8679 0.1885431\n",
       "group:sex:condition:type       0.012      1   45.894     18  0.0048 0.9457823\n",
       "time:condition:type            0.467      3   25.451     54  0.3305 0.8033245\n",
       "group:time:condition:type      1.068      3   25.451     54  0.7551 0.5242035\n",
       "sex:time:condition:type        1.156      3   25.451     54  0.8178 0.4897038\n",
       "group:sex:time:condition:type  1.664      3   25.451     54  1.1770 0.3270781\n",
       "                                 \n",
       "(Intercept)                   ***\n",
       "group                            \n",
       "sex                              \n",
       "group:sex                        \n",
       "time                          *  \n",
       "group:time                       \n",
       "sex:time                         \n",
       "group:sex:time                   \n",
       "condition                        \n",
       "group:condition                  \n",
       "sex:condition                    \n",
       "group:sex:condition              \n",
       "type                          ***\n",
       "group:type                       \n",
       "sex:type                         \n",
       "group:sex:type                   \n",
       "time:condition                   \n",
       "group:time:condition             \n",
       "sex:time:condition               \n",
       "group:sex:time:condition         \n",
       "time:type                     .  \n",
       "group:time:type               .  \n",
       "sex:time:type                    \n",
       "group:sex:time:type              \n",
       "condition:type                ** \n",
       "group:condition:type             \n",
       "sex:condition:type               \n",
       "group:sex:condition:type         \n",
       "time:condition:type              \n",
       "group:time:condition:type        \n",
       "sex:time:condition:type          \n",
       "group:sex:time:condition:type    \n",
       "---\n",
       "Signif. codes:  0 ‘***’ 0.001 ‘**’ 0.01 ‘*’ 0.05 ‘.’ 0.1 ‘ ’ 1\n",
       "\n",
       "\n",
       "Mauchly Tests for Sphericity\n",
       "\n",
       "                              Test statistic p-value\n",
       "time                                 0.01248 0.00000\n",
       "group:time                           0.01248 0.00000\n",
       "sex:time                             0.01248 0.00000\n",
       "group:sex:time                       0.01248 0.00000\n",
       "time:condition                       0.60341 0.13401\n",
       "group:time:condition                 0.60341 0.13401\n",
       "sex:time:condition                   0.60341 0.13401\n",
       "group:sex:time:condition             0.60341 0.13401\n",
       "time:type                            0.56476 0.08955\n",
       "group:time:type                      0.56476 0.08955\n",
       "sex:time:type                        0.56476 0.08955\n",
       "group:sex:time:type                  0.56476 0.08955\n",
       "time:condition:type                  0.72890 0.38270\n",
       "group:time:condition:type            0.72890 0.38270\n",
       "sex:time:condition:type              0.72890 0.38270\n",
       "group:sex:time:condition:type        0.72890 0.38270\n",
       "\n",
       "\n",
       "Greenhouse-Geisser and Huynh-Feldt Corrections\n",
       " for Departure from Sphericity\n",
       "\n",
       "                               GG eps Pr(>F[GG])  \n",
       "time                          0.54870    0.03355 *\n",
       "group:time                    0.54870    0.30445  \n",
       "sex:time                      0.54870    0.81865  \n",
       "group:sex:time                0.54870    0.53163  \n",
       "time:condition                0.74993    0.34457  \n",
       "group:time:condition          0.74993    0.88207  \n",
       "sex:time:condition            0.74993    0.25149  \n",
       "group:sex:time:condition      0.74993    0.69231  \n",
       "time:type                     0.77847    0.08308 .\n",
       "group:time:type               0.77847    0.11032  \n",
       "sex:time:type                 0.77847    0.90772  \n",
       "group:sex:time:type           0.77847    0.71439  \n",
       "time:condition:type           0.81786    0.76318  \n",
       "group:time:condition:type     0.81786    0.50089  \n",
       "sex:time:condition:type       0.81786    0.46984  \n",
       "group:sex:time:condition:type 0.81786    0.32429  \n",
       "---\n",
       "Signif. codes:  0 ‘***’ 0.001 ‘**’ 0.01 ‘*’ 0.05 ‘.’ 0.1 ‘ ’ 1\n",
       "\n",
       "                                 HF eps Pr(>F[HF])\n",
       "time                          0.5967134  0.0296878\n",
       "group:time                    0.5967134  0.3066903\n",
       "sex:time                      0.5967134  0.8365698\n",
       "group:sex:time                0.5967134  0.5448520\n",
       "time:condition                0.8623330  0.3489493\n",
       "group:time:condition          0.8623330  0.9059815\n",
       "sex:time:condition            0.8623330  0.2487214\n",
       "group:sex:time:condition      0.8623330  0.7199109\n",
       "time:type                     0.9016652  0.0732289\n",
       "group:time:type               0.9016652  0.1003625\n",
       "sex:time:type                 0.9016652  0.9298881\n",
       "group:sex:time:type           0.9016652  0.7437161\n",
       "time:condition:type           0.9566577  0.7946478\n",
       "group:time:condition:type     0.9566577  0.5190557\n",
       "sex:time:condition:type       0.9566577  0.4853372\n",
       "group:sex:time:condition:type 0.9566577  0.3266056"
      ]
     },
     "metadata": {},
     "output_type": "display_data"
    }
   ],
   "source": [
    "# with pause excluded\n",
    "\n",
    "model1 <- aov_ez(\"prob_id\", # Variable/column defining your participants\n",
    "                 \"eda\", # dv\n",
    "                 d_long_new, # name of your dataframe\n",
    "                 between = c(\"group\", \"sex\"), # if sex was also included, this would be c('group', 'sex')\n",
    "                 within = c(\"time\", \"condition\", \"type\"), \n",
    "                 include_aov = TRUE, na.rm=TRUE)\n",
    "model1\n",
    "summary(model1)\n",
    "\n",
    "\n",
    "# we see that the assumption of sphericity was corrected for using the Greenhouse-Geisser correction\n",
    "# we also see that we have an effect for time\n",
    "# and for time*condition*type"
   ]
  },
  {
   "cell_type": "code",
   "execution_count": 12,
   "id": "76878c68",
   "metadata": {},
   "outputs": [
    {
     "data": {
      "text/html": [
       "<table class=\"dataframe\">\n",
       "<caption>A anova: 31 × 6</caption>\n",
       "<thead>\n",
       "\t<tr><th></th><th scope=col>num Df</th><th scope=col>den Df</th><th scope=col>MSE</th><th scope=col>F</th><th scope=col>ges</th><th scope=col>Pr(&gt;F)</th></tr>\n",
       "\t<tr><th></th><th scope=col>&lt;dbl&gt;</th><th scope=col>&lt;dbl&gt;</th><th scope=col>&lt;dbl&gt;</th><th scope=col>&lt;dbl&gt;</th><th scope=col>&lt;dbl&gt;</th><th scope=col>&lt;dbl&gt;</th></tr>\n",
       "</thead>\n",
       "<tbody>\n",
       "\t<tr><th scope=row>group</th><td>1.000000</td><td>18.00000</td><td>0.2021313</td><td> 0.238485410</td><td>1.115987e-04</td><td>6.311983e-01</td></tr>\n",
       "\t<tr><th scope=row>sex</th><td>1.000000</td><td>18.00000</td><td>0.2021313</td><td> 0.097941011</td><td>4.583428e-05</td><td>7.579117e-01</td></tr>\n",
       "\t<tr><th scope=row>group:sex</th><td>1.000000</td><td>18.00000</td><td>0.2021313</td><td> 0.707260349</td><td>3.308883e-04</td><td>4.113881e-01</td></tr>\n",
       "\t<tr><th scope=row>time</th><td>1.646094</td><td>29.62969</td><td>6.5552285</td><td> 4.101174503</td><td>9.293929e-02</td><td>3.354813e-02</td></tr>\n",
       "\t<tr><th scope=row>group:time</th><td>1.646094</td><td>29.62969</td><td>6.5552285</td><td> 1.212874355</td><td>2.941074e-02</td><td>3.044451e-01</td></tr>\n",
       "\t<tr><th scope=row>sex:time</th><td>1.646094</td><td>29.62969</td><td>6.5552285</td><td> 0.152546048</td><td>3.796677e-03</td><td>8.186475e-01</td></tr>\n",
       "\t<tr><th scope=row>group:sex:time</th><td>1.646094</td><td>29.62969</td><td>6.5552285</td><td> 0.584821928</td><td>1.440054e-02</td><td>5.316331e-01</td></tr>\n",
       "\t<tr><th scope=row>condition</th><td>1.000000</td><td>18.00000</td><td>0.7492330</td><td> 0.363995609</td><td>6.310318e-04</td><td>5.538226e-01</td></tr>\n",
       "\t<tr><th scope=row>group:condition</th><td>1.000000</td><td>18.00000</td><td>0.7492330</td><td> 0.442944328</td><td>7.677941e-04</td><td>5.141435e-01</td></tr>\n",
       "\t<tr><th scope=row>sex:condition</th><td>1.000000</td><td>18.00000</td><td>0.7492330</td><td> 0.792376833</td><td>1.372665e-03</td><td>3.851257e-01</td></tr>\n",
       "\t<tr><th scope=row>group:sex:condition</th><td>1.000000</td><td>18.00000</td><td>0.7492330</td><td> 1.435478790</td><td>2.483967e-03</td><td>2.464107e-01</td></tr>\n",
       "\t<tr><th scope=row>type</th><td>1.000000</td><td>18.00000</td><td>3.4795936</td><td>26.759672761</td><td>1.773519e-01</td><td>6.394553e-05</td></tr>\n",
       "\t<tr><th scope=row>group:type</th><td>1.000000</td><td>18.00000</td><td>3.4795936</td><td> 0.768960532</td><td>6.156908e-03</td><td>3.920923e-01</td></tr>\n",
       "\t<tr><th scope=row>sex:type</th><td>1.000000</td><td>18.00000</td><td>3.4795936</td><td> 0.516931780</td><td>4.147335e-03</td><td>4.813839e-01</td></tr>\n",
       "\t<tr><th scope=row>group:sex:type</th><td>1.000000</td><td>18.00000</td><td>3.4795936</td><td> 0.013474401</td><td>1.085433e-04</td><td>9.088750e-01</td></tr>\n",
       "\t<tr><th scope=row>time:condition</th><td>2.249779</td><td>40.49603</td><td>0.6167612</td><td> 1.110698692</td><td>3.555646e-03</td><td>3.445725e-01</td></tr>\n",
       "\t<tr><th scope=row>group:time:condition</th><td>2.249779</td><td>40.49603</td><td>0.6167612</td><td> 0.151612486</td><td>4.868473e-04</td><td>8.820693e-01</td></tr>\n",
       "\t<tr><th scope=row>sex:time:condition</th><td>2.249779</td><td>40.49603</td><td>0.6167612</td><td> 1.428099981</td><td>4.567093e-03</td><td>2.514922e-01</td></tr>\n",
       "\t<tr><th scope=row>group:sex:time:condition</th><td>2.249779</td><td>40.49603</td><td>0.6167612</td><td> 0.406635774</td><td>1.304692e-03</td><td>6.923095e-01</td></tr>\n",
       "\t<tr><th scope=row>time:type</th><td>2.335403</td><td>42.03726</td><td>1.4652694</td><td> 2.537051653</td><td>1.970506e-02</td><td>8.308490e-02</td></tr>\n",
       "\t<tr><th scope=row>group:time:type</th><td>2.335403</td><td>42.03726</td><td>1.4652694</td><td> 2.249054661</td><td>1.750737e-02</td><td>1.103226e-01</td></tr>\n",
       "\t<tr><th scope=row>sex:time:type</th><td>2.335403</td><td>42.03726</td><td>1.4652694</td><td> 0.127453408</td><td>1.008799e-03</td><td>9.077220e-01</td></tr>\n",
       "\t<tr><th scope=row>group:sex:time:type</th><td>2.335403</td><td>42.03726</td><td>1.4652694</td><td> 0.385232547</td><td>3.042924e-03</td><td>7.143936e-01</td></tr>\n",
       "\t<tr><th scope=row>condition:type</th><td>1.000000</td><td>18.00000</td><td>2.5496903</td><td>11.590955684</td><td>6.404344e-02</td><td>3.159514e-03</td></tr>\n",
       "\t<tr><th scope=row>group:condition:type</th><td>1.000000</td><td>18.00000</td><td>2.5496903</td><td> 0.994475208</td><td>5.836487e-03</td><td>3.318691e-01</td></tr>\n",
       "\t<tr><th scope=row>sex:condition:type</th><td>1.000000</td><td>18.00000</td><td>2.5496903</td><td> 1.867919871</td><td>1.090675e-02</td><td>1.885431e-01</td></tr>\n",
       "\t<tr><th scope=row>group:sex:condition:type</th><td>1.000000</td><td>18.00000</td><td>2.5496903</td><td> 0.004755387</td><td>2.807200e-05</td><td>9.457823e-01</td></tr>\n",
       "\t<tr><th scope=row>time:condition:type</th><td>2.453570</td><td>44.16427</td><td>0.5762834</td><td> 0.330470816</td><td>1.080713e-03</td><td>7.631778e-01</td></tr>\n",
       "\t<tr><th scope=row>group:time:condition:type</th><td>2.453570</td><td>44.16427</td><td>0.5762834</td><td> 0.755148337</td><td>2.466078e-03</td><td>5.008897e-01</td></tr>\n",
       "\t<tr><th scope=row>sex:time:condition:type</th><td>2.453570</td><td>44.16427</td><td>0.5762834</td><td> 0.817771912</td><td>2.670041e-03</td><td>4.698393e-01</td></tr>\n",
       "\t<tr><th scope=row>group:sex:time:condition:type</th><td>2.453570</td><td>44.16427</td><td>0.5762834</td><td> 1.177036980</td><td>3.838546e-03</td><td>3.242902e-01</td></tr>\n",
       "</tbody>\n",
       "</table>\n"
      ],
      "text/latex": [
       "A anova: 31 × 6\n",
       "\\begin{tabular}{r|llllll}\n",
       "  & num Df & den Df & MSE & F & ges & Pr(>F)\\\\\n",
       "  & <dbl> & <dbl> & <dbl> & <dbl> & <dbl> & <dbl>\\\\\n",
       "\\hline\n",
       "\tgroup & 1.000000 & 18.00000 & 0.2021313 &  0.238485410 & 1.115987e-04 & 6.311983e-01\\\\\n",
       "\tsex & 1.000000 & 18.00000 & 0.2021313 &  0.097941011 & 4.583428e-05 & 7.579117e-01\\\\\n",
       "\tgroup:sex & 1.000000 & 18.00000 & 0.2021313 &  0.707260349 & 3.308883e-04 & 4.113881e-01\\\\\n",
       "\ttime & 1.646094 & 29.62969 & 6.5552285 &  4.101174503 & 9.293929e-02 & 3.354813e-02\\\\\n",
       "\tgroup:time & 1.646094 & 29.62969 & 6.5552285 &  1.212874355 & 2.941074e-02 & 3.044451e-01\\\\\n",
       "\tsex:time & 1.646094 & 29.62969 & 6.5552285 &  0.152546048 & 3.796677e-03 & 8.186475e-01\\\\\n",
       "\tgroup:sex:time & 1.646094 & 29.62969 & 6.5552285 &  0.584821928 & 1.440054e-02 & 5.316331e-01\\\\\n",
       "\tcondition & 1.000000 & 18.00000 & 0.7492330 &  0.363995609 & 6.310318e-04 & 5.538226e-01\\\\\n",
       "\tgroup:condition & 1.000000 & 18.00000 & 0.7492330 &  0.442944328 & 7.677941e-04 & 5.141435e-01\\\\\n",
       "\tsex:condition & 1.000000 & 18.00000 & 0.7492330 &  0.792376833 & 1.372665e-03 & 3.851257e-01\\\\\n",
       "\tgroup:sex:condition & 1.000000 & 18.00000 & 0.7492330 &  1.435478790 & 2.483967e-03 & 2.464107e-01\\\\\n",
       "\ttype & 1.000000 & 18.00000 & 3.4795936 & 26.759672761 & 1.773519e-01 & 6.394553e-05\\\\\n",
       "\tgroup:type & 1.000000 & 18.00000 & 3.4795936 &  0.768960532 & 6.156908e-03 & 3.920923e-01\\\\\n",
       "\tsex:type & 1.000000 & 18.00000 & 3.4795936 &  0.516931780 & 4.147335e-03 & 4.813839e-01\\\\\n",
       "\tgroup:sex:type & 1.000000 & 18.00000 & 3.4795936 &  0.013474401 & 1.085433e-04 & 9.088750e-01\\\\\n",
       "\ttime:condition & 2.249779 & 40.49603 & 0.6167612 &  1.110698692 & 3.555646e-03 & 3.445725e-01\\\\\n",
       "\tgroup:time:condition & 2.249779 & 40.49603 & 0.6167612 &  0.151612486 & 4.868473e-04 & 8.820693e-01\\\\\n",
       "\tsex:time:condition & 2.249779 & 40.49603 & 0.6167612 &  1.428099981 & 4.567093e-03 & 2.514922e-01\\\\\n",
       "\tgroup:sex:time:condition & 2.249779 & 40.49603 & 0.6167612 &  0.406635774 & 1.304692e-03 & 6.923095e-01\\\\\n",
       "\ttime:type & 2.335403 & 42.03726 & 1.4652694 &  2.537051653 & 1.970506e-02 & 8.308490e-02\\\\\n",
       "\tgroup:time:type & 2.335403 & 42.03726 & 1.4652694 &  2.249054661 & 1.750737e-02 & 1.103226e-01\\\\\n",
       "\tsex:time:type & 2.335403 & 42.03726 & 1.4652694 &  0.127453408 & 1.008799e-03 & 9.077220e-01\\\\\n",
       "\tgroup:sex:time:type & 2.335403 & 42.03726 & 1.4652694 &  0.385232547 & 3.042924e-03 & 7.143936e-01\\\\\n",
       "\tcondition:type & 1.000000 & 18.00000 & 2.5496903 & 11.590955684 & 6.404344e-02 & 3.159514e-03\\\\\n",
       "\tgroup:condition:type & 1.000000 & 18.00000 & 2.5496903 &  0.994475208 & 5.836487e-03 & 3.318691e-01\\\\\n",
       "\tsex:condition:type & 1.000000 & 18.00000 & 2.5496903 &  1.867919871 & 1.090675e-02 & 1.885431e-01\\\\\n",
       "\tgroup:sex:condition:type & 1.000000 & 18.00000 & 2.5496903 &  0.004755387 & 2.807200e-05 & 9.457823e-01\\\\\n",
       "\ttime:condition:type & 2.453570 & 44.16427 & 0.5762834 &  0.330470816 & 1.080713e-03 & 7.631778e-01\\\\\n",
       "\tgroup:time:condition:type & 2.453570 & 44.16427 & 0.5762834 &  0.755148337 & 2.466078e-03 & 5.008897e-01\\\\\n",
       "\tsex:time:condition:type & 2.453570 & 44.16427 & 0.5762834 &  0.817771912 & 2.670041e-03 & 4.698393e-01\\\\\n",
       "\tgroup:sex:time:condition:type & 2.453570 & 44.16427 & 0.5762834 &  1.177036980 & 3.838546e-03 & 3.242902e-01\\\\\n",
       "\\end{tabular}\n"
      ],
      "text/markdown": [
       "\n",
       "A anova: 31 × 6\n",
       "\n",
       "| <!--/--> | num Df &lt;dbl&gt; | den Df &lt;dbl&gt; | MSE &lt;dbl&gt; | F &lt;dbl&gt; | ges &lt;dbl&gt; | Pr(&gt;F) &lt;dbl&gt; |\n",
       "|---|---|---|---|---|---|---|\n",
       "| group | 1.000000 | 18.00000 | 0.2021313 |  0.238485410 | 1.115987e-04 | 6.311983e-01 |\n",
       "| sex | 1.000000 | 18.00000 | 0.2021313 |  0.097941011 | 4.583428e-05 | 7.579117e-01 |\n",
       "| group:sex | 1.000000 | 18.00000 | 0.2021313 |  0.707260349 | 3.308883e-04 | 4.113881e-01 |\n",
       "| time | 1.646094 | 29.62969 | 6.5552285 |  4.101174503 | 9.293929e-02 | 3.354813e-02 |\n",
       "| group:time | 1.646094 | 29.62969 | 6.5552285 |  1.212874355 | 2.941074e-02 | 3.044451e-01 |\n",
       "| sex:time | 1.646094 | 29.62969 | 6.5552285 |  0.152546048 | 3.796677e-03 | 8.186475e-01 |\n",
       "| group:sex:time | 1.646094 | 29.62969 | 6.5552285 |  0.584821928 | 1.440054e-02 | 5.316331e-01 |\n",
       "| condition | 1.000000 | 18.00000 | 0.7492330 |  0.363995609 | 6.310318e-04 | 5.538226e-01 |\n",
       "| group:condition | 1.000000 | 18.00000 | 0.7492330 |  0.442944328 | 7.677941e-04 | 5.141435e-01 |\n",
       "| sex:condition | 1.000000 | 18.00000 | 0.7492330 |  0.792376833 | 1.372665e-03 | 3.851257e-01 |\n",
       "| group:sex:condition | 1.000000 | 18.00000 | 0.7492330 |  1.435478790 | 2.483967e-03 | 2.464107e-01 |\n",
       "| type | 1.000000 | 18.00000 | 3.4795936 | 26.759672761 | 1.773519e-01 | 6.394553e-05 |\n",
       "| group:type | 1.000000 | 18.00000 | 3.4795936 |  0.768960532 | 6.156908e-03 | 3.920923e-01 |\n",
       "| sex:type | 1.000000 | 18.00000 | 3.4795936 |  0.516931780 | 4.147335e-03 | 4.813839e-01 |\n",
       "| group:sex:type | 1.000000 | 18.00000 | 3.4795936 |  0.013474401 | 1.085433e-04 | 9.088750e-01 |\n",
       "| time:condition | 2.249779 | 40.49603 | 0.6167612 |  1.110698692 | 3.555646e-03 | 3.445725e-01 |\n",
       "| group:time:condition | 2.249779 | 40.49603 | 0.6167612 |  0.151612486 | 4.868473e-04 | 8.820693e-01 |\n",
       "| sex:time:condition | 2.249779 | 40.49603 | 0.6167612 |  1.428099981 | 4.567093e-03 | 2.514922e-01 |\n",
       "| group:sex:time:condition | 2.249779 | 40.49603 | 0.6167612 |  0.406635774 | 1.304692e-03 | 6.923095e-01 |\n",
       "| time:type | 2.335403 | 42.03726 | 1.4652694 |  2.537051653 | 1.970506e-02 | 8.308490e-02 |\n",
       "| group:time:type | 2.335403 | 42.03726 | 1.4652694 |  2.249054661 | 1.750737e-02 | 1.103226e-01 |\n",
       "| sex:time:type | 2.335403 | 42.03726 | 1.4652694 |  0.127453408 | 1.008799e-03 | 9.077220e-01 |\n",
       "| group:sex:time:type | 2.335403 | 42.03726 | 1.4652694 |  0.385232547 | 3.042924e-03 | 7.143936e-01 |\n",
       "| condition:type | 1.000000 | 18.00000 | 2.5496903 | 11.590955684 | 6.404344e-02 | 3.159514e-03 |\n",
       "| group:condition:type | 1.000000 | 18.00000 | 2.5496903 |  0.994475208 | 5.836487e-03 | 3.318691e-01 |\n",
       "| sex:condition:type | 1.000000 | 18.00000 | 2.5496903 |  1.867919871 | 1.090675e-02 | 1.885431e-01 |\n",
       "| group:sex:condition:type | 1.000000 | 18.00000 | 2.5496903 |  0.004755387 | 2.807200e-05 | 9.457823e-01 |\n",
       "| time:condition:type | 2.453570 | 44.16427 | 0.5762834 |  0.330470816 | 1.080713e-03 | 7.631778e-01 |\n",
       "| group:time:condition:type | 2.453570 | 44.16427 | 0.5762834 |  0.755148337 | 2.466078e-03 | 5.008897e-01 |\n",
       "| sex:time:condition:type | 2.453570 | 44.16427 | 0.5762834 |  0.817771912 | 2.670041e-03 | 4.698393e-01 |\n",
       "| group:sex:time:condition:type | 2.453570 | 44.16427 | 0.5762834 |  1.177036980 | 3.838546e-03 | 3.242902e-01 |\n",
       "\n"
      ],
      "text/plain": [
       "                              num Df   den Df   MSE       F           \n",
       "group                         1.000000 18.00000 0.2021313  0.238485410\n",
       "sex                           1.000000 18.00000 0.2021313  0.097941011\n",
       "group:sex                     1.000000 18.00000 0.2021313  0.707260349\n",
       "time                          1.646094 29.62969 6.5552285  4.101174503\n",
       "group:time                    1.646094 29.62969 6.5552285  1.212874355\n",
       "sex:time                      1.646094 29.62969 6.5552285  0.152546048\n",
       "group:sex:time                1.646094 29.62969 6.5552285  0.584821928\n",
       "condition                     1.000000 18.00000 0.7492330  0.363995609\n",
       "group:condition               1.000000 18.00000 0.7492330  0.442944328\n",
       "sex:condition                 1.000000 18.00000 0.7492330  0.792376833\n",
       "group:sex:condition           1.000000 18.00000 0.7492330  1.435478790\n",
       "type                          1.000000 18.00000 3.4795936 26.759672761\n",
       "group:type                    1.000000 18.00000 3.4795936  0.768960532\n",
       "sex:type                      1.000000 18.00000 3.4795936  0.516931780\n",
       "group:sex:type                1.000000 18.00000 3.4795936  0.013474401\n",
       "time:condition                2.249779 40.49603 0.6167612  1.110698692\n",
       "group:time:condition          2.249779 40.49603 0.6167612  0.151612486\n",
       "sex:time:condition            2.249779 40.49603 0.6167612  1.428099981\n",
       "group:sex:time:condition      2.249779 40.49603 0.6167612  0.406635774\n",
       "time:type                     2.335403 42.03726 1.4652694  2.537051653\n",
       "group:time:type               2.335403 42.03726 1.4652694  2.249054661\n",
       "sex:time:type                 2.335403 42.03726 1.4652694  0.127453408\n",
       "group:sex:time:type           2.335403 42.03726 1.4652694  0.385232547\n",
       "condition:type                1.000000 18.00000 2.5496903 11.590955684\n",
       "group:condition:type          1.000000 18.00000 2.5496903  0.994475208\n",
       "sex:condition:type            1.000000 18.00000 2.5496903  1.867919871\n",
       "group:sex:condition:type      1.000000 18.00000 2.5496903  0.004755387\n",
       "time:condition:type           2.453570 44.16427 0.5762834  0.330470816\n",
       "group:time:condition:type     2.453570 44.16427 0.5762834  0.755148337\n",
       "sex:time:condition:type       2.453570 44.16427 0.5762834  0.817771912\n",
       "group:sex:time:condition:type 2.453570 44.16427 0.5762834  1.177036980\n",
       "                              ges          Pr(>F)      \n",
       "group                         1.115987e-04 6.311983e-01\n",
       "sex                           4.583428e-05 7.579117e-01\n",
       "group:sex                     3.308883e-04 4.113881e-01\n",
       "time                          9.293929e-02 3.354813e-02\n",
       "group:time                    2.941074e-02 3.044451e-01\n",
       "sex:time                      3.796677e-03 8.186475e-01\n",
       "group:sex:time                1.440054e-02 5.316331e-01\n",
       "condition                     6.310318e-04 5.538226e-01\n",
       "group:condition               7.677941e-04 5.141435e-01\n",
       "sex:condition                 1.372665e-03 3.851257e-01\n",
       "group:sex:condition           2.483967e-03 2.464107e-01\n",
       "type                          1.773519e-01 6.394553e-05\n",
       "group:type                    6.156908e-03 3.920923e-01\n",
       "sex:type                      4.147335e-03 4.813839e-01\n",
       "group:sex:type                1.085433e-04 9.088750e-01\n",
       "time:condition                3.555646e-03 3.445725e-01\n",
       "group:time:condition          4.868473e-04 8.820693e-01\n",
       "sex:time:condition            4.567093e-03 2.514922e-01\n",
       "group:sex:time:condition      1.304692e-03 6.923095e-01\n",
       "time:type                     1.970506e-02 8.308490e-02\n",
       "group:time:type               1.750737e-02 1.103226e-01\n",
       "sex:time:type                 1.008799e-03 9.077220e-01\n",
       "group:sex:time:type           3.042924e-03 7.143936e-01\n",
       "condition:type                6.404344e-02 3.159514e-03\n",
       "group:condition:type          5.836487e-03 3.318691e-01\n",
       "sex:condition:type            1.090675e-02 1.885431e-01\n",
       "group:sex:condition:type      2.807200e-05 9.457823e-01\n",
       "time:condition:type           1.080713e-03 7.631778e-01\n",
       "group:time:condition:type     2.466078e-03 5.008897e-01\n",
       "sex:time:condition:type       2.670041e-03 4.698393e-01\n",
       "group:sex:time:condition:type 3.838546e-03 3.242902e-01"
      ]
     },
     "metadata": {},
     "output_type": "display_data"
    }
   ],
   "source": [
    "model1$anova_table"
   ]
  },
  {
   "cell_type": "markdown",
   "id": "e6b9b6d7",
   "metadata": {},
   "source": [
    "# post hoc tests:"
   ]
  },
  {
   "cell_type": "code",
   "execution_count": 13,
   "id": "65b2cd56",
   "metadata": {},
   "outputs": [
    {
     "data": {
      "text/plain": [
       " type   emmean     SE df lower.CL upper.CL\n",
       " relax  -0.417 0.0844 18   -0.595   -0.240\n",
       " stress  0.634 0.1213 18    0.379    0.889\n",
       "\n",
       "Results are averaged over the levels of: group, sex, condition, time \n",
       "Confidence level used: 0.95 "
      ]
     },
     "metadata": {},
     "output_type": "display_data"
    },
    {
     "data": {
      "text/plain": [
       " contrast       estimate    SE df t.ratio p.value\n",
       " relax - stress    -1.05 0.203 18  -5.173  0.0001\n",
       "\n",
       "Results are averaged over the levels of: group, sex, condition, time "
      ]
     },
     "metadata": {},
     "output_type": "display_data"
    }
   ],
   "source": [
    "m1_ph <- emmeans(model1, \"type\") # defining here which variables plus their interaction I would like to include in my posthoc-Tests\n",
    "m1_ph\n",
    "pairs(m1_ph) # gives you a massive table with all pair comparisons between the two significant factors, with p-values already corrected for multiple testing\n",
    "\n",
    "# to combine pairs of factor levels define contrasts:\n",
    "# e.g. test phases -1 to 3 against phases 4 to 7, but define that for each of the runs"
   ]
  },
  {
   "cell_type": "code",
   "execution_count": 14,
   "id": "6c33abaa",
   "metadata": {},
   "outputs": [
    {
     "data": {
      "text/plain": [
       " time emmean    SE df lower.CL upper.CL\n",
       " X1_1  0.491 0.212 18   0.0452   0.9365\n",
       " X1_2 -0.261 0.182 18  -0.6434   0.1218\n",
       " X2_1  0.450 0.175 18   0.0819   0.8173\n",
       " X2_2 -0.247 0.147 18  -0.5560   0.0625\n",
       "\n",
       "Results are averaged over the levels of: group, sex, type, condition \n",
       "Confidence level used: 0.95 "
      ]
     },
     "metadata": {},
     "output_type": "display_data"
    },
    {
     "data": {
      "text/plain": [
       " contrast    estimate    SE df t.ratio p.value\n",
       " X1_1 - X1_2   0.7517 0.391 18   1.920  0.2548\n",
       " X1_1 - X2_1   0.0413 0.199 18   0.207  0.9967\n",
       " X1_1 - X2_2   0.7377 0.301 18   2.452  0.1027\n",
       " X1_2 - X2_1  -0.7104 0.304 18  -2.339  0.1261\n",
       " X1_2 - X2_2  -0.0140 0.186 18  -0.075  0.9998\n",
       " X2_1 - X2_2   0.6964 0.320 18   2.179  0.1669\n",
       "\n",
       "Results are averaged over the levels of: group, sex, type, condition \n",
       "P value adjustment: tukey method for comparing a family of 4 estimates "
      ]
     },
     "metadata": {},
     "output_type": "display_data"
    }
   ],
   "source": [
    "m2_ph <- emmeans(model1, \"time\") # defining here which variables plus their interaction I would like to include in my posthoc-Tests\n",
    "m2_ph\n",
    "pairs(m2_ph) # gives you a massive table with all pair comparisons between the two significant factors, with p-values already corrected for multiple testing\n",
    "\n",
    "# to combine pairs of factor levels define contrasts:\n",
    "# e.g. test phases -1 to 3 against phases 4 to 7, but define that for each of the runs"
   ]
  },
  {
   "cell_type": "code",
   "execution_count": 15,
   "id": "0078aed6",
   "metadata": {},
   "outputs": [
    {
     "data": {
      "text/plain": [
       "time = X1_1:\n",
       " group  emmean    SE df lower.CL upper.CL\n",
       " Musik  0.7503 0.271 18   0.1813   1.3193\n",
       " Sound  0.2315 0.327 18  -0.4546   0.9175\n",
       "\n",
       "time = X1_2:\n",
       " group  emmean    SE df lower.CL upper.CL\n",
       " Musik -0.5580 0.232 18  -1.0465  -0.0695\n",
       " Sound  0.0364 0.280 18  -0.5525   0.6254\n",
       "\n",
       "time = X2_1:\n",
       " group  emmean    SE df lower.CL upper.CL\n",
       " Musik  0.4343 0.223 18  -0.0351   0.9038\n",
       " Sound  0.4649 0.269 18  -0.1011   1.0310\n",
       "\n",
       "time = X2_2:\n",
       " group  emmean    SE df lower.CL upper.CL\n",
       " Musik -0.2415 0.188 18  -0.6364   0.1534\n",
       " Sound -0.2521 0.227 18  -0.7282   0.2240\n",
       "\n",
       "Results are averaged over the levels of: sex, type, condition \n",
       "Confidence level used: 0.95 "
      ]
     },
     "metadata": {},
     "output_type": "display_data"
    },
    {
     "data": {
      "text/plain": [
       "time = X1_1:\n",
       " contrast      estimate    SE df t.ratio p.value\n",
       " Musik - Sound   0.5188 0.424 18   1.223  0.2371\n",
       "\n",
       "time = X1_2:\n",
       " contrast      estimate    SE df t.ratio p.value\n",
       " Musik - Sound  -0.5944 0.364 18  -1.632  0.1200\n",
       "\n",
       "time = X2_1:\n",
       " contrast      estimate    SE df t.ratio p.value\n",
       " Musik - Sound  -0.0306 0.350 18  -0.088  0.9312\n",
       "\n",
       "time = X2_2:\n",
       " contrast      estimate    SE df t.ratio p.value\n",
       " Musik - Sound   0.0106 0.294 18   0.036  0.9717\n",
       "\n",
       "Results are averaged over the levels of: sex, type, condition "
      ]
     },
     "metadata": {},
     "output_type": "display_data"
    }
   ],
   "source": [
    "m3_ph <- emmeans(model1, \"group\", \"time\") # defining here which variables plus their interaction I would like to include in my posthoc-Tests\n",
    "m3_ph\n",
    "pairs(m3_ph) # gives you a massive table with all pair comparisons between the two significant factors, with p-values already corrected for multiple testing\n",
    "\n",
    "# to combine pairs of factor levels define contrasts:\n",
    "# e.g. test phases -1 to 3 against phases 4 to 7, but define that for each of the runs"
   ]
  },
  {
   "cell_type": "code",
   "execution_count": 16,
   "id": "dfd6d650",
   "metadata": {},
   "outputs": [
    {
     "data": {
      "text/plain": [
       "type = relax:\n",
       " condition  emmean     SE df lower.CL upper.CL\n",
       " math      -0.7419 0.1430 18   -1.042   -0.441\n",
       " rotation  -0.0928 0.0955 18   -0.293    0.108\n",
       "\n",
       "type = stress:\n",
       " condition  emmean     SE df lower.CL upper.CL\n",
       " math       0.9015 0.1824 18    0.518    1.285\n",
       " rotation   0.3662 0.1414 18    0.069    0.663\n",
       "\n",
       "Results are averaged over the levels of: group, sex, time \n",
       "Confidence level used: 0.95 "
      ]
     },
     "metadata": {},
     "output_type": "display_data"
    },
    {
     "data": {
      "text/plain": [
       "type = relax:\n",
       " contrast        estimate    SE df t.ratio p.value\n",
       " math - rotation   -0.649 0.175 18  -3.708  0.0016\n",
       "\n",
       "type = stress:\n",
       " contrast        estimate    SE df t.ratio p.value\n",
       " math - rotation    0.535 0.218 18   2.452  0.0246\n",
       "\n",
       "Results are averaged over the levels of: group, sex, time "
      ]
     },
     "metadata": {},
     "output_type": "display_data"
    }
   ],
   "source": [
    "m4_ph <- emmeans(model1, \"condition\", \"type\") # defining here which variables plus their interaction I would like to include in my posthoc-Tests\n",
    "m4_ph\n",
    "pairs(m4_ph) # gives you a massive table with all pair comparisons between the two significant factors, with p-values already corrected for multiple testing\n",
    "\n",
    "# to combine pairs of factor levels define contrasts:\n",
    "# e.g. test phases -1 to 3 against phases 4 to 7, but define that for each of the runs"
   ]
  },
  {
   "cell_type": "code",
   "execution_count": 23,
   "id": "b3fe3454",
   "metadata": {},
   "outputs": [
    {
     "data": {
      "text/plain": [
       " contrast   estimate     SE df t.ratio p.value\n",
       " run1vsrun2   0.0272 0.0379 18   0.718  0.4818\n",
       " run1_wdh     1.4481 0.6035 18   2.400  0.0549\n",
       "\n",
       "Results are averaged over the levels of: group, sex, type, condition \n",
       "P value adjustment: holm method for 2 tests "
      ]
     },
     "metadata": {},
     "output_type": "display_data"
    }
   ],
   "source": [
    "c1 <- list(run1vsrun2 = c(1, 1, -1, -1), \n",
    "           run1_wdh = c(1, -1, 1, -1)\n",
    "        # this vector gives each line in the object 'm1_ph' a weight\n",
    "          )\n",
    "\n",
    "# if several contrasts are defined, these go into a list of vectors and each get their own name.\n",
    "  \n",
    "contrast(m2_ph, c1, adjust = \"holm\") # here we define how to adjust the alpha-level, specified here is the Bonferroni-Holm correction, \n",
    "                                     # which is less strict than the Bonferroni correction\n",
    "\n",
    "# and we see: there is a difference, t(20) = 3.222, p = 0.0043"
   ]
  },
  {
   "cell_type": "markdown",
   "id": "15d1d650",
   "metadata": {},
   "source": [
    "plots"
   ]
  },
  {
   "cell_type": "code",
   "execution_count": 18,
   "id": "712ed8d9",
   "metadata": {},
   "outputs": [
    {
     "data": {
      "image/png": "[encoded data removed]",
      "text/plain": [
       "plot without title"
      ]
     },
     "metadata": {
      "image/png": {
       "height": 420,
       "width": 420
      }
     },
     "output_type": "display_data"
    }
   ],
   "source": [
    "p_groupxtime1 <- ggboxplot(\n",
    "  d_long_new, x = \"time\", y = \"eda\" ,ylab= \"eda(μS)\", \n",
    "  color = \"group\", palette = c(\"#00AFBB\", \"#E7B800\")\n",
    ")\n",
    "p_groupxtime1"
   ]
  },
  {
   "cell_type": "code",
   "execution_count": 19,
   "id": "ed313286",
   "metadata": {},
   "outputs": [
    {
     "data": {
      "image/png": "[encoded data removed]",
      "text/plain": [
       "plot without title"
      ]
     },
     "metadata": {
      "image/png": {
       "height": 420,
       "width": 420
      }
     },
     "output_type": "display_data"
    }
   ],
   "source": [
    "p_groupxtime2 <- ggboxplot(\n",
    "  d_long_new, x = \"time\", y = \"eda\", ylab= \"eda(μS)\", \n",
    "  palette = c(\"#4e07fc\",\"#00AFBB\", \"#FC4E07\", \"#E7B800\" ), color = \"time\", shape = \"time\"\n",
    ")\n",
    "p_groupxtime2\n"
   ]
  },
  {
   "cell_type": "code",
   "execution_count": 20,
   "id": "34f7ed25",
   "metadata": {},
   "outputs": [
    {
     "data": {
      "image/png": "[encoded data removed]",
      "text/plain": [
       "plot without title"
      ]
     },
     "metadata": {
      "image/png": {
       "height": 420,
       "width": 420
      }
     },
     "output_type": "display_data"
    }
   ],
   "source": [
    "p_groupxtime3 <- ggboxplot(\n",
    "  d_long_new, x = \"type\", y = \"eda\", ylab= \"eda(μS)\", \n",
    "  palette = c(\"#00AFBB\", \"#E7B800\"), color = \"type\", shape = \"type\"\n",
    ")\n",
    "p_groupxtime3"
   ]
  },
  {
   "cell_type": "code",
   "execution_count": 21,
   "id": "1522a9e8",
   "metadata": {},
   "outputs": [
    {
     "data": {
      "image/png": "[encoded data removed]",
      "text/plain": [
       "plot without title"
      ]
     },
     "metadata": {
      "image/png": {
       "height": 420,
       "width": 420
      }
     },
     "output_type": "display_data"
    }
   ],
   "source": [
    "p_groupxtime4  <- ggboxplot(\n",
    "  d_long_new, x = \"type\", y = \"eda\", facet.by = \"condition\", ylab= \"eda(μS)\", \n",
    "  color = \"condition\", palette = c(\"#00AFBB\", \"#E7B800\"), title = \"type-condition-Interaktion\",\n",
    ")\n",
    "p_groupxtime4"
   ]
  },
  {
   "cell_type": "code",
   "execution_count": 22,
   "id": "13d641a4",
   "metadata": {},
   "outputs": [
    {
     "data": {
      "text/html": [
       "<strong>png:</strong> 2"
      ],
      "text/latex": [
       "\\textbf{png:} 2"
      ],
      "text/markdown": [
       "**png:** 2"
      ],
      "text/plain": [
       "png \n",
       "  2 "
      ]
     },
     "metadata": {},
     "output_type": "display_data"
    },
    {
     "data": {
      "text/html": [
       "<strong>png:</strong> 2"
      ],
      "text/latex": [
       "\\textbf{png:} 2"
      ],
      "text/markdown": [
       "**png:** 2"
      ],
      "text/plain": [
       "png \n",
       "  2 "
      ]
     },
     "metadata": {},
     "output_type": "display_data"
    },
    {
     "data": {
      "text/html": [
       "<strong>png:</strong> 2"
      ],
      "text/latex": [
       "\\textbf{png:} 2"
      ],
      "text/markdown": [
       "**png:** 2"
      ],
      "text/plain": [
       "png \n",
       "  2 "
      ]
     },
     "metadata": {},
     "output_type": "display_data"
    },
    {
     "data": {
      "text/html": [
       "<strong>png:</strong> 2"
      ],
      "text/latex": [
       "\\textbf{png:} 2"
      ],
      "text/markdown": [
       "**png:** 2"
      ],
      "text/plain": [
       "png \n",
       "  2 "
      ]
     },
     "metadata": {},
     "output_type": "display_data"
    }
   ],
   "source": [
    "# PNG device\n",
    "png(\"plot1.png\")\n",
    "plot(p_groupxtime1)\n",
    "dev.off()\n",
    "\n",
    "png(\"plot2.png\")\n",
    "plot(p_groupxtime2)\n",
    "dev.off()\n",
    "\n",
    "png(\"plot3.png\")\n",
    "plot(p_groupxtime3)\n",
    "dev.off()\n",
    "\n",
    "png(\"plot4.png\")\n",
    "plot(p_groupxtime4)\n",
    "dev.off()"
   ]
  }
 ],
 "metadata": {
  "kernelspec": {
   "display_name": "R",
   "language": "R",
   "name": "ir"
  },
  "language_info": {
   "codemirror_mode": "r",
   "file_extension": ".r",
   "mimetype": "text/x-r-source",
   "name": "R",
   "pygments_lexer": "r",
   "version": "4.1.2"
  }
 },
 "nbformat": 4,
 "nbformat_minor": 5
}
