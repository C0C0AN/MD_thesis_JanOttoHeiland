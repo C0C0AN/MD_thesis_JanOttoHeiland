{
 "cells": [
  {
   "cell_type": "code",
   "execution_count": 5,
   "id": "b371c5ab",
   "metadata": {},
   "outputs": [],
   "source": [
    "library(readr) # for importing the datafile\n",
    "library(afex) # for the anova\n",
    "library(tidyverse) # for restructuring it\n",
    "library(rstatix) # for testing assumptions\n",
    "library(ggpubr) # for graphical test of normality\n",
    "library(emmeans) # for post-hoc tests\n"
   ]
  },
  {
   "cell_type": "code",
   "execution_count": 6,
   "id": "2f55bad9",
   "metadata": {},
   "outputs": [
    {
     "data": {
      "text/html": [],
      "text/latex": [],
      "text/markdown": [],
      "text/plain": [
       "character(0)"
      ]
     },
     "metadata": {},
     "output_type": "display_data"
    },
    {
     "data": {
      "text/html": [
       "<table class=\"dataframe\">\n",
       "<caption>A data.frame: 24000 × 11</caption>\n",
       "<thead>\n",
       "\t<tr><th scope=col>resp</th><th scope=col>run</th><th scope=col>prob_id</th><th scope=col>time</th><th scope=col>phase</th><th scope=col>repetition</th><th scope=col>trial_type</th><th scope=col>condition</th><th scope=col>age</th><th scope=col>sex</th><th scope=col>group</th></tr>\n",
       "\t<tr><th scope=col>&lt;dbl&gt;</th><th scope=col>&lt;int&gt;</th><th scope=col>&lt;int&gt;</th><th scope=col>&lt;dbl&gt;</th><th scope=col>&lt;int&gt;</th><th scope=col>&lt;int&gt;</th><th scope=col>&lt;chr&gt;</th><th scope=col>&lt;chr&gt;</th><th scope=col>&lt;int&gt;</th><th scope=col>&lt;chr&gt;</th><th scope=col>&lt;chr&gt;</th></tr>\n",
       "</thead>\n",
       "<tbody>\n",
       "\t<tr><td>-2.56</td><td>1</td><td> 3</td><td>0.00</td><td>-1</td><td>0</td><td>pause</td><td>pause</td><td>23</td><td>M</td><td>Musik</td></tr>\n",
       "\t<tr><td> 1.88</td><td>1</td><td> 5</td><td>0.00</td><td>-1</td><td>0</td><td>pause</td><td>pause</td><td>25</td><td>M</td><td>Musik</td></tr>\n",
       "\t<tr><td>-3.57</td><td>1</td><td> 6</td><td>0.00</td><td>-1</td><td>0</td><td>pause</td><td>pause</td><td>27</td><td>M</td><td>Musik</td></tr>\n",
       "\t<tr><td>-2.27</td><td>1</td><td> 7</td><td>0.00</td><td>-1</td><td>0</td><td>pause</td><td>pause</td><td>24</td><td>F</td><td>Sound</td></tr>\n",
       "\t<tr><td>-2.22</td><td>1</td><td> 8</td><td>0.00</td><td>-1</td><td>0</td><td>pause</td><td>pause</td><td>27</td><td>M</td><td>Sound</td></tr>\n",
       "\t<tr><td>-4.51</td><td>1</td><td> 9</td><td>0.00</td><td>-1</td><td>0</td><td>pause</td><td>pause</td><td>30</td><td>M</td><td>Sound</td></tr>\n",
       "\t<tr><td> 1.36</td><td>1</td><td>11</td><td>0.00</td><td>-1</td><td>0</td><td>pause</td><td>pause</td><td>23</td><td>F</td><td>Musik</td></tr>\n",
       "\t<tr><td>-0.62</td><td>1</td><td>12</td><td>0.00</td><td>-1</td><td>0</td><td>pause</td><td>pause</td><td>21</td><td>F</td><td>Sound</td></tr>\n",
       "\t<tr><td>-0.61</td><td>1</td><td>13</td><td>0.00</td><td>-1</td><td>0</td><td>pause</td><td>pause</td><td>22</td><td>F</td><td>Sound</td></tr>\n",
       "\t<tr><td>-1.15</td><td>1</td><td>14</td><td>0.00</td><td>-1</td><td>0</td><td>pause</td><td>pause</td><td>23</td><td>F</td><td>Musik</td></tr>\n",
       "\t<tr><td>-4.68</td><td>1</td><td>15</td><td>0.00</td><td>-1</td><td>0</td><td>pause</td><td>pause</td><td>23</td><td>F</td><td>Sound</td></tr>\n",
       "\t<tr><td>-0.77</td><td>1</td><td>16</td><td>0.00</td><td>-1</td><td>0</td><td>pause</td><td>pause</td><td>25</td><td>M</td><td>Musik</td></tr>\n",
       "\t<tr><td>-2.92</td><td>1</td><td>17</td><td>0.00</td><td>-1</td><td>0</td><td>pause</td><td>pause</td><td>23</td><td>M</td><td>Sound</td></tr>\n",
       "\t<tr><td>-0.77</td><td>1</td><td>19</td><td>0.00</td><td>-1</td><td>0</td><td>pause</td><td>pause</td><td>24</td><td>M</td><td>Musik</td></tr>\n",
       "\t<tr><td>-1.84</td><td>1</td><td>20</td><td>0.00</td><td>-1</td><td>0</td><td>pause</td><td>pause</td><td>22</td><td>F</td><td>Sound</td></tr>\n",
       "\t<tr><td>-4.79</td><td>1</td><td>21</td><td>0.00</td><td>-1</td><td>0</td><td>pause</td><td>pause</td><td>24</td><td>M</td><td>Sound</td></tr>\n",
       "\t<tr><td>-0.20</td><td>1</td><td>22</td><td>0.00</td><td>-1</td><td>0</td><td>pause</td><td>pause</td><td>21</td><td>M</td><td>Sound</td></tr>\n",
       "\t<tr><td> 0.61</td><td>1</td><td>23</td><td>0.00</td><td>-1</td><td>0</td><td>pause</td><td>pause</td><td>23</td><td>F</td><td>Musik</td></tr>\n",
       "\t<tr><td>-0.77</td><td>1</td><td>24</td><td>0.00</td><td>-1</td><td>0</td><td>pause</td><td>pause</td><td>25</td><td>M</td><td>Musik</td></tr>\n",
       "\t<tr><td> 1.21</td><td>1</td><td>25</td><td>0.00</td><td>-1</td><td>0</td><td>pause</td><td>pause</td><td>28</td><td>M</td><td>Sound</td></tr>\n",
       "\t<tr><td>-2.91</td><td>1</td><td>26</td><td>0.00</td><td>-1</td><td>0</td><td>pause</td><td>pause</td><td>24</td><td>M</td><td>Musik</td></tr>\n",
       "\t<tr><td>-0.19</td><td>1</td><td>27</td><td>0.00</td><td>-1</td><td>0</td><td>pause</td><td>pause</td><td>22</td><td>F</td><td>Musik</td></tr>\n",
       "\t<tr><td>-1.95</td><td>1</td><td>28</td><td>0.00</td><td>-1</td><td>0</td><td>pause</td><td>pause</td><td>24</td><td>F</td><td>Musik</td></tr>\n",
       "\t<tr><td>-1.83</td><td>1</td><td>29</td><td>0.00</td><td>-1</td><td>0</td><td>pause</td><td>pause</td><td>25</td><td>M</td><td>Musik</td></tr>\n",
       "\t<tr><td>-0.32</td><td>1</td><td> 3</td><td>1.45</td><td>-1</td><td>0</td><td>pause</td><td>pause</td><td>23</td><td>M</td><td>Musik</td></tr>\n",
       "\t<tr><td> 0.41</td><td>1</td><td> 5</td><td>1.45</td><td>-1</td><td>0</td><td>pause</td><td>pause</td><td>25</td><td>M</td><td>Musik</td></tr>\n",
       "\t<tr><td>-1.58</td><td>1</td><td> 6</td><td>1.45</td><td>-1</td><td>0</td><td>pause</td><td>pause</td><td>27</td><td>M</td><td>Musik</td></tr>\n",
       "\t<tr><td>-3.38</td><td>1</td><td> 7</td><td>1.45</td><td>-1</td><td>0</td><td>pause</td><td>pause</td><td>24</td><td>F</td><td>Sound</td></tr>\n",
       "\t<tr><td>-3.18</td><td>1</td><td> 8</td><td>1.45</td><td>-1</td><td>0</td><td>pause</td><td>pause</td><td>27</td><td>M</td><td>Sound</td></tr>\n",
       "\t<tr><td>-5.79</td><td>1</td><td> 9</td><td>1.45</td><td>-1</td><td>0</td><td>pause</td><td>pause</td><td>30</td><td>M</td><td>Sound</td></tr>\n",
       "\t<tr><td>⋮</td><td>⋮</td><td>⋮</td><td>⋮</td><td>⋮</td><td>⋮</td><td>⋮</td><td>⋮</td><td>⋮</td><td>⋮</td><td>⋮</td></tr>\n",
       "\t<tr><td>17.92</td><td>2</td><td>24</td><td>722.10</td><td>-1</td><td>0</td><td>pause</td><td>pause</td><td>25</td><td>M</td><td>Musik</td></tr>\n",
       "\t<tr><td>14.63</td><td>2</td><td>25</td><td>722.10</td><td>-1</td><td>0</td><td>pause</td><td>pause</td><td>28</td><td>M</td><td>Sound</td></tr>\n",
       "\t<tr><td>24.35</td><td>2</td><td>26</td><td>722.10</td><td>-1</td><td>0</td><td>pause</td><td>pause</td><td>24</td><td>M</td><td>Musik</td></tr>\n",
       "\t<tr><td>14.76</td><td>2</td><td>27</td><td>722.10</td><td>-1</td><td>0</td><td>pause</td><td>pause</td><td>22</td><td>F</td><td>Musik</td></tr>\n",
       "\t<tr><td> 8.59</td><td>2</td><td>28</td><td>722.10</td><td>-1</td><td>0</td><td>pause</td><td>pause</td><td>24</td><td>F</td><td>Musik</td></tr>\n",
       "\t<tr><td> 4.25</td><td>2</td><td>29</td><td>722.10</td><td>-1</td><td>0</td><td>pause</td><td>pause</td><td>25</td><td>M</td><td>Musik</td></tr>\n",
       "\t<tr><td>20.65</td><td>2</td><td> 3</td><td>723.55</td><td>-1</td><td>0</td><td>pause</td><td>pause</td><td>23</td><td>M</td><td>Musik</td></tr>\n",
       "\t<tr><td>15.78</td><td>2</td><td> 5</td><td>723.55</td><td>-1</td><td>0</td><td>pause</td><td>pause</td><td>25</td><td>M</td><td>Musik</td></tr>\n",
       "\t<tr><td>12.93</td><td>2</td><td> 6</td><td>723.55</td><td>-1</td><td>0</td><td>pause</td><td>pause</td><td>27</td><td>M</td><td>Musik</td></tr>\n",
       "\t<tr><td>11.88</td><td>2</td><td> 7</td><td>723.55</td><td>-1</td><td>0</td><td>pause</td><td>pause</td><td>24</td><td>F</td><td>Sound</td></tr>\n",
       "\t<tr><td> 9.49</td><td>2</td><td> 8</td><td>723.55</td><td>-1</td><td>0</td><td>pause</td><td>pause</td><td>27</td><td>M</td><td>Sound</td></tr>\n",
       "\t<tr><td>10.09</td><td>2</td><td> 9</td><td>723.55</td><td>-1</td><td>0</td><td>pause</td><td>pause</td><td>30</td><td>M</td><td>Sound</td></tr>\n",
       "\t<tr><td> 6.64</td><td>2</td><td>11</td><td>723.55</td><td>-1</td><td>0</td><td>pause</td><td>pause</td><td>23</td><td>F</td><td>Musik</td></tr>\n",
       "\t<tr><td>15.38</td><td>2</td><td>12</td><td>723.55</td><td>-1</td><td>0</td><td>pause</td><td>pause</td><td>21</td><td>F</td><td>Sound</td></tr>\n",
       "\t<tr><td>12.45</td><td>2</td><td>13</td><td>723.55</td><td>-1</td><td>0</td><td>pause</td><td>pause</td><td>22</td><td>F</td><td>Sound</td></tr>\n",
       "\t<tr><td>16.72</td><td>2</td><td>14</td><td>723.55</td><td>-1</td><td>0</td><td>pause</td><td>pause</td><td>23</td><td>F</td><td>Musik</td></tr>\n",
       "\t<tr><td>13.86</td><td>2</td><td>15</td><td>723.55</td><td>-1</td><td>0</td><td>pause</td><td>pause</td><td>23</td><td>F</td><td>Sound</td></tr>\n",
       "\t<tr><td> 5.43</td><td>2</td><td>16</td><td>723.55</td><td>-1</td><td>0</td><td>pause</td><td>pause</td><td>25</td><td>M</td><td>Musik</td></tr>\n",
       "\t<tr><td>25.05</td><td>2</td><td>17</td><td>723.55</td><td>-1</td><td>0</td><td>pause</td><td>pause</td><td>23</td><td>M</td><td>Sound</td></tr>\n",
       "\t<tr><td> 5.43</td><td>2</td><td>19</td><td>723.55</td><td>-1</td><td>0</td><td>pause</td><td>pause</td><td>24</td><td>M</td><td>Musik</td></tr>\n",
       "\t<tr><td> 7.58</td><td>2</td><td>20</td><td>723.55</td><td>-1</td><td>0</td><td>pause</td><td>pause</td><td>22</td><td>F</td><td>Sound</td></tr>\n",
       "\t<tr><td>21.52</td><td>2</td><td>21</td><td>723.55</td><td>-1</td><td>0</td><td>pause</td><td>pause</td><td>24</td><td>M</td><td>Sound</td></tr>\n",
       "\t<tr><td>10.32</td><td>2</td><td>22</td><td>723.55</td><td>-1</td><td>0</td><td>pause</td><td>pause</td><td>21</td><td>M</td><td>Sound</td></tr>\n",
       "\t<tr><td>13.12</td><td>2</td><td>23</td><td>723.55</td><td>-1</td><td>0</td><td>pause</td><td>pause</td><td>23</td><td>F</td><td>Musik</td></tr>\n",
       "\t<tr><td>18.56</td><td>2</td><td>24</td><td>723.55</td><td>-1</td><td>0</td><td>pause</td><td>pause</td><td>25</td><td>M</td><td>Musik</td></tr>\n",
       "\t<tr><td>21.27</td><td>2</td><td>25</td><td>723.55</td><td>-1</td><td>0</td><td>pause</td><td>pause</td><td>28</td><td>M</td><td>Sound</td></tr>\n",
       "\t<tr><td>31.52</td><td>2</td><td>26</td><td>723.55</td><td>-1</td><td>0</td><td>pause</td><td>pause</td><td>24</td><td>M</td><td>Musik</td></tr>\n",
       "\t<tr><td>14.56</td><td>2</td><td>27</td><td>723.55</td><td>-1</td><td>0</td><td>pause</td><td>pause</td><td>22</td><td>F</td><td>Musik</td></tr>\n",
       "\t<tr><td> 8.41</td><td>2</td><td>28</td><td>723.55</td><td>-1</td><td>0</td><td>pause</td><td>pause</td><td>24</td><td>F</td><td>Musik</td></tr>\n",
       "\t<tr><td>10.97</td><td>2</td><td>29</td><td>723.55</td><td>-1</td><td>0</td><td>pause</td><td>pause</td><td>25</td><td>M</td><td>Musik</td></tr>\n",
       "</tbody>\n",
       "</table>\n"
      ],
      "text/latex": [
       "A data.frame: 24000 × 11\n",
       "\\begin{tabular}{lllllllllll}\n",
       " resp & run & prob\\_id & time & phase & repetition & trial\\_type & condition & age & sex & group\\\\\n",
       " <dbl> & <int> & <int> & <dbl> & <int> & <int> & <chr> & <chr> & <int> & <chr> & <chr>\\\\\n",
       "\\hline\n",
       "\t -2.56 & 1 &  3 & 0.00 & -1 & 0 & pause & pause & 23 & M & Musik\\\\\n",
       "\t  1.88 & 1 &  5 & 0.00 & -1 & 0 & pause & pause & 25 & M & Musik\\\\\n",
       "\t -3.57 & 1 &  6 & 0.00 & -1 & 0 & pause & pause & 27 & M & Musik\\\\\n",
       "\t -2.27 & 1 &  7 & 0.00 & -1 & 0 & pause & pause & 24 & F & Sound\\\\\n",
       "\t -2.22 & 1 &  8 & 0.00 & -1 & 0 & pause & pause & 27 & M & Sound\\\\\n",
       "\t -4.51 & 1 &  9 & 0.00 & -1 & 0 & pause & pause & 30 & M & Sound\\\\\n",
       "\t  1.36 & 1 & 11 & 0.00 & -1 & 0 & pause & pause & 23 & F & Musik\\\\\n",
       "\t -0.62 & 1 & 12 & 0.00 & -1 & 0 & pause & pause & 21 & F & Sound\\\\\n",
       "\t -0.61 & 1 & 13 & 0.00 & -1 & 0 & pause & pause & 22 & F & Sound\\\\\n",
       "\t -1.15 & 1 & 14 & 0.00 & -1 & 0 & pause & pause & 23 & F & Musik\\\\\n",
       "\t -4.68 & 1 & 15 & 0.00 & -1 & 0 & pause & pause & 23 & F & Sound\\\\\n",
       "\t -0.77 & 1 & 16 & 0.00 & -1 & 0 & pause & pause & 25 & M & Musik\\\\\n",
       "\t -2.92 & 1 & 17 & 0.00 & -1 & 0 & pause & pause & 23 & M & Sound\\\\\n",
       "\t -0.77 & 1 & 19 & 0.00 & -1 & 0 & pause & pause & 24 & M & Musik\\\\\n",
       "\t -1.84 & 1 & 20 & 0.00 & -1 & 0 & pause & pause & 22 & F & Sound\\\\\n",
       "\t -4.79 & 1 & 21 & 0.00 & -1 & 0 & pause & pause & 24 & M & Sound\\\\\n",
       "\t -0.20 & 1 & 22 & 0.00 & -1 & 0 & pause & pause & 21 & M & Sound\\\\\n",
       "\t  0.61 & 1 & 23 & 0.00 & -1 & 0 & pause & pause & 23 & F & Musik\\\\\n",
       "\t -0.77 & 1 & 24 & 0.00 & -1 & 0 & pause & pause & 25 & M & Musik\\\\\n",
       "\t  1.21 & 1 & 25 & 0.00 & -1 & 0 & pause & pause & 28 & M & Sound\\\\\n",
       "\t -2.91 & 1 & 26 & 0.00 & -1 & 0 & pause & pause & 24 & M & Musik\\\\\n",
       "\t -0.19 & 1 & 27 & 0.00 & -1 & 0 & pause & pause & 22 & F & Musik\\\\\n",
       "\t -1.95 & 1 & 28 & 0.00 & -1 & 0 & pause & pause & 24 & F & Musik\\\\\n",
       "\t -1.83 & 1 & 29 & 0.00 & -1 & 0 & pause & pause & 25 & M & Musik\\\\\n",
       "\t -0.32 & 1 &  3 & 1.45 & -1 & 0 & pause & pause & 23 & M & Musik\\\\\n",
       "\t  0.41 & 1 &  5 & 1.45 & -1 & 0 & pause & pause & 25 & M & Musik\\\\\n",
       "\t -1.58 & 1 &  6 & 1.45 & -1 & 0 & pause & pause & 27 & M & Musik\\\\\n",
       "\t -3.38 & 1 &  7 & 1.45 & -1 & 0 & pause & pause & 24 & F & Sound\\\\\n",
       "\t -3.18 & 1 &  8 & 1.45 & -1 & 0 & pause & pause & 27 & M & Sound\\\\\n",
       "\t -5.79 & 1 &  9 & 1.45 & -1 & 0 & pause & pause & 30 & M & Sound\\\\\n",
       "\t ⋮ & ⋮ & ⋮ & ⋮ & ⋮ & ⋮ & ⋮ & ⋮ & ⋮ & ⋮ & ⋮\\\\\n",
       "\t 17.92 & 2 & 24 & 722.10 & -1 & 0 & pause & pause & 25 & M & Musik\\\\\n",
       "\t 14.63 & 2 & 25 & 722.10 & -1 & 0 & pause & pause & 28 & M & Sound\\\\\n",
       "\t 24.35 & 2 & 26 & 722.10 & -1 & 0 & pause & pause & 24 & M & Musik\\\\\n",
       "\t 14.76 & 2 & 27 & 722.10 & -1 & 0 & pause & pause & 22 & F & Musik\\\\\n",
       "\t  8.59 & 2 & 28 & 722.10 & -1 & 0 & pause & pause & 24 & F & Musik\\\\\n",
       "\t  4.25 & 2 & 29 & 722.10 & -1 & 0 & pause & pause & 25 & M & Musik\\\\\n",
       "\t 20.65 & 2 &  3 & 723.55 & -1 & 0 & pause & pause & 23 & M & Musik\\\\\n",
       "\t 15.78 & 2 &  5 & 723.55 & -1 & 0 & pause & pause & 25 & M & Musik\\\\\n",
       "\t 12.93 & 2 &  6 & 723.55 & -1 & 0 & pause & pause & 27 & M & Musik\\\\\n",
       "\t 11.88 & 2 &  7 & 723.55 & -1 & 0 & pause & pause & 24 & F & Sound\\\\\n",
       "\t  9.49 & 2 &  8 & 723.55 & -1 & 0 & pause & pause & 27 & M & Sound\\\\\n",
       "\t 10.09 & 2 &  9 & 723.55 & -1 & 0 & pause & pause & 30 & M & Sound\\\\\n",
       "\t  6.64 & 2 & 11 & 723.55 & -1 & 0 & pause & pause & 23 & F & Musik\\\\\n",
       "\t 15.38 & 2 & 12 & 723.55 & -1 & 0 & pause & pause & 21 & F & Sound\\\\\n",
       "\t 12.45 & 2 & 13 & 723.55 & -1 & 0 & pause & pause & 22 & F & Sound\\\\\n",
       "\t 16.72 & 2 & 14 & 723.55 & -1 & 0 & pause & pause & 23 & F & Musik\\\\\n",
       "\t 13.86 & 2 & 15 & 723.55 & -1 & 0 & pause & pause & 23 & F & Sound\\\\\n",
       "\t  5.43 & 2 & 16 & 723.55 & -1 & 0 & pause & pause & 25 & M & Musik\\\\\n",
       "\t 25.05 & 2 & 17 & 723.55 & -1 & 0 & pause & pause & 23 & M & Sound\\\\\n",
       "\t  5.43 & 2 & 19 & 723.55 & -1 & 0 & pause & pause & 24 & M & Musik\\\\\n",
       "\t  7.58 & 2 & 20 & 723.55 & -1 & 0 & pause & pause & 22 & F & Sound\\\\\n",
       "\t 21.52 & 2 & 21 & 723.55 & -1 & 0 & pause & pause & 24 & M & Sound\\\\\n",
       "\t 10.32 & 2 & 22 & 723.55 & -1 & 0 & pause & pause & 21 & M & Sound\\\\\n",
       "\t 13.12 & 2 & 23 & 723.55 & -1 & 0 & pause & pause & 23 & F & Musik\\\\\n",
       "\t 18.56 & 2 & 24 & 723.55 & -1 & 0 & pause & pause & 25 & M & Musik\\\\\n",
       "\t 21.27 & 2 & 25 & 723.55 & -1 & 0 & pause & pause & 28 & M & Sound\\\\\n",
       "\t 31.52 & 2 & 26 & 723.55 & -1 & 0 & pause & pause & 24 & M & Musik\\\\\n",
       "\t 14.56 & 2 & 27 & 723.55 & -1 & 0 & pause & pause & 22 & F & Musik\\\\\n",
       "\t  8.41 & 2 & 28 & 723.55 & -1 & 0 & pause & pause & 24 & F & Musik\\\\\n",
       "\t 10.97 & 2 & 29 & 723.55 & -1 & 0 & pause & pause & 25 & M & Musik\\\\\n",
       "\\end{tabular}\n"
      ],
      "text/markdown": [
       "\n",
       "A data.frame: 24000 × 11\n",
       "\n",
       "| resp &lt;dbl&gt; | run &lt;int&gt; | prob_id &lt;int&gt; | time &lt;dbl&gt; | phase &lt;int&gt; | repetition &lt;int&gt; | trial_type &lt;chr&gt; | condition &lt;chr&gt; | age &lt;int&gt; | sex &lt;chr&gt; | group &lt;chr&gt; |\n",
       "|---|---|---|---|---|---|---|---|---|---|---|\n",
       "| -2.56 | 1 |  3 | 0.00 | -1 | 0 | pause | pause | 23 | M | Musik |\n",
       "|  1.88 | 1 |  5 | 0.00 | -1 | 0 | pause | pause | 25 | M | Musik |\n",
       "| -3.57 | 1 |  6 | 0.00 | -1 | 0 | pause | pause | 27 | M | Musik |\n",
       "| -2.27 | 1 |  7 | 0.00 | -1 | 0 | pause | pause | 24 | F | Sound |\n",
       "| -2.22 | 1 |  8 | 0.00 | -1 | 0 | pause | pause | 27 | M | Sound |\n",
       "| -4.51 | 1 |  9 | 0.00 | -1 | 0 | pause | pause | 30 | M | Sound |\n",
       "|  1.36 | 1 | 11 | 0.00 | -1 | 0 | pause | pause | 23 | F | Musik |\n",
       "| -0.62 | 1 | 12 | 0.00 | -1 | 0 | pause | pause | 21 | F | Sound |\n",
       "| -0.61 | 1 | 13 | 0.00 | -1 | 0 | pause | pause | 22 | F | Sound |\n",
       "| -1.15 | 1 | 14 | 0.00 | -1 | 0 | pause | pause | 23 | F | Musik |\n",
       "| -4.68 | 1 | 15 | 0.00 | -1 | 0 | pause | pause | 23 | F | Sound |\n",
       "| -0.77 | 1 | 16 | 0.00 | -1 | 0 | pause | pause | 25 | M | Musik |\n",
       "| -2.92 | 1 | 17 | 0.00 | -1 | 0 | pause | pause | 23 | M | Sound |\n",
       "| -0.77 | 1 | 19 | 0.00 | -1 | 0 | pause | pause | 24 | M | Musik |\n",
       "| -1.84 | 1 | 20 | 0.00 | -1 | 0 | pause | pause | 22 | F | Sound |\n",
       "| -4.79 | 1 | 21 | 0.00 | -1 | 0 | pause | pause | 24 | M | Sound |\n",
       "| -0.20 | 1 | 22 | 0.00 | -1 | 0 | pause | pause | 21 | M | Sound |\n",
       "|  0.61 | 1 | 23 | 0.00 | -1 | 0 | pause | pause | 23 | F | Musik |\n",
       "| -0.77 | 1 | 24 | 0.00 | -1 | 0 | pause | pause | 25 | M | Musik |\n",
       "|  1.21 | 1 | 25 | 0.00 | -1 | 0 | pause | pause | 28 | M | Sound |\n",
       "| -2.91 | 1 | 26 | 0.00 | -1 | 0 | pause | pause | 24 | M | Musik |\n",
       "| -0.19 | 1 | 27 | 0.00 | -1 | 0 | pause | pause | 22 | F | Musik |\n",
       "| -1.95 | 1 | 28 | 0.00 | -1 | 0 | pause | pause | 24 | F | Musik |\n",
       "| -1.83 | 1 | 29 | 0.00 | -1 | 0 | pause | pause | 25 | M | Musik |\n",
       "| -0.32 | 1 |  3 | 1.45 | -1 | 0 | pause | pause | 23 | M | Musik |\n",
       "|  0.41 | 1 |  5 | 1.45 | -1 | 0 | pause | pause | 25 | M | Musik |\n",
       "| -1.58 | 1 |  6 | 1.45 | -1 | 0 | pause | pause | 27 | M | Musik |\n",
       "| -3.38 | 1 |  7 | 1.45 | -1 | 0 | pause | pause | 24 | F | Sound |\n",
       "| -3.18 | 1 |  8 | 1.45 | -1 | 0 | pause | pause | 27 | M | Sound |\n",
       "| -5.79 | 1 |  9 | 1.45 | -1 | 0 | pause | pause | 30 | M | Sound |\n",
       "| ⋮ | ⋮ | ⋮ | ⋮ | ⋮ | ⋮ | ⋮ | ⋮ | ⋮ | ⋮ | ⋮ |\n",
       "| 17.92 | 2 | 24 | 722.10 | -1 | 0 | pause | pause | 25 | M | Musik |\n",
       "| 14.63 | 2 | 25 | 722.10 | -1 | 0 | pause | pause | 28 | M | Sound |\n",
       "| 24.35 | 2 | 26 | 722.10 | -1 | 0 | pause | pause | 24 | M | Musik |\n",
       "| 14.76 | 2 | 27 | 722.10 | -1 | 0 | pause | pause | 22 | F | Musik |\n",
       "|  8.59 | 2 | 28 | 722.10 | -1 | 0 | pause | pause | 24 | F | Musik |\n",
       "|  4.25 | 2 | 29 | 722.10 | -1 | 0 | pause | pause | 25 | M | Musik |\n",
       "| 20.65 | 2 |  3 | 723.55 | -1 | 0 | pause | pause | 23 | M | Musik |\n",
       "| 15.78 | 2 |  5 | 723.55 | -1 | 0 | pause | pause | 25 | M | Musik |\n",
       "| 12.93 | 2 |  6 | 723.55 | -1 | 0 | pause | pause | 27 | M | Musik |\n",
       "| 11.88 | 2 |  7 | 723.55 | -1 | 0 | pause | pause | 24 | F | Sound |\n",
       "|  9.49 | 2 |  8 | 723.55 | -1 | 0 | pause | pause | 27 | M | Sound |\n",
       "| 10.09 | 2 |  9 | 723.55 | -1 | 0 | pause | pause | 30 | M | Sound |\n",
       "|  6.64 | 2 | 11 | 723.55 | -1 | 0 | pause | pause | 23 | F | Musik |\n",
       "| 15.38 | 2 | 12 | 723.55 | -1 | 0 | pause | pause | 21 | F | Sound |\n",
       "| 12.45 | 2 | 13 | 723.55 | -1 | 0 | pause | pause | 22 | F | Sound |\n",
       "| 16.72 | 2 | 14 | 723.55 | -1 | 0 | pause | pause | 23 | F | Musik |\n",
       "| 13.86 | 2 | 15 | 723.55 | -1 | 0 | pause | pause | 23 | F | Sound |\n",
       "|  5.43 | 2 | 16 | 723.55 | -1 | 0 | pause | pause | 25 | M | Musik |\n",
       "| 25.05 | 2 | 17 | 723.55 | -1 | 0 | pause | pause | 23 | M | Sound |\n",
       "|  5.43 | 2 | 19 | 723.55 | -1 | 0 | pause | pause | 24 | M | Musik |\n",
       "|  7.58 | 2 | 20 | 723.55 | -1 | 0 | pause | pause | 22 | F | Sound |\n",
       "| 21.52 | 2 | 21 | 723.55 | -1 | 0 | pause | pause | 24 | M | Sound |\n",
       "| 10.32 | 2 | 22 | 723.55 | -1 | 0 | pause | pause | 21 | M | Sound |\n",
       "| 13.12 | 2 | 23 | 723.55 | -1 | 0 | pause | pause | 23 | F | Musik |\n",
       "| 18.56 | 2 | 24 | 723.55 | -1 | 0 | pause | pause | 25 | M | Musik |\n",
       "| 21.27 | 2 | 25 | 723.55 | -1 | 0 | pause | pause | 28 | M | Sound |\n",
       "| 31.52 | 2 | 26 | 723.55 | -1 | 0 | pause | pause | 24 | M | Musik |\n",
       "| 14.56 | 2 | 27 | 723.55 | -1 | 0 | pause | pause | 22 | F | Musik |\n",
       "|  8.41 | 2 | 28 | 723.55 | -1 | 0 | pause | pause | 24 | F | Musik |\n",
       "| 10.97 | 2 | 29 | 723.55 | -1 | 0 | pause | pause | 25 | M | Musik |\n",
       "\n"
      ],
      "text/plain": [
       "      resp  run prob_id time   phase repetition trial_type condition age sex\n",
       "1     -2.56 1    3      0.00   -1    0          pause      pause     23  M  \n",
       "2      1.88 1    5      0.00   -1    0          pause      pause     25  M  \n",
       "3     -3.57 1    6      0.00   -1    0          pause      pause     27  M  \n",
       "4     -2.27 1    7      0.00   -1    0          pause      pause     24  F  \n",
       "5     -2.22 1    8      0.00   -1    0          pause      pause     27  M  \n",
       "6     -4.51 1    9      0.00   -1    0          pause      pause     30  M  \n",
       "7      1.36 1   11      0.00   -1    0          pause      pause     23  F  \n",
       "8     -0.62 1   12      0.00   -1    0          pause      pause     21  F  \n",
       "9     -0.61 1   13      0.00   -1    0          pause      pause     22  F  \n",
       "10    -1.15 1   14      0.00   -1    0          pause      pause     23  F  \n",
       "11    -4.68 1   15      0.00   -1    0          pause      pause     23  F  \n",
       "12    -0.77 1   16      0.00   -1    0          pause      pause     25  M  \n",
       "13    -2.92 1   17      0.00   -1    0          pause      pause     23  M  \n",
       "14    -0.77 1   19      0.00   -1    0          pause      pause     24  M  \n",
       "15    -1.84 1   20      0.00   -1    0          pause      pause     22  F  \n",
       "16    -4.79 1   21      0.00   -1    0          pause      pause     24  M  \n",
       "17    -0.20 1   22      0.00   -1    0          pause      pause     21  M  \n",
       "18     0.61 1   23      0.00   -1    0          pause      pause     23  F  \n",
       "19    -0.77 1   24      0.00   -1    0          pause      pause     25  M  \n",
       "20     1.21 1   25      0.00   -1    0          pause      pause     28  M  \n",
       "21    -2.91 1   26      0.00   -1    0          pause      pause     24  M  \n",
       "22    -0.19 1   27      0.00   -1    0          pause      pause     22  F  \n",
       "23    -1.95 1   28      0.00   -1    0          pause      pause     24  F  \n",
       "24    -1.83 1   29      0.00   -1    0          pause      pause     25  M  \n",
       "25    -0.32 1    3      1.45   -1    0          pause      pause     23  M  \n",
       "26     0.41 1    5      1.45   -1    0          pause      pause     25  M  \n",
       "27    -1.58 1    6      1.45   -1    0          pause      pause     27  M  \n",
       "28    -3.38 1    7      1.45   -1    0          pause      pause     24  F  \n",
       "29    -3.18 1    8      1.45   -1    0          pause      pause     27  M  \n",
       "30    -5.79 1    9      1.45   -1    0          pause      pause     30  M  \n",
       "⋮     ⋮     ⋮   ⋮       ⋮      ⋮     ⋮          ⋮          ⋮         ⋮   ⋮  \n",
       "23971 17.92 2   24      722.10 -1    0          pause      pause     25  M  \n",
       "23972 14.63 2   25      722.10 -1    0          pause      pause     28  M  \n",
       "23973 24.35 2   26      722.10 -1    0          pause      pause     24  M  \n",
       "23974 14.76 2   27      722.10 -1    0          pause      pause     22  F  \n",
       "23975  8.59 2   28      722.10 -1    0          pause      pause     24  F  \n",
       "23976  4.25 2   29      722.10 -1    0          pause      pause     25  M  \n",
       "23977 20.65 2    3      723.55 -1    0          pause      pause     23  M  \n",
       "23978 15.78 2    5      723.55 -1    0          pause      pause     25  M  \n",
       "23979 12.93 2    6      723.55 -1    0          pause      pause     27  M  \n",
       "23980 11.88 2    7      723.55 -1    0          pause      pause     24  F  \n",
       "23981  9.49 2    8      723.55 -1    0          pause      pause     27  M  \n",
       "23982 10.09 2    9      723.55 -1    0          pause      pause     30  M  \n",
       "23983  6.64 2   11      723.55 -1    0          pause      pause     23  F  \n",
       "23984 15.38 2   12      723.55 -1    0          pause      pause     21  F  \n",
       "23985 12.45 2   13      723.55 -1    0          pause      pause     22  F  \n",
       "23986 16.72 2   14      723.55 -1    0          pause      pause     23  F  \n",
       "23987 13.86 2   15      723.55 -1    0          pause      pause     23  F  \n",
       "23988  5.43 2   16      723.55 -1    0          pause      pause     25  M  \n",
       "23989 25.05 2   17      723.55 -1    0          pause      pause     23  M  \n",
       "23990  5.43 2   19      723.55 -1    0          pause      pause     24  M  \n",
       "23991  7.58 2   20      723.55 -1    0          pause      pause     22  F  \n",
       "23992 21.52 2   21      723.55 -1    0          pause      pause     24  M  \n",
       "23993 10.32 2   22      723.55 -1    0          pause      pause     21  M  \n",
       "23994 13.12 2   23      723.55 -1    0          pause      pause     23  F  \n",
       "23995 18.56 2   24      723.55 -1    0          pause      pause     25  M  \n",
       "23996 21.27 2   25      723.55 -1    0          pause      pause     28  M  \n",
       "23997 31.52 2   26      723.55 -1    0          pause      pause     24  M  \n",
       "23998 14.56 2   27      723.55 -1    0          pause      pause     22  F  \n",
       "23999  8.41 2   28      723.55 -1    0          pause      pause     24  F  \n",
       "24000 10.97 2   29      723.55 -1    0          pause      pause     25  M  \n",
       "      group\n",
       "1     Musik\n",
       "2     Musik\n",
       "3     Musik\n",
       "4     Sound\n",
       "5     Sound\n",
       "6     Sound\n",
       "7     Musik\n",
       "8     Sound\n",
       "9     Sound\n",
       "10    Musik\n",
       "11    Sound\n",
       "12    Musik\n",
       "13    Sound\n",
       "14    Musik\n",
       "15    Sound\n",
       "16    Sound\n",
       "17    Sound\n",
       "18    Musik\n",
       "19    Musik\n",
       "20    Sound\n",
       "21    Musik\n",
       "22    Musik\n",
       "23    Musik\n",
       "24    Musik\n",
       "25    Musik\n",
       "26    Musik\n",
       "27    Musik\n",
       "28    Sound\n",
       "29    Sound\n",
       "30    Sound\n",
       "⋮     ⋮    \n",
       "23971 Musik\n",
       "23972 Sound\n",
       "23973 Musik\n",
       "23974 Musik\n",
       "23975 Musik\n",
       "23976 Musik\n",
       "23977 Musik\n",
       "23978 Musik\n",
       "23979 Musik\n",
       "23980 Sound\n",
       "23981 Sound\n",
       "23982 Sound\n",
       "23983 Musik\n",
       "23984 Sound\n",
       "23985 Sound\n",
       "23986 Musik\n",
       "23987 Sound\n",
       "23988 Musik\n",
       "23989 Sound\n",
       "23990 Musik\n",
       "23991 Sound\n",
       "23992 Sound\n",
       "23993 Sound\n",
       "23994 Musik\n",
       "23995 Musik\n",
       "23996 Sound\n",
       "23997 Musik\n",
       "23998 Musik\n",
       "23999 Musik\n",
       "24000 Musik"
      ]
     },
     "metadata": {},
     "output_type": "display_data"
    }
   ],
   "source": [
    "d_long <- read.csv(\"resp_long_baseline.tsv\", sep=\"\\t\")\n",
    "names(d_long)[names(d_long) == \"reso\"] \n",
    "d_long\n"
   ]
  },
  {
   "cell_type": "code",
   "execution_count": 8,
   "id": "40723b87",
   "metadata": {},
   "outputs": [],
   "source": [
    "d_long$type <- as.factor(d_long$trial_type)\n",
    "d_long$condition <- as.factor(d_long$condition)\n",
    "d_long$group <- as.factor(d_long$group)\n",
    "d_long$sex <- as.factor(d_long$sex)\n",
    "d_long$eda <- as.numeric(d_long$resp)\n",
    "d_long$time<- as.factor(paste(d_long$run, d_long$repetition, sep = \"_\"))\n",
    "\n",
    "# bad data structure. See what happens if I eliminate all rows that are \"pause\" in \"condition\"\n",
    "\n",
    "d_long_new <- d_long[d_long$condition != \"pause\", ] "
   ]
  },
  {
   "cell_type": "code",
   "execution_count": 22,
   "id": "dd59b82d",
   "metadata": {},
   "outputs": [],
   "source": [
    "#round(eda)\n",
    "#apply(is.na(d_long_new), 2, which)"
   ]
  },
  {
   "cell_type": "code",
   "execution_count": 57,
   "id": "55f1948c",
   "metadata": {},
   "outputs": [
    {
     "data": {
      "text/html": [
       "<table class=\"dataframe\">\n",
       "<caption>A matrix: 0 × 2 of type int</caption>\n",
       "<thead>\n",
       "\t<tr><th scope=col>row</th><th scope=col>col</th></tr>\n",
       "</thead>\n",
       "<tbody>\n",
       "</tbody>\n",
       "</table>\n"
      ],
      "text/latex": [
       "A matrix: 0 × 2 of type int\n",
       "\\begin{tabular}{ll}\n",
       " row & col\\\\\n",
       "\\hline\n",
       "\\end{tabular}\n"
      ],
      "text/markdown": [
       "\n",
       "A matrix: 0 × 2 of type int\n",
       "\n",
       "| row | col |\n",
       "|---|---|\n",
       "\n"
      ],
      "text/plain": [
       "     row col"
      ]
     },
     "metadata": {},
     "output_type": "display_data"
    }
   ],
   "source": [
    "which(is.na(d_long_new), arr.ind = TRUE)\n",
    "d_long_new = na.omit(d_long_new)"
   ]
  },
  {
   "cell_type": "code",
   "execution_count": 50,
   "id": "4c32041d",
   "metadata": {},
   "outputs": [
    {
     "data": {
      "text/plain": [
       "      resp            run         prob_id       time          phase      \n",
       " Min.   : 3.68   Min.   :1.0   Min.   : 3.00   1_0:   0   Min.   :0.000  \n",
       " 1st Qu.:15.62   1st Qu.:1.0   1st Qu.:10.50   1_1:3936   1st Qu.:1.000  \n",
       " Median :19.18   Median :1.5   Median :16.50   1_2:3912   Median :3.000  \n",
       " Mean   :19.45   Mean   :1.5   Mean   :16.67   2_0:   0   Mean   :3.498  \n",
       " 3rd Qu.:23.14   3rd Qu.:2.0   3rd Qu.:23.25   2_1:3936   3rd Qu.:6.000  \n",
       " Max.   :36.88   Max.   :2.0   Max.   :29.00   2_2:3912   Max.   :7.000  \n",
       "   repetition     trial_type           condition         age        sex     \n",
       " Min.   :1.000   Length:15696       math    :7872   Min.   :21.00   F:6540  \n",
       " 1st Qu.:1.000   Class :character   pause   :   0   1st Qu.:23.00   M:9156  \n",
       " Median :1.000   Mode  :character   rotation:7824   Median :24.00           \n",
       " Mean   :1.498                                      Mean   :24.08           \n",
       " 3rd Qu.:2.000                                      3rd Qu.:25.00           \n",
       " Max.   :2.000                                      Max.   :30.00           \n",
       "   group          type           eda       \n",
       " Musik:8502   pause :   0   Min.   : 3.68  \n",
       " Sound:7194   relax :7848   1st Qu.:15.62  \n",
       "              stress:7848   Median :19.18  \n",
       "                            Mean   :19.45  \n",
       "                            3rd Qu.:23.14  \n",
       "                            Max.   :36.88  "
      ]
     },
     "metadata": {},
     "output_type": "display_data"
    }
   ],
   "source": [
    "summary(d_long_new)"
   ]
  },
  {
   "cell_type": "code",
   "execution_count": 191,
   "id": "7b0cae2c",
   "metadata": {},
   "outputs": [],
   "source": [
    "# our four factors are:\n",
    "# music vs sound (d_long$group, btw)\n",
    "# stress vs relaxation (d_long$type, wth)\n",
    "# maths vs rotation (d_long$condition, wth)\n",
    "# run + repetition within run (d_long$time, wth)\n",
    "# \n",
    "# covariates are:\n",
    "# age (d_long$age, btw)\n",
    "# gender (d_long$sex, btw)"
   ]
  },
  {
   "cell_type": "markdown",
   "id": "1ed66384",
   "metadata": {},
   "source": [
    "Test assumptions"
   ]
  },
  {
   "cell_type": "code",
   "execution_count": 54,
   "id": "6e644011",
   "metadata": {
    "scrolled": true
   },
   "outputs": [
    {
     "data": {
      "text/html": [
       "<table class=\"dataframe\">\n",
       "<caption>A tibble: 32 × 7</caption>\n",
       "<thead>\n",
       "\t<tr><th scope=col>time</th><th scope=col>condition</th><th scope=col>group</th><th scope=col>type</th><th scope=col>variable</th><th scope=col>statistic</th><th scope=col>p</th></tr>\n",
       "\t<tr><th scope=col>&lt;fct&gt;</th><th scope=col>&lt;fct&gt;</th><th scope=col>&lt;fct&gt;</th><th scope=col>&lt;fct&gt;</th><th scope=col>&lt;chr&gt;</th><th scope=col>&lt;dbl&gt;</th><th scope=col>&lt;dbl&gt;</th></tr>\n",
       "</thead>\n",
       "<tbody>\n",
       "\t<tr><td>1_1</td><td>math    </td><td>Musik</td><td>relax </td><td>resp</td><td>0.9833326</td><td>8.735580e-06</td></tr>\n",
       "\t<tr><td>1_1</td><td>math    </td><td>Sound</td><td>relax </td><td>resp</td><td>0.9568434</td><td>3.223034e-10</td></tr>\n",
       "\t<tr><td>1_1</td><td>rotation</td><td>Musik</td><td>relax </td><td>resp</td><td>0.9738596</td><td>3.726929e-08</td></tr>\n",
       "\t<tr><td>1_1</td><td>rotation</td><td>Sound</td><td>relax </td><td>resp</td><td>0.9579096</td><td>4.700481e-10</td></tr>\n",
       "\t<tr><td>1_1</td><td>math    </td><td>Musik</td><td>stress</td><td>resp</td><td>0.9842629</td><td>1.615747e-05</td></tr>\n",
       "\t<tr><td>1_1</td><td>math    </td><td>Sound</td><td>stress</td><td>resp</td><td>0.9755010</td><td>7.021233e-07</td></tr>\n",
       "\t<tr><td>1_1</td><td>rotation</td><td>Musik</td><td>stress</td><td>resp</td><td>0.9901794</td><td>1.264871e-03</td></tr>\n",
       "\t<tr><td>1_1</td><td>rotation</td><td>Sound</td><td>stress</td><td>resp</td><td>0.9464420</td><td>1.072795e-11</td></tr>\n",
       "\t<tr><td>1_2</td><td>math    </td><td>Musik</td><td>relax </td><td>resp</td><td>0.9880785</td><td>2.441438e-04</td></tr>\n",
       "\t<tr><td>1_2</td><td>math    </td><td>Sound</td><td>relax </td><td>resp</td><td>0.9754922</td><td>6.991166e-07</td></tr>\n",
       "\t<tr><td>1_2</td><td>rotation</td><td>Musik</td><td>relax </td><td>resp</td><td>0.9589036</td><td>7.285114e-11</td></tr>\n",
       "\t<tr><td>1_2</td><td>rotation</td><td>Sound</td><td>relax </td><td>resp</td><td>0.9797782</td><td>8.259295e-06</td></tr>\n",
       "\t<tr><td>1_2</td><td>math    </td><td>Musik</td><td>stress</td><td>resp</td><td>0.9023479</td><td>5.789441e-18</td></tr>\n",
       "\t<tr><td>1_2</td><td>math    </td><td>Sound</td><td>stress</td><td>resp</td><td>0.9468740</td><td>1.224566e-11</td></tr>\n",
       "\t<tr><td>1_2</td><td>rotation</td><td>Musik</td><td>stress</td><td>resp</td><td>0.9428566</td><td>1.861529e-13</td></tr>\n",
       "\t<tr><td>1_2</td><td>rotation</td><td>Sound</td><td>stress</td><td>resp</td><td>0.9837007</td><td>5.921013e-05</td></tr>\n",
       "\t<tr><td>2_1</td><td>math    </td><td>Musik</td><td>relax </td><td>resp</td><td>0.9848655</td><td>2.428651e-05</td></tr>\n",
       "\t<tr><td>2_1</td><td>math    </td><td>Sound</td><td>relax </td><td>resp</td><td>0.9362456</td><td>5.688558e-13</td></tr>\n",
       "\t<tr><td>2_1</td><td>rotation</td><td>Musik</td><td>relax </td><td>resp</td><td>0.9938697</td><td>2.980163e-02</td></tr>\n",
       "\t<tr><td>2_1</td><td>rotation</td><td>Sound</td><td>relax </td><td>resp</td><td>0.9365686</td><td>6.211937e-13</td></tr>\n",
       "\t<tr><td>2_1</td><td>math    </td><td>Musik</td><td>stress</td><td>resp</td><td>0.9522870</td><td>4.231994e-12</td></tr>\n",
       "\t<tr><td>2_1</td><td>math    </td><td>Sound</td><td>stress</td><td>resp</td><td>0.9543787</td><td>1.377221e-10</td></tr>\n",
       "\t<tr><td>2_1</td><td>rotation</td><td>Musik</td><td>stress</td><td>resp</td><td>0.9747559</td><td>5.926163e-08</td></tr>\n",
       "\t<tr><td>2_1</td><td>rotation</td><td>Sound</td><td>stress</td><td>resp</td><td>0.9503284</td><td>3.621961e-11</td></tr>\n",
       "\t<tr><td>2_2</td><td>math    </td><td>Musik</td><td>relax </td><td>resp</td><td>0.9921572</td><td>6.612920e-03</td></tr>\n",
       "\t<tr><td>2_2</td><td>math    </td><td>Sound</td><td>relax </td><td>resp</td><td>0.9056214</td><td>4.095939e-16</td></tr>\n",
       "\t<tr><td>2_2</td><td>rotation</td><td>Musik</td><td>relax </td><td>resp</td><td>0.9905943</td><td>1.774436e-03</td></tr>\n",
       "\t<tr><td>2_2</td><td>rotation</td><td>Sound</td><td>relax </td><td>resp</td><td>0.9243304</td><td>2.683285e-14</td></tr>\n",
       "\t<tr><td>2_2</td><td>math    </td><td>Musik</td><td>stress</td><td>resp</td><td>0.9648342</td><td>5.476188e-10</td></tr>\n",
       "\t<tr><td>2_2</td><td>math    </td><td>Sound</td><td>stress</td><td>resp</td><td>0.9105646</td><td>1.163143e-15</td></tr>\n",
       "\t<tr><td>2_2</td><td>rotation</td><td>Musik</td><td>stress</td><td>resp</td><td>0.9810735</td><td>2.777135e-06</td></tr>\n",
       "\t<tr><td>2_2</td><td>rotation</td><td>Sound</td><td>stress</td><td>resp</td><td>0.9396580</td><td>2.254506e-12</td></tr>\n",
       "</tbody>\n",
       "</table>\n"
      ],
      "text/latex": [
       "A tibble: 32 × 7\n",
       "\\begin{tabular}{lllllll}\n",
       " time & condition & group & type & variable & statistic & p\\\\\n",
       " <fct> & <fct> & <fct> & <fct> & <chr> & <dbl> & <dbl>\\\\\n",
       "\\hline\n",
       "\t 1\\_1 & math     & Musik & relax  & resp & 0.9833326 & 8.735580e-06\\\\\n",
       "\t 1\\_1 & math     & Sound & relax  & resp & 0.9568434 & 3.223034e-10\\\\\n",
       "\t 1\\_1 & rotation & Musik & relax  & resp & 0.9738596 & 3.726929e-08\\\\\n",
       "\t 1\\_1 & rotation & Sound & relax  & resp & 0.9579096 & 4.700481e-10\\\\\n",
       "\t 1\\_1 & math     & Musik & stress & resp & 0.9842629 & 1.615747e-05\\\\\n",
       "\t 1\\_1 & math     & Sound & stress & resp & 0.9755010 & 7.021233e-07\\\\\n",
       "\t 1\\_1 & rotation & Musik & stress & resp & 0.9901794 & 1.264871e-03\\\\\n",
       "\t 1\\_1 & rotation & Sound & stress & resp & 0.9464420 & 1.072795e-11\\\\\n",
       "\t 1\\_2 & math     & Musik & relax  & resp & 0.9880785 & 2.441438e-04\\\\\n",
       "\t 1\\_2 & math     & Sound & relax  & resp & 0.9754922 & 6.991166e-07\\\\\n",
       "\t 1\\_2 & rotation & Musik & relax  & resp & 0.9589036 & 7.285114e-11\\\\\n",
       "\t 1\\_2 & rotation & Sound & relax  & resp & 0.9797782 & 8.259295e-06\\\\\n",
       "\t 1\\_2 & math     & Musik & stress & resp & 0.9023479 & 5.789441e-18\\\\\n",
       "\t 1\\_2 & math     & Sound & stress & resp & 0.9468740 & 1.224566e-11\\\\\n",
       "\t 1\\_2 & rotation & Musik & stress & resp & 0.9428566 & 1.861529e-13\\\\\n",
       "\t 1\\_2 & rotation & Sound & stress & resp & 0.9837007 & 5.921013e-05\\\\\n",
       "\t 2\\_1 & math     & Musik & relax  & resp & 0.9848655 & 2.428651e-05\\\\\n",
       "\t 2\\_1 & math     & Sound & relax  & resp & 0.9362456 & 5.688558e-13\\\\\n",
       "\t 2\\_1 & rotation & Musik & relax  & resp & 0.9938697 & 2.980163e-02\\\\\n",
       "\t 2\\_1 & rotation & Sound & relax  & resp & 0.9365686 & 6.211937e-13\\\\\n",
       "\t 2\\_1 & math     & Musik & stress & resp & 0.9522870 & 4.231994e-12\\\\\n",
       "\t 2\\_1 & math     & Sound & stress & resp & 0.9543787 & 1.377221e-10\\\\\n",
       "\t 2\\_1 & rotation & Musik & stress & resp & 0.9747559 & 5.926163e-08\\\\\n",
       "\t 2\\_1 & rotation & Sound & stress & resp & 0.9503284 & 3.621961e-11\\\\\n",
       "\t 2\\_2 & math     & Musik & relax  & resp & 0.9921572 & 6.612920e-03\\\\\n",
       "\t 2\\_2 & math     & Sound & relax  & resp & 0.9056214 & 4.095939e-16\\\\\n",
       "\t 2\\_2 & rotation & Musik & relax  & resp & 0.9905943 & 1.774436e-03\\\\\n",
       "\t 2\\_2 & rotation & Sound & relax  & resp & 0.9243304 & 2.683285e-14\\\\\n",
       "\t 2\\_2 & math     & Musik & stress & resp & 0.9648342 & 5.476188e-10\\\\\n",
       "\t 2\\_2 & math     & Sound & stress & resp & 0.9105646 & 1.163143e-15\\\\\n",
       "\t 2\\_2 & rotation & Musik & stress & resp & 0.9810735 & 2.777135e-06\\\\\n",
       "\t 2\\_2 & rotation & Sound & stress & resp & 0.9396580 & 2.254506e-12\\\\\n",
       "\\end{tabular}\n"
      ],
      "text/markdown": [
       "\n",
       "A tibble: 32 × 7\n",
       "\n",
       "| time &lt;fct&gt; | condition &lt;fct&gt; | group &lt;fct&gt; | type &lt;fct&gt; | variable &lt;chr&gt; | statistic &lt;dbl&gt; | p &lt;dbl&gt; |\n",
       "|---|---|---|---|---|---|---|\n",
       "| 1_1 | math     | Musik | relax  | resp | 0.9833326 | 8.735580e-06 |\n",
       "| 1_1 | math     | Sound | relax  | resp | 0.9568434 | 3.223034e-10 |\n",
       "| 1_1 | rotation | Musik | relax  | resp | 0.9738596 | 3.726929e-08 |\n",
       "| 1_1 | rotation | Sound | relax  | resp | 0.9579096 | 4.700481e-10 |\n",
       "| 1_1 | math     | Musik | stress | resp | 0.9842629 | 1.615747e-05 |\n",
       "| 1_1 | math     | Sound | stress | resp | 0.9755010 | 7.021233e-07 |\n",
       "| 1_1 | rotation | Musik | stress | resp | 0.9901794 | 1.264871e-03 |\n",
       "| 1_1 | rotation | Sound | stress | resp | 0.9464420 | 1.072795e-11 |\n",
       "| 1_2 | math     | Musik | relax  | resp | 0.9880785 | 2.441438e-04 |\n",
       "| 1_2 | math     | Sound | relax  | resp | 0.9754922 | 6.991166e-07 |\n",
       "| 1_2 | rotation | Musik | relax  | resp | 0.9589036 | 7.285114e-11 |\n",
       "| 1_2 | rotation | Sound | relax  | resp | 0.9797782 | 8.259295e-06 |\n",
       "| 1_2 | math     | Musik | stress | resp | 0.9023479 | 5.789441e-18 |\n",
       "| 1_2 | math     | Sound | stress | resp | 0.9468740 | 1.224566e-11 |\n",
       "| 1_2 | rotation | Musik | stress | resp | 0.9428566 | 1.861529e-13 |\n",
       "| 1_2 | rotation | Sound | stress | resp | 0.9837007 | 5.921013e-05 |\n",
       "| 2_1 | math     | Musik | relax  | resp | 0.9848655 | 2.428651e-05 |\n",
       "| 2_1 | math     | Sound | relax  | resp | 0.9362456 | 5.688558e-13 |\n",
       "| 2_1 | rotation | Musik | relax  | resp | 0.9938697 | 2.980163e-02 |\n",
       "| 2_1 | rotation | Sound | relax  | resp | 0.9365686 | 6.211937e-13 |\n",
       "| 2_1 | math     | Musik | stress | resp | 0.9522870 | 4.231994e-12 |\n",
       "| 2_1 | math     | Sound | stress | resp | 0.9543787 | 1.377221e-10 |\n",
       "| 2_1 | rotation | Musik | stress | resp | 0.9747559 | 5.926163e-08 |\n",
       "| 2_1 | rotation | Sound | stress | resp | 0.9503284 | 3.621961e-11 |\n",
       "| 2_2 | math     | Musik | relax  | resp | 0.9921572 | 6.612920e-03 |\n",
       "| 2_2 | math     | Sound | relax  | resp | 0.9056214 | 4.095939e-16 |\n",
       "| 2_2 | rotation | Musik | relax  | resp | 0.9905943 | 1.774436e-03 |\n",
       "| 2_2 | rotation | Sound | relax  | resp | 0.9243304 | 2.683285e-14 |\n",
       "| 2_2 | math     | Musik | stress | resp | 0.9648342 | 5.476188e-10 |\n",
       "| 2_2 | math     | Sound | stress | resp | 0.9105646 | 1.163143e-15 |\n",
       "| 2_2 | rotation | Musik | stress | resp | 0.9810735 | 2.777135e-06 |\n",
       "| 2_2 | rotation | Sound | stress | resp | 0.9396580 | 2.254506e-12 |\n",
       "\n"
      ],
      "text/plain": [
       "   time condition group type   variable statistic p           \n",
       "1  1_1  math      Musik relax  resp     0.9833326 8.735580e-06\n",
       "2  1_1  math      Sound relax  resp     0.9568434 3.223034e-10\n",
       "3  1_1  rotation  Musik relax  resp     0.9738596 3.726929e-08\n",
       "4  1_1  rotation  Sound relax  resp     0.9579096 4.700481e-10\n",
       "5  1_1  math      Musik stress resp     0.9842629 1.615747e-05\n",
       "6  1_1  math      Sound stress resp     0.9755010 7.021233e-07\n",
       "7  1_1  rotation  Musik stress resp     0.9901794 1.264871e-03\n",
       "8  1_1  rotation  Sound stress resp     0.9464420 1.072795e-11\n",
       "9  1_2  math      Musik relax  resp     0.9880785 2.441438e-04\n",
       "10 1_2  math      Sound relax  resp     0.9754922 6.991166e-07\n",
       "11 1_2  rotation  Musik relax  resp     0.9589036 7.285114e-11\n",
       "12 1_2  rotation  Sound relax  resp     0.9797782 8.259295e-06\n",
       "13 1_2  math      Musik stress resp     0.9023479 5.789441e-18\n",
       "14 1_2  math      Sound stress resp     0.9468740 1.224566e-11\n",
       "15 1_2  rotation  Musik stress resp     0.9428566 1.861529e-13\n",
       "16 1_2  rotation  Sound stress resp     0.9837007 5.921013e-05\n",
       "17 2_1  math      Musik relax  resp     0.9848655 2.428651e-05\n",
       "18 2_1  math      Sound relax  resp     0.9362456 5.688558e-13\n",
       "19 2_1  rotation  Musik relax  resp     0.9938697 2.980163e-02\n",
       "20 2_1  rotation  Sound relax  resp     0.9365686 6.211937e-13\n",
       "21 2_1  math      Musik stress resp     0.9522870 4.231994e-12\n",
       "22 2_1  math      Sound stress resp     0.9543787 1.377221e-10\n",
       "23 2_1  rotation  Musik stress resp     0.9747559 5.926163e-08\n",
       "24 2_1  rotation  Sound stress resp     0.9503284 3.621961e-11\n",
       "25 2_2  math      Musik relax  resp     0.9921572 6.612920e-03\n",
       "26 2_2  math      Sound relax  resp     0.9056214 4.095939e-16\n",
       "27 2_2  rotation  Musik relax  resp     0.9905943 1.774436e-03\n",
       "28 2_2  rotation  Sound relax  resp     0.9243304 2.683285e-14\n",
       "29 2_2  math      Musik stress resp     0.9648342 5.476188e-10\n",
       "30 2_2  math      Sound stress resp     0.9105646 1.163143e-15\n",
       "31 2_2  rotation  Musik stress resp     0.9810735 2.777135e-06\n",
       "32 2_2  rotation  Sound stress resp     0.9396580 2.254506e-12"
      ]
     },
     "metadata": {},
     "output_type": "display_data"
    },
    {
     "data": {
      "text/plain": [
       "      resp            run         prob_id       time          phase      \n",
       " Min.   : 3.68   Min.   :1.0   Min.   : 3.00   1_0:   0   Min.   :0.000  \n",
       " 1st Qu.:15.62   1st Qu.:1.0   1st Qu.:10.50   1_1:3936   1st Qu.:1.000  \n",
       " Median :19.18   Median :1.5   Median :16.50   1_2:3912   Median :3.000  \n",
       " Mean   :19.45   Mean   :1.5   Mean   :16.67   2_0:   0   Mean   :3.498  \n",
       " 3rd Qu.:23.14   3rd Qu.:2.0   3rd Qu.:23.25   2_1:3936   3rd Qu.:6.000  \n",
       " Max.   :36.88   Max.   :2.0   Max.   :29.00   2_2:3912   Max.   :7.000  \n",
       "   repetition     trial_type           condition         age        sex     \n",
       " Min.   :1.000   Length:15696       math    :7872   Min.   :21.00   F:6540  \n",
       " 1st Qu.:1.000   Class :character   pause   :   0   1st Qu.:23.00   M:9156  \n",
       " Median :1.000   Mode  :character   rotation:7824   Median :24.00           \n",
       " Mean   :1.498                                      Mean   :24.08           \n",
       " 3rd Qu.:2.000                                      3rd Qu.:25.00           \n",
       " Max.   :2.000                                      Max.   :30.00           \n",
       "   group          type           eda       \n",
       " Musik:8502   pause :   0   Min.   : 3.68  \n",
       " Sound:7194   relax :7848   1st Qu.:15.62  \n",
       "              stress:7848   Median :19.18  \n",
       "                            Mean   :19.45  \n",
       "                            3rd Qu.:23.14  \n",
       "                            Max.   :36.88  "
      ]
     },
     "metadata": {},
     "output_type": "display_data"
    }
   ],
   "source": [
    "# 1) normality\n",
    "\n",
    "d_long_new %>%\n",
    "  group_by(time, type, condition, group) %>%\n",
    "  shapiro_test(resp)\n",
    "\n",
    "d_long_new %>%\n",
    "  group_by(time, type, condition, group) %>%\n",
    "  summary()"
   ]
  },
  {
   "cell_type": "code",
   "execution_count": 7,
   "id": "184a60b0",
   "metadata": {},
   "outputs": [
    {
     "ename": "ERROR",
     "evalue": "Error in `[.data.frame`(d_long_new, group = \"Musik\"): unused argument (group = \"Musik\")\n",
     "output_type": "error",
     "traceback": [
      "Error in `[.data.frame`(d_long_new, group = \"Musik\"): unused argument (group = \"Musik\")\nTraceback:\n",
      "1. ggqqplot(d_long_new[group = \"Musik\"], \"eda\", ggtheme = theme_bw(), \n .     title = \"Probanden in Musikbedingung\")",
      "2. d_long_new[group = \"Musik\"]"
     ]
    }
   ],
   "source": [
    "ggqqplot(d_long_new[group = \"Musik\"], \"eda\", ggtheme = theme_bw(),\n",
    "         title = 'Probanden in Musikbedingung') +\n",
    "  facet_grid(time ~ type)\n",
    "\n",
    "ggqqplot(d_long_new[group = 'Sound'], \"eda\", ggtheme = theme_bw(),\n",
    "         title = 'Probanden in Soundbedingung') +\n",
    "  facet_grid(condition ~ type)\n",
    "\n",
    "ggqqplot(d_long_new[group = 'Sound'], \"eda\", ggtheme = theme_bw(),\n",
    "         title = 'Probanden in Soundbedingung') +\n",
    "  facet_grid(condition ~ group)\n",
    "\n",
    "ggqqplot(d_long_new[group = 'Sound'], \"eda\", ggtheme = theme_bw(),\n",
    "         title = 'Probanden in Soundbedingung') +\n",
    "  facet_grid(time ~ group)\n",
    "\n",
    "\n",
    "ggqqplot(d_long_new[group = 'Musik'], \"eda\", ggtheme = theme_bw(),\n",
    "         title = 'Probanden in Musikbedingung') +\n",
    "  facet_grid(time ~ type)\n",
    "\n",
    "ggqqplot(d_long_new[group = 'Sound'], \"eda\", ggtheme = theme_bw(),\n",
    "         title = 'Probanden in Soundbedingung') +\n",
    "  facet_grid(condition ~ type)\n",
    "\n",
    "ggqqplot(d_long_new[group = 'Sound'], \"eda\", ggtheme = theme_bw(),\n",
    "         title = 'Probanden in Soundbedingung') +\n",
    "  facet_grid(condition ~ group)\n",
    "\n",
    "ggqqplot(d_long_new[group = 'Sound'], \"eda\", ggtheme = theme_bw(),\n",
    "         title = 'Probanden in Soundbedingung') +\n",
    "  facet_grid(time ~ group)\n",
    "\n",
    "# qqplots show that distribution is mostly OK"
   ]
  },
  {
   "cell_type": "code",
   "execution_count": 41,
   "id": "7655f5c5",
   "metadata": {},
   "outputs": [],
   "source": [
    "# Installing\n",
    "#install.packages(\"readr\")\n",
    "# Loading\n",
    "#library(\"readr\")"
   ]
  },
  {
   "cell_type": "code",
   "execution_count": 104,
   "id": "1e2e0617",
   "metadata": {},
   "outputs": [
    {
     "data": {
      "text/html": [
       "<table class=\"dataframe\">\n",
       "<caption>A tibble: 18 × 6</caption>\n",
       "<thead>\n",
       "\t<tr><th scope=col>run</th><th scope=col>phase</th><th scope=col>df1</th><th scope=col>df2</th><th scope=col>statistic</th><th scope=col>p</th></tr>\n",
       "\t<tr><th scope=col>&lt;int&gt;</th><th scope=col>&lt;int&gt;</th><th scope=col>&lt;int&gt;</th><th scope=col>&lt;int&gt;</th><th scope=col>&lt;dbl&gt;</th><th scope=col>&lt;dbl&gt;</th></tr>\n",
       "</thead>\n",
       "<tbody>\n",
       "\t<tr><td>1</td><td>-1</td><td>1</td><td>4150</td><td>37.1525104</td><td>1.191795e-09</td></tr>\n",
       "\t<tr><td>1</td><td> 0</td><td>1</td><td> 982</td><td>65.7766487</td><td>1.497328e-15</td></tr>\n",
       "\t<tr><td>1</td><td> 1</td><td>1</td><td> 982</td><td>65.0692711</td><td>2.096342e-15</td></tr>\n",
       "\t<tr><td>1</td><td> 2</td><td>1</td><td> 982</td><td>74.6178079</td><td>2.284147e-17</td></tr>\n",
       "\t<tr><td>1</td><td> 3</td><td>1</td><td> 982</td><td> 0.4141819</td><td>5.200048e-01</td></tr>\n",
       "\t<tr><td>1</td><td> 4</td><td>1</td><td> 958</td><td>17.3671741</td><td>3.359651e-05</td></tr>\n",
       "\t<tr><td>1</td><td> 5</td><td>1</td><td> 982</td><td> 4.9189058</td><td>2.679254e-02</td></tr>\n",
       "\t<tr><td>1</td><td> 6</td><td>1</td><td> 982</td><td>32.6792811</td><td>1.441210e-08</td></tr>\n",
       "\t<tr><td>1</td><td> 7</td><td>1</td><td> 982</td><td>23.3876549</td><td>1.536506e-06</td></tr>\n",
       "\t<tr><td>2</td><td>-1</td><td>1</td><td>4150</td><td>40.5857620</td><td>2.086720e-10</td></tr>\n",
       "\t<tr><td>2</td><td> 0</td><td>1</td><td> 982</td><td> 2.4354452</td><td>1.189424e-01</td></tr>\n",
       "\t<tr><td>2</td><td> 1</td><td>1</td><td> 982</td><td>64.6046525</td><td>2.615286e-15</td></tr>\n",
       "\t<tr><td>2</td><td> 2</td><td>1</td><td> 982</td><td>20.0806353</td><td>8.297864e-06</td></tr>\n",
       "\t<tr><td>2</td><td> 3</td><td>1</td><td> 982</td><td>64.4075372</td><td>2.872681e-15</td></tr>\n",
       "\t<tr><td>2</td><td> 4</td><td>1</td><td> 958</td><td>28.6149020</td><td>1.104727e-07</td></tr>\n",
       "\t<tr><td>2</td><td> 5</td><td>1</td><td> 982</td><td>33.6207023</td><td>9.022676e-09</td></tr>\n",
       "\t<tr><td>2</td><td> 6</td><td>1</td><td> 982</td><td> 0.1251991</td><td>7.235386e-01</td></tr>\n",
       "\t<tr><td>2</td><td> 7</td><td>1</td><td> 982</td><td>61.5932478</td><td>1.099998e-14</td></tr>\n",
       "</tbody>\n",
       "</table>\n"
      ],
      "text/latex": [
       "A tibble: 18 × 6\n",
       "\\begin{tabular}{llllll}\n",
       " run & phase & df1 & df2 & statistic & p\\\\\n",
       " <int> & <int> & <int> & <int> & <dbl> & <dbl>\\\\\n",
       "\\hline\n",
       "\t 1 & -1 & 1 & 4150 & 37.1525104 & 1.191795e-09\\\\\n",
       "\t 1 &  0 & 1 &  982 & 65.7766487 & 1.497328e-15\\\\\n",
       "\t 1 &  1 & 1 &  982 & 65.0692711 & 2.096342e-15\\\\\n",
       "\t 1 &  2 & 1 &  982 & 74.6178079 & 2.284147e-17\\\\\n",
       "\t 1 &  3 & 1 &  982 &  0.4141819 & 5.200048e-01\\\\\n",
       "\t 1 &  4 & 1 &  958 & 17.3671741 & 3.359651e-05\\\\\n",
       "\t 1 &  5 & 1 &  982 &  4.9189058 & 2.679254e-02\\\\\n",
       "\t 1 &  6 & 1 &  982 & 32.6792811 & 1.441210e-08\\\\\n",
       "\t 1 &  7 & 1 &  982 & 23.3876549 & 1.536506e-06\\\\\n",
       "\t 2 & -1 & 1 & 4150 & 40.5857620 & 2.086720e-10\\\\\n",
       "\t 2 &  0 & 1 &  982 &  2.4354452 & 1.189424e-01\\\\\n",
       "\t 2 &  1 & 1 &  982 & 64.6046525 & 2.615286e-15\\\\\n",
       "\t 2 &  2 & 1 &  982 & 20.0806353 & 8.297864e-06\\\\\n",
       "\t 2 &  3 & 1 &  982 & 64.4075372 & 2.872681e-15\\\\\n",
       "\t 2 &  4 & 1 &  958 & 28.6149020 & 1.104727e-07\\\\\n",
       "\t 2 &  5 & 1 &  982 & 33.6207023 & 9.022676e-09\\\\\n",
       "\t 2 &  6 & 1 &  982 &  0.1251991 & 7.235386e-01\\\\\n",
       "\t 2 &  7 & 1 &  982 & 61.5932478 & 1.099998e-14\\\\\n",
       "\\end{tabular}\n"
      ],
      "text/markdown": [
       "\n",
       "A tibble: 18 × 6\n",
       "\n",
       "| run &lt;int&gt; | phase &lt;int&gt; | df1 &lt;int&gt; | df2 &lt;int&gt; | statistic &lt;dbl&gt; | p &lt;dbl&gt; |\n",
       "|---|---|---|---|---|---|\n",
       "| 1 | -1 | 1 | 4150 | 37.1525104 | 1.191795e-09 |\n",
       "| 1 |  0 | 1 |  982 | 65.7766487 | 1.497328e-15 |\n",
       "| 1 |  1 | 1 |  982 | 65.0692711 | 2.096342e-15 |\n",
       "| 1 |  2 | 1 |  982 | 74.6178079 | 2.284147e-17 |\n",
       "| 1 |  3 | 1 |  982 |  0.4141819 | 5.200048e-01 |\n",
       "| 1 |  4 | 1 |  958 | 17.3671741 | 3.359651e-05 |\n",
       "| 1 |  5 | 1 |  982 |  4.9189058 | 2.679254e-02 |\n",
       "| 1 |  6 | 1 |  982 | 32.6792811 | 1.441210e-08 |\n",
       "| 1 |  7 | 1 |  982 | 23.3876549 | 1.536506e-06 |\n",
       "| 2 | -1 | 1 | 4150 | 40.5857620 | 2.086720e-10 |\n",
       "| 2 |  0 | 1 |  982 |  2.4354452 | 1.189424e-01 |\n",
       "| 2 |  1 | 1 |  982 | 64.6046525 | 2.615286e-15 |\n",
       "| 2 |  2 | 1 |  982 | 20.0806353 | 8.297864e-06 |\n",
       "| 2 |  3 | 1 |  982 | 64.4075372 | 2.872681e-15 |\n",
       "| 2 |  4 | 1 |  958 | 28.6149020 | 1.104727e-07 |\n",
       "| 2 |  5 | 1 |  982 | 33.6207023 | 9.022676e-09 |\n",
       "| 2 |  6 | 1 |  982 |  0.1251991 | 7.235386e-01 |\n",
       "| 2 |  7 | 1 |  982 | 61.5932478 | 1.099998e-14 |\n",
       "\n"
      ],
      "text/plain": [
       "   run phase df1 df2  statistic  p           \n",
       "1  1   -1    1   4150 37.1525104 1.191795e-09\n",
       "2  1    0    1    982 65.7766487 1.497328e-15\n",
       "3  1    1    1    982 65.0692711 2.096342e-15\n",
       "4  1    2    1    982 74.6178079 2.284147e-17\n",
       "5  1    3    1    982  0.4141819 5.200048e-01\n",
       "6  1    4    1    958 17.3671741 3.359651e-05\n",
       "7  1    5    1    982  4.9189058 2.679254e-02\n",
       "8  1    6    1    982 32.6792811 1.441210e-08\n",
       "9  1    7    1    982 23.3876549 1.536506e-06\n",
       "10 2   -1    1   4150 40.5857620 2.086720e-10\n",
       "11 2    0    1    982  2.4354452 1.189424e-01\n",
       "12 2    1    1    982 64.6046525 2.615286e-15\n",
       "13 2    2    1    982 20.0806353 8.297864e-06\n",
       "14 2    3    1    982 64.4075372 2.872681e-15\n",
       "15 2    4    1    958 28.6149020 1.104727e-07\n",
       "16 2    5    1    982 33.6207023 9.022676e-09\n",
       "17 2    6    1    982  0.1251991 7.235386e-01\n",
       "18 2    7    1    982 61.5932478 1.099998e-14"
      ]
     },
     "metadata": {},
     "output_type": "display_data"
    }
   ],
   "source": [
    "# 2) homogeneity of variance (only for between-subject factors)\n",
    "\n",
    "d_long %>%\n",
    "  group_by(run, phase) %>%\n",
    "  levene_test(eda ~ group)\n",
    "# not given, we need to correct the results."
   ]
  },
  {
   "cell_type": "code",
   "execution_count": null,
   "id": "5f12d952",
   "metadata": {},
   "outputs": [],
   "source": [
    "# 3) assumption of sphericity (only for within-subject factors)\n",
    "\n",
    "# will be checked and corrected for automatically when computing the ANOVA. Look at that then."
   ]
  },
  {
   "cell_type": "markdown",
   "id": "c953d0b0",
   "metadata": {},
   "source": [
    "Define model "
   ]
  },
  {
   "cell_type": "code",
   "execution_count": 9,
   "id": "b1b8cda4",
   "metadata": {
    "scrolled": true
   },
   "outputs": [
    {
     "ename": "ERROR",
     "evalue": "Error: Empty cells in within-subjects design  (i.e., bad data structure).\ntable(data[c(\"time\", \"condition\", \"type\")])\n# , , type = pause\n# \n#       condition\n# time   math pause rotation\n#   X1_0    0  5529        0\n#   X1_1    0     0        0\n#   X1_2    0     0        0\n#   X2_0    0  5529        0\n#   X2_1    0     0        0\n#   X2_2    0     0        0\n# \n# , , type = relax\n# \n#       condition\n# time   math pause rotation\n#   X1_0    0     0        0\n#   X1_1 1298     0     1298\n#   X1_2 1298     0     1298\n#   X2_0    0     0        0\n#   X2_1 1298     0     1298\n#   X2_2 1298     0     1298\n# \n# , , type = stress\n# \n#       condition\n# time   math pause rotation\n#   X1_0    0     0        0\n#   X1_1 1298     0     1298\n#   X1_2 1298     0     1298\n#   X2_0    0     0        0\n#   X2_1 1298     0     1298\n#   X2_2 1298     0     1298\n# \n",
     "output_type": "error",
     "traceback": [
      "Error: Empty cells in within-subjects design  (i.e., bad data structure).\ntable(data[c(\"time\", \"condition\", \"type\")])\n# , , type = pause\n# \n#       condition\n# time   math pause rotation\n#   X1_0    0  5529        0\n#   X1_1    0     0        0\n#   X1_2    0     0        0\n#   X2_0    0  5529        0\n#   X2_1    0     0        0\n#   X2_2    0     0        0\n# \n# , , type = relax\n# \n#       condition\n# time   math pause rotation\n#   X1_0    0     0        0\n#   X1_1 1298     0     1298\n#   X1_2 1298     0     1298\n#   X2_0    0     0        0\n#   X2_1 1298     0     1298\n#   X2_2 1298     0     1298\n# \n# , , type = stress\n# \n#       condition\n# time   math pause rotation\n#   X1_0    0     0        0\n#   X1_1 1298     0     1298\n#   X1_2 1298     0     1298\n#   X2_0    0     0        0\n#   X2_1 1298     0     1298\n#   X2_2 1298     0     1298\n# \nTraceback:\n",
      "1. aov_ez(\"prob_id\", \"eda\", d_long, between = c(\"group\", \"sex\"), \n .     within = c(\"time\", \"condition\", \"type\"), include_aov = TRUE)",
      "2. aov_car(formula = as.formula(formula), data = data, fun_aggregate = fun_aggregate, \n .     type = type, return = return, factorize = factorize, check_contrasts = check_contrasts, \n .     observed = observed, anova_table = anova_table, include_aov = include_aov, \n .     ...)",
      "3. stop(\"Empty cells in within-subjects design \", \" (i.e., bad data structure).\\n\", \n .     \"\", paste0(\"table(data[\", deparse(within), \"])\"), \"\\n# \", \n .     paste(utils::capture.output(table(data[within])), collapse = \"\\n# \"), \n .     call. = FALSE)"
     ]
    }
   ],
   "source": [
    "model1 <- aov_ez(\"prob_id\", # Variable/column defining your participants\n",
    "       \"eda\", # dv\n",
    "       d_long, # name of your dataframe\n",
    "       between = c(\"group\", \"sex\"), # if sex was also included, this would be c('group', 'sex')\n",
    "       within = c(\"time\", \"condition\", \"type\"), \n",
    "       include_aov = TRUE)\n",
    "\n",
    "\n",
    "model1\n",
    "summary(model1)"
   ]
  },
  {
   "cell_type": "code",
   "execution_count": 9,
   "id": "368245cf",
   "metadata": {},
   "outputs": [
    {
     "name": "stderr",
     "output_type": "stream",
     "text": [
      "Warning message:\n",
      "“More than one observation per cell, aggregating the data using mean (i.e, fun_aggregate = mean)!”\n",
      "Contrasts set to contr.sum for the following variables: group, sex\n",
      "\n"
     ]
    },
    {
     "data": {
      "text/plain": [
       "Anova Table (Type 3 tests)\n",
       "\n",
       "Response: resp\n",
       "                          Effect          df   MSE         F   ges p.value\n",
       "1                          group       1, 20  2.07      2.93  .006    .103\n",
       "2                            sex       1, 20  2.07      0.62  .001    .442\n",
       "3                      group:sex       1, 20  2.07      0.26 <.001    .613\n",
       "4                           time 1.55, 30.92  9.58      1.14  .015    .320\n",
       "5                     group:time 1.55, 30.92  9.58      0.45  .006    .591\n",
       "6                       sex:time 1.55, 30.92  9.58      0.72  .010    .460\n",
       "7                 group:sex:time 1.55, 30.92  9.58      0.06 <.001    .907\n",
       "8                      condition       1, 20  4.49    3.39 +  .014    .081\n",
       "9                group:condition       1, 20  4.49      1.36  .006    .258\n",
       "10                 sex:condition       1, 20  4.49      0.40  .002    .536\n",
       "11           group:sex:condition       1, 20  4.49      0.63  .003    .438\n",
       "12                          type       1, 20 14.15 46.30 ***  .378   <.001\n",
       "13                    group:type       1, 20 14.15    6.09 *  .074    .023\n",
       "14                      sex:type       1, 20 14.15      0.09  .001    .767\n",
       "15                group:sex:type       1, 20 14.15      0.36  .005    .556\n",
       "16                time:condition 2.59, 51.83  2.10      1.48  .007    .233\n",
       "17          group:time:condition 2.59, 51.83  2.10      0.55  .003    .625\n",
       "18            sex:time:condition 2.59, 51.83  2.10      1.03  .005    .380\n",
       "19      group:sex:time:condition 2.59, 51.83  2.10      1.12  .006    .344\n",
       "20                     time:type 2.74, 54.75  1.64    3.02 *  .012    .042\n",
       "21               group:time:type 2.74, 54.75  1.64    3.73 *  .015    .019\n",
       "22                 sex:time:type 2.74, 54.75  1.64    2.50 +  .010    .074\n",
       "23           group:sex:time:type 2.74, 54.75  1.64      0.49  .002    .677\n",
       "24                condition:type       1, 20  3.78      1.14  .004    .297\n",
       "25          group:condition:type       1, 20  3.78      0.12 <.001    .734\n",
       "26            sex:condition:type       1, 20  3.78      0.23 <.001    .637\n",
       "27      group:sex:condition:type       1, 20  3.78      1.19  .004    .288\n",
       "28           time:condition:type 2.11, 42.11  2.21    3.75 *  .016    .030\n",
       "29     group:time:condition:type 2.11, 42.11  2.21      0.47  .002    .639\n",
       "30       sex:time:condition:type 2.11, 42.11  2.21      0.28  .001    .767\n",
       "31 group:sex:time:condition:type 2.11, 42.11  2.21      1.46  .006    .243\n",
       "---\n",
       "Signif. codes:  0 ‘***’ 0.001 ‘**’ 0.01 ‘*’ 0.05 ‘+’ 0.1 ‘ ’ 1\n",
       "\n",
       "Sphericity correction method: GG "
      ]
     },
     "metadata": {},
     "output_type": "display_data"
    },
    {
     "name": "stderr",
     "output_type": "stream",
     "text": [
      "Warning message in summary.Anova.mlm(object$Anova, multivariate = FALSE):\n",
      "“HF eps > 1 treated as 1”\n"
     ]
    },
    {
     "data": {
      "text/plain": [
       "\n",
       "Univariate Type III Repeated-Measures ANOVA Assuming Sphericity\n",
       "\n",
       "                              Sum Sq num Df Error SS den Df F value    Pr(>F)\n",
       "(Intercept)                    75.79      1   41.470     20 36.5542 6.549e-06\n",
       "group                           6.07      1   41.470     20  2.9269   0.10258\n",
       "sex                             1.28      1   41.470     20  0.6156   0.44189\n",
       "group:sex                       0.55      1   41.470     20  0.2638   0.61317\n",
       "time                           16.89      3  296.226     60  1.1402   0.34020\n",
       "group:time                      6.68      3  296.226     60  0.4508   0.71765\n",
       "sex:time                       10.69      3  296.226     60  0.7214   0.54313\n",
       "group:sex:time                  0.82      3  296.226     60  0.0555   0.98263\n",
       "condition                      15.20      1   89.777     20  3.3856   0.08066\n",
       "group:condition                 6.09      1   89.777     20  1.3575   0.25769\n",
       "sex:condition                   1.78      1   89.777     20  0.3963   0.53616\n",
       "group:sex:condition             2.82      1   89.777     20  0.6275   0.43758\n",
       "type                          655.32      1  283.063     20 46.3019 1.291e-06\n",
       "group:type                     86.14      1  283.063     20  6.0861   0.02278\n",
       "sex:type                        1.28      1  283.063     20  0.0905   0.76662\n",
       "group:sex:type                  5.08      1  283.063     20  0.3589   0.55586\n",
       "time:condition                  8.06      3  108.728     60  1.4825   0.22838\n",
       "group:time:condition            2.99      3  108.728     60  0.5506   0.64968\n",
       "sex:time:condition              5.59      3  108.728     60  1.0274   0.38697\n",
       "group:sex:time:condition        6.09      3  108.728     60  1.1209   0.34782\n",
       "time:type                      13.56      3   89.949     60  3.0160   0.03679\n",
       "group:time:type                16.80      3   89.949     60  3.7347   0.01577\n",
       "sex:time:type                  11.23      3   89.949     60  2.4974   0.06823\n",
       "group:sex:time:type             2.18      3   89.949     60  0.4856   0.69354\n",
       "condition:type                  4.33      1   75.699     20  1.1445   0.29744\n",
       "group:condition:type            0.45      1   75.699     20  0.1188   0.73388\n",
       "sex:condition:type              0.87      1   75.699     20  0.2291   0.63740\n",
       "group:sex:condition:type        4.51      1   75.699     20  1.1925   0.28781\n",
       "time:condition:type            17.46      3   93.044     60  3.7520   0.01545\n",
       "group:time:condition:type       2.18      3   93.044     60  0.4690   0.70500\n",
       "sex:time:condition:type         1.31      3   93.044     60  0.2816   0.83850\n",
       "group:sex:time:condition:type   6.80      3   93.044     60  1.4613   0.23415\n",
       "                                 \n",
       "(Intercept)                   ***\n",
       "group                            \n",
       "sex                              \n",
       "group:sex                        \n",
       "time                             \n",
       "group:time                       \n",
       "sex:time                         \n",
       "group:sex:time                   \n",
       "condition                     .  \n",
       "group:condition                  \n",
       "sex:condition                    \n",
       "group:sex:condition              \n",
       "type                          ***\n",
       "group:type                    *  \n",
       "sex:type                         \n",
       "group:sex:type                   \n",
       "time:condition                   \n",
       "group:time:condition             \n",
       "sex:time:condition               \n",
       "group:sex:time:condition         \n",
       "time:type                     *  \n",
       "group:time:type               *  \n",
       "sex:time:type                 .  \n",
       "group:sex:time:type              \n",
       "condition:type                   \n",
       "group:condition:type             \n",
       "sex:condition:type               \n",
       "group:sex:condition:type         \n",
       "time:condition:type           *  \n",
       "group:time:condition:type        \n",
       "sex:time:condition:type          \n",
       "group:sex:time:condition:type    \n",
       "---\n",
       "Signif. codes:  0 ‘***’ 0.001 ‘**’ 0.01 ‘*’ 0.05 ‘.’ 0.1 ‘ ’ 1\n",
       "\n",
       "\n",
       "Mauchly Tests for Sphericity\n",
       "\n",
       "                              Test statistic p-value\n",
       "time                                 0.20455 0.00002\n",
       "group:time                           0.20455 0.00002\n",
       "sex:time                             0.20455 0.00002\n",
       "group:sex:time                       0.20455 0.00002\n",
       "time:condition                       0.73527 0.33130\n",
       "group:time:condition                 0.73527 0.33130\n",
       "sex:time:condition                   0.73527 0.33130\n",
       "group:sex:time:condition             0.73527 0.33130\n",
       "time:type                            0.87434 0.77472\n",
       "group:time:type                      0.87434 0.77472\n",
       "sex:time:type                        0.87434 0.77472\n",
       "group:sex:time:type                  0.87434 0.77472\n",
       "time:condition:type                  0.27355 0.00020\n",
       "group:time:condition:type            0.27355 0.00020\n",
       "sex:time:condition:type              0.27355 0.00020\n",
       "group:sex:time:condition:type        0.27355 0.00020\n",
       "\n",
       "\n",
       "Greenhouse-Geisser and Huynh-Feldt Corrections\n",
       " for Departure from Sphericity\n",
       "\n",
       "                               GG eps Pr(>F[GG])  \n",
       "time                          0.51528    0.32020  \n",
       "group:time                    0.51528    0.59122  \n",
       "sex:time                      0.51528    0.46015  \n",
       "group:sex:time                0.51528    0.90750  \n",
       "time:condition                0.86385    0.23334  \n",
       "group:time:condition          0.86385    0.62471  \n",
       "sex:time:condition            0.86385    0.38035  \n",
       "group:sex:time:condition      0.86385    0.34425  \n",
       "time:type                     0.91250    0.04185 *\n",
       "group:time:type               0.91250    0.01905 *\n",
       "sex:time:type                 0.91250    0.07443 .\n",
       "group:sex:time:type           0.91250    0.67667  \n",
       "time:condition:type           0.70178    0.02971 *\n",
       "group:time:condition:type     0.70178    0.63863  \n",
       "sex:time:condition:type       0.70178    0.76704  \n",
       "group:sex:time:condition:type 0.70178    0.24329  \n",
       "---\n",
       "Signif. codes:  0 ‘***’ 0.001 ‘**’ 0.01 ‘*’ 0.05 ‘.’ 0.1 ‘ ’ 1\n",
       "\n",
       "                                 HF eps Pr(>F[HF])\n",
       "time                          0.5502338 0.32291271\n",
       "group:time                    0.5502338 0.60369036\n",
       "sex:time                      0.5502338 0.46833889\n",
       "group:sex:time                0.5502338 0.91849954\n",
       "time:condition                1.0037817 0.22837853\n",
       "group:time:condition          1.0037817 0.64968224\n",
       "sex:time:condition            1.0037817 0.38696813\n",
       "group:sex:time:condition      1.0037817 0.34782372\n",
       "time:type                     1.0714431 0.03679148\n",
       "group:time:type               1.0714431 0.01576834\n",
       "sex:time:type                 1.0714431 0.06823191\n",
       "group:sex:time:type           1.0714431 0.69354403\n",
       "time:condition:type           0.7863066 0.02465476\n",
       "group:time:condition:type     0.7863066 0.65994981\n",
       "sex:time:condition:type       0.7863066 0.79085330\n",
       "group:sex:time:condition:type 0.7863066 0.24109598"
      ]
     },
     "metadata": {},
     "output_type": "display_data"
    }
   ],
   "source": [
    "# with pause excluded\n",
    "\n",
    "model1 <- aov_ez(\"prob_id\", # Variable/column defining your participants\n",
    "                 \"resp\", # dv\n",
    "                 d_long_new, # name of your dataframe\n",
    "                 between = c(\"group\", \"sex\"), # if sex was also included, this would be c('group', 'sex')\n",
    "                 within = c(\"time\", \"condition\", \"type\"), \n",
    "                 include_aov = TRUE, na.rm=TRUE)\n",
    "model1\n",
    "summary(model1)\n",
    "\n",
    "\n",
    "# we see that the assumption of sphericity was corrected for using the Greenhouse-Geisser correction\n",
    "# we also see that we have an effect for time\n",
    "# and for time*condition*type"
   ]
  },
  {
   "cell_type": "code",
   "execution_count": 79,
   "id": "14916fb6",
   "metadata": {},
   "outputs": [
    {
     "name": "stderr",
     "output_type": "stream",
     "text": [
      "Warning message in summary.Anova.mlm(object$Anova, multivariate = FALSE):\n",
      "“HF eps > 1 treated as 1”\n"
     ]
    },
    {
     "data": {
      "text/plain": [
       "\n",
       "Univariate Type III Repeated-Measures ANOVA Assuming Sphericity\n",
       "\n",
       "                              Sum Sq num Df Error SS den Df F value    Pr(>F)\n",
       "(Intercept)                    75.79      1   41.470     20 36.5542 6.549e-06\n",
       "group                           6.07      1   41.470     20  2.9269   0.10258\n",
       "sex                             1.28      1   41.470     20  0.6156   0.44189\n",
       "group:sex                       0.55      1   41.470     20  0.2638   0.61317\n",
       "time                           16.89      3  296.226     60  1.1402   0.34020\n",
       "group:time                      6.68      3  296.226     60  0.4508   0.71765\n",
       "sex:time                       10.69      3  296.226     60  0.7214   0.54313\n",
       "group:sex:time                  0.82      3  296.226     60  0.0555   0.98263\n",
       "condition                      15.20      1   89.777     20  3.3856   0.08066\n",
       "group:condition                 6.09      1   89.777     20  1.3575   0.25769\n",
       "sex:condition                   1.78      1   89.777     20  0.3963   0.53616\n",
       "group:sex:condition             2.82      1   89.777     20  0.6275   0.43758\n",
       "type                          655.32      1  283.063     20 46.3019 1.291e-06\n",
       "group:type                     86.14      1  283.063     20  6.0861   0.02278\n",
       "sex:type                        1.28      1  283.063     20  0.0905   0.76662\n",
       "group:sex:type                  5.08      1  283.063     20  0.3589   0.55586\n",
       "time:condition                  8.06      3  108.728     60  1.4825   0.22838\n",
       "group:time:condition            2.99      3  108.728     60  0.5506   0.64968\n",
       "sex:time:condition              5.59      3  108.728     60  1.0274   0.38697\n",
       "group:sex:time:condition        6.09      3  108.728     60  1.1209   0.34782\n",
       "time:type                      13.56      3   89.949     60  3.0160   0.03679\n",
       "group:time:type                16.80      3   89.949     60  3.7347   0.01577\n",
       "sex:time:type                  11.23      3   89.949     60  2.4974   0.06823\n",
       "group:sex:time:type             2.18      3   89.949     60  0.4856   0.69354\n",
       "condition:type                  4.33      1   75.699     20  1.1445   0.29744\n",
       "group:condition:type            0.45      1   75.699     20  0.1188   0.73388\n",
       "sex:condition:type              0.87      1   75.699     20  0.2291   0.63740\n",
       "group:sex:condition:type        4.51      1   75.699     20  1.1925   0.28781\n",
       "time:condition:type            17.46      3   93.044     60  3.7520   0.01545\n",
       "group:time:condition:type       2.18      3   93.044     60  0.4690   0.70500\n",
       "sex:time:condition:type         1.31      3   93.044     60  0.2816   0.83850\n",
       "group:sex:time:condition:type   6.80      3   93.044     60  1.4613   0.23415\n",
       "                                 \n",
       "(Intercept)                   ***\n",
       "group                            \n",
       "sex                              \n",
       "group:sex                        \n",
       "time                             \n",
       "group:time                       \n",
       "sex:time                         \n",
       "group:sex:time                   \n",
       "condition                     .  \n",
       "group:condition                  \n",
       "sex:condition                    \n",
       "group:sex:condition              \n",
       "type                          ***\n",
       "group:type                    *  \n",
       "sex:type                         \n",
       "group:sex:type                   \n",
       "time:condition                   \n",
       "group:time:condition             \n",
       "sex:time:condition               \n",
       "group:sex:time:condition         \n",
       "time:type                     *  \n",
       "group:time:type               *  \n",
       "sex:time:type                 .  \n",
       "group:sex:time:type              \n",
       "condition:type                   \n",
       "group:condition:type             \n",
       "sex:condition:type               \n",
       "group:sex:condition:type         \n",
       "time:condition:type           *  \n",
       "group:time:condition:type        \n",
       "sex:time:condition:type          \n",
       "group:sex:time:condition:type    \n",
       "---\n",
       "Signif. codes:  0 ‘***’ 0.001 ‘**’ 0.01 ‘*’ 0.05 ‘.’ 0.1 ‘ ’ 1\n",
       "\n",
       "\n",
       "Mauchly Tests for Sphericity\n",
       "\n",
       "                              Test statistic p-value\n",
       "time                                 0.20455 0.00002\n",
       "group:time                           0.20455 0.00002\n",
       "sex:time                             0.20455 0.00002\n",
       "group:sex:time                       0.20455 0.00002\n",
       "time:condition                       0.73527 0.33130\n",
       "group:time:condition                 0.73527 0.33130\n",
       "sex:time:condition                   0.73527 0.33130\n",
       "group:sex:time:condition             0.73527 0.33130\n",
       "time:type                            0.87434 0.77472\n",
       "group:time:type                      0.87434 0.77472\n",
       "sex:time:type                        0.87434 0.77472\n",
       "group:sex:time:type                  0.87434 0.77472\n",
       "time:condition:type                  0.27355 0.00020\n",
       "group:time:condition:type            0.27355 0.00020\n",
       "sex:time:condition:type              0.27355 0.00020\n",
       "group:sex:time:condition:type        0.27355 0.00020\n",
       "\n",
       "\n",
       "Greenhouse-Geisser and Huynh-Feldt Corrections\n",
       " for Departure from Sphericity\n",
       "\n",
       "                               GG eps Pr(>F[GG])  \n",
       "time                          0.51528    0.32020  \n",
       "group:time                    0.51528    0.59122  \n",
       "sex:time                      0.51528    0.46015  \n",
       "group:sex:time                0.51528    0.90750  \n",
       "time:condition                0.86385    0.23334  \n",
       "group:time:condition          0.86385    0.62471  \n",
       "sex:time:condition            0.86385    0.38035  \n",
       "group:sex:time:condition      0.86385    0.34425  \n",
       "time:type                     0.91250    0.04185 *\n",
       "group:time:type               0.91250    0.01905 *\n",
       "sex:time:type                 0.91250    0.07443 .\n",
       "group:sex:time:type           0.91250    0.67667  \n",
       "time:condition:type           0.70178    0.02971 *\n",
       "group:time:condition:type     0.70178    0.63863  \n",
       "sex:time:condition:type       0.70178    0.76704  \n",
       "group:sex:time:condition:type 0.70178    0.24329  \n",
       "---\n",
       "Signif. codes:  0 ‘***’ 0.001 ‘**’ 0.01 ‘*’ 0.05 ‘.’ 0.1 ‘ ’ 1\n",
       "\n",
       "                                 HF eps Pr(>F[HF])\n",
       "time                          0.5502338 0.32291271\n",
       "group:time                    0.5502338 0.60369036\n",
       "sex:time                      0.5502338 0.46833889\n",
       "group:sex:time                0.5502338 0.91849954\n",
       "time:condition                1.0037817 0.22837853\n",
       "group:time:condition          1.0037817 0.64968224\n",
       "sex:time:condition            1.0037817 0.38696813\n",
       "group:sex:time:condition      1.0037817 0.34782372\n",
       "time:type                     1.0714431 0.03679148\n",
       "group:time:type               1.0714431 0.01576834\n",
       "sex:time:type                 1.0714431 0.06823191\n",
       "group:sex:time:type           1.0714431 0.69354403\n",
       "time:condition:type           0.7863066 0.02465476\n",
       "group:time:condition:type     0.7863066 0.65994981\n",
       "sex:time:condition:type       0.7863066 0.79085330\n",
       "group:sex:time:condition:type 0.7863066 0.24109598"
      ]
     },
     "metadata": {},
     "output_type": "display_data"
    }
   ],
   "source": [
    "summary(model1)"
   ]
  },
  {
   "cell_type": "code",
   "execution_count": 102,
   "id": "5dff3f80",
   "metadata": {},
   "outputs": [
    {
     "data": {
      "text/html": [
       "<table class=\"dataframe\">\n",
       "<caption>A anova: 31 × 6</caption>\n",
       "<thead>\n",
       "\t<tr><th></th><th scope=col>num Df</th><th scope=col>den Df</th><th scope=col>MSE</th><th scope=col>F</th><th scope=col>ges</th><th scope=col>Pr(&gt;F)</th></tr>\n",
       "\t<tr><th></th><th scope=col>&lt;dbl&gt;</th><th scope=col>&lt;dbl&gt;</th><th scope=col>&lt;dbl&gt;</th><th scope=col>&lt;dbl&gt;</th><th scope=col>&lt;dbl&gt;</th><th scope=col>&lt;dbl&gt;</th></tr>\n",
       "</thead>\n",
       "<tbody>\n",
       "\t<tr><th scope=row>group</th><td>1.000000</td><td>20.00000</td><td> 2.073479</td><td> 2.92689994</td><td>0.0055984534</td><td>1.025821e-01</td></tr>\n",
       "\t<tr><th scope=row>sex</th><td>1.000000</td><td>20.00000</td><td> 2.073479</td><td> 0.61558300</td><td>0.0011826904</td><td>4.418882e-01</td></tr>\n",
       "\t<tr><th scope=row>group:sex</th><td>1.000000</td><td>20.00000</td><td> 2.073479</td><td> 0.26377106</td><td>0.0005071136</td><td>6.131685e-01</td></tr>\n",
       "\t<tr><th scope=row>time</th><td>1.545825</td><td>30.91651</td><td> 9.581494</td><td> 1.14017775</td><td>0.0154245988</td><td>3.201983e-01</td></tr>\n",
       "\t<tr><th scope=row>group:time</th><td>1.545825</td><td>30.91651</td><td> 9.581494</td><td> 0.45082294</td><td>0.0061562530</td><td>5.912196e-01</td></tr>\n",
       "\t<tr><th scope=row>sex:time</th><td>1.545825</td><td>30.91651</td><td> 9.581494</td><td> 0.72141252</td><td>0.0098150458</td><td>4.601517e-01</td></tr>\n",
       "\t<tr><th scope=row>group:sex:time</th><td>1.545825</td><td>30.91651</td><td> 9.581494</td><td> 0.05550094</td><td>0.0007620117</td><td>9.074957e-01</td></tr>\n",
       "\t<tr><th scope=row>condition</th><td>1.000000</td><td>20.00000</td><td> 4.488861</td><td> 3.38560360</td><td>0.0139024324</td><td>8.065811e-02</td></tr>\n",
       "\t<tr><th scope=row>group:condition</th><td>1.000000</td><td>20.00000</td><td> 4.488861</td><td> 1.35746802</td><td>0.0056210356</td><td>2.576855e-01</td></tr>\n",
       "\t<tr><th scope=row>sex:condition</th><td>1.000000</td><td>20.00000</td><td> 4.488861</td><td> 0.39625125</td><td>0.0016473634</td><td>5.361569e-01</td></tr>\n",
       "\t<tr><th scope=row>group:sex:condition</th><td>1.000000</td><td>20.00000</td><td> 4.488861</td><td> 0.62745933</td><td>0.0026060761</td><td>4.375840e-01</td></tr>\n",
       "\t<tr><th scope=row>type</th><td>1.000000</td><td>20.00000</td><td>14.153174</td><td>46.30191492</td><td>0.3780812367</td><td>1.290696e-06</td></tr>\n",
       "\t<tr><th scope=row>group:type</th><td>1.000000</td><td>20.00000</td><td>14.153174</td><td> 6.08608337</td><td>0.0739952156</td><td>2.278014e-02</td></tr>\n",
       "\t<tr><th scope=row>sex:type</th><td>1.000000</td><td>20.00000</td><td>14.153174</td><td> 0.09052158</td><td>0.0011871041</td><td>7.666206e-01</td></tr>\n",
       "\t<tr><th scope=row>group:sex:type</th><td>1.000000</td><td>20.00000</td><td>14.153174</td><td> 0.35886998</td><td>0.0046897331</td><td>5.558601e-01</td></tr>\n",
       "\t<tr><th scope=row>time:condition</th><td>2.591563</td><td>51.83125</td><td> 2.097723</td><td> 1.48249292</td><td>0.0074210655</td><td>2.333424e-01</td></tr>\n",
       "\t<tr><th scope=row>group:time:condition</th><td>2.591563</td><td>51.83125</td><td> 2.097723</td><td> 0.55062102</td><td>0.0027692173</td><td>6.247129e-01</td></tr>\n",
       "\t<tr><th scope=row>sex:time:condition</th><td>2.591563</td><td>51.83125</td><td> 2.097723</td><td> 1.02738053</td><td>0.0051546063</td><td>3.803495e-01</td></tr>\n",
       "\t<tr><th scope=row>group:sex:time:condition</th><td>2.591563</td><td>51.83125</td><td> 2.097723</td><td> 1.12086427</td><td>0.0056209995</td><td>3.442514e-01</td></tr>\n",
       "\t<tr><th scope=row>time:type</th><td>2.737494</td><td>54.74989</td><td> 1.642913</td><td> 3.01604569</td><td>0.0124272055</td><td>4.184786e-02</td></tr>\n",
       "\t<tr><th scope=row>group:time:type</th><td>2.737494</td><td>54.74989</td><td> 1.642913</td><td> 3.73474682</td><td>0.0153430800</td><td>1.905008e-02</td></tr>\n",
       "\t<tr><th scope=row>sex:time:type</th><td>2.737494</td><td>54.74989</td><td> 1.642913</td><td> 2.49741746</td><td>0.0103123053</td><td>7.442979e-02</td></tr>\n",
       "\t<tr><th scope=row>group:sex:time:type</th><td>2.737494</td><td>54.74989</td><td> 1.642913</td><td> 0.48562139</td><td>0.0020220189</td><td>6.766727e-01</td></tr>\n",
       "\t<tr><th scope=row>condition:type</th><td>1.000000</td><td>20.00000</td><td> 3.784953</td><td> 1.14452874</td><td>0.0040026169</td><td>2.974395e-01</td></tr>\n",
       "\t<tr><th scope=row>group:condition:type</th><td>1.000000</td><td>20.00000</td><td> 3.784953</td><td> 0.11884909</td><td>0.0004171323</td><td>7.338850e-01</td></tr>\n",
       "\t<tr><th scope=row>sex:condition:type</th><td>1.000000</td><td>20.00000</td><td> 3.784953</td><td> 0.22908316</td><td>0.0008037169</td><td>6.373953e-01</td></tr>\n",
       "\t<tr><th scope=row>group:sex:condition:type</th><td>1.000000</td><td>20.00000</td><td> 3.784953</td><td> 1.19247153</td><td>0.0041695821</td><td>2.878120e-01</td></tr>\n",
       "\t<tr><th scope=row>time:condition:type</th><td>2.105337</td><td>42.10674</td><td> 2.209721</td><td> 3.75198265</td><td>0.0159346485</td><td>2.970743e-02</td></tr>\n",
       "\t<tr><th scope=row>group:time:condition:type</th><td>2.105337</td><td>42.10674</td><td> 2.209721</td><td> 0.46901931</td><td>0.0020200878</td><td>6.386252e-01</td></tr>\n",
       "\t<tr><th scope=row>sex:time:condition:type</th><td>2.105337</td><td>42.10674</td><td> 2.209721</td><td> 0.28156248</td><td>0.0012136825</td><td>7.670442e-01</td></tr>\n",
       "\t<tr><th scope=row>group:sex:time:condition:type</th><td>2.105337</td><td>42.10674</td><td> 2.209721</td><td> 1.46126811</td><td>0.0062669663</td><td>2.432943e-01</td></tr>\n",
       "</tbody>\n",
       "</table>\n"
      ],
      "text/latex": [
       "A anova: 31 × 6\n",
       "\\begin{tabular}{r|llllll}\n",
       "  & num Df & den Df & MSE & F & ges & Pr(>F)\\\\\n",
       "  & <dbl> & <dbl> & <dbl> & <dbl> & <dbl> & <dbl>\\\\\n",
       "\\hline\n",
       "\tgroup & 1.000000 & 20.00000 &  2.073479 &  2.92689994 & 0.0055984534 & 1.025821e-01\\\\\n",
       "\tsex & 1.000000 & 20.00000 &  2.073479 &  0.61558300 & 0.0011826904 & 4.418882e-01\\\\\n",
       "\tgroup:sex & 1.000000 & 20.00000 &  2.073479 &  0.26377106 & 0.0005071136 & 6.131685e-01\\\\\n",
       "\ttime & 1.545825 & 30.91651 &  9.581494 &  1.14017775 & 0.0154245988 & 3.201983e-01\\\\\n",
       "\tgroup:time & 1.545825 & 30.91651 &  9.581494 &  0.45082294 & 0.0061562530 & 5.912196e-01\\\\\n",
       "\tsex:time & 1.545825 & 30.91651 &  9.581494 &  0.72141252 & 0.0098150458 & 4.601517e-01\\\\\n",
       "\tgroup:sex:time & 1.545825 & 30.91651 &  9.581494 &  0.05550094 & 0.0007620117 & 9.074957e-01\\\\\n",
       "\tcondition & 1.000000 & 20.00000 &  4.488861 &  3.38560360 & 0.0139024324 & 8.065811e-02\\\\\n",
       "\tgroup:condition & 1.000000 & 20.00000 &  4.488861 &  1.35746802 & 0.0056210356 & 2.576855e-01\\\\\n",
       "\tsex:condition & 1.000000 & 20.00000 &  4.488861 &  0.39625125 & 0.0016473634 & 5.361569e-01\\\\\n",
       "\tgroup:sex:condition & 1.000000 & 20.00000 &  4.488861 &  0.62745933 & 0.0026060761 & 4.375840e-01\\\\\n",
       "\ttype & 1.000000 & 20.00000 & 14.153174 & 46.30191492 & 0.3780812367 & 1.290696e-06\\\\\n",
       "\tgroup:type & 1.000000 & 20.00000 & 14.153174 &  6.08608337 & 0.0739952156 & 2.278014e-02\\\\\n",
       "\tsex:type & 1.000000 & 20.00000 & 14.153174 &  0.09052158 & 0.0011871041 & 7.666206e-01\\\\\n",
       "\tgroup:sex:type & 1.000000 & 20.00000 & 14.153174 &  0.35886998 & 0.0046897331 & 5.558601e-01\\\\\n",
       "\ttime:condition & 2.591563 & 51.83125 &  2.097723 &  1.48249292 & 0.0074210655 & 2.333424e-01\\\\\n",
       "\tgroup:time:condition & 2.591563 & 51.83125 &  2.097723 &  0.55062102 & 0.0027692173 & 6.247129e-01\\\\\n",
       "\tsex:time:condition & 2.591563 & 51.83125 &  2.097723 &  1.02738053 & 0.0051546063 & 3.803495e-01\\\\\n",
       "\tgroup:sex:time:condition & 2.591563 & 51.83125 &  2.097723 &  1.12086427 & 0.0056209995 & 3.442514e-01\\\\\n",
       "\ttime:type & 2.737494 & 54.74989 &  1.642913 &  3.01604569 & 0.0124272055 & 4.184786e-02\\\\\n",
       "\tgroup:time:type & 2.737494 & 54.74989 &  1.642913 &  3.73474682 & 0.0153430800 & 1.905008e-02\\\\\n",
       "\tsex:time:type & 2.737494 & 54.74989 &  1.642913 &  2.49741746 & 0.0103123053 & 7.442979e-02\\\\\n",
       "\tgroup:sex:time:type & 2.737494 & 54.74989 &  1.642913 &  0.48562139 & 0.0020220189 & 6.766727e-01\\\\\n",
       "\tcondition:type & 1.000000 & 20.00000 &  3.784953 &  1.14452874 & 0.0040026169 & 2.974395e-01\\\\\n",
       "\tgroup:condition:type & 1.000000 & 20.00000 &  3.784953 &  0.11884909 & 0.0004171323 & 7.338850e-01\\\\\n",
       "\tsex:condition:type & 1.000000 & 20.00000 &  3.784953 &  0.22908316 & 0.0008037169 & 6.373953e-01\\\\\n",
       "\tgroup:sex:condition:type & 1.000000 & 20.00000 &  3.784953 &  1.19247153 & 0.0041695821 & 2.878120e-01\\\\\n",
       "\ttime:condition:type & 2.105337 & 42.10674 &  2.209721 &  3.75198265 & 0.0159346485 & 2.970743e-02\\\\\n",
       "\tgroup:time:condition:type & 2.105337 & 42.10674 &  2.209721 &  0.46901931 & 0.0020200878 & 6.386252e-01\\\\\n",
       "\tsex:time:condition:type & 2.105337 & 42.10674 &  2.209721 &  0.28156248 & 0.0012136825 & 7.670442e-01\\\\\n",
       "\tgroup:sex:time:condition:type & 2.105337 & 42.10674 &  2.209721 &  1.46126811 & 0.0062669663 & 2.432943e-01\\\\\n",
       "\\end{tabular}\n"
      ],
      "text/markdown": [
       "\n",
       "A anova: 31 × 6\n",
       "\n",
       "| <!--/--> | num Df &lt;dbl&gt; | den Df &lt;dbl&gt; | MSE &lt;dbl&gt; | F &lt;dbl&gt; | ges &lt;dbl&gt; | Pr(&gt;F) &lt;dbl&gt; |\n",
       "|---|---|---|---|---|---|---|\n",
       "| group | 1.000000 | 20.00000 |  2.073479 |  2.92689994 | 0.0055984534 | 1.025821e-01 |\n",
       "| sex | 1.000000 | 20.00000 |  2.073479 |  0.61558300 | 0.0011826904 | 4.418882e-01 |\n",
       "| group:sex | 1.000000 | 20.00000 |  2.073479 |  0.26377106 | 0.0005071136 | 6.131685e-01 |\n",
       "| time | 1.545825 | 30.91651 |  9.581494 |  1.14017775 | 0.0154245988 | 3.201983e-01 |\n",
       "| group:time | 1.545825 | 30.91651 |  9.581494 |  0.45082294 | 0.0061562530 | 5.912196e-01 |\n",
       "| sex:time | 1.545825 | 30.91651 |  9.581494 |  0.72141252 | 0.0098150458 | 4.601517e-01 |\n",
       "| group:sex:time | 1.545825 | 30.91651 |  9.581494 |  0.05550094 | 0.0007620117 | 9.074957e-01 |\n",
       "| condition | 1.000000 | 20.00000 |  4.488861 |  3.38560360 | 0.0139024324 | 8.065811e-02 |\n",
       "| group:condition | 1.000000 | 20.00000 |  4.488861 |  1.35746802 | 0.0056210356 | 2.576855e-01 |\n",
       "| sex:condition | 1.000000 | 20.00000 |  4.488861 |  0.39625125 | 0.0016473634 | 5.361569e-01 |\n",
       "| group:sex:condition | 1.000000 | 20.00000 |  4.488861 |  0.62745933 | 0.0026060761 | 4.375840e-01 |\n",
       "| type | 1.000000 | 20.00000 | 14.153174 | 46.30191492 | 0.3780812367 | 1.290696e-06 |\n",
       "| group:type | 1.000000 | 20.00000 | 14.153174 |  6.08608337 | 0.0739952156 | 2.278014e-02 |\n",
       "| sex:type | 1.000000 | 20.00000 | 14.153174 |  0.09052158 | 0.0011871041 | 7.666206e-01 |\n",
       "| group:sex:type | 1.000000 | 20.00000 | 14.153174 |  0.35886998 | 0.0046897331 | 5.558601e-01 |\n",
       "| time:condition | 2.591563 | 51.83125 |  2.097723 |  1.48249292 | 0.0074210655 | 2.333424e-01 |\n",
       "| group:time:condition | 2.591563 | 51.83125 |  2.097723 |  0.55062102 | 0.0027692173 | 6.247129e-01 |\n",
       "| sex:time:condition | 2.591563 | 51.83125 |  2.097723 |  1.02738053 | 0.0051546063 | 3.803495e-01 |\n",
       "| group:sex:time:condition | 2.591563 | 51.83125 |  2.097723 |  1.12086427 | 0.0056209995 | 3.442514e-01 |\n",
       "| time:type | 2.737494 | 54.74989 |  1.642913 |  3.01604569 | 0.0124272055 | 4.184786e-02 |\n",
       "| group:time:type | 2.737494 | 54.74989 |  1.642913 |  3.73474682 | 0.0153430800 | 1.905008e-02 |\n",
       "| sex:time:type | 2.737494 | 54.74989 |  1.642913 |  2.49741746 | 0.0103123053 | 7.442979e-02 |\n",
       "| group:sex:time:type | 2.737494 | 54.74989 |  1.642913 |  0.48562139 | 0.0020220189 | 6.766727e-01 |\n",
       "| condition:type | 1.000000 | 20.00000 |  3.784953 |  1.14452874 | 0.0040026169 | 2.974395e-01 |\n",
       "| group:condition:type | 1.000000 | 20.00000 |  3.784953 |  0.11884909 | 0.0004171323 | 7.338850e-01 |\n",
       "| sex:condition:type | 1.000000 | 20.00000 |  3.784953 |  0.22908316 | 0.0008037169 | 6.373953e-01 |\n",
       "| group:sex:condition:type | 1.000000 | 20.00000 |  3.784953 |  1.19247153 | 0.0041695821 | 2.878120e-01 |\n",
       "| time:condition:type | 2.105337 | 42.10674 |  2.209721 |  3.75198265 | 0.0159346485 | 2.970743e-02 |\n",
       "| group:time:condition:type | 2.105337 | 42.10674 |  2.209721 |  0.46901931 | 0.0020200878 | 6.386252e-01 |\n",
       "| sex:time:condition:type | 2.105337 | 42.10674 |  2.209721 |  0.28156248 | 0.0012136825 | 7.670442e-01 |\n",
       "| group:sex:time:condition:type | 2.105337 | 42.10674 |  2.209721 |  1.46126811 | 0.0062669663 | 2.432943e-01 |\n",
       "\n"
      ],
      "text/plain": [
       "                              num Df   den Df   MSE       F          \n",
       "group                         1.000000 20.00000  2.073479  2.92689994\n",
       "sex                           1.000000 20.00000  2.073479  0.61558300\n",
       "group:sex                     1.000000 20.00000  2.073479  0.26377106\n",
       "time                          1.545825 30.91651  9.581494  1.14017775\n",
       "group:time                    1.545825 30.91651  9.581494  0.45082294\n",
       "sex:time                      1.545825 30.91651  9.581494  0.72141252\n",
       "group:sex:time                1.545825 30.91651  9.581494  0.05550094\n",
       "condition                     1.000000 20.00000  4.488861  3.38560360\n",
       "group:condition               1.000000 20.00000  4.488861  1.35746802\n",
       "sex:condition                 1.000000 20.00000  4.488861  0.39625125\n",
       "group:sex:condition           1.000000 20.00000  4.488861  0.62745933\n",
       "type                          1.000000 20.00000 14.153174 46.30191492\n",
       "group:type                    1.000000 20.00000 14.153174  6.08608337\n",
       "sex:type                      1.000000 20.00000 14.153174  0.09052158\n",
       "group:sex:type                1.000000 20.00000 14.153174  0.35886998\n",
       "time:condition                2.591563 51.83125  2.097723  1.48249292\n",
       "group:time:condition          2.591563 51.83125  2.097723  0.55062102\n",
       "sex:time:condition            2.591563 51.83125  2.097723  1.02738053\n",
       "group:sex:time:condition      2.591563 51.83125  2.097723  1.12086427\n",
       "time:type                     2.737494 54.74989  1.642913  3.01604569\n",
       "group:time:type               2.737494 54.74989  1.642913  3.73474682\n",
       "sex:time:type                 2.737494 54.74989  1.642913  2.49741746\n",
       "group:sex:time:type           2.737494 54.74989  1.642913  0.48562139\n",
       "condition:type                1.000000 20.00000  3.784953  1.14452874\n",
       "group:condition:type          1.000000 20.00000  3.784953  0.11884909\n",
       "sex:condition:type            1.000000 20.00000  3.784953  0.22908316\n",
       "group:sex:condition:type      1.000000 20.00000  3.784953  1.19247153\n",
       "time:condition:type           2.105337 42.10674  2.209721  3.75198265\n",
       "group:time:condition:type     2.105337 42.10674  2.209721  0.46901931\n",
       "sex:time:condition:type       2.105337 42.10674  2.209721  0.28156248\n",
       "group:sex:time:condition:type 2.105337 42.10674  2.209721  1.46126811\n",
       "                              ges          Pr(>F)      \n",
       "group                         0.0055984534 1.025821e-01\n",
       "sex                           0.0011826904 4.418882e-01\n",
       "group:sex                     0.0005071136 6.131685e-01\n",
       "time                          0.0154245988 3.201983e-01\n",
       "group:time                    0.0061562530 5.912196e-01\n",
       "sex:time                      0.0098150458 4.601517e-01\n",
       "group:sex:time                0.0007620117 9.074957e-01\n",
       "condition                     0.0139024324 8.065811e-02\n",
       "group:condition               0.0056210356 2.576855e-01\n",
       "sex:condition                 0.0016473634 5.361569e-01\n",
       "group:sex:condition           0.0026060761 4.375840e-01\n",
       "type                          0.3780812367 1.290696e-06\n",
       "group:type                    0.0739952156 2.278014e-02\n",
       "sex:type                      0.0011871041 7.666206e-01\n",
       "group:sex:type                0.0046897331 5.558601e-01\n",
       "time:condition                0.0074210655 2.333424e-01\n",
       "group:time:condition          0.0027692173 6.247129e-01\n",
       "sex:time:condition            0.0051546063 3.803495e-01\n",
       "group:sex:time:condition      0.0056209995 3.442514e-01\n",
       "time:type                     0.0124272055 4.184786e-02\n",
       "group:time:type               0.0153430800 1.905008e-02\n",
       "sex:time:type                 0.0103123053 7.442979e-02\n",
       "group:sex:time:type           0.0020220189 6.766727e-01\n",
       "condition:type                0.0040026169 2.974395e-01\n",
       "group:condition:type          0.0004171323 7.338850e-01\n",
       "sex:condition:type            0.0008037169 6.373953e-01\n",
       "group:sex:condition:type      0.0041695821 2.878120e-01\n",
       "time:condition:type           0.0159346485 2.970743e-02\n",
       "group:time:condition:type     0.0020200878 6.386252e-01\n",
       "sex:time:condition:type       0.0012136825 7.670442e-01\n",
       "group:sex:time:condition:type 0.0062669663 2.432943e-01"
      ]
     },
     "metadata": {},
     "output_type": "display_data"
    }
   ],
   "source": [
    "model1$anova_table\n"
   ]
  },
  {
   "cell_type": "markdown",
   "id": "e6b9b6d7",
   "metadata": {},
   "source": [
    "# post hoc tests:"
   ]
  },
  {
   "cell_type": "code",
   "execution_count": 106,
   "id": "65b2cd56",
   "metadata": {},
   "outputs": [
    {
     "data": {
      "text/plain": [
       " type   emmean    SE df lower.CL upper.CL\n",
       " relax  -0.878 0.146 20    -1.18   -0.574\n",
       " stress  1.783 0.258 20     1.25    2.321\n",
       "\n",
       "Results are averaged over the levels of: group, sex, condition, time \n",
       "Confidence level used: 0.95 "
      ]
     },
     "metadata": {},
     "output_type": "display_data"
    },
    {
     "data": {
      "text/plain": [
       " contrast       estimate    SE df t.ratio p.value\n",
       " relax - stress    -2.66 0.391 20  -6.805  <.0001\n",
       "\n",
       "Results are averaged over the levels of: group, sex, condition, time "
      ]
     },
     "metadata": {},
     "output_type": "display_data"
    }
   ],
   "source": [
    "m1_ph <- emmeans(model1, \"type\") # defining here which variables plus their interaction I would like to include in my posthoc-Tests\n",
    "m1_ph\n",
    "pairs(m1_ph) # gives you a massive table with all pair comparisons between the two significant factors, with p-values already corrected for multiple testing\n",
    "\n",
    "# to combine pairs of factor levels define contrasts:\n",
    "# e.g. test phases -1 to 3 against phases 4 to 7, but define that for each of the runs"
   ]
  },
  {
   "cell_type": "code",
   "execution_count": 10,
   "id": "5aa0e5f7",
   "metadata": {},
   "outputs": [
    {
     "data": {
      "text/plain": [
       "type = relax:\n",
       " group emmean    SE df lower.CL upper.CL\n",
       " Musik -1.232 0.200 20   -1.650  -0.8149\n",
       " Sound -0.524 0.213 20   -0.967  -0.0802\n",
       "\n",
       "type = stress:\n",
       " group emmean    SE df lower.CL upper.CL\n",
       " Musik  2.394 0.353 20    1.657   3.1303\n",
       " Sound  1.173 0.375 20    0.390   1.9552\n",
       "\n",
       "Results are averaged over the levels of: sex, condition, time \n",
       "Confidence level used: 0.95 "
      ]
     },
     "metadata": {},
     "output_type": "display_data"
    },
    {
     "data": {
      "text/plain": [
       "type = relax:\n",
       " contrast      estimate    SE df t.ratio p.value\n",
       " Musik - Sound   -0.709 0.292 20  -2.427  0.0248\n",
       "\n",
       "type = stress:\n",
       " contrast      estimate    SE df t.ratio p.value\n",
       " Musik - Sound    1.221 0.515 20   2.370  0.0280\n",
       "\n",
       "Results are averaged over the levels of: sex, condition, time "
      ]
     },
     "metadata": {},
     "output_type": "display_data"
    }
   ],
   "source": [
    "m3_ph <- emmeans(model1, \"group\", \"type\") # defining here which variables plus their interaction I would like to include in my posthoc-Tests\n",
    "m3_ph\n",
    "pairs(m3_ph)"
   ]
  },
  {
   "cell_type": "code",
   "execution_count": 123,
   "id": "6c33abaa",
   "metadata": {},
   "outputs": [
    {
     "data": {
      "text/plain": [
       "type = relax:\n",
       " time emmean    SE df lower.CL upper.CL\n",
       " X1_1 -0.335 0.261 20   -0.879    0.209\n",
       " X1_2 -1.122 0.275 20   -1.696   -0.549\n",
       " X2_1 -0.916 0.258 20   -1.454   -0.378\n",
       " X2_2 -1.139 0.365 20   -1.900   -0.378\n",
       "\n",
       "type = stress:\n",
       " time emmean    SE df lower.CL upper.CL\n",
       " X1_1  1.791 0.325 20    1.112    2.470\n",
       " X1_2  1.387 0.342 20    0.673    2.101\n",
       " X2_1  1.945 0.343 20    1.230    2.661\n",
       " X2_2  2.009 0.290 20    1.404    2.615\n",
       "\n",
       "Results are averaged over the levels of: group, sex, condition \n",
       "Confidence level used: 0.95 "
      ]
     },
     "metadata": {},
     "output_type": "display_data"
    },
    {
     "data": {
      "text/plain": [
       "type = relax:\n",
       " contrast    estimate    SE df t.ratio p.value\n",
       " X1_1 - X1_2   0.7871 0.274 20   2.875  0.0428\n",
       " X1_1 - X2_1   0.5808 0.406 20   1.430  0.4961\n",
       " X1_1 - X2_2   0.8039 0.484 20   1.660  0.3695\n",
       " X1_2 - X2_1  -0.2063 0.444 20  -0.465  0.9658\n",
       " X1_2 - X2_2   0.0168 0.555 20   0.030  1.0000\n",
       " X2_1 - X2_2   0.2231 0.230 20   0.970  0.7675\n",
       "\n",
       "type = stress:\n",
       " contrast    estimate    SE df t.ratio p.value\n",
       " X1_1 - X1_2   0.4040 0.208 20   1.942  0.2427\n",
       " X1_1 - X2_1  -0.1541 0.343 20  -0.449  0.9690\n",
       " X1_1 - X2_2  -0.2181 0.388 20  -0.562  0.9422\n",
       " X1_2 - X2_1  -0.5582 0.295 20  -1.895  0.2617\n",
       " X1_2 - X2_2  -0.6221 0.375 20  -1.659  0.3703\n",
       " X2_1 - X2_2  -0.0639 0.314 20  -0.203  0.9969\n",
       "\n",
       "Results are averaged over the levels of: group, sex, condition \n",
       "P value adjustment: tukey method for comparing a family of 4 estimates "
      ]
     },
     "metadata": {},
     "output_type": "display_data"
    }
   ],
   "source": [
    "m2_ph <- emmeans(model1, \"time\", \"type\") # defining here which variables plus their interaction I would like to include in my posthoc-Tests\n",
    "m2_ph\n",
    "pairs(m2_ph) # gives you a massive table with all pair comparisons between the two significant factors, with p-values already corrected for multiple testing\n",
    "\n",
    "# to combine pairs of factor levels define contrasts:\n",
    "# e.g. test phases -1 to 3 against phases 4 to 7, but define that for each of the runs"
   ]
  },
  {
   "cell_type": "code",
   "execution_count": 14,
   "id": "b3fe3454",
   "metadata": {},
   "outputs": [
    {
     "data": {
      "text/plain": [
       " contrast   estimate    SE df t.ratio p.value\n",
       " run1vsrun2  -0.0894 0.697 20  -0.128  0.8992\n",
       " run1wdh      0.6751 0.233 20   2.893  0.0180\n",
       "\n",
       "Results are averaged over the levels of: group, sex, type, condition \n",
       "P value adjustment: holm method for 2 tests "
      ]
     },
     "metadata": {},
     "output_type": "display_data"
    }
   ],
   "source": [
    "c1 <- list(run1vsrun2 = c(1, 1, -1, -1), \n",
    "           run1wdh = c(1, -1, 1, -1)\n",
    "        # this vector gives each line in the object 'm1_ph' a weight\n",
    "          )\n",
    "\n",
    "# if several contrasts are defined, these go into a list of vectors and each get their own name.\n",
    "  \n",
    "contrast(m2_ph, c1, adjust = \"holm\") # here we define how to adjust the alpha-level, specified here is the Bonferroni-Holm correction, \n",
    "                                     # which is less strict than the Bonferroni correction\n",
    "\n",
    "# and we see: there is a difference, t(20) = 3.222, p = 0.0043"
   ]
  },
  {
   "cell_type": "markdown",
   "id": "15d1d650",
   "metadata": {},
   "source": [
    "plots"
   ]
  },
  {
   "cell_type": "code",
   "execution_count": 117,
   "id": "712ed8d9",
   "metadata": {},
   "outputs": [
    {
     "data": {
      "image/png": "[encoded data removed]",
      "text/plain": [
       "plot without title"
      ]
     },
     "metadata": {
      "image/png": {
       "height": 420,
       "width": 420
      }
     },
     "output_type": "display_data"
    }
   ],
   "source": [
    "p_resp0 <- ggboxplot(\n",
    "  d_long_new, x = \"time\", y = \"resp\" ,ylab= \"Af (AZ/min)_baseline\", \n",
    "  color = \"group\", palette = c(\"#00AFBB\", \"#E7B800\")\n",
    ")\n",
    "p_resp0"
   ]
  },
  {
   "cell_type": "code",
   "execution_count": 43,
   "id": "c35aebdb",
   "metadata": {},
   "outputs": [
    {
     "data": {
      "image/png": "[encoded data removed]",
      "text/plain": [
       "plot without title"
      ]
     },
     "metadata": {
      "image/png": {
       "height": 420,
       "width": 420
      }
     },
     "output_type": "display_data"
    }
   ],
   "source": [
    "p_resp8 <- ggboxplot(\n",
    "  d_long_new, x = \"type\", y = \"resp\" ,ylab= \"Af (AZ/min)_baseline\", \n",
    "  color = \"group\", palette = c(\"#00AFBB\", \"#E7B800\")\n",
    ")\n",
    "p_resp8"
   ]
  },
  {
   "cell_type": "code",
   "execution_count": 119,
   "id": "b091631e",
   "metadata": {},
   "outputs": [
    {
     "data": {
      "text/html": [
       "<strong>png:</strong> 2"
      ],
      "text/latex": [
       "\\textbf{png:} 2"
      ],
      "text/markdown": [
       "**png:** 2"
      ],
      "text/plain": [
       "png \n",
       "  2 "
      ]
     },
     "metadata": {},
     "output_type": "display_data"
    },
    {
     "data": {
      "image/png": "[encoded data removed]",
      "text/plain": [
       "plot without title"
      ]
     },
     "metadata": {
      "image/png": {
       "height": 420,
       "width": 420
      }
     },
     "output_type": "display_data"
    }
   ],
   "source": [
    "p_resp1 <- ggboxplot(\n",
    "  d_long_new, x = \"time\", y = \"resp\" ,ylab= \"Af (AZ/min)_baseline\", \n",
    "  color = \"type\", palette = c(\"#00AFBB\", \"#E7B800\")\n",
    ")\n",
    "p_resp1\n",
    "\n",
    "png(\"plot8.png\")\n",
    "plot(p_resp1)\n",
    "dev.off()\n"
   ]
  },
  {
   "cell_type": "code",
   "execution_count": 111,
   "id": "ed313286",
   "metadata": {},
   "outputs": [
    {
     "data": {
      "image/png": "[encoded data removed]",
      "text/plain": [
       "plot without title"
      ]
     },
     "metadata": {
      "image/png": {
       "height": 420,
       "width": 420
      }
     },
     "output_type": "display_data"
    }
   ],
   "source": [
    "p_resp2 <- ggboxplot(\n",
    "  d_long_new, x = \"time\", y = \"resp\" ,ylab= \"Af (AZ/min)_baseline\", \n",
    "  palette = c(\"#4e07fc\",\"#00AFBB\", \"#FC4E07\", \"#E7B800\" ), color = \"time\", shape = \"time\"\n",
    ")\n",
    "p_resp2\n"
   ]
  },
  {
   "cell_type": "code",
   "execution_count": 112,
   "id": "34f7ed25",
   "metadata": {},
   "outputs": [
    {
     "data": {
      "image/png": "[encoded data removed]",
      "text/plain": [
       "plot without title"
      ]
     },
     "metadata": {
      "image/png": {
       "height": 420,
       "width": 420
      }
     },
     "output_type": "display_data"
    }
   ],
   "source": [
    "p_resp3 <- ggboxplot(\n",
    "  d_long_new, x = \"type\", y = \"resp\" ,ylab= \"Af (AZ/min)_baseline\", \n",
    "  palette = c(\"#00AFBB\", \"#E7B800\"), color = \"type\", shape = \"type\"\n",
    ")\n",
    "p_resp3"
   ]
  },
  {
   "cell_type": "code",
   "execution_count": 113,
   "id": "1522a9e8",
   "metadata": {},
   "outputs": [
    {
     "data": {
      "image/png": "[encoded data removed]",
      "text/plain": [
       "plot without title"
      ]
     },
     "metadata": {
      "image/png": {
       "height": 420,
       "width": 420
      }
     },
     "output_type": "display_data"
    }
   ],
   "source": [
    "p_resp4  <- ggboxplot(\n",
    "  d_long_new, x = \"type\", y = \"resp\", facet.by = \"condition\", ylab= \"Af (AZ/min)_baseline\", \n",
    "  color = \"condition\", palette = c(\"#00AFBB\", \"#E7B800\")\n",
    ")\n",
    "p_resp4"
   ]
  },
  {
   "cell_type": "code",
   "execution_count": 114,
   "id": "6ba7e99a",
   "metadata": {},
   "outputs": [
    {
     "data": {
      "image/png": "[encoded data removed]",
      "text/plain": [
       "plot without title"
      ]
     },
     "metadata": {
      "image/png": {
       "height": 420,
       "width": 420
      }
     },
     "output_type": "display_data"
    }
   ],
   "source": [
    "p_resp5  <- ggboxplot(\n",
    "  d_long_new, x = \"type\", y = \"resp\", facet.by = \"group\", ylab= \"Af (AZ/min)_baseline\",\n",
    "  color = \"group\", palette = c(\"#00AFBB\", \"#E7B800\")\n",
    ")\n",
    "p_resp5"
   ]
  },
  {
   "cell_type": "code",
   "execution_count": 118,
   "id": "13d641a4",
   "metadata": {},
   "outputs": [
    {
     "data": {
      "text/html": [
       "<strong>png:</strong> 2"
      ],
      "text/latex": [
       "\\textbf{png:} 2"
      ],
      "text/markdown": [
       "**png:** 2"
      ],
      "text/plain": [
       "png \n",
       "  2 "
      ]
     },
     "metadata": {},
     "output_type": "display_data"
    },
    {
     "data": {
      "text/html": [
       "<strong>png:</strong> 2"
      ],
      "text/latex": [
       "\\textbf{png:} 2"
      ],
      "text/markdown": [
       "**png:** 2"
      ],
      "text/plain": [
       "png \n",
       "  2 "
      ]
     },
     "metadata": {},
     "output_type": "display_data"
    },
    {
     "data": {
      "text/html": [
       "<strong>png:</strong> 2"
      ],
      "text/latex": [
       "\\textbf{png:} 2"
      ],
      "text/markdown": [
       "**png:** 2"
      ],
      "text/plain": [
       "png \n",
       "  2 "
      ]
     },
     "metadata": {},
     "output_type": "display_data"
    },
    {
     "data": {
      "text/html": [
       "<strong>png:</strong> 2"
      ],
      "text/latex": [
       "\\textbf{png:} 2"
      ],
      "text/markdown": [
       "**png:** 2"
      ],
      "text/plain": [
       "png \n",
       "  2 "
      ]
     },
     "metadata": {},
     "output_type": "display_data"
    },
    {
     "data": {
      "text/html": [
       "<strong>png:</strong> 2"
      ],
      "text/latex": [
       "\\textbf{png:} 2"
      ],
      "text/markdown": [
       "**png:** 2"
      ],
      "text/plain": [
       "png \n",
       "  2 "
      ]
     },
     "metadata": {},
     "output_type": "display_data"
    },
    {
     "data": {
      "text/html": [
       "<strong>png:</strong> 2"
      ],
      "text/latex": [
       "\\textbf{png:} 2"
      ],
      "text/markdown": [
       "**png:** 2"
      ],
      "text/plain": [
       "png \n",
       "  2 "
      ]
     },
     "metadata": {},
     "output_type": "display_data"
    },
    {
     "data": {
      "text/html": [
       "<strong>png:</strong> 2"
      ],
      "text/latex": [
       "\\textbf{png:} 2"
      ],
      "text/markdown": [
       "**png:** 2"
      ],
      "text/plain": [
       "png \n",
       "  2 "
      ]
     },
     "metadata": {},
     "output_type": "display_data"
    }
   ],
   "source": [
    "# PNG device\n",
    "\n",
    "\n",
    "png(\"plot1.png\")\n",
    "plot(p_resp1)\n",
    "dev.off()\n",
    "\n",
    "png(\"plot2.png\")\n",
    "plot(p_resp2)\n",
    "dev.off()\n",
    "\n",
    "png(\"plot3.png\")\n",
    "plot(p_resp3)\n",
    "dev.off()\n",
    "\n",
    "png(\"plot4.png\")\n",
    "plot(p_resp4)\n",
    "dev.off()\n",
    "\n",
    "png(\"plot5.png\")\n",
    "plot(p_resp5)\n",
    "dev.off()\n",
    "\n",
    "png(\"plot6.png\")\n",
    "plot(p_resp0)\n",
    "dev.off()\n",
    "\n",
    "png(\"plot7.png\")\n",
    "plot(p_resp8)\n",
    "dev.off()\n"
   ]
  }
 ],
 "metadata": {
  "kernelspec": {
   "display_name": "R",
   "language": "R",
   "name": "ir"
  },
  "language_info": {
   "codemirror_mode": "r",
   "file_extension": ".r",
   "mimetype": "text/x-r-source",
   "name": "R",
   "pygments_lexer": "r",
   "version": "4.1.2"
  }
 },
 "nbformat": 4,
 "nbformat_minor": 5
}
