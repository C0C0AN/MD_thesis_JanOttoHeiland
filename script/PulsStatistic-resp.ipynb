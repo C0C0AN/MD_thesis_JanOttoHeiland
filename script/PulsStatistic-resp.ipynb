{
 "cells": [
  {
   "cell_type": "code",
   "execution_count": 26,
   "id": "b371c5ab",
   "metadata": {},
   "outputs": [],
   "source": [
    "library(readr) # for importing the datafile\n",
    "library(afex) # for the anova\n",
    "library(tidyverse) # for restructuring it\n",
    "library(rstatix) # for testing assumptions\n",
    "library(ggpubr) # for graphical test of normality\n",
    "library(emmeans) # for post-hoc tests\n"
   ]
  },
  {
   "cell_type": "code",
   "execution_count": 27,
   "id": "2f55bad9",
   "metadata": {},
   "outputs": [
    {
     "data": {
      "text/html": [],
      "text/latex": [],
      "text/markdown": [],
      "text/plain": [
       "character(0)"
      ]
     },
     "metadata": {},
     "output_type": "display_data"
    },
    {
     "data": {
      "text/html": [
       "<table class=\"dataframe\">\n",
       "<caption>A data.frame: 24000 × 11</caption>\n",
       "<thead>\n",
       "\t<tr><th scope=col>resp</th><th scope=col>run</th><th scope=col>prob_id</th><th scope=col>time</th><th scope=col>phase</th><th scope=col>repetition</th><th scope=col>trial_type</th><th scope=col>condition</th><th scope=col>age</th><th scope=col>sex</th><th scope=col>group</th></tr>\n",
       "\t<tr><th scope=col>&lt;dbl&gt;</th><th scope=col>&lt;int&gt;</th><th scope=col>&lt;int&gt;</th><th scope=col>&lt;dbl&gt;</th><th scope=col>&lt;int&gt;</th><th scope=col>&lt;int&gt;</th><th scope=col>&lt;chr&gt;</th><th scope=col>&lt;chr&gt;</th><th scope=col>&lt;int&gt;</th><th scope=col>&lt;chr&gt;</th><th scope=col>&lt;chr&gt;</th></tr>\n",
       "</thead>\n",
       "<tbody>\n",
       "\t<tr><td>-1.30</td><td>1</td><td> 3</td><td>0.00</td><td>-1</td><td>0</td><td>pause</td><td>pause</td><td>23</td><td>M</td><td>Musik</td></tr>\n",
       "\t<tr><td> 3.31</td><td>1</td><td> 5</td><td>0.00</td><td>-1</td><td>0</td><td>pause</td><td>pause</td><td>25</td><td>M</td><td>Musik</td></tr>\n",
       "\t<tr><td>-3.68</td><td>1</td><td> 6</td><td>0.00</td><td>-1</td><td>0</td><td>pause</td><td>pause</td><td>27</td><td>M</td><td>Musik</td></tr>\n",
       "\t<tr><td>-1.45</td><td>1</td><td> 7</td><td>0.00</td><td>-1</td><td>0</td><td>pause</td><td>pause</td><td>24</td><td>F</td><td>Sound</td></tr>\n",
       "\t<tr><td>-0.18</td><td>1</td><td> 8</td><td>0.00</td><td>-1</td><td>0</td><td>pause</td><td>pause</td><td>27</td><td>M</td><td>Sound</td></tr>\n",
       "\t<tr><td>-4.50</td><td>1</td><td> 9</td><td>0.00</td><td>-1</td><td>0</td><td>pause</td><td>pause</td><td>30</td><td>M</td><td>Sound</td></tr>\n",
       "\t<tr><td> 1.74</td><td>1</td><td>11</td><td>0.00</td><td>-1</td><td>0</td><td>pause</td><td>pause</td><td>23</td><td>F</td><td>Musik</td></tr>\n",
       "\t<tr><td>-0.62</td><td>1</td><td>12</td><td>0.00</td><td>-1</td><td>0</td><td>pause</td><td>pause</td><td>21</td><td>F</td><td>Sound</td></tr>\n",
       "\t<tr><td>-1.18</td><td>1</td><td>13</td><td>0.00</td><td>-1</td><td>0</td><td>pause</td><td>pause</td><td>22</td><td>F</td><td>Sound</td></tr>\n",
       "\t<tr><td>-1.53</td><td>1</td><td>14</td><td>0.00</td><td>-1</td><td>0</td><td>pause</td><td>pause</td><td>23</td><td>F</td><td>Musik</td></tr>\n",
       "\t<tr><td>-4.78</td><td>1</td><td>15</td><td>0.00</td><td>-1</td><td>0</td><td>pause</td><td>pause</td><td>23</td><td>F</td><td>Sound</td></tr>\n",
       "\t<tr><td>-1.01</td><td>1</td><td>16</td><td>0.00</td><td>-1</td><td>0</td><td>pause</td><td>pause</td><td>25</td><td>M</td><td>Musik</td></tr>\n",
       "\t<tr><td>-2.00</td><td>1</td><td>17</td><td>0.00</td><td>-1</td><td>0</td><td>pause</td><td>pause</td><td>23</td><td>M</td><td>Sound</td></tr>\n",
       "\t<tr><td>-1.01</td><td>1</td><td>19</td><td>0.00</td><td>-1</td><td>0</td><td>pause</td><td>pause</td><td>24</td><td>M</td><td>Musik</td></tr>\n",
       "\t<tr><td>-1.82</td><td>1</td><td>20</td><td>0.00</td><td>-1</td><td>0</td><td>pause</td><td>pause</td><td>22</td><td>F</td><td>Sound</td></tr>\n",
       "\t<tr><td>-4.77</td><td>1</td><td>21</td><td>0.00</td><td>-1</td><td>0</td><td>pause</td><td>pause</td><td>24</td><td>M</td><td>Sound</td></tr>\n",
       "\t<tr><td>-0.60</td><td>1</td><td>22</td><td>0.00</td><td>-1</td><td>0</td><td>pause</td><td>pause</td><td>21</td><td>M</td><td>Sound</td></tr>\n",
       "\t<tr><td> 0.05</td><td>1</td><td>23</td><td>0.00</td><td>-1</td><td>0</td><td>pause</td><td>pause</td><td>23</td><td>F</td><td>Musik</td></tr>\n",
       "\t<tr><td>-1.54</td><td>1</td><td>24</td><td>0.00</td><td>-1</td><td>0</td><td>pause</td><td>pause</td><td>25</td><td>M</td><td>Musik</td></tr>\n",
       "\t<tr><td> 0.99</td><td>1</td><td>25</td><td>0.00</td><td>-1</td><td>0</td><td>pause</td><td>pause</td><td>28</td><td>M</td><td>Sound</td></tr>\n",
       "\t<tr><td>-1.50</td><td>1</td><td>26</td><td>0.00</td><td>-1</td><td>0</td><td>pause</td><td>pause</td><td>24</td><td>M</td><td>Musik</td></tr>\n",
       "\t<tr><td>-1.07</td><td>1</td><td>27</td><td>0.00</td><td>-1</td><td>0</td><td>pause</td><td>pause</td><td>22</td><td>F</td><td>Musik</td></tr>\n",
       "\t<tr><td>-1.39</td><td>1</td><td>28</td><td>0.00</td><td>-1</td><td>0</td><td>pause</td><td>pause</td><td>24</td><td>F</td><td>Musik</td></tr>\n",
       "\t<tr><td>-3.01</td><td>1</td><td>29</td><td>0.00</td><td>-1</td><td>0</td><td>pause</td><td>pause</td><td>25</td><td>M</td><td>Musik</td></tr>\n",
       "\t<tr><td> 0.94</td><td>1</td><td> 3</td><td>1.45</td><td>-1</td><td>0</td><td>pause</td><td>pause</td><td>23</td><td>M</td><td>Musik</td></tr>\n",
       "\t<tr><td> 1.83</td><td>1</td><td> 5</td><td>1.45</td><td>-1</td><td>0</td><td>pause</td><td>pause</td><td>25</td><td>M</td><td>Musik</td></tr>\n",
       "\t<tr><td>-1.69</td><td>1</td><td> 6</td><td>1.45</td><td>-1</td><td>0</td><td>pause</td><td>pause</td><td>27</td><td>M</td><td>Musik</td></tr>\n",
       "\t<tr><td>-2.56</td><td>1</td><td> 7</td><td>1.45</td><td>-1</td><td>0</td><td>pause</td><td>pause</td><td>24</td><td>F</td><td>Sound</td></tr>\n",
       "\t<tr><td>-1.14</td><td>1</td><td> 8</td><td>1.45</td><td>-1</td><td>0</td><td>pause</td><td>pause</td><td>27</td><td>M</td><td>Sound</td></tr>\n",
       "\t<tr><td>-5.78</td><td>1</td><td> 9</td><td>1.45</td><td>-1</td><td>0</td><td>pause</td><td>pause</td><td>30</td><td>M</td><td>Sound</td></tr>\n",
       "\t<tr><td>⋮</td><td>⋮</td><td>⋮</td><td>⋮</td><td>⋮</td><td>⋮</td><td>⋮</td><td>⋮</td><td>⋮</td><td>⋮</td><td>⋮</td></tr>\n",
       "\t<tr><td>18.70</td><td>2</td><td>24</td><td>722.10</td><td>-1</td><td>0</td><td>pause</td><td>pause</td><td>25</td><td>M</td><td>Musik</td></tr>\n",
       "\t<tr><td>14.83</td><td>2</td><td>25</td><td>722.10</td><td>-1</td><td>0</td><td>pause</td><td>pause</td><td>28</td><td>M</td><td>Sound</td></tr>\n",
       "\t<tr><td>22.94</td><td>2</td><td>26</td><td>722.10</td><td>-1</td><td>0</td><td>pause</td><td>pause</td><td>24</td><td>M</td><td>Musik</td></tr>\n",
       "\t<tr><td>15.63</td><td>2</td><td>27</td><td>722.10</td><td>-1</td><td>0</td><td>pause</td><td>pause</td><td>22</td><td>F</td><td>Musik</td></tr>\n",
       "\t<tr><td> 8.03</td><td>2</td><td>28</td><td>722.10</td><td>-1</td><td>0</td><td>pause</td><td>pause</td><td>24</td><td>F</td><td>Musik</td></tr>\n",
       "\t<tr><td> 5.43</td><td>2</td><td>29</td><td>722.10</td><td>-1</td><td>0</td><td>pause</td><td>pause</td><td>25</td><td>M</td><td>Musik</td></tr>\n",
       "\t<tr><td>19.39</td><td>2</td><td> 3</td><td>723.55</td><td>-1</td><td>0</td><td>pause</td><td>pause</td><td>23</td><td>M</td><td>Musik</td></tr>\n",
       "\t<tr><td>14.35</td><td>2</td><td> 5</td><td>723.55</td><td>-1</td><td>0</td><td>pause</td><td>pause</td><td>25</td><td>M</td><td>Musik</td></tr>\n",
       "\t<tr><td>13.04</td><td>2</td><td> 6</td><td>723.55</td><td>-1</td><td>0</td><td>pause</td><td>pause</td><td>27</td><td>M</td><td>Musik</td></tr>\n",
       "\t<tr><td>11.05</td><td>2</td><td> 7</td><td>723.55</td><td>-1</td><td>0</td><td>pause</td><td>pause</td><td>24</td><td>F</td><td>Sound</td></tr>\n",
       "\t<tr><td> 7.45</td><td>2</td><td> 8</td><td>723.55</td><td>-1</td><td>0</td><td>pause</td><td>pause</td><td>27</td><td>M</td><td>Sound</td></tr>\n",
       "\t<tr><td>10.08</td><td>2</td><td> 9</td><td>723.55</td><td>-1</td><td>0</td><td>pause</td><td>pause</td><td>30</td><td>M</td><td>Sound</td></tr>\n",
       "\t<tr><td> 6.26</td><td>2</td><td>11</td><td>723.55</td><td>-1</td><td>0</td><td>pause</td><td>pause</td><td>23</td><td>F</td><td>Musik</td></tr>\n",
       "\t<tr><td>15.39</td><td>2</td><td>12</td><td>723.55</td><td>-1</td><td>0</td><td>pause</td><td>pause</td><td>21</td><td>F</td><td>Sound</td></tr>\n",
       "\t<tr><td>13.01</td><td>2</td><td>13</td><td>723.55</td><td>-1</td><td>0</td><td>pause</td><td>pause</td><td>22</td><td>F</td><td>Sound</td></tr>\n",
       "\t<tr><td>17.10</td><td>2</td><td>14</td><td>723.55</td><td>-1</td><td>0</td><td>pause</td><td>pause</td><td>23</td><td>F</td><td>Musik</td></tr>\n",
       "\t<tr><td>13.96</td><td>2</td><td>15</td><td>723.55</td><td>-1</td><td>0</td><td>pause</td><td>pause</td><td>23</td><td>F</td><td>Sound</td></tr>\n",
       "\t<tr><td> 5.68</td><td>2</td><td>16</td><td>723.55</td><td>-1</td><td>0</td><td>pause</td><td>pause</td><td>25</td><td>M</td><td>Musik</td></tr>\n",
       "\t<tr><td>24.13</td><td>2</td><td>17</td><td>723.55</td><td>-1</td><td>0</td><td>pause</td><td>pause</td><td>23</td><td>M</td><td>Sound</td></tr>\n",
       "\t<tr><td> 5.68</td><td>2</td><td>19</td><td>723.55</td><td>-1</td><td>0</td><td>pause</td><td>pause</td><td>24</td><td>M</td><td>Musik</td></tr>\n",
       "\t<tr><td> 7.56</td><td>2</td><td>20</td><td>723.55</td><td>-1</td><td>0</td><td>pause</td><td>pause</td><td>22</td><td>F</td><td>Sound</td></tr>\n",
       "\t<tr><td>21.49</td><td>2</td><td>21</td><td>723.55</td><td>-1</td><td>0</td><td>pause</td><td>pause</td><td>24</td><td>M</td><td>Sound</td></tr>\n",
       "\t<tr><td>10.71</td><td>2</td><td>22</td><td>723.55</td><td>-1</td><td>0</td><td>pause</td><td>pause</td><td>21</td><td>M</td><td>Sound</td></tr>\n",
       "\t<tr><td>13.68</td><td>2</td><td>23</td><td>723.55</td><td>-1</td><td>0</td><td>pause</td><td>pause</td><td>23</td><td>F</td><td>Musik</td></tr>\n",
       "\t<tr><td>19.35</td><td>2</td><td>24</td><td>723.55</td><td>-1</td><td>0</td><td>pause</td><td>pause</td><td>25</td><td>M</td><td>Musik</td></tr>\n",
       "\t<tr><td>21.48</td><td>2</td><td>25</td><td>723.55</td><td>-1</td><td>0</td><td>pause</td><td>pause</td><td>28</td><td>M</td><td>Sound</td></tr>\n",
       "\t<tr><td>30.11</td><td>2</td><td>26</td><td>723.55</td><td>-1</td><td>0</td><td>pause</td><td>pause</td><td>24</td><td>M</td><td>Musik</td></tr>\n",
       "\t<tr><td>15.44</td><td>2</td><td>27</td><td>723.55</td><td>-1</td><td>0</td><td>pause</td><td>pause</td><td>22</td><td>F</td><td>Musik</td></tr>\n",
       "\t<tr><td> 7.84</td><td>2</td><td>28</td><td>723.55</td><td>-1</td><td>0</td><td>pause</td><td>pause</td><td>24</td><td>F</td><td>Musik</td></tr>\n",
       "\t<tr><td>12.15</td><td>2</td><td>29</td><td>723.55</td><td>-1</td><td>0</td><td>pause</td><td>pause</td><td>25</td><td>M</td><td>Musik</td></tr>\n",
       "</tbody>\n",
       "</table>\n"
      ],
      "text/latex": [
       "A data.frame: 24000 × 11\n",
       "\\begin{tabular}{lllllllllll}\n",
       " resp & run & prob\\_id & time & phase & repetition & trial\\_type & condition & age & sex & group\\\\\n",
       " <dbl> & <int> & <int> & <dbl> & <int> & <int> & <chr> & <chr> & <int> & <chr> & <chr>\\\\\n",
       "\\hline\n",
       "\t -1.30 & 1 &  3 & 0.00 & -1 & 0 & pause & pause & 23 & M & Musik\\\\\n",
       "\t  3.31 & 1 &  5 & 0.00 & -1 & 0 & pause & pause & 25 & M & Musik\\\\\n",
       "\t -3.68 & 1 &  6 & 0.00 & -1 & 0 & pause & pause & 27 & M & Musik\\\\\n",
       "\t -1.45 & 1 &  7 & 0.00 & -1 & 0 & pause & pause & 24 & F & Sound\\\\\n",
       "\t -0.18 & 1 &  8 & 0.00 & -1 & 0 & pause & pause & 27 & M & Sound\\\\\n",
       "\t -4.50 & 1 &  9 & 0.00 & -1 & 0 & pause & pause & 30 & M & Sound\\\\\n",
       "\t  1.74 & 1 & 11 & 0.00 & -1 & 0 & pause & pause & 23 & F & Musik\\\\\n",
       "\t -0.62 & 1 & 12 & 0.00 & -1 & 0 & pause & pause & 21 & F & Sound\\\\\n",
       "\t -1.18 & 1 & 13 & 0.00 & -1 & 0 & pause & pause & 22 & F & Sound\\\\\n",
       "\t -1.53 & 1 & 14 & 0.00 & -1 & 0 & pause & pause & 23 & F & Musik\\\\\n",
       "\t -4.78 & 1 & 15 & 0.00 & -1 & 0 & pause & pause & 23 & F & Sound\\\\\n",
       "\t -1.01 & 1 & 16 & 0.00 & -1 & 0 & pause & pause & 25 & M & Musik\\\\\n",
       "\t -2.00 & 1 & 17 & 0.00 & -1 & 0 & pause & pause & 23 & M & Sound\\\\\n",
       "\t -1.01 & 1 & 19 & 0.00 & -1 & 0 & pause & pause & 24 & M & Musik\\\\\n",
       "\t -1.82 & 1 & 20 & 0.00 & -1 & 0 & pause & pause & 22 & F & Sound\\\\\n",
       "\t -4.77 & 1 & 21 & 0.00 & -1 & 0 & pause & pause & 24 & M & Sound\\\\\n",
       "\t -0.60 & 1 & 22 & 0.00 & -1 & 0 & pause & pause & 21 & M & Sound\\\\\n",
       "\t  0.05 & 1 & 23 & 0.00 & -1 & 0 & pause & pause & 23 & F & Musik\\\\\n",
       "\t -1.54 & 1 & 24 & 0.00 & -1 & 0 & pause & pause & 25 & M & Musik\\\\\n",
       "\t  0.99 & 1 & 25 & 0.00 & -1 & 0 & pause & pause & 28 & M & Sound\\\\\n",
       "\t -1.50 & 1 & 26 & 0.00 & -1 & 0 & pause & pause & 24 & M & Musik\\\\\n",
       "\t -1.07 & 1 & 27 & 0.00 & -1 & 0 & pause & pause & 22 & F & Musik\\\\\n",
       "\t -1.39 & 1 & 28 & 0.00 & -1 & 0 & pause & pause & 24 & F & Musik\\\\\n",
       "\t -3.01 & 1 & 29 & 0.00 & -1 & 0 & pause & pause & 25 & M & Musik\\\\\n",
       "\t  0.94 & 1 &  3 & 1.45 & -1 & 0 & pause & pause & 23 & M & Musik\\\\\n",
       "\t  1.83 & 1 &  5 & 1.45 & -1 & 0 & pause & pause & 25 & M & Musik\\\\\n",
       "\t -1.69 & 1 &  6 & 1.45 & -1 & 0 & pause & pause & 27 & M & Musik\\\\\n",
       "\t -2.56 & 1 &  7 & 1.45 & -1 & 0 & pause & pause & 24 & F & Sound\\\\\n",
       "\t -1.14 & 1 &  8 & 1.45 & -1 & 0 & pause & pause & 27 & M & Sound\\\\\n",
       "\t -5.78 & 1 &  9 & 1.45 & -1 & 0 & pause & pause & 30 & M & Sound\\\\\n",
       "\t ⋮ & ⋮ & ⋮ & ⋮ & ⋮ & ⋮ & ⋮ & ⋮ & ⋮ & ⋮ & ⋮\\\\\n",
       "\t 18.70 & 2 & 24 & 722.10 & -1 & 0 & pause & pause & 25 & M & Musik\\\\\n",
       "\t 14.83 & 2 & 25 & 722.10 & -1 & 0 & pause & pause & 28 & M & Sound\\\\\n",
       "\t 22.94 & 2 & 26 & 722.10 & -1 & 0 & pause & pause & 24 & M & Musik\\\\\n",
       "\t 15.63 & 2 & 27 & 722.10 & -1 & 0 & pause & pause & 22 & F & Musik\\\\\n",
       "\t  8.03 & 2 & 28 & 722.10 & -1 & 0 & pause & pause & 24 & F & Musik\\\\\n",
       "\t  5.43 & 2 & 29 & 722.10 & -1 & 0 & pause & pause & 25 & M & Musik\\\\\n",
       "\t 19.39 & 2 &  3 & 723.55 & -1 & 0 & pause & pause & 23 & M & Musik\\\\\n",
       "\t 14.35 & 2 &  5 & 723.55 & -1 & 0 & pause & pause & 25 & M & Musik\\\\\n",
       "\t 13.04 & 2 &  6 & 723.55 & -1 & 0 & pause & pause & 27 & M & Musik\\\\\n",
       "\t 11.05 & 2 &  7 & 723.55 & -1 & 0 & pause & pause & 24 & F & Sound\\\\\n",
       "\t  7.45 & 2 &  8 & 723.55 & -1 & 0 & pause & pause & 27 & M & Sound\\\\\n",
       "\t 10.08 & 2 &  9 & 723.55 & -1 & 0 & pause & pause & 30 & M & Sound\\\\\n",
       "\t  6.26 & 2 & 11 & 723.55 & -1 & 0 & pause & pause & 23 & F & Musik\\\\\n",
       "\t 15.39 & 2 & 12 & 723.55 & -1 & 0 & pause & pause & 21 & F & Sound\\\\\n",
       "\t 13.01 & 2 & 13 & 723.55 & -1 & 0 & pause & pause & 22 & F & Sound\\\\\n",
       "\t 17.10 & 2 & 14 & 723.55 & -1 & 0 & pause & pause & 23 & F & Musik\\\\\n",
       "\t 13.96 & 2 & 15 & 723.55 & -1 & 0 & pause & pause & 23 & F & Sound\\\\\n",
       "\t  5.68 & 2 & 16 & 723.55 & -1 & 0 & pause & pause & 25 & M & Musik\\\\\n",
       "\t 24.13 & 2 & 17 & 723.55 & -1 & 0 & pause & pause & 23 & M & Sound\\\\\n",
       "\t  5.68 & 2 & 19 & 723.55 & -1 & 0 & pause & pause & 24 & M & Musik\\\\\n",
       "\t  7.56 & 2 & 20 & 723.55 & -1 & 0 & pause & pause & 22 & F & Sound\\\\\n",
       "\t 21.49 & 2 & 21 & 723.55 & -1 & 0 & pause & pause & 24 & M & Sound\\\\\n",
       "\t 10.71 & 2 & 22 & 723.55 & -1 & 0 & pause & pause & 21 & M & Sound\\\\\n",
       "\t 13.68 & 2 & 23 & 723.55 & -1 & 0 & pause & pause & 23 & F & Musik\\\\\n",
       "\t 19.35 & 2 & 24 & 723.55 & -1 & 0 & pause & pause & 25 & M & Musik\\\\\n",
       "\t 21.48 & 2 & 25 & 723.55 & -1 & 0 & pause & pause & 28 & M & Sound\\\\\n",
       "\t 30.11 & 2 & 26 & 723.55 & -1 & 0 & pause & pause & 24 & M & Musik\\\\\n",
       "\t 15.44 & 2 & 27 & 723.55 & -1 & 0 & pause & pause & 22 & F & Musik\\\\\n",
       "\t  7.84 & 2 & 28 & 723.55 & -1 & 0 & pause & pause & 24 & F & Musik\\\\\n",
       "\t 12.15 & 2 & 29 & 723.55 & -1 & 0 & pause & pause & 25 & M & Musik\\\\\n",
       "\\end{tabular}\n"
      ],
      "text/markdown": [
       "\n",
       "A data.frame: 24000 × 11\n",
       "\n",
       "| resp &lt;dbl&gt; | run &lt;int&gt; | prob_id &lt;int&gt; | time &lt;dbl&gt; | phase &lt;int&gt; | repetition &lt;int&gt; | trial_type &lt;chr&gt; | condition &lt;chr&gt; | age &lt;int&gt; | sex &lt;chr&gt; | group &lt;chr&gt; |\n",
       "|---|---|---|---|---|---|---|---|---|---|---|\n",
       "| -1.30 | 1 |  3 | 0.00 | -1 | 0 | pause | pause | 23 | M | Musik |\n",
       "|  3.31 | 1 |  5 | 0.00 | -1 | 0 | pause | pause | 25 | M | Musik |\n",
       "| -3.68 | 1 |  6 | 0.00 | -1 | 0 | pause | pause | 27 | M | Musik |\n",
       "| -1.45 | 1 |  7 | 0.00 | -1 | 0 | pause | pause | 24 | F | Sound |\n",
       "| -0.18 | 1 |  8 | 0.00 | -1 | 0 | pause | pause | 27 | M | Sound |\n",
       "| -4.50 | 1 |  9 | 0.00 | -1 | 0 | pause | pause | 30 | M | Sound |\n",
       "|  1.74 | 1 | 11 | 0.00 | -1 | 0 | pause | pause | 23 | F | Musik |\n",
       "| -0.62 | 1 | 12 | 0.00 | -1 | 0 | pause | pause | 21 | F | Sound |\n",
       "| -1.18 | 1 | 13 | 0.00 | -1 | 0 | pause | pause | 22 | F | Sound |\n",
       "| -1.53 | 1 | 14 | 0.00 | -1 | 0 | pause | pause | 23 | F | Musik |\n",
       "| -4.78 | 1 | 15 | 0.00 | -1 | 0 | pause | pause | 23 | F | Sound |\n",
       "| -1.01 | 1 | 16 | 0.00 | -1 | 0 | pause | pause | 25 | M | Musik |\n",
       "| -2.00 | 1 | 17 | 0.00 | -1 | 0 | pause | pause | 23 | M | Sound |\n",
       "| -1.01 | 1 | 19 | 0.00 | -1 | 0 | pause | pause | 24 | M | Musik |\n",
       "| -1.82 | 1 | 20 | 0.00 | -1 | 0 | pause | pause | 22 | F | Sound |\n",
       "| -4.77 | 1 | 21 | 0.00 | -1 | 0 | pause | pause | 24 | M | Sound |\n",
       "| -0.60 | 1 | 22 | 0.00 | -1 | 0 | pause | pause | 21 | M | Sound |\n",
       "|  0.05 | 1 | 23 | 0.00 | -1 | 0 | pause | pause | 23 | F | Musik |\n",
       "| -1.54 | 1 | 24 | 0.00 | -1 | 0 | pause | pause | 25 | M | Musik |\n",
       "|  0.99 | 1 | 25 | 0.00 | -1 | 0 | pause | pause | 28 | M | Sound |\n",
       "| -1.50 | 1 | 26 | 0.00 | -1 | 0 | pause | pause | 24 | M | Musik |\n",
       "| -1.07 | 1 | 27 | 0.00 | -1 | 0 | pause | pause | 22 | F | Musik |\n",
       "| -1.39 | 1 | 28 | 0.00 | -1 | 0 | pause | pause | 24 | F | Musik |\n",
       "| -3.01 | 1 | 29 | 0.00 | -1 | 0 | pause | pause | 25 | M | Musik |\n",
       "|  0.94 | 1 |  3 | 1.45 | -1 | 0 | pause | pause | 23 | M | Musik |\n",
       "|  1.83 | 1 |  5 | 1.45 | -1 | 0 | pause | pause | 25 | M | Musik |\n",
       "| -1.69 | 1 |  6 | 1.45 | -1 | 0 | pause | pause | 27 | M | Musik |\n",
       "| -2.56 | 1 |  7 | 1.45 | -1 | 0 | pause | pause | 24 | F | Sound |\n",
       "| -1.14 | 1 |  8 | 1.45 | -1 | 0 | pause | pause | 27 | M | Sound |\n",
       "| -5.78 | 1 |  9 | 1.45 | -1 | 0 | pause | pause | 30 | M | Sound |\n",
       "| ⋮ | ⋮ | ⋮ | ⋮ | ⋮ | ⋮ | ⋮ | ⋮ | ⋮ | ⋮ | ⋮ |\n",
       "| 18.70 | 2 | 24 | 722.10 | -1 | 0 | pause | pause | 25 | M | Musik |\n",
       "| 14.83 | 2 | 25 | 722.10 | -1 | 0 | pause | pause | 28 | M | Sound |\n",
       "| 22.94 | 2 | 26 | 722.10 | -1 | 0 | pause | pause | 24 | M | Musik |\n",
       "| 15.63 | 2 | 27 | 722.10 | -1 | 0 | pause | pause | 22 | F | Musik |\n",
       "|  8.03 | 2 | 28 | 722.10 | -1 | 0 | pause | pause | 24 | F | Musik |\n",
       "|  5.43 | 2 | 29 | 722.10 | -1 | 0 | pause | pause | 25 | M | Musik |\n",
       "| 19.39 | 2 |  3 | 723.55 | -1 | 0 | pause | pause | 23 | M | Musik |\n",
       "| 14.35 | 2 |  5 | 723.55 | -1 | 0 | pause | pause | 25 | M | Musik |\n",
       "| 13.04 | 2 |  6 | 723.55 | -1 | 0 | pause | pause | 27 | M | Musik |\n",
       "| 11.05 | 2 |  7 | 723.55 | -1 | 0 | pause | pause | 24 | F | Sound |\n",
       "|  7.45 | 2 |  8 | 723.55 | -1 | 0 | pause | pause | 27 | M | Sound |\n",
       "| 10.08 | 2 |  9 | 723.55 | -1 | 0 | pause | pause | 30 | M | Sound |\n",
       "|  6.26 | 2 | 11 | 723.55 | -1 | 0 | pause | pause | 23 | F | Musik |\n",
       "| 15.39 | 2 | 12 | 723.55 | -1 | 0 | pause | pause | 21 | F | Sound |\n",
       "| 13.01 | 2 | 13 | 723.55 | -1 | 0 | pause | pause | 22 | F | Sound |\n",
       "| 17.10 | 2 | 14 | 723.55 | -1 | 0 | pause | pause | 23 | F | Musik |\n",
       "| 13.96 | 2 | 15 | 723.55 | -1 | 0 | pause | pause | 23 | F | Sound |\n",
       "|  5.68 | 2 | 16 | 723.55 | -1 | 0 | pause | pause | 25 | M | Musik |\n",
       "| 24.13 | 2 | 17 | 723.55 | -1 | 0 | pause | pause | 23 | M | Sound |\n",
       "|  5.68 | 2 | 19 | 723.55 | -1 | 0 | pause | pause | 24 | M | Musik |\n",
       "|  7.56 | 2 | 20 | 723.55 | -1 | 0 | pause | pause | 22 | F | Sound |\n",
       "| 21.49 | 2 | 21 | 723.55 | -1 | 0 | pause | pause | 24 | M | Sound |\n",
       "| 10.71 | 2 | 22 | 723.55 | -1 | 0 | pause | pause | 21 | M | Sound |\n",
       "| 13.68 | 2 | 23 | 723.55 | -1 | 0 | pause | pause | 23 | F | Musik |\n",
       "| 19.35 | 2 | 24 | 723.55 | -1 | 0 | pause | pause | 25 | M | Musik |\n",
       "| 21.48 | 2 | 25 | 723.55 | -1 | 0 | pause | pause | 28 | M | Sound |\n",
       "| 30.11 | 2 | 26 | 723.55 | -1 | 0 | pause | pause | 24 | M | Musik |\n",
       "| 15.44 | 2 | 27 | 723.55 | -1 | 0 | pause | pause | 22 | F | Musik |\n",
       "|  7.84 | 2 | 28 | 723.55 | -1 | 0 | pause | pause | 24 | F | Musik |\n",
       "| 12.15 | 2 | 29 | 723.55 | -1 | 0 | pause | pause | 25 | M | Musik |\n",
       "\n"
      ],
      "text/plain": [
       "      resp  run prob_id time   phase repetition trial_type condition age sex\n",
       "1     -1.30 1    3      0.00   -1    0          pause      pause     23  M  \n",
       "2      3.31 1    5      0.00   -1    0          pause      pause     25  M  \n",
       "3     -3.68 1    6      0.00   -1    0          pause      pause     27  M  \n",
       "4     -1.45 1    7      0.00   -1    0          pause      pause     24  F  \n",
       "5     -0.18 1    8      0.00   -1    0          pause      pause     27  M  \n",
       "6     -4.50 1    9      0.00   -1    0          pause      pause     30  M  \n",
       "7      1.74 1   11      0.00   -1    0          pause      pause     23  F  \n",
       "8     -0.62 1   12      0.00   -1    0          pause      pause     21  F  \n",
       "9     -1.18 1   13      0.00   -1    0          pause      pause     22  F  \n",
       "10    -1.53 1   14      0.00   -1    0          pause      pause     23  F  \n",
       "11    -4.78 1   15      0.00   -1    0          pause      pause     23  F  \n",
       "12    -1.01 1   16      0.00   -1    0          pause      pause     25  M  \n",
       "13    -2.00 1   17      0.00   -1    0          pause      pause     23  M  \n",
       "14    -1.01 1   19      0.00   -1    0          pause      pause     24  M  \n",
       "15    -1.82 1   20      0.00   -1    0          pause      pause     22  F  \n",
       "16    -4.77 1   21      0.00   -1    0          pause      pause     24  M  \n",
       "17    -0.60 1   22      0.00   -1    0          pause      pause     21  M  \n",
       "18     0.05 1   23      0.00   -1    0          pause      pause     23  F  \n",
       "19    -1.54 1   24      0.00   -1    0          pause      pause     25  M  \n",
       "20     0.99 1   25      0.00   -1    0          pause      pause     28  M  \n",
       "21    -1.50 1   26      0.00   -1    0          pause      pause     24  M  \n",
       "22    -1.07 1   27      0.00   -1    0          pause      pause     22  F  \n",
       "23    -1.39 1   28      0.00   -1    0          pause      pause     24  F  \n",
       "24    -3.01 1   29      0.00   -1    0          pause      pause     25  M  \n",
       "25     0.94 1    3      1.45   -1    0          pause      pause     23  M  \n",
       "26     1.83 1    5      1.45   -1    0          pause      pause     25  M  \n",
       "27    -1.69 1    6      1.45   -1    0          pause      pause     27  M  \n",
       "28    -2.56 1    7      1.45   -1    0          pause      pause     24  F  \n",
       "29    -1.14 1    8      1.45   -1    0          pause      pause     27  M  \n",
       "30    -5.78 1    9      1.45   -1    0          pause      pause     30  M  \n",
       "⋮     ⋮     ⋮   ⋮       ⋮      ⋮     ⋮          ⋮          ⋮         ⋮   ⋮  \n",
       "23971 18.70 2   24      722.10 -1    0          pause      pause     25  M  \n",
       "23972 14.83 2   25      722.10 -1    0          pause      pause     28  M  \n",
       "23973 22.94 2   26      722.10 -1    0          pause      pause     24  M  \n",
       "23974 15.63 2   27      722.10 -1    0          pause      pause     22  F  \n",
       "23975  8.03 2   28      722.10 -1    0          pause      pause     24  F  \n",
       "23976  5.43 2   29      722.10 -1    0          pause      pause     25  M  \n",
       "23977 19.39 2    3      723.55 -1    0          pause      pause     23  M  \n",
       "23978 14.35 2    5      723.55 -1    0          pause      pause     25  M  \n",
       "23979 13.04 2    6      723.55 -1    0          pause      pause     27  M  \n",
       "23980 11.05 2    7      723.55 -1    0          pause      pause     24  F  \n",
       "23981  7.45 2    8      723.55 -1    0          pause      pause     27  M  \n",
       "23982 10.08 2    9      723.55 -1    0          pause      pause     30  M  \n",
       "23983  6.26 2   11      723.55 -1    0          pause      pause     23  F  \n",
       "23984 15.39 2   12      723.55 -1    0          pause      pause     21  F  \n",
       "23985 13.01 2   13      723.55 -1    0          pause      pause     22  F  \n",
       "23986 17.10 2   14      723.55 -1    0          pause      pause     23  F  \n",
       "23987 13.96 2   15      723.55 -1    0          pause      pause     23  F  \n",
       "23988  5.68 2   16      723.55 -1    0          pause      pause     25  M  \n",
       "23989 24.13 2   17      723.55 -1    0          pause      pause     23  M  \n",
       "23990  5.68 2   19      723.55 -1    0          pause      pause     24  M  \n",
       "23991  7.56 2   20      723.55 -1    0          pause      pause     22  F  \n",
       "23992 21.49 2   21      723.55 -1    0          pause      pause     24  M  \n",
       "23993 10.71 2   22      723.55 -1    0          pause      pause     21  M  \n",
       "23994 13.68 2   23      723.55 -1    0          pause      pause     23  F  \n",
       "23995 19.35 2   24      723.55 -1    0          pause      pause     25  M  \n",
       "23996 21.48 2   25      723.55 -1    0          pause      pause     28  M  \n",
       "23997 30.11 2   26      723.55 -1    0          pause      pause     24  M  \n",
       "23998 15.44 2   27      723.55 -1    0          pause      pause     22  F  \n",
       "23999  7.84 2   28      723.55 -1    0          pause      pause     24  F  \n",
       "24000 12.15 2   29      723.55 -1    0          pause      pause     25  M  \n",
       "      group\n",
       "1     Musik\n",
       "2     Musik\n",
       "3     Musik\n",
       "4     Sound\n",
       "5     Sound\n",
       "6     Sound\n",
       "7     Musik\n",
       "8     Sound\n",
       "9     Sound\n",
       "10    Musik\n",
       "11    Sound\n",
       "12    Musik\n",
       "13    Sound\n",
       "14    Musik\n",
       "15    Sound\n",
       "16    Sound\n",
       "17    Sound\n",
       "18    Musik\n",
       "19    Musik\n",
       "20    Sound\n",
       "21    Musik\n",
       "22    Musik\n",
       "23    Musik\n",
       "24    Musik\n",
       "25    Musik\n",
       "26    Musik\n",
       "27    Musik\n",
       "28    Sound\n",
       "29    Sound\n",
       "30    Sound\n",
       "⋮     ⋮    \n",
       "23971 Musik\n",
       "23972 Sound\n",
       "23973 Musik\n",
       "23974 Musik\n",
       "23975 Musik\n",
       "23976 Musik\n",
       "23977 Musik\n",
       "23978 Musik\n",
       "23979 Musik\n",
       "23980 Sound\n",
       "23981 Sound\n",
       "23982 Sound\n",
       "23983 Musik\n",
       "23984 Sound\n",
       "23985 Sound\n",
       "23986 Musik\n",
       "23987 Sound\n",
       "23988 Musik\n",
       "23989 Sound\n",
       "23990 Musik\n",
       "23991 Sound\n",
       "23992 Sound\n",
       "23993 Sound\n",
       "23994 Musik\n",
       "23995 Musik\n",
       "23996 Sound\n",
       "23997 Musik\n",
       "23998 Musik\n",
       "23999 Musik\n",
       "24000 Musik"
      ]
     },
     "metadata": {},
     "output_type": "display_data"
    }
   ],
   "source": [
    "d_long <- read.csv(\"resp_base_run.tsv\", sep=\"\\t\")\n",
    "names(d_long)[names(d_long) == \"reso\"] \n",
    "d_long\n"
   ]
  },
  {
   "cell_type": "code",
   "execution_count": 28,
   "id": "40723b87",
   "metadata": {},
   "outputs": [],
   "source": [
    "d_long$type <- as.factor(d_long$trial_type)\n",
    "d_long$condition <- as.factor(d_long$condition)\n",
    "d_long$group <- as.factor(d_long$group)\n",
    "d_long$sex <- as.factor(d_long$sex)\n",
    "d_long$eda <- as.numeric(d_long$resp)\n",
    "d_long$time<- as.factor(paste(d_long$run, d_long$repetition, sep = \"_\"))\n",
    "\n",
    "# bad data structure. See what happens if I eliminate all rows that are \"pause\" in \"condition\"\n",
    "\n",
    "d_long_new <- d_long[d_long$condition != \"pause\", ] "
   ]
  },
  {
   "cell_type": "code",
   "execution_count": 29,
   "id": "dd59b82d",
   "metadata": {},
   "outputs": [],
   "source": [
    "#round(eda)\n",
    "#apply(is.na(d_long_new), 2, which)"
   ]
  },
  {
   "cell_type": "code",
   "execution_count": 30,
   "id": "55f1948c",
   "metadata": {},
   "outputs": [
    {
     "data": {
      "text/html": [
       "<table class=\"dataframe\">\n",
       "<caption>A matrix: 0 × 2 of type int</caption>\n",
       "<thead>\n",
       "\t<tr><th scope=col>row</th><th scope=col>col</th></tr>\n",
       "</thead>\n",
       "<tbody>\n",
       "</tbody>\n",
       "</table>\n"
      ],
      "text/latex": [
       "A matrix: 0 × 2 of type int\n",
       "\\begin{tabular}{ll}\n",
       " row & col\\\\\n",
       "\\hline\n",
       "\\end{tabular}\n"
      ],
      "text/markdown": [
       "\n",
       "A matrix: 0 × 2 of type int\n",
       "\n",
       "| row | col |\n",
       "|---|---|\n",
       "\n"
      ],
      "text/plain": [
       "     row col"
      ]
     },
     "metadata": {},
     "output_type": "display_data"
    }
   ],
   "source": [
    "which(is.na(d_long_new), arr.ind = TRUE)\n",
    "d_long_new = na.omit(d_long_new)"
   ]
  },
  {
   "cell_type": "code",
   "execution_count": 31,
   "id": "4c32041d",
   "metadata": {},
   "outputs": [
    {
     "data": {
      "text/plain": [
       "      resp               run         prob_id       time          phase      \n",
       " Min.   :-13.2100   Min.   :1.0   Min.   : 3.00   1_0:   0   Min.   :0.000  \n",
       " 1st Qu.: -1.3200   1st Qu.:1.0   1st Qu.:10.50   1_1:3936   1st Qu.:1.000  \n",
       " Median :  0.4200   Median :1.5   Median :16.50   1_2:3912   Median :3.000  \n",
       " Mean   :  0.4508   Mean   :1.5   Mean   :16.67   2_0:   0   Mean   :3.498  \n",
       " 3rd Qu.:  2.1900   3rd Qu.:2.0   3rd Qu.:23.25   2_1:3936   3rd Qu.:6.000  \n",
       " Max.   : 14.0500   Max.   :2.0   Max.   :29.00   2_2:3912   Max.   :7.000  \n",
       "   repetition     trial_type           condition         age        sex     \n",
       " Min.   :1.000   Length:15696       math    :7872   Min.   :21.00   F:6540  \n",
       " 1st Qu.:1.000   Class :character   pause   :   0   1st Qu.:23.00   M:9156  \n",
       " Median :1.000   Mode  :character   rotation:7824   Median :24.00           \n",
       " Mean   :1.498                                      Mean   :24.08           \n",
       " 3rd Qu.:2.000                                      3rd Qu.:25.00           \n",
       " Max.   :2.000                                      Max.   :30.00           \n",
       "   group          type           eda          \n",
       " Musik:8502   pause :   0   Min.   :-13.2100  \n",
       " Sound:7194   relax :7848   1st Qu.: -1.3200  \n",
       "              stress:7848   Median :  0.4200  \n",
       "                            Mean   :  0.4508  \n",
       "                            3rd Qu.:  2.1900  \n",
       "                            Max.   : 14.0500  "
      ]
     },
     "metadata": {},
     "output_type": "display_data"
    }
   ],
   "source": [
    "summary(d_long_new)"
   ]
  },
  {
   "cell_type": "markdown",
   "id": "1ed66384",
   "metadata": {},
   "source": [
    "Test assumptions"
   ]
  },
  {
   "cell_type": "code",
   "execution_count": 32,
   "id": "6e644011",
   "metadata": {
    "scrolled": true
   },
   "outputs": [
    {
     "data": {
      "text/html": [
       "<table class=\"dataframe\">\n",
       "<caption>A tibble: 32 × 7</caption>\n",
       "<thead>\n",
       "\t<tr><th scope=col>time</th><th scope=col>condition</th><th scope=col>group</th><th scope=col>type</th><th scope=col>variable</th><th scope=col>statistic</th><th scope=col>p</th></tr>\n",
       "\t<tr><th scope=col>&lt;fct&gt;</th><th scope=col>&lt;fct&gt;</th><th scope=col>&lt;fct&gt;</th><th scope=col>&lt;fct&gt;</th><th scope=col>&lt;chr&gt;</th><th scope=col>&lt;dbl&gt;</th><th scope=col>&lt;dbl&gt;</th></tr>\n",
       "</thead>\n",
       "<tbody>\n",
       "\t<tr><td>1_1</td><td>math    </td><td>Musik</td><td>relax </td><td>resp</td><td>0.9956264</td><td>1.423749e-01</td></tr>\n",
       "\t<tr><td>1_1</td><td>math    </td><td>Sound</td><td>relax </td><td>resp</td><td>0.9957345</td><td>2.604688e-01</td></tr>\n",
       "\t<tr><td>1_1</td><td>rotation</td><td>Musik</td><td>relax </td><td>resp</td><td>0.9826028</td><td>5.455666e-06</td></tr>\n",
       "\t<tr><td>1_1</td><td>rotation</td><td>Sound</td><td>relax </td><td>resp</td><td>0.9557437</td><td>2.197355e-10</td></tr>\n",
       "\t<tr><td>1_1</td><td>math    </td><td>Musik</td><td>stress</td><td>resp</td><td>0.9959708</td><td>1.916000e-01</td></tr>\n",
       "\t<tr><td>1_1</td><td>math    </td><td>Sound</td><td>stress</td><td>resp</td><td>0.9724543</td><td>1.655295e-07</td></tr>\n",
       "\t<tr><td>1_1</td><td>rotation</td><td>Musik</td><td>stress</td><td>resp</td><td>0.9718527</td><td>1.362906e-08</td></tr>\n",
       "\t<tr><td>1_1</td><td>rotation</td><td>Sound</td><td>stress</td><td>resp</td><td>0.9937397</td><td>5.939464e-02</td></tr>\n",
       "\t<tr><td>1_2</td><td>math    </td><td>Musik</td><td>relax </td><td>resp</td><td>0.9953006</td><td>1.069510e-01</td></tr>\n",
       "\t<tr><td>1_2</td><td>math    </td><td>Sound</td><td>relax </td><td>resp</td><td>0.9943635</td><td>9.531367e-02</td></tr>\n",
       "\t<tr><td>1_2</td><td>rotation</td><td>Musik</td><td>relax </td><td>resp</td><td>0.9968992</td><td>4.259543e-01</td></tr>\n",
       "\t<tr><td>1_2</td><td>rotation</td><td>Sound</td><td>relax </td><td>resp</td><td>0.9888203</td><td>1.920215e-03</td></tr>\n",
       "\t<tr><td>1_2</td><td>math    </td><td>Musik</td><td>stress</td><td>resp</td><td>0.9911366</td><td>2.781131e-03</td></tr>\n",
       "\t<tr><td>1_2</td><td>math    </td><td>Sound</td><td>stress</td><td>resp</td><td>0.9927230</td><td>2.743120e-02</td></tr>\n",
       "\t<tr><td>1_2</td><td>rotation</td><td>Musik</td><td>stress</td><td>resp</td><td>0.9819748</td><td>3.666683e-06</td></tr>\n",
       "\t<tr><td>1_2</td><td>rotation</td><td>Sound</td><td>stress</td><td>resp</td><td>0.9910224</td><td>7.708489e-03</td></tr>\n",
       "\t<tr><td>2_1</td><td>math    </td><td>Musik</td><td>relax </td><td>resp</td><td>0.8932384</td><td>8.771416e-19</td></tr>\n",
       "\t<tr><td>2_1</td><td>math    </td><td>Sound</td><td>relax </td><td>resp</td><td>0.9970992</td><td>6.104948e-01</td></tr>\n",
       "\t<tr><td>2_1</td><td>rotation</td><td>Musik</td><td>relax </td><td>resp</td><td>0.9972839</td><td>5.313874e-01</td></tr>\n",
       "\t<tr><td>2_1</td><td>rotation</td><td>Sound</td><td>relax </td><td>resp</td><td>0.9954708</td><td>2.161004e-01</td></tr>\n",
       "\t<tr><td>2_1</td><td>math    </td><td>Musik</td><td>stress</td><td>resp</td><td>0.9940647</td><td>3.547482e-02</td></tr>\n",
       "\t<tr><td>2_1</td><td>math    </td><td>Sound</td><td>stress</td><td>resp</td><td>0.8769458</td><td>1.875629e-18</td></tr>\n",
       "\t<tr><td>2_1</td><td>rotation</td><td>Musik</td><td>stress</td><td>resp</td><td>0.9962219</td><td>2.367340e-01</td></tr>\n",
       "\t<tr><td>2_1</td><td>rotation</td><td>Sound</td><td>stress</td><td>resp</td><td>0.9941272</td><td>7.971585e-02</td></tr>\n",
       "\t<tr><td>2_2</td><td>math    </td><td>Musik</td><td>relax </td><td>resp</td><td>0.9781201</td><td>3.692329e-07</td></tr>\n",
       "\t<tr><td>2_2</td><td>math    </td><td>Sound</td><td>relax </td><td>resp</td><td>0.9947141</td><td>1.240306e-01</td></tr>\n",
       "\t<tr><td>2_2</td><td>rotation</td><td>Musik</td><td>relax </td><td>resp</td><td>0.9926559</td><td>1.019120e-02</td></tr>\n",
       "\t<tr><td>2_2</td><td>rotation</td><td>Sound</td><td>relax </td><td>resp</td><td>0.9719445</td><td>1.311318e-07</td></tr>\n",
       "\t<tr><td>2_2</td><td>math    </td><td>Musik</td><td>stress</td><td>resp</td><td>0.9743776</td><td>4.866971e-08</td></tr>\n",
       "\t<tr><td>2_2</td><td>math    </td><td>Sound</td><td>stress</td><td>resp</td><td>0.9956488</td><td>2.452538e-01</td></tr>\n",
       "\t<tr><td>2_2</td><td>rotation</td><td>Musik</td><td>stress</td><td>resp</td><td>0.9966465</td><td>3.537042e-01</td></tr>\n",
       "\t<tr><td>2_2</td><td>rotation</td><td>Sound</td><td>stress</td><td>resp</td><td>0.9391288</td><td>1.945316e-12</td></tr>\n",
       "</tbody>\n",
       "</table>\n"
      ],
      "text/latex": [
       "A tibble: 32 × 7\n",
       "\\begin{tabular}{lllllll}\n",
       " time & condition & group & type & variable & statistic & p\\\\\n",
       " <fct> & <fct> & <fct> & <fct> & <chr> & <dbl> & <dbl>\\\\\n",
       "\\hline\n",
       "\t 1\\_1 & math     & Musik & relax  & resp & 0.9956264 & 1.423749e-01\\\\\n",
       "\t 1\\_1 & math     & Sound & relax  & resp & 0.9957345 & 2.604688e-01\\\\\n",
       "\t 1\\_1 & rotation & Musik & relax  & resp & 0.9826028 & 5.455666e-06\\\\\n",
       "\t 1\\_1 & rotation & Sound & relax  & resp & 0.9557437 & 2.197355e-10\\\\\n",
       "\t 1\\_1 & math     & Musik & stress & resp & 0.9959708 & 1.916000e-01\\\\\n",
       "\t 1\\_1 & math     & Sound & stress & resp & 0.9724543 & 1.655295e-07\\\\\n",
       "\t 1\\_1 & rotation & Musik & stress & resp & 0.9718527 & 1.362906e-08\\\\\n",
       "\t 1\\_1 & rotation & Sound & stress & resp & 0.9937397 & 5.939464e-02\\\\\n",
       "\t 1\\_2 & math     & Musik & relax  & resp & 0.9953006 & 1.069510e-01\\\\\n",
       "\t 1\\_2 & math     & Sound & relax  & resp & 0.9943635 & 9.531367e-02\\\\\n",
       "\t 1\\_2 & rotation & Musik & relax  & resp & 0.9968992 & 4.259543e-01\\\\\n",
       "\t 1\\_2 & rotation & Sound & relax  & resp & 0.9888203 & 1.920215e-03\\\\\n",
       "\t 1\\_2 & math     & Musik & stress & resp & 0.9911366 & 2.781131e-03\\\\\n",
       "\t 1\\_2 & math     & Sound & stress & resp & 0.9927230 & 2.743120e-02\\\\\n",
       "\t 1\\_2 & rotation & Musik & stress & resp & 0.9819748 & 3.666683e-06\\\\\n",
       "\t 1\\_2 & rotation & Sound & stress & resp & 0.9910224 & 7.708489e-03\\\\\n",
       "\t 2\\_1 & math     & Musik & relax  & resp & 0.8932384 & 8.771416e-19\\\\\n",
       "\t 2\\_1 & math     & Sound & relax  & resp & 0.9970992 & 6.104948e-01\\\\\n",
       "\t 2\\_1 & rotation & Musik & relax  & resp & 0.9972839 & 5.313874e-01\\\\\n",
       "\t 2\\_1 & rotation & Sound & relax  & resp & 0.9954708 & 2.161004e-01\\\\\n",
       "\t 2\\_1 & math     & Musik & stress & resp & 0.9940647 & 3.547482e-02\\\\\n",
       "\t 2\\_1 & math     & Sound & stress & resp & 0.8769458 & 1.875629e-18\\\\\n",
       "\t 2\\_1 & rotation & Musik & stress & resp & 0.9962219 & 2.367340e-01\\\\\n",
       "\t 2\\_1 & rotation & Sound & stress & resp & 0.9941272 & 7.971585e-02\\\\\n",
       "\t 2\\_2 & math     & Musik & relax  & resp & 0.9781201 & 3.692329e-07\\\\\n",
       "\t 2\\_2 & math     & Sound & relax  & resp & 0.9947141 & 1.240306e-01\\\\\n",
       "\t 2\\_2 & rotation & Musik & relax  & resp & 0.9926559 & 1.019120e-02\\\\\n",
       "\t 2\\_2 & rotation & Sound & relax  & resp & 0.9719445 & 1.311318e-07\\\\\n",
       "\t 2\\_2 & math     & Musik & stress & resp & 0.9743776 & 4.866971e-08\\\\\n",
       "\t 2\\_2 & math     & Sound & stress & resp & 0.9956488 & 2.452538e-01\\\\\n",
       "\t 2\\_2 & rotation & Musik & stress & resp & 0.9966465 & 3.537042e-01\\\\\n",
       "\t 2\\_2 & rotation & Sound & stress & resp & 0.9391288 & 1.945316e-12\\\\\n",
       "\\end{tabular}\n"
      ],
      "text/markdown": [
       "\n",
       "A tibble: 32 × 7\n",
       "\n",
       "| time &lt;fct&gt; | condition &lt;fct&gt; | group &lt;fct&gt; | type &lt;fct&gt; | variable &lt;chr&gt; | statistic &lt;dbl&gt; | p &lt;dbl&gt; |\n",
       "|---|---|---|---|---|---|---|\n",
       "| 1_1 | math     | Musik | relax  | resp | 0.9956264 | 1.423749e-01 |\n",
       "| 1_1 | math     | Sound | relax  | resp | 0.9957345 | 2.604688e-01 |\n",
       "| 1_1 | rotation | Musik | relax  | resp | 0.9826028 | 5.455666e-06 |\n",
       "| 1_1 | rotation | Sound | relax  | resp | 0.9557437 | 2.197355e-10 |\n",
       "| 1_1 | math     | Musik | stress | resp | 0.9959708 | 1.916000e-01 |\n",
       "| 1_1 | math     | Sound | stress | resp | 0.9724543 | 1.655295e-07 |\n",
       "| 1_1 | rotation | Musik | stress | resp | 0.9718527 | 1.362906e-08 |\n",
       "| 1_1 | rotation | Sound | stress | resp | 0.9937397 | 5.939464e-02 |\n",
       "| 1_2 | math     | Musik | relax  | resp | 0.9953006 | 1.069510e-01 |\n",
       "| 1_2 | math     | Sound | relax  | resp | 0.9943635 | 9.531367e-02 |\n",
       "| 1_2 | rotation | Musik | relax  | resp | 0.9968992 | 4.259543e-01 |\n",
       "| 1_2 | rotation | Sound | relax  | resp | 0.9888203 | 1.920215e-03 |\n",
       "| 1_2 | math     | Musik | stress | resp | 0.9911366 | 2.781131e-03 |\n",
       "| 1_2 | math     | Sound | stress | resp | 0.9927230 | 2.743120e-02 |\n",
       "| 1_2 | rotation | Musik | stress | resp | 0.9819748 | 3.666683e-06 |\n",
       "| 1_2 | rotation | Sound | stress | resp | 0.9910224 | 7.708489e-03 |\n",
       "| 2_1 | math     | Musik | relax  | resp | 0.8932384 | 8.771416e-19 |\n",
       "| 2_1 | math     | Sound | relax  | resp | 0.9970992 | 6.104948e-01 |\n",
       "| 2_1 | rotation | Musik | relax  | resp | 0.9972839 | 5.313874e-01 |\n",
       "| 2_1 | rotation | Sound | relax  | resp | 0.9954708 | 2.161004e-01 |\n",
       "| 2_1 | math     | Musik | stress | resp | 0.9940647 | 3.547482e-02 |\n",
       "| 2_1 | math     | Sound | stress | resp | 0.8769458 | 1.875629e-18 |\n",
       "| 2_1 | rotation | Musik | stress | resp | 0.9962219 | 2.367340e-01 |\n",
       "| 2_1 | rotation | Sound | stress | resp | 0.9941272 | 7.971585e-02 |\n",
       "| 2_2 | math     | Musik | relax  | resp | 0.9781201 | 3.692329e-07 |\n",
       "| 2_2 | math     | Sound | relax  | resp | 0.9947141 | 1.240306e-01 |\n",
       "| 2_2 | rotation | Musik | relax  | resp | 0.9926559 | 1.019120e-02 |\n",
       "| 2_2 | rotation | Sound | relax  | resp | 0.9719445 | 1.311318e-07 |\n",
       "| 2_2 | math     | Musik | stress | resp | 0.9743776 | 4.866971e-08 |\n",
       "| 2_2 | math     | Sound | stress | resp | 0.9956488 | 2.452538e-01 |\n",
       "| 2_2 | rotation | Musik | stress | resp | 0.9966465 | 3.537042e-01 |\n",
       "| 2_2 | rotation | Sound | stress | resp | 0.9391288 | 1.945316e-12 |\n",
       "\n"
      ],
      "text/plain": [
       "   time condition group type   variable statistic p           \n",
       "1  1_1  math      Musik relax  resp     0.9956264 1.423749e-01\n",
       "2  1_1  math      Sound relax  resp     0.9957345 2.604688e-01\n",
       "3  1_1  rotation  Musik relax  resp     0.9826028 5.455666e-06\n",
       "4  1_1  rotation  Sound relax  resp     0.9557437 2.197355e-10\n",
       "5  1_1  math      Musik stress resp     0.9959708 1.916000e-01\n",
       "6  1_1  math      Sound stress resp     0.9724543 1.655295e-07\n",
       "7  1_1  rotation  Musik stress resp     0.9718527 1.362906e-08\n",
       "8  1_1  rotation  Sound stress resp     0.9937397 5.939464e-02\n",
       "9  1_2  math      Musik relax  resp     0.9953006 1.069510e-01\n",
       "10 1_2  math      Sound relax  resp     0.9943635 9.531367e-02\n",
       "11 1_2  rotation  Musik relax  resp     0.9968992 4.259543e-01\n",
       "12 1_2  rotation  Sound relax  resp     0.9888203 1.920215e-03\n",
       "13 1_2  math      Musik stress resp     0.9911366 2.781131e-03\n",
       "14 1_2  math      Sound stress resp     0.9927230 2.743120e-02\n",
       "15 1_2  rotation  Musik stress resp     0.9819748 3.666683e-06\n",
       "16 1_2  rotation  Sound stress resp     0.9910224 7.708489e-03\n",
       "17 2_1  math      Musik relax  resp     0.8932384 8.771416e-19\n",
       "18 2_1  math      Sound relax  resp     0.9970992 6.104948e-01\n",
       "19 2_1  rotation  Musik relax  resp     0.9972839 5.313874e-01\n",
       "20 2_1  rotation  Sound relax  resp     0.9954708 2.161004e-01\n",
       "21 2_1  math      Musik stress resp     0.9940647 3.547482e-02\n",
       "22 2_1  math      Sound stress resp     0.8769458 1.875629e-18\n",
       "23 2_1  rotation  Musik stress resp     0.9962219 2.367340e-01\n",
       "24 2_1  rotation  Sound stress resp     0.9941272 7.971585e-02\n",
       "25 2_2  math      Musik relax  resp     0.9781201 3.692329e-07\n",
       "26 2_2  math      Sound relax  resp     0.9947141 1.240306e-01\n",
       "27 2_2  rotation  Musik relax  resp     0.9926559 1.019120e-02\n",
       "28 2_2  rotation  Sound relax  resp     0.9719445 1.311318e-07\n",
       "29 2_2  math      Musik stress resp     0.9743776 4.866971e-08\n",
       "30 2_2  math      Sound stress resp     0.9956488 2.452538e-01\n",
       "31 2_2  rotation  Musik stress resp     0.9966465 3.537042e-01\n",
       "32 2_2  rotation  Sound stress resp     0.9391288 1.945316e-12"
      ]
     },
     "metadata": {},
     "output_type": "display_data"
    },
    {
     "data": {
      "text/plain": [
       "      resp               run         prob_id       time          phase      \n",
       " Min.   :-13.2100   Min.   :1.0   Min.   : 3.00   1_0:   0   Min.   :0.000  \n",
       " 1st Qu.: -1.3200   1st Qu.:1.0   1st Qu.:10.50   1_1:3936   1st Qu.:1.000  \n",
       " Median :  0.4200   Median :1.5   Median :16.50   1_2:3912   Median :3.000  \n",
       " Mean   :  0.4508   Mean   :1.5   Mean   :16.67   2_0:   0   Mean   :3.498  \n",
       " 3rd Qu.:  2.1900   3rd Qu.:2.0   3rd Qu.:23.25   2_1:3936   3rd Qu.:6.000  \n",
       " Max.   : 14.0500   Max.   :2.0   Max.   :29.00   2_2:3912   Max.   :7.000  \n",
       "   repetition     trial_type           condition         age        sex     \n",
       " Min.   :1.000   Length:15696       math    :7872   Min.   :21.00   F:6540  \n",
       " 1st Qu.:1.000   Class :character   pause   :   0   1st Qu.:23.00   M:9156  \n",
       " Median :1.000   Mode  :character   rotation:7824   Median :24.00           \n",
       " Mean   :1.498                                      Mean   :24.08           \n",
       " 3rd Qu.:2.000                                      3rd Qu.:25.00           \n",
       " Max.   :2.000                                      Max.   :30.00           \n",
       "   group          type           eda          \n",
       " Musik:8502   pause :   0   Min.   :-13.2100  \n",
       " Sound:7194   relax :7848   1st Qu.: -1.3200  \n",
       "              stress:7848   Median :  0.4200  \n",
       "                            Mean   :  0.4508  \n",
       "                            3rd Qu.:  2.1900  \n",
       "                            Max.   : 14.0500  "
      ]
     },
     "metadata": {},
     "output_type": "display_data"
    }
   ],
   "source": [
    "# 1) normality\n",
    "\n",
    "d_long_new %>%\n",
    "  group_by(time, type, condition, group) %>%\n",
    "  shapiro_test(resp)\n",
    "\n",
    "d_long_new %>%\n",
    "  group_by(time, type, condition, group) %>%\n",
    "  summary()"
   ]
  },
  {
   "cell_type": "code",
   "execution_count": 33,
   "id": "1e2e0617",
   "metadata": {},
   "outputs": [
    {
     "data": {
      "text/html": [
       "<table class=\"dataframe\">\n",
       "<caption>A tibble: 18 × 6</caption>\n",
       "<thead>\n",
       "\t<tr><th scope=col>run</th><th scope=col>phase</th><th scope=col>df1</th><th scope=col>df2</th><th scope=col>statistic</th><th scope=col>p</th></tr>\n",
       "\t<tr><th scope=col>&lt;int&gt;</th><th scope=col>&lt;int&gt;</th><th scope=col>&lt;int&gt;</th><th scope=col>&lt;int&gt;</th><th scope=col>&lt;dbl&gt;</th><th scope=col>&lt;dbl&gt;</th></tr>\n",
       "</thead>\n",
       "<tbody>\n",
       "\t<tr><td>1</td><td>-1</td><td>1</td><td>4150</td><td>40.4665677</td><td>2.216669e-10</td></tr>\n",
       "\t<tr><td>1</td><td> 0</td><td>1</td><td> 982</td><td>15.4539414</td><td>9.047213e-05</td></tr>\n",
       "\t<tr><td>1</td><td> 1</td><td>1</td><td> 982</td><td>19.7783251</td><td>9.688717e-06</td></tr>\n",
       "\t<tr><td>1</td><td> 2</td><td>1</td><td> 982</td><td>56.3082987</td><td>1.386061e-13</td></tr>\n",
       "\t<tr><td>1</td><td> 3</td><td>1</td><td> 982</td><td> 0.5615920</td><td>4.537990e-01</td></tr>\n",
       "\t<tr><td>1</td><td> 4</td><td>1</td><td> 958</td><td>11.6656260</td><td>6.633856e-04</td></tr>\n",
       "\t<tr><td>1</td><td> 5</td><td>1</td><td> 982</td><td>28.9166791</td><td>9.444507e-08</td></tr>\n",
       "\t<tr><td>1</td><td> 6</td><td>1</td><td> 982</td><td>30.2574741</td><td>4.825744e-08</td></tr>\n",
       "\t<tr><td>1</td><td> 7</td><td>1</td><td> 982</td><td>50.3912698</td><td>2.412590e-12</td></tr>\n",
       "\t<tr><td>2</td><td>-1</td><td>1</td><td>4150</td><td>44.5184669</td><td>2.851842e-11</td></tr>\n",
       "\t<tr><td>2</td><td> 0</td><td>1</td><td> 982</td><td> 0.4399026</td><td>5.073251e-01</td></tr>\n",
       "\t<tr><td>2</td><td> 1</td><td>1</td><td> 982</td><td>48.5483202</td><td>5.900468e-12</td></tr>\n",
       "\t<tr><td>2</td><td> 2</td><td>1</td><td> 982</td><td>46.2432800</td><td>1.811533e-11</td></tr>\n",
       "\t<tr><td>2</td><td> 3</td><td>1</td><td> 982</td><td>62.9493398</td><td>5.756698e-15</td></tr>\n",
       "\t<tr><td>2</td><td> 4</td><td>1</td><td> 958</td><td>20.7744342</td><td>5.834669e-06</td></tr>\n",
       "\t<tr><td>2</td><td> 5</td><td>1</td><td> 982</td><td>21.3025711</td><td>4.441742e-06</td></tr>\n",
       "\t<tr><td>2</td><td> 6</td><td>1</td><td> 982</td><td>14.7484579</td><td>1.307211e-04</td></tr>\n",
       "\t<tr><td>2</td><td> 7</td><td>1</td><td> 982</td><td>57.4656440</td><td>7.946872e-14</td></tr>\n",
       "</tbody>\n",
       "</table>\n"
      ],
      "text/latex": [
       "A tibble: 18 × 6\n",
       "\\begin{tabular}{llllll}\n",
       " run & phase & df1 & df2 & statistic & p\\\\\n",
       " <int> & <int> & <int> & <int> & <dbl> & <dbl>\\\\\n",
       "\\hline\n",
       "\t 1 & -1 & 1 & 4150 & 40.4665677 & 2.216669e-10\\\\\n",
       "\t 1 &  0 & 1 &  982 & 15.4539414 & 9.047213e-05\\\\\n",
       "\t 1 &  1 & 1 &  982 & 19.7783251 & 9.688717e-06\\\\\n",
       "\t 1 &  2 & 1 &  982 & 56.3082987 & 1.386061e-13\\\\\n",
       "\t 1 &  3 & 1 &  982 &  0.5615920 & 4.537990e-01\\\\\n",
       "\t 1 &  4 & 1 &  958 & 11.6656260 & 6.633856e-04\\\\\n",
       "\t 1 &  5 & 1 &  982 & 28.9166791 & 9.444507e-08\\\\\n",
       "\t 1 &  6 & 1 &  982 & 30.2574741 & 4.825744e-08\\\\\n",
       "\t 1 &  7 & 1 &  982 & 50.3912698 & 2.412590e-12\\\\\n",
       "\t 2 & -1 & 1 & 4150 & 44.5184669 & 2.851842e-11\\\\\n",
       "\t 2 &  0 & 1 &  982 &  0.4399026 & 5.073251e-01\\\\\n",
       "\t 2 &  1 & 1 &  982 & 48.5483202 & 5.900468e-12\\\\\n",
       "\t 2 &  2 & 1 &  982 & 46.2432800 & 1.811533e-11\\\\\n",
       "\t 2 &  3 & 1 &  982 & 62.9493398 & 5.756698e-15\\\\\n",
       "\t 2 &  4 & 1 &  958 & 20.7744342 & 5.834669e-06\\\\\n",
       "\t 2 &  5 & 1 &  982 & 21.3025711 & 4.441742e-06\\\\\n",
       "\t 2 &  6 & 1 &  982 & 14.7484579 & 1.307211e-04\\\\\n",
       "\t 2 &  7 & 1 &  982 & 57.4656440 & 7.946872e-14\\\\\n",
       "\\end{tabular}\n"
      ],
      "text/markdown": [
       "\n",
       "A tibble: 18 × 6\n",
       "\n",
       "| run &lt;int&gt; | phase &lt;int&gt; | df1 &lt;int&gt; | df2 &lt;int&gt; | statistic &lt;dbl&gt; | p &lt;dbl&gt; |\n",
       "|---|---|---|---|---|---|\n",
       "| 1 | -1 | 1 | 4150 | 40.4665677 | 2.216669e-10 |\n",
       "| 1 |  0 | 1 |  982 | 15.4539414 | 9.047213e-05 |\n",
       "| 1 |  1 | 1 |  982 | 19.7783251 | 9.688717e-06 |\n",
       "| 1 |  2 | 1 |  982 | 56.3082987 | 1.386061e-13 |\n",
       "| 1 |  3 | 1 |  982 |  0.5615920 | 4.537990e-01 |\n",
       "| 1 |  4 | 1 |  958 | 11.6656260 | 6.633856e-04 |\n",
       "| 1 |  5 | 1 |  982 | 28.9166791 | 9.444507e-08 |\n",
       "| 1 |  6 | 1 |  982 | 30.2574741 | 4.825744e-08 |\n",
       "| 1 |  7 | 1 |  982 | 50.3912698 | 2.412590e-12 |\n",
       "| 2 | -1 | 1 | 4150 | 44.5184669 | 2.851842e-11 |\n",
       "| 2 |  0 | 1 |  982 |  0.4399026 | 5.073251e-01 |\n",
       "| 2 |  1 | 1 |  982 | 48.5483202 | 5.900468e-12 |\n",
       "| 2 |  2 | 1 |  982 | 46.2432800 | 1.811533e-11 |\n",
       "| 2 |  3 | 1 |  982 | 62.9493398 | 5.756698e-15 |\n",
       "| 2 |  4 | 1 |  958 | 20.7744342 | 5.834669e-06 |\n",
       "| 2 |  5 | 1 |  982 | 21.3025711 | 4.441742e-06 |\n",
       "| 2 |  6 | 1 |  982 | 14.7484579 | 1.307211e-04 |\n",
       "| 2 |  7 | 1 |  982 | 57.4656440 | 7.946872e-14 |\n",
       "\n"
      ],
      "text/plain": [
       "   run phase df1 df2  statistic  p           \n",
       "1  1   -1    1   4150 40.4665677 2.216669e-10\n",
       "2  1    0    1    982 15.4539414 9.047213e-05\n",
       "3  1    1    1    982 19.7783251 9.688717e-06\n",
       "4  1    2    1    982 56.3082987 1.386061e-13\n",
       "5  1    3    1    982  0.5615920 4.537990e-01\n",
       "6  1    4    1    958 11.6656260 6.633856e-04\n",
       "7  1    5    1    982 28.9166791 9.444507e-08\n",
       "8  1    6    1    982 30.2574741 4.825744e-08\n",
       "9  1    7    1    982 50.3912698 2.412590e-12\n",
       "10 2   -1    1   4150 44.5184669 2.851842e-11\n",
       "11 2    0    1    982  0.4399026 5.073251e-01\n",
       "12 2    1    1    982 48.5483202 5.900468e-12\n",
       "13 2    2    1    982 46.2432800 1.811533e-11\n",
       "14 2    3    1    982 62.9493398 5.756698e-15\n",
       "15 2    4    1    958 20.7744342 5.834669e-06\n",
       "16 2    5    1    982 21.3025711 4.441742e-06\n",
       "17 2    6    1    982 14.7484579 1.307211e-04\n",
       "18 2    7    1    982 57.4656440 7.946872e-14"
      ]
     },
     "metadata": {},
     "output_type": "display_data"
    }
   ],
   "source": [
    "# 2) homogeneity of variance (only for between-subject factors)\n",
    "\n",
    "d_long %>%\n",
    "  group_by(run, phase) %>%\n",
    "  levene_test(eda ~ group)\n",
    "# not given, we need to correct the results."
   ]
  },
  {
   "cell_type": "code",
   "execution_count": 34,
   "id": "5f12d952",
   "metadata": {},
   "outputs": [],
   "source": [
    "# 3) assumption of sphericity (only for within-subject factors)\n",
    "\n",
    "# will be checked and corrected for automatically when computing the ANOVA. Look at that then."
   ]
  },
  {
   "cell_type": "markdown",
   "id": "c953d0b0",
   "metadata": {},
   "source": [
    "Define model "
   ]
  },
  {
   "cell_type": "code",
   "execution_count": 35,
   "id": "b1b8cda4",
   "metadata": {
    "scrolled": true
   },
   "outputs": [],
   "source": [
    "#model1 <- aov_ez(\"prob_id\", # Variable/column defining your participants\n",
    "#       \"eda\", # dv\n",
    "#       d_long, # name of your dataframe\n",
    "#       between = c(\"group\", \"sex\"), # if sex was also included, this would be c('group', 'sex')\n",
    "#       within = c(\"time\", \"condition\", \"type\"), \n",
    "#       include_aov = TRUE)\n",
    "#\n",
    "#\n",
    "#model1\n",
    "#summary(model1)"
   ]
  },
  {
   "cell_type": "code",
   "execution_count": 36,
   "id": "368245cf",
   "metadata": {},
   "outputs": [
    {
     "name": "stderr",
     "output_type": "stream",
     "text": [
      "Warning message:\n",
      "“More than one observation per cell, aggregating the data using mean (i.e, fun_aggregate = mean)!”\n",
      "Contrasts set to contr.sum for the following variables: group, sex\n",
      "\n"
     ]
    },
    {
     "data": {
      "text/plain": [
       "Anova Table (Type 3 tests)\n",
       "\n",
       "Response: resp\n",
       "                          Effect          df   MSE         F   ges p.value\n",
       "1                          group       1, 20  2.06      2.95  .007    .102\n",
       "2                            sex       1, 20  2.06      0.61  .001    .445\n",
       "3                      group:sex       1, 20  2.06      0.27 <.001    .611\n",
       "4                           time 1.94, 38.81  2.04    4.98 *  .022    .013\n",
       "5                     group:time 1.94, 38.81  2.04      0.50  .002    .604\n",
       "6                       sex:time 1.94, 38.81  2.04      1.27  .006    .292\n",
       "7                 group:sex:time 1.94, 38.81  2.04      0.21 <.001    .803\n",
       "8                      condition       1, 20  4.49    3.39 +  .017    .081\n",
       "9                group:condition       1, 20  4.49      1.36  .007    .258\n",
       "10                 sex:condition       1, 20  4.49      0.40  .002    .536\n",
       "11           group:sex:condition       1, 20  4.49      0.63  .003    .437\n",
       "12                          type       1, 20 14.15 46.30 ***  .432   <.001\n",
       "13                    group:type       1, 20 14.15    6.09 *  .091    .023\n",
       "14                      sex:type       1, 20 14.15      0.09  .001    .767\n",
       "15                group:sex:type       1, 20 14.15      0.36  .006    .556\n",
       "16                time:condition 2.59, 51.83  2.10      1.48  .009    .234\n",
       "17          group:time:condition 2.59, 51.83  2.10      0.55  .003    .625\n",
       "18            sex:time:condition 2.59, 51.83  2.10      1.03  .006    .380\n",
       "19      group:sex:time:condition 2.59, 51.83  2.10      1.12  .007    .345\n",
       "20                     time:type 2.74, 54.75  1.64    3.02 *  .016    .042\n",
       "21               group:time:type 2.74, 54.75  1.64    3.73 *  .019    .019\n",
       "22                 sex:time:type 2.74, 54.75  1.64    2.50 +  .013    .074\n",
       "23           group:sex:time:type 2.74, 54.75  1.64      0.49  .003    .677\n",
       "24                condition:type       1, 20  3.78      1.14  .005    .297\n",
       "25          group:condition:type       1, 20  3.78      0.12 <.001    .734\n",
       "26            sex:condition:type       1, 20  3.78      0.23  .001    .637\n",
       "27      group:sex:condition:type       1, 20  3.78      1.19  .005    .288\n",
       "28           time:condition:type 2.11, 42.10  2.21    3.75 *  .020    .030\n",
       "29     group:time:condition:type 2.11, 42.10  2.21      0.47  .003    .639\n",
       "30       sex:time:condition:type 2.11, 42.10  2.21      0.28  .002    .767\n",
       "31 group:sex:time:condition:type 2.11, 42.10  2.21      1.46  .008    .243\n",
       "---\n",
       "Signif. codes:  0 ‘***’ 0.001 ‘**’ 0.01 ‘*’ 0.05 ‘+’ 0.1 ‘ ’ 1\n",
       "\n",
       "Sphericity correction method: GG "
      ]
     },
     "metadata": {},
     "output_type": "display_data"
    },
    {
     "name": "stderr",
     "output_type": "stream",
     "text": [
      "Warning message in summary.Anova.mlm(object$Anova, multivariate = FALSE):\n",
      "“HF eps > 1 treated as 1”\n"
     ]
    },
    {
     "data": {
      "text/plain": [
       "\n",
       "Univariate Type III Repeated-Measures ANOVA Assuming Sphericity\n",
       "\n",
       "                              Sum Sq num Df Error SS den Df F value    Pr(>F)\n",
       "(Intercept)                    75.80      1   41.278     20 36.7254 6.349e-06\n",
       "group                           6.08      1   41.278     20  2.9464  0.101519\n",
       "sex                             1.25      1   41.278     20  0.6068  0.445131\n",
       "group:sex                       0.55      1   41.278     20  0.2669  0.611102\n",
       "time                           19.75      3   79.302     60  4.9804  0.003758\n",
       "group:time                      1.99      3   79.302     60  0.5010  0.683031\n",
       "sex:time                        5.03      3   79.302     60  1.2682  0.293429\n",
       "group:sex:time                  0.84      3   79.302     60  0.2123  0.887514\n",
       "condition                      15.20      1   89.779     20  3.3868  0.080608\n",
       "group:condition                 6.09      1   89.779     20  1.3573  0.257715\n",
       "sex:condition                   1.78      1   89.779     20  0.3965  0.536041\n",
       "group:sex:condition             2.82      1   89.779     20  0.6279  0.437411\n",
       "type                          655.30      1  283.042     20 46.3039 1.290e-06\n",
       "group:type                     86.15      1  283.042     20  6.0871  0.022770\n",
       "sex:type                        1.28      1  283.042     20  0.0906  0.766517\n",
       "group:sex:type                  5.08      1  283.042     20  0.3593  0.555631\n",
       "time:condition                  8.06      3  108.764     60  1.4813  0.228696\n",
       "group:time:condition            2.99      3  108.764     60  0.5503  0.649896\n",
       "sex:time:condition              5.59      3  108.764     60  1.0272  0.387060\n",
       "group:sex:time:condition        6.09      3  108.764     60  1.1199  0.348206\n",
       "time:type                      13.56      3   89.943     60  3.0161  0.036788\n",
       "group:time:type                16.80      3   89.943     60  3.7348  0.015767\n",
       "sex:time:type                  11.23      3   89.943     60  2.4967  0.068293\n",
       "group:sex:time:type             2.18      3   89.943     60  0.4855  0.693647\n",
       "condition:type                  4.33      1   75.688     20  1.1450  0.297344\n",
       "group:condition:type            0.45      1   75.688     20  0.1185  0.734294\n",
       "sex:condition:type              0.87      1   75.688     20  0.2292  0.637282\n",
       "group:sex:condition:type        4.52      1   75.688     20  1.1932  0.287668\n",
       "time:condition:type            17.45      3   93.060     60  3.7503  0.015483\n",
       "group:time:condition:type       2.18      3   93.060     60  0.4685  0.705337\n",
       "sex:time:condition:type         1.31      3   93.060     60  0.2821  0.838133\n",
       "group:sex:time:condition:type   6.80      3   93.060     60  1.4607  0.234299\n",
       "                                 \n",
       "(Intercept)                   ***\n",
       "group                            \n",
       "sex                              \n",
       "group:sex                        \n",
       "time                          ** \n",
       "group:time                       \n",
       "sex:time                         \n",
       "group:sex:time                   \n",
       "condition                     .  \n",
       "group:condition                  \n",
       "sex:condition                    \n",
       "group:sex:condition              \n",
       "type                          ***\n",
       "group:type                    *  \n",
       "sex:type                         \n",
       "group:sex:type                   \n",
       "time:condition                   \n",
       "group:time:condition             \n",
       "sex:time:condition               \n",
       "group:sex:time:condition         \n",
       "time:type                     *  \n",
       "group:time:type               *  \n",
       "sex:time:type                 .  \n",
       "group:sex:time:type              \n",
       "condition:type                   \n",
       "group:condition:type             \n",
       "sex:condition:type               \n",
       "group:sex:condition:type         \n",
       "time:condition:type           *  \n",
       "group:time:condition:type        \n",
       "sex:time:condition:type          \n",
       "group:sex:time:condition:type    \n",
       "---\n",
       "Signif. codes:  0 ‘***’ 0.001 ‘**’ 0.01 ‘*’ 0.05 ‘.’ 0.1 ‘ ’ 1\n",
       "\n",
       "\n",
       "Mauchly Tests for Sphericity\n",
       "\n",
       "                              Test statistic p-value\n",
       "time                                 0.35285 0.00158\n",
       "group:time                           0.35285 0.00158\n",
       "sex:time                             0.35285 0.00158\n",
       "group:sex:time                       0.35285 0.00158\n",
       "time:condition                       0.73506 0.33073\n",
       "group:time:condition                 0.73506 0.33073\n",
       "sex:time:condition                   0.73506 0.33073\n",
       "group:sex:time:condition             0.73506 0.33073\n",
       "time:type                            0.87437 0.77480\n",
       "group:time:type                      0.87437 0.77480\n",
       "sex:time:type                        0.87437 0.77480\n",
       "group:sex:time:type                  0.87437 0.77480\n",
       "time:condition:type                  0.27342 0.00020\n",
       "group:time:condition:type            0.27342 0.00020\n",
       "sex:time:condition:type              0.27342 0.00020\n",
       "group:sex:time:condition:type        0.27342 0.00020\n",
       "\n",
       "\n",
       "Greenhouse-Geisser and Huynh-Feldt Corrections\n",
       " for Departure from Sphericity\n",
       "\n",
       "                               GG eps Pr(>F[GG])  \n",
       "time                          0.64679    0.01254 *\n",
       "group:time                    0.64679    0.60424  \n",
       "sex:time                      0.64679    0.29203  \n",
       "group:sex:time                0.64679    0.80321  \n",
       "time:condition                0.86375    0.23364  \n",
       "group:time:condition          0.86375    0.62490  \n",
       "sex:time:condition            0.86375    0.38043  \n",
       "group:sex:time:condition      0.86375    0.34460  \n",
       "time:type                     0.91251    0.04184 *\n",
       "group:time:type               0.91251    0.01905 *\n",
       "sex:time:type                 0.91251    0.07449 .\n",
       "group:sex:time:type           0.91251    0.67678  \n",
       "time:condition:type           0.70174    0.02975 *\n",
       "group:time:condition:type     0.70174    0.63892  \n",
       "sex:time:condition:type       0.70174    0.76665  \n",
       "group:sex:time:condition:type 0.70174    0.24342  \n",
       "---\n",
       "Signif. codes:  0 ‘***’ 0.001 ‘**’ 0.01 ‘*’ 0.05 ‘.’ 0.1 ‘ ’ 1\n",
       "\n",
       "                                 HF eps  Pr(>F[HF])\n",
       "time                          0.7151861 0.009910475\n",
       "group:time                    0.7151861 0.622340515\n",
       "sex:time                      0.7151861 0.293137033\n",
       "group:sex:time                0.7151861 0.824294773\n",
       "time:condition                1.0036447 0.228695549\n",
       "group:time:condition          1.0036447 0.649895700\n",
       "sex:time:condition            1.0036447 0.387059601\n",
       "group:sex:time:condition      1.0036447 0.348205646\n",
       "time:type                     1.0714608 0.036788339\n",
       "group:time:type               1.0714608 0.015767348\n",
       "sex:time:type                 1.0714608 0.068293235\n",
       "group:sex:time:type           1.0714608 0.693647065\n",
       "time:condition:type           0.7862618 0.024695950\n",
       "group:time:condition:type     0.7862618 0.660259229\n",
       "sex:time:condition:type       0.7862618 0.790460097\n",
       "group:sex:time:condition:type 0.7862618 0.241230438"
      ]
     },
     "metadata": {},
     "output_type": "display_data"
    }
   ],
   "source": [
    "# with pause excluded\n",
    "\n",
    "model1 <- aov_ez(\"prob_id\", # Variable/column defining your participants\n",
    "                 \"resp\", # dv\n",
    "                 d_long_new, # name of your dataframe\n",
    "                 between = c(\"group\", \"sex\"), # if sex was also included, this would be c('group', 'sex')\n",
    "                 within = c(\"time\", \"condition\", \"type\"), \n",
    "                 include_aov = TRUE, na.rm=TRUE)\n",
    "model1\n",
    "summary(model1)\n",
    "\n",
    "\n",
    "# we see that the assumption of sphericity was corrected for using the Greenhouse-Geisser correction\n",
    "# we also see that we have an effect for time\n",
    "# and for time*condition*type"
   ]
  },
  {
   "cell_type": "code",
   "execution_count": 57,
   "id": "5dff3f80",
   "metadata": {},
   "outputs": [
    {
     "data": {
      "text/html": [
       "'closure'"
      ],
      "text/latex": [
       "'closure'"
      ],
      "text/markdown": [
       "'closure'"
      ],
      "text/plain": [
       "[1] \"closure\""
      ]
     },
     "metadata": {},
     "output_type": "display_data"
    }
   ],
   "source": [
    "typeof(summary)\n"
   ]
  },
  {
   "cell_type": "code",
   "execution_count": 60,
   "id": "85a31da4",
   "metadata": {},
   "outputs": [
    {
     "data": {
      "text/html": [
       "<table class=\"dataframe\">\n",
       "<caption>A anova: 31 × 6</caption>\n",
       "<thead>\n",
       "\t<tr><th></th><th scope=col>num Df</th><th scope=col>den Df</th><th scope=col>MSE</th><th scope=col>F</th><th scope=col>ges</th><th scope=col>Pr(&gt;F)</th></tr>\n",
       "\t<tr><th></th><th scope=col>&lt;dbl&gt;</th><th scope=col>&lt;dbl&gt;</th><th scope=col>&lt;dbl&gt;</th><th scope=col>&lt;dbl&gt;</th><th scope=col>&lt;dbl&gt;</th><th scope=col>&lt;dbl&gt;</th></tr>\n",
       "</thead>\n",
       "<tbody>\n",
       "\t<tr><th scope=row>group</th><td>1.000000</td><td>20.00000</td><td> 2.063889</td><td> 2.94638203</td><td>0.0070143616</td><td>1.015193e-01</td></tr>\n",
       "\t<tr><th scope=row>sex</th><td>1.000000</td><td>20.00000</td><td> 2.063889</td><td> 0.60675716</td><td>0.0014525789</td><td>4.451308e-01</td></tr>\n",
       "\t<tr><th scope=row>group:sex</th><td>1.000000</td><td>20.00000</td><td> 2.063889</td><td> 0.26687392</td><td>0.0006394174</td><td>6.111019e-01</td></tr>\n",
       "\t<tr><th scope=row>time</th><td>1.940379</td><td>38.80759</td><td> 2.043472</td><td> 4.98044771</td><td>0.0224255650</td><td>1.254173e-02</td></tr>\n",
       "\t<tr><th scope=row>group:time</th><td>1.940379</td><td>38.80759</td><td> 2.043472</td><td> 0.50098663</td><td>0.0023022385</td><td>6.042416e-01</td></tr>\n",
       "\t<tr><th scope=row>sex:time</th><td>1.940379</td><td>38.80759</td><td> 2.043472</td><td> 1.26818483</td><td>0.0058073537</td><td>2.920257e-01</td></tr>\n",
       "\t<tr><th scope=row>group:sex:time</th><td>1.940379</td><td>38.80759</td><td> 2.043472</td><td> 0.21227926</td><td>0.0009768060</td><td>8.032078e-01</td></tr>\n",
       "\t<tr><th scope=row>condition</th><td>1.000000</td><td>20.00000</td><td> 4.488933</td><td> 3.38681576</td><td>0.0173540772</td><td>8.060789e-02</td></tr>\n",
       "\t<tr><th scope=row>group:condition</th><td>1.000000</td><td>20.00000</td><td> 4.488933</td><td> 1.35729409</td><td>0.0070278731</td><td>2.577150e-01</td></tr>\n",
       "\t<tr><th scope=row>sex:condition</th><td>1.000000</td><td>20.00000</td><td> 4.488933</td><td> 0.39647951</td><td>0.0020631780</td><td>5.360407e-01</td></tr>\n",
       "\t<tr><th scope=row>group:sex:condition</th><td>1.000000</td><td>20.00000</td><td> 4.488933</td><td> 0.62794074</td><td>0.0032637120</td><td>4.374109e-01</td></tr>\n",
       "\t<tr><th scope=row>type</th><td>1.000000</td><td>20.00000</td><td>14.152099</td><td>46.30388466</td><td>0.4322105650</td><td>1.290305e-06</td></tr>\n",
       "\t<tr><th scope=row>group:type</th><td>1.000000</td><td>20.00000</td><td>14.152099</td><td> 6.08713051</td><td>0.0909668162</td><td>2.276987e-02</td></tr>\n",
       "\t<tr><th scope=row>sex:type</th><td>1.000000</td><td>20.00000</td><td>14.152099</td><td> 0.09060444</td><td>0.0014872833</td><td>7.665171e-01</td></tr>\n",
       "\t<tr><th scope=row>group:sex:type</th><td>1.000000</td><td>20.00000</td><td>14.152099</td><td> 0.35928993</td><td>0.0058718917</td><td>5.556310e-01</td></tr>\n",
       "\t<tr><th scope=row>time:condition</th><td>2.591265</td><td>51.82529</td><td> 2.098676</td><td> 1.48131380</td><td>0.0092710480</td><td>2.336431e-01</td></tr>\n",
       "\t<tr><th scope=row>group:time:condition</th><td>2.591265</td><td>51.82529</td><td> 2.098676</td><td> 0.55029859</td><td>0.0034643213</td><td>6.248958e-01</td></tr>\n",
       "\t<tr><th scope=row>sex:time:condition</th><td>2.591265</td><td>51.82529</td><td> 2.098676</td><td> 1.02717223</td><td>0.0064470523</td><td>3.804284e-01</td></tr>\n",
       "\t<tr><th scope=row>group:sex:time:condition</th><td>2.591265</td><td>51.82529</td><td> 2.098676</td><td> 1.11990708</td><td>0.0070250142</td><td>3.446008e-01</td></tr>\n",
       "\t<tr><th scope=row>time:type</th><td>2.737532</td><td>54.75064</td><td> 1.642766</td><td> 3.01611771</td><td>0.0155118478</td><td>4.184375e-02</td></tr>\n",
       "\t<tr><th scope=row>group:time:type</th><td>2.737532</td><td>54.75064</td><td> 1.642766</td><td> 3.73480035</td><td>0.0191372870</td><td>1.904845e-02</td></tr>\n",
       "\t<tr><th scope=row>sex:time:type</th><td>2.737532</td><td>54.75064</td><td> 1.642766</td><td> 2.49666507</td><td>0.0128747060</td><td>7.449134e-02</td></tr>\n",
       "\t<tr><th scope=row>group:sex:time:type</th><td>2.737532</td><td>54.75064</td><td> 1.642766</td><td> 0.48547140</td><td>0.0025296962</td><td>6.767758e-01</td></tr>\n",
       "\t<tr><th scope=row>condition:type</th><td>1.000000</td><td>20.00000</td><td> 3.784392</td><td> 1.14499391</td><td>0.0050082798</td><td>2.973441e-01</td></tr>\n",
       "\t<tr><th scope=row>group:condition:type</th><td>1.000000</td><td>20.00000</td><td> 3.784392</td><td> 0.11846901</td><td>0.0005205286</td><td>7.342935e-01</td></tr>\n",
       "\t<tr><th scope=row>sex:condition:type</th><td>1.000000</td><td>20.00000</td><td> 3.784392</td><td> 0.22923819</td><td>0.0010067357</td><td>6.372821e-01</td></tr>\n",
       "\t<tr><th scope=row>group:sex:condition:type</th><td>1.000000</td><td>20.00000</td><td> 3.784392</td><td> 1.19320420</td><td>0.0052180545</td><td>2.876682e-01</td></tr>\n",
       "\t<tr><th scope=row>time:condition:type</th><td>2.105234</td><td>42.10468</td><td> 2.210204</td><td> 3.75034749</td><td>0.0198681993</td><td>2.975231e-02</td></tr>\n",
       "\t<tr><th scope=row>group:time:condition:type</th><td>2.105234</td><td>42.10468</td><td> 2.210204</td><td> 0.46852646</td><td>0.0025260283</td><td>6.389245e-01</td></tr>\n",
       "\t<tr><th scope=row>sex:time:condition:type</th><td>2.105234</td><td>42.10468</td><td> 2.210204</td><td> 0.28207512</td><td>0.0015223190</td><td>7.666512e-01</td></tr>\n",
       "\t<tr><th scope=row>group:sex:time:condition:type</th><td>2.105234</td><td>42.10468</td><td> 2.210204</td><td> 1.46072802</td><td>0.0078335106</td><td>2.434211e-01</td></tr>\n",
       "</tbody>\n",
       "</table>\n"
      ],
      "text/latex": [
       "A anova: 31 × 6\n",
       "\\begin{tabular}{r|llllll}\n",
       "  & num Df & den Df & MSE & F & ges & Pr(>F)\\\\\n",
       "  & <dbl> & <dbl> & <dbl> & <dbl> & <dbl> & <dbl>\\\\\n",
       "\\hline\n",
       "\tgroup & 1.000000 & 20.00000 &  2.063889 &  2.94638203 & 0.0070143616 & 1.015193e-01\\\\\n",
       "\tsex & 1.000000 & 20.00000 &  2.063889 &  0.60675716 & 0.0014525789 & 4.451308e-01\\\\\n",
       "\tgroup:sex & 1.000000 & 20.00000 &  2.063889 &  0.26687392 & 0.0006394174 & 6.111019e-01\\\\\n",
       "\ttime & 1.940379 & 38.80759 &  2.043472 &  4.98044771 & 0.0224255650 & 1.254173e-02\\\\\n",
       "\tgroup:time & 1.940379 & 38.80759 &  2.043472 &  0.50098663 & 0.0023022385 & 6.042416e-01\\\\\n",
       "\tsex:time & 1.940379 & 38.80759 &  2.043472 &  1.26818483 & 0.0058073537 & 2.920257e-01\\\\\n",
       "\tgroup:sex:time & 1.940379 & 38.80759 &  2.043472 &  0.21227926 & 0.0009768060 & 8.032078e-01\\\\\n",
       "\tcondition & 1.000000 & 20.00000 &  4.488933 &  3.38681576 & 0.0173540772 & 8.060789e-02\\\\\n",
       "\tgroup:condition & 1.000000 & 20.00000 &  4.488933 &  1.35729409 & 0.0070278731 & 2.577150e-01\\\\\n",
       "\tsex:condition & 1.000000 & 20.00000 &  4.488933 &  0.39647951 & 0.0020631780 & 5.360407e-01\\\\\n",
       "\tgroup:sex:condition & 1.000000 & 20.00000 &  4.488933 &  0.62794074 & 0.0032637120 & 4.374109e-01\\\\\n",
       "\ttype & 1.000000 & 20.00000 & 14.152099 & 46.30388466 & 0.4322105650 & 1.290305e-06\\\\\n",
       "\tgroup:type & 1.000000 & 20.00000 & 14.152099 &  6.08713051 & 0.0909668162 & 2.276987e-02\\\\\n",
       "\tsex:type & 1.000000 & 20.00000 & 14.152099 &  0.09060444 & 0.0014872833 & 7.665171e-01\\\\\n",
       "\tgroup:sex:type & 1.000000 & 20.00000 & 14.152099 &  0.35928993 & 0.0058718917 & 5.556310e-01\\\\\n",
       "\ttime:condition & 2.591265 & 51.82529 &  2.098676 &  1.48131380 & 0.0092710480 & 2.336431e-01\\\\\n",
       "\tgroup:time:condition & 2.591265 & 51.82529 &  2.098676 &  0.55029859 & 0.0034643213 & 6.248958e-01\\\\\n",
       "\tsex:time:condition & 2.591265 & 51.82529 &  2.098676 &  1.02717223 & 0.0064470523 & 3.804284e-01\\\\\n",
       "\tgroup:sex:time:condition & 2.591265 & 51.82529 &  2.098676 &  1.11990708 & 0.0070250142 & 3.446008e-01\\\\\n",
       "\ttime:type & 2.737532 & 54.75064 &  1.642766 &  3.01611771 & 0.0155118478 & 4.184375e-02\\\\\n",
       "\tgroup:time:type & 2.737532 & 54.75064 &  1.642766 &  3.73480035 & 0.0191372870 & 1.904845e-02\\\\\n",
       "\tsex:time:type & 2.737532 & 54.75064 &  1.642766 &  2.49666507 & 0.0128747060 & 7.449134e-02\\\\\n",
       "\tgroup:sex:time:type & 2.737532 & 54.75064 &  1.642766 &  0.48547140 & 0.0025296962 & 6.767758e-01\\\\\n",
       "\tcondition:type & 1.000000 & 20.00000 &  3.784392 &  1.14499391 & 0.0050082798 & 2.973441e-01\\\\\n",
       "\tgroup:condition:type & 1.000000 & 20.00000 &  3.784392 &  0.11846901 & 0.0005205286 & 7.342935e-01\\\\\n",
       "\tsex:condition:type & 1.000000 & 20.00000 &  3.784392 &  0.22923819 & 0.0010067357 & 6.372821e-01\\\\\n",
       "\tgroup:sex:condition:type & 1.000000 & 20.00000 &  3.784392 &  1.19320420 & 0.0052180545 & 2.876682e-01\\\\\n",
       "\ttime:condition:type & 2.105234 & 42.10468 &  2.210204 &  3.75034749 & 0.0198681993 & 2.975231e-02\\\\\n",
       "\tgroup:time:condition:type & 2.105234 & 42.10468 &  2.210204 &  0.46852646 & 0.0025260283 & 6.389245e-01\\\\\n",
       "\tsex:time:condition:type & 2.105234 & 42.10468 &  2.210204 &  0.28207512 & 0.0015223190 & 7.666512e-01\\\\\n",
       "\tgroup:sex:time:condition:type & 2.105234 & 42.10468 &  2.210204 &  1.46072802 & 0.0078335106 & 2.434211e-01\\\\\n",
       "\\end{tabular}\n"
      ],
      "text/markdown": [
       "\n",
       "A anova: 31 × 6\n",
       "\n",
       "| <!--/--> | num Df &lt;dbl&gt; | den Df &lt;dbl&gt; | MSE &lt;dbl&gt; | F &lt;dbl&gt; | ges &lt;dbl&gt; | Pr(&gt;F) &lt;dbl&gt; |\n",
       "|---|---|---|---|---|---|---|\n",
       "| group | 1.000000 | 20.00000 |  2.063889 |  2.94638203 | 0.0070143616 | 1.015193e-01 |\n",
       "| sex | 1.000000 | 20.00000 |  2.063889 |  0.60675716 | 0.0014525789 | 4.451308e-01 |\n",
       "| group:sex | 1.000000 | 20.00000 |  2.063889 |  0.26687392 | 0.0006394174 | 6.111019e-01 |\n",
       "| time | 1.940379 | 38.80759 |  2.043472 |  4.98044771 | 0.0224255650 | 1.254173e-02 |\n",
       "| group:time | 1.940379 | 38.80759 |  2.043472 |  0.50098663 | 0.0023022385 | 6.042416e-01 |\n",
       "| sex:time | 1.940379 | 38.80759 |  2.043472 |  1.26818483 | 0.0058073537 | 2.920257e-01 |\n",
       "| group:sex:time | 1.940379 | 38.80759 |  2.043472 |  0.21227926 | 0.0009768060 | 8.032078e-01 |\n",
       "| condition | 1.000000 | 20.00000 |  4.488933 |  3.38681576 | 0.0173540772 | 8.060789e-02 |\n",
       "| group:condition | 1.000000 | 20.00000 |  4.488933 |  1.35729409 | 0.0070278731 | 2.577150e-01 |\n",
       "| sex:condition | 1.000000 | 20.00000 |  4.488933 |  0.39647951 | 0.0020631780 | 5.360407e-01 |\n",
       "| group:sex:condition | 1.000000 | 20.00000 |  4.488933 |  0.62794074 | 0.0032637120 | 4.374109e-01 |\n",
       "| type | 1.000000 | 20.00000 | 14.152099 | 46.30388466 | 0.4322105650 | 1.290305e-06 |\n",
       "| group:type | 1.000000 | 20.00000 | 14.152099 |  6.08713051 | 0.0909668162 | 2.276987e-02 |\n",
       "| sex:type | 1.000000 | 20.00000 | 14.152099 |  0.09060444 | 0.0014872833 | 7.665171e-01 |\n",
       "| group:sex:type | 1.000000 | 20.00000 | 14.152099 |  0.35928993 | 0.0058718917 | 5.556310e-01 |\n",
       "| time:condition | 2.591265 | 51.82529 |  2.098676 |  1.48131380 | 0.0092710480 | 2.336431e-01 |\n",
       "| group:time:condition | 2.591265 | 51.82529 |  2.098676 |  0.55029859 | 0.0034643213 | 6.248958e-01 |\n",
       "| sex:time:condition | 2.591265 | 51.82529 |  2.098676 |  1.02717223 | 0.0064470523 | 3.804284e-01 |\n",
       "| group:sex:time:condition | 2.591265 | 51.82529 |  2.098676 |  1.11990708 | 0.0070250142 | 3.446008e-01 |\n",
       "| time:type | 2.737532 | 54.75064 |  1.642766 |  3.01611771 | 0.0155118478 | 4.184375e-02 |\n",
       "| group:time:type | 2.737532 | 54.75064 |  1.642766 |  3.73480035 | 0.0191372870 | 1.904845e-02 |\n",
       "| sex:time:type | 2.737532 | 54.75064 |  1.642766 |  2.49666507 | 0.0128747060 | 7.449134e-02 |\n",
       "| group:sex:time:type | 2.737532 | 54.75064 |  1.642766 |  0.48547140 | 0.0025296962 | 6.767758e-01 |\n",
       "| condition:type | 1.000000 | 20.00000 |  3.784392 |  1.14499391 | 0.0050082798 | 2.973441e-01 |\n",
       "| group:condition:type | 1.000000 | 20.00000 |  3.784392 |  0.11846901 | 0.0005205286 | 7.342935e-01 |\n",
       "| sex:condition:type | 1.000000 | 20.00000 |  3.784392 |  0.22923819 | 0.0010067357 | 6.372821e-01 |\n",
       "| group:sex:condition:type | 1.000000 | 20.00000 |  3.784392 |  1.19320420 | 0.0052180545 | 2.876682e-01 |\n",
       "| time:condition:type | 2.105234 | 42.10468 |  2.210204 |  3.75034749 | 0.0198681993 | 2.975231e-02 |\n",
       "| group:time:condition:type | 2.105234 | 42.10468 |  2.210204 |  0.46852646 | 0.0025260283 | 6.389245e-01 |\n",
       "| sex:time:condition:type | 2.105234 | 42.10468 |  2.210204 |  0.28207512 | 0.0015223190 | 7.666512e-01 |\n",
       "| group:sex:time:condition:type | 2.105234 | 42.10468 |  2.210204 |  1.46072802 | 0.0078335106 | 2.434211e-01 |\n",
       "\n"
      ],
      "text/plain": [
       "                              num Df   den Df   MSE       F          \n",
       "group                         1.000000 20.00000  2.063889  2.94638203\n",
       "sex                           1.000000 20.00000  2.063889  0.60675716\n",
       "group:sex                     1.000000 20.00000  2.063889  0.26687392\n",
       "time                          1.940379 38.80759  2.043472  4.98044771\n",
       "group:time                    1.940379 38.80759  2.043472  0.50098663\n",
       "sex:time                      1.940379 38.80759  2.043472  1.26818483\n",
       "group:sex:time                1.940379 38.80759  2.043472  0.21227926\n",
       "condition                     1.000000 20.00000  4.488933  3.38681576\n",
       "group:condition               1.000000 20.00000  4.488933  1.35729409\n",
       "sex:condition                 1.000000 20.00000  4.488933  0.39647951\n",
       "group:sex:condition           1.000000 20.00000  4.488933  0.62794074\n",
       "type                          1.000000 20.00000 14.152099 46.30388466\n",
       "group:type                    1.000000 20.00000 14.152099  6.08713051\n",
       "sex:type                      1.000000 20.00000 14.152099  0.09060444\n",
       "group:sex:type                1.000000 20.00000 14.152099  0.35928993\n",
       "time:condition                2.591265 51.82529  2.098676  1.48131380\n",
       "group:time:condition          2.591265 51.82529  2.098676  0.55029859\n",
       "sex:time:condition            2.591265 51.82529  2.098676  1.02717223\n",
       "group:sex:time:condition      2.591265 51.82529  2.098676  1.11990708\n",
       "time:type                     2.737532 54.75064  1.642766  3.01611771\n",
       "group:time:type               2.737532 54.75064  1.642766  3.73480035\n",
       "sex:time:type                 2.737532 54.75064  1.642766  2.49666507\n",
       "group:sex:time:type           2.737532 54.75064  1.642766  0.48547140\n",
       "condition:type                1.000000 20.00000  3.784392  1.14499391\n",
       "group:condition:type          1.000000 20.00000  3.784392  0.11846901\n",
       "sex:condition:type            1.000000 20.00000  3.784392  0.22923819\n",
       "group:sex:condition:type      1.000000 20.00000  3.784392  1.19320420\n",
       "time:condition:type           2.105234 42.10468  2.210204  3.75034749\n",
       "group:time:condition:type     2.105234 42.10468  2.210204  0.46852646\n",
       "sex:time:condition:type       2.105234 42.10468  2.210204  0.28207512\n",
       "group:sex:time:condition:type 2.105234 42.10468  2.210204  1.46072802\n",
       "                              ges          Pr(>F)      \n",
       "group                         0.0070143616 1.015193e-01\n",
       "sex                           0.0014525789 4.451308e-01\n",
       "group:sex                     0.0006394174 6.111019e-01\n",
       "time                          0.0224255650 1.254173e-02\n",
       "group:time                    0.0023022385 6.042416e-01\n",
       "sex:time                      0.0058073537 2.920257e-01\n",
       "group:sex:time                0.0009768060 8.032078e-01\n",
       "condition                     0.0173540772 8.060789e-02\n",
       "group:condition               0.0070278731 2.577150e-01\n",
       "sex:condition                 0.0020631780 5.360407e-01\n",
       "group:sex:condition           0.0032637120 4.374109e-01\n",
       "type                          0.4322105650 1.290305e-06\n",
       "group:type                    0.0909668162 2.276987e-02\n",
       "sex:type                      0.0014872833 7.665171e-01\n",
       "group:sex:type                0.0058718917 5.556310e-01\n",
       "time:condition                0.0092710480 2.336431e-01\n",
       "group:time:condition          0.0034643213 6.248958e-01\n",
       "sex:time:condition            0.0064470523 3.804284e-01\n",
       "group:sex:time:condition      0.0070250142 3.446008e-01\n",
       "time:type                     0.0155118478 4.184375e-02\n",
       "group:time:type               0.0191372870 1.904845e-02\n",
       "sex:time:type                 0.0128747060 7.449134e-02\n",
       "group:sex:time:type           0.0025296962 6.767758e-01\n",
       "condition:type                0.0050082798 2.973441e-01\n",
       "group:condition:type          0.0005205286 7.342935e-01\n",
       "sex:condition:type            0.0010067357 6.372821e-01\n",
       "group:sex:condition:type      0.0052180545 2.876682e-01\n",
       "time:condition:type           0.0198681993 2.975231e-02\n",
       "group:time:condition:type     0.0025260283 6.389245e-01\n",
       "sex:time:condition:type       0.0015223190 7.666512e-01\n",
       "group:sex:time:condition:type 0.0078335106 2.434211e-01"
      ]
     },
     "metadata": {},
     "output_type": "display_data"
    }
   ],
   "source": [
    "model1$anova_table"
   ]
  },
  {
   "cell_type": "markdown",
   "id": "e6b9b6d7",
   "metadata": {},
   "source": [
    "# post hoc tests:"
   ]
  },
  {
   "cell_type": "code",
   "execution_count": 38,
   "id": "65b2cd56",
   "metadata": {},
   "outputs": [
    {
     "data": {
      "text/plain": [
       " type   emmean    SE df lower.CL upper.CL\n",
       " relax  -0.878 0.146 20    -1.18   -0.574\n",
       " stress  1.783 0.258 20     1.25    2.320\n",
       "\n",
       "Results are averaged over the levels of: group, sex, condition, time \n",
       "Confidence level used: 0.95 "
      ]
     },
     "metadata": {},
     "output_type": "display_data"
    },
    {
     "data": {
      "text/plain": [
       " contrast       estimate    SE df t.ratio p.value\n",
       " relax - stress    -2.66 0.391 20  -6.805  <.0001\n",
       "\n",
       "Results are averaged over the levels of: group, sex, condition, time "
      ]
     },
     "metadata": {},
     "output_type": "display_data"
    }
   ],
   "source": [
    "m1_ph <- emmeans(model1, \"type\") # defining here which variables plus their interaction I would like to include in my posthoc-Tests\n",
    "m1_ph\n",
    "pairs(m1_ph) # gives you a massive table with all pair comparisons between the two significant factors, with p-values already corrected for multiple testing\n",
    "\n",
    "# to combine pairs of factor levels define contrasts:\n",
    "# e.g. test phases -1 to 3 against phases 4 to 7, but define that for each of the runs"
   ]
  },
  {
   "cell_type": "code",
   "execution_count": 39,
   "id": "5aa0e5f7",
   "metadata": {},
   "outputs": [
    {
     "data": {
      "text/plain": [
       "type = relax:\n",
       " group emmean    SE df lower.CL upper.CL\n",
       " Musik -1.232 0.200 20   -1.650  -0.8150\n",
       " Sound -0.524 0.213 20   -0.967  -0.0805\n",
       "\n",
       "type = stress:\n",
       " group emmean    SE df lower.CL upper.CL\n",
       " Musik  2.394 0.353 20    1.657   3.1303\n",
       " Sound  1.173 0.375 20    0.390   1.9548\n",
       "\n",
       "Results are averaged over the levels of: sex, condition, time \n",
       "Confidence level used: 0.95 "
      ]
     },
     "metadata": {},
     "output_type": "display_data"
    },
    {
     "data": {
      "text/plain": [
       "type = relax:\n",
       " contrast      estimate    SE df t.ratio p.value\n",
       " Musik - Sound   -0.709 0.292 20  -2.428  0.0248\n",
       "\n",
       "type = stress:\n",
       " contrast      estimate    SE df t.ratio p.value\n",
       " Musik - Sound    1.221 0.515 20   2.371  0.0279\n",
       "\n",
       "Results are averaged over the levels of: sex, condition, time "
      ]
     },
     "metadata": {},
     "output_type": "display_data"
    }
   ],
   "source": [
    "m3_ph <- emmeans(model1, \"group\", \"type\") # defining here which variables plus their interaction I would like to include in my posthoc-Tests\n",
    "m3_ph\n",
    "pairs(m3_ph)"
   ]
  },
  {
   "cell_type": "code",
   "execution_count": 40,
   "id": "6c33abaa",
   "metadata": {},
   "outputs": [
    {
     "data": {
      "text/plain": [
       "type = relax:\n",
       " time emmean    SE df lower.CL upper.CL\n",
       " X1_1 -0.222 0.227 20   -0.696    0.252\n",
       " X1_2 -1.009 0.186 20   -1.396   -0.622\n",
       " X2_1 -1.029 0.177 20   -1.398   -0.660\n",
       " X2_2 -1.252 0.232 20   -1.737   -0.767\n",
       "\n",
       "type = stress:\n",
       " time emmean    SE df lower.CL upper.CL\n",
       " X1_1  1.904 0.256 20    1.370    2.439\n",
       " X1_2  1.500 0.306 20    0.863    2.138\n",
       " X2_1  1.832 0.365 20    1.070    2.594\n",
       " X2_2  1.896 0.264 20    1.346    2.447\n",
       "\n",
       "Results are averaged over the levels of: group, sex, condition \n",
       "Confidence level used: 0.95 "
      ]
     },
     "metadata": {},
     "output_type": "display_data"
    },
    {
     "data": {
      "text/plain": [
       "type = relax:\n",
       " contrast    estimate    SE df t.ratio p.value\n",
       " X1_1 - X1_2  0.78722 0.274 20   2.875  0.0427\n",
       " X1_1 - X2_1  0.80693 0.248 20   3.252  0.0192\n",
       " X1_1 - X2_2  1.02995 0.208 20   4.951  0.0004\n",
       " X1_2 - X2_1  0.01971 0.210 20   0.094  0.9997\n",
       " X1_2 - X2_2  0.24273 0.260 20   0.935  0.7865\n",
       " X2_1 - X2_2  0.22302 0.230 20   0.970  0.7676\n",
       "\n",
       "type = stress:\n",
       " contrast    estimate    SE df t.ratio p.value\n",
       " X1_1 - X1_2  0.40390 0.208 20   1.942  0.2430\n",
       " X1_1 - X2_1  0.07195 0.263 20   0.274  0.9926\n",
       " X1_1 - X2_2  0.00799 0.203 20   0.039  1.0000\n",
       " X1_2 - X2_1 -0.33195 0.267 20  -1.244  0.6071\n",
       " X1_2 - X2_2 -0.39592 0.253 20  -1.563  0.4208\n",
       " X2_1 - X2_2 -0.06397 0.314 20  -0.204  0.9969\n",
       "\n",
       "Results are averaged over the levels of: group, sex, condition \n",
       "P value adjustment: tukey method for comparing a family of 4 estimates "
      ]
     },
     "metadata": {},
     "output_type": "display_data"
    }
   ],
   "source": [
    "m2_ph <- emmeans(model1, \"time\", \"type\") # defining here which variables plus their interaction I would like to include in my posthoc-Tests\n",
    "m2_ph\n",
    "pairs(m2_ph) # gives you a massive table with all pair comparisons between the two significant factors, with p-values already corrected for multiple testing\n",
    "\n",
    "# to combine pairs of factor levels define contrasts:\n",
    "# e.g. test phases -1 to 3 against phases 4 to 7, but define that for each of the runs"
   ]
  },
  {
   "cell_type": "code",
   "execution_count": 41,
   "id": "b3fe3454",
   "metadata": {},
   "outputs": [
    {
     "data": {
      "text/plain": [
       "type = relax:\n",
       " contrast   estimate    SE df t.ratio p.value\n",
       " run1vsrun2    1.050 0.298 20   3.527  0.0042\n",
       " run1wdh       1.010 0.294 20   3.439  0.0042\n",
       "\n",
       "type = stress:\n",
       " contrast   estimate    SE df t.ratio p.value\n",
       " run1vsrun2   -0.324 0.322 20  -1.007  0.6520\n",
       " run1wdh       0.340 0.348 20   0.976  0.6520\n",
       "\n",
       "Results are averaged over the levels of: group, sex, condition \n",
       "P value adjustment: holm method for 2 tests "
      ]
     },
     "metadata": {},
     "output_type": "display_data"
    }
   ],
   "source": [
    "c1 <- list(run1vsrun2 = c(1, 1, -1, -1), \n",
    "           run1wdh = c(1, -1, 1, -1)\n",
    "        # this vector gives each line in the object 'm1_ph' a weight\n",
    "          )\n",
    "\n",
    "# if several contrasts are defined, these go into a list of vectors and each get their own name.\n",
    "  \n",
    "contrast(m2_ph, c1, adjust = \"holm\") # here we define how to adjust the alpha-level, specified here is the Bonferroni-Holm correction, \n",
    "                                     # which is less strict than the Bonferroni correction\n",
    "\n",
    "# and we see: there is a difference, t(20) = 3.222, p = 0.0043"
   ]
  },
  {
   "cell_type": "markdown",
   "id": "15d1d650",
   "metadata": {},
   "source": [
    "plots"
   ]
  },
  {
   "cell_type": "code",
   "execution_count": 42,
   "id": "712ed8d9",
   "metadata": {},
   "outputs": [
    {
     "data": {
      "image/png": "[encoded data removed]",
      "text/plain": [
       "plot without title"
      ]
     },
     "metadata": {
      "image/png": {
       "height": 420,
       "width": 420
      }
     },
     "output_type": "display_data"
    }
   ],
   "source": [
    "p_resp0 <- ggboxplot(\n",
    "  d_long_new, x = \"time\", y = \"resp\" ,ylab= \"Af (AZ/min)_baseline\", \n",
    "  color = \"group\", palette = c(\"#00AFBB\", \"#E7B800\")\n",
    ")\n",
    "p_resp0"
   ]
  },
  {
   "cell_type": "code",
   "execution_count": 43,
   "id": "c35aebdb",
   "metadata": {},
   "outputs": [
    {
     "data": {
      "image/png": "[encoded data removed]",
      "text/plain": [
       "plot without title"
      ]
     },
     "metadata": {
      "image/png": {
       "height": 420,
       "width": 420
      }
     },
     "output_type": "display_data"
    }
   ],
   "source": [
    "p_resp8 <- ggboxplot(\n",
    "  d_long_new, x = \"type\", y = \"resp\" ,ylab= \"Af (AZ/min)_baseline\", \n",
    "  color = \"group\", palette = c(\"#00AFBB\", \"#E7B800\")\n",
    ")\n",
    "p_resp8"
   ]
  },
  {
   "cell_type": "code",
   "execution_count": 44,
   "id": "b091631e",
   "metadata": {},
   "outputs": [
    {
     "data": {
      "text/html": [
       "<strong>png:</strong> 2"
      ],
      "text/latex": [
       "\\textbf{png:} 2"
      ],
      "text/markdown": [
       "**png:** 2"
      ],
      "text/plain": [
       "png \n",
       "  2 "
      ]
     },
     "metadata": {},
     "output_type": "display_data"
    },
    {
     "data": {
      "image/png": "[encoded data removed]",
      "text/plain": [
       "plot without title"
      ]
     },
     "metadata": {
      "image/png": {
       "height": 420,
       "width": 420
      }
     },
     "output_type": "display_data"
    }
   ],
   "source": [
    "p_resp1 <- ggboxplot(\n",
    "  d_long_new, x = \"time\", y = \"resp\" ,ylab= \"Af (AZ/min)_baseline\", \n",
    "  color = \"type\", palette = c(\"#00AFBB\", \"#E7B800\")\n",
    ")\n",
    "p_resp1\n",
    "\n",
    "png(\"plot8.png\")\n",
    "plot(p_resp1)\n",
    "dev.off()\n"
   ]
  },
  {
   "cell_type": "code",
   "execution_count": 45,
   "id": "ed313286",
   "metadata": {},
   "outputs": [
    {
     "data": {
      "image/png": "[encoded data removed]",
      "text/plain": [
       "plot without title"
      ]
     },
     "metadata": {
      "image/png": {
       "height": 420,
       "width": 420
      }
     },
     "output_type": "display_data"
    }
   ],
   "source": [
    "p_resp2 <- ggboxplot(\n",
    "  d_long_new, x = \"time\", y = \"resp\" ,ylab= \"Af (AZ/min)_baseline\", \n",
    "  palette = c(\"#4e07fc\",\"#00AFBB\", \"#FC4E07\", \"#E7B800\" ), color = \"time\", shape = \"time\"\n",
    ")\n",
    "p_resp2\n"
   ]
  },
  {
   "cell_type": "code",
   "execution_count": 46,
   "id": "34f7ed25",
   "metadata": {},
   "outputs": [
    {
     "data": {
      "image/png": "[encoded data removed]",
      "text/plain": [
       "plot without title"
      ]
     },
     "metadata": {
      "image/png": {
       "height": 420,
       "width": 420
      }
     },
     "output_type": "display_data"
    }
   ],
   "source": [
    "p_resp3 <- ggboxplot(\n",
    "  d_long_new, x = \"type\", y = \"resp\" ,ylab= \"Af (AZ/min)_baseline\", \n",
    "  palette = c(\"#00AFBB\", \"#E7B800\"), color = \"type\", shape = \"type\"\n",
    ")\n",
    "p_resp3"
   ]
  },
  {
   "cell_type": "code",
   "execution_count": 47,
   "id": "1522a9e8",
   "metadata": {},
   "outputs": [
    {
     "data": {
      "image/png": "[encoded data removed]",
      "text/plain": [
       "plot without title"
      ]
     },
     "metadata": {
      "image/png": {
       "height": 420,
       "width": 420
      }
     },
     "output_type": "display_data"
    }
   ],
   "source": [
    "p_resp4  <- ggboxplot(\n",
    "  d_long_new, x = \"type\", y = \"resp\", facet.by = \"condition\", ylab= \"Af (AZ/min)_baseline\", \n",
    "  color = \"condition\", palette = c(\"#00AFBB\", \"#E7B800\")\n",
    ")\n",
    "p_resp4"
   ]
  },
  {
   "cell_type": "code",
   "execution_count": 48,
   "id": "6ba7e99a",
   "metadata": {},
   "outputs": [
    {
     "data": {
      "image/png": "[encoded data removed]",
      "text/plain": [
       "plot without title"
      ]
     },
     "metadata": {
      "image/png": {
       "height": 420,
       "width": 420
      }
     },
     "output_type": "display_data"
    }
   ],
   "source": [
    "p_resp5  <- ggboxplot(\n",
    "  d_long_new, x = \"type\", y = \"resp\", facet.by = \"group\", ylab= \"Af (AZ/min)_baseline\",\n",
    "  color = \"group\", palette = c(\"#00AFBB\", \"#E7B800\")\n",
    ")\n",
    "p_resp5"
   ]
  },
  {
   "cell_type": "code",
   "execution_count": 49,
   "id": "13d641a4",
   "metadata": {},
   "outputs": [
    {
     "data": {
      "text/html": [
       "<strong>png:</strong> 2"
      ],
      "text/latex": [
       "\\textbf{png:} 2"
      ],
      "text/markdown": [
       "**png:** 2"
      ],
      "text/plain": [
       "png \n",
       "  2 "
      ]
     },
     "metadata": {},
     "output_type": "display_data"
    },
    {
     "data": {
      "text/html": [
       "<strong>png:</strong> 2"
      ],
      "text/latex": [
       "\\textbf{png:} 2"
      ],
      "text/markdown": [
       "**png:** 2"
      ],
      "text/plain": [
       "png \n",
       "  2 "
      ]
     },
     "metadata": {},
     "output_type": "display_data"
    },
    {
     "data": {
      "text/html": [
       "<strong>png:</strong> 2"
      ],
      "text/latex": [
       "\\textbf{png:} 2"
      ],
      "text/markdown": [
       "**png:** 2"
      ],
      "text/plain": [
       "png \n",
       "  2 "
      ]
     },
     "metadata": {},
     "output_type": "display_data"
    },
    {
     "data": {
      "text/html": [
       "<strong>png:</strong> 2"
      ],
      "text/latex": [
       "\\textbf{png:} 2"
      ],
      "text/markdown": [
       "**png:** 2"
      ],
      "text/plain": [
       "png \n",
       "  2 "
      ]
     },
     "metadata": {},
     "output_type": "display_data"
    },
    {
     "data": {
      "text/html": [
       "<strong>png:</strong> 2"
      ],
      "text/latex": [
       "\\textbf{png:} 2"
      ],
      "text/markdown": [
       "**png:** 2"
      ],
      "text/plain": [
       "png \n",
       "  2 "
      ]
     },
     "metadata": {},
     "output_type": "display_data"
    },
    {
     "data": {
      "text/html": [
       "<strong>png:</strong> 2"
      ],
      "text/latex": [
       "\\textbf{png:} 2"
      ],
      "text/markdown": [
       "**png:** 2"
      ],
      "text/plain": [
       "png \n",
       "  2 "
      ]
     },
     "metadata": {},
     "output_type": "display_data"
    },
    {
     "data": {
      "text/html": [
       "<strong>png:</strong> 2"
      ],
      "text/latex": [
       "\\textbf{png:} 2"
      ],
      "text/markdown": [
       "**png:** 2"
      ],
      "text/plain": [
       "png \n",
       "  2 "
      ]
     },
     "metadata": {},
     "output_type": "display_data"
    }
   ],
   "source": [
    "# PNG device\n",
    "\n",
    "\n",
    "png(\"plot1.png\")\n",
    "plot(p_resp1)\n",
    "dev.off()\n",
    "\n",
    "png(\"plot2.png\")\n",
    "plot(p_resp2)\n",
    "dev.off()\n",
    "\n",
    "png(\"plot3.png\")\n",
    "plot(p_resp3)\n",
    "dev.off()\n",
    "\n",
    "png(\"plot4.png\")\n",
    "plot(p_resp4)\n",
    "dev.off()\n",
    "\n",
    "png(\"plot5.png\")\n",
    "plot(p_resp5)\n",
    "dev.off()\n",
    "\n",
    "png(\"plot6.png\")\n",
    "plot(p_resp0)\n",
    "dev.off()\n",
    "\n",
    "png(\"plot7.png\")\n",
    "plot(p_resp8)\n",
    "dev.off()\n"
   ]
  }
 ],
 "metadata": {
  "kernelspec": {
   "display_name": "R",
   "language": "R",
   "name": "ir"
  },
  "language_info": {
   "codemirror_mode": "r",
   "file_extension": ".r",
   "mimetype": "text/x-r-source",
   "name": "R",
   "pygments_lexer": "r",
   "version": "4.1.2"
  }
 },
 "nbformat": 4,
 "nbformat_minor": 5
}
