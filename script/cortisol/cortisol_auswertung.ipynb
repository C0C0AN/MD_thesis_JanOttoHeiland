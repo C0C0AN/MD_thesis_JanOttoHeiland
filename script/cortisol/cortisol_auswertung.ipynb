{
 "cells": [
  {
   "cell_type": "code",
   "execution_count": 4,
   "metadata": {},
   "outputs": [],
   "source": [
    "import pandas as pd\n",
    "import numpy as np\n",
    "from scipy import *\n",
    "import pingouin as pg\n",
    "import matplotlib.pyplot as plt"
   ]
  },
  {
   "cell_type": "code",
   "execution_count": 5,
   "metadata": {},
   "outputs": [],
   "source": [
    "#HOAF test sub 03 hier die 3 cortisolmessung verworfen, wenn nicht muss man noch mal bei den Zahlen unten verbessern\n",
    "#2 Annahme 1 Mann = musik\n",
    "#Habe alle Probanden mit eingeschlossen\n",
    "\n",
    "df = pd.read_excel('/home/jan/Documents/01_doktorarbeit_1/Daten/Cortisol_werte/Cortisol_mit_baseline.xlsx', index_col=0)\n",
    "c_diff = df.iloc[:,[0,3]]\n",
    "c_diff_t = np.transpose(c_diff, axes=None)\n"
   ]
  },
  {
   "cell_type": "code",
   "execution_count": 6,
   "metadata": {},
   "outputs": [
    {
     "data": {
      "text/html": [
       "<div>\n",
       "<style scoped>\n",
       "    .dataframe tbody tr th:only-of-type {\n",
       "        vertical-align: middle;\n",
       "    }\n",
       "\n",
       "    .dataframe tbody tr th {\n",
       "        vertical-align: top;\n",
       "    }\n",
       "\n",
       "    .dataframe thead th {\n",
       "        text-align: right;\n",
       "    }\n",
       "</style>\n",
       "<table border=\"1\" class=\"dataframe\">\n",
       "  <thead>\n",
       "    <tr style=\"text-align: right;\">\n",
       "      <th></th>\n",
       "      <th>Sample #</th>\n",
       "      <th>1</th>\n",
       "      <th>2</th>\n",
       "      <th>3</th>\n",
       "      <th>4</th>\n",
       "      <th>5</th>\n",
       "      <th>6</th>\n",
       "      <th>7</th>\n",
       "      <th>8</th>\n",
       "      <th>9</th>\n",
       "      <th>...</th>\n",
       "      <th>166</th>\n",
       "      <th>167</th>\n",
       "      <th>168</th>\n",
       "      <th>169</th>\n",
       "      <th>170</th>\n",
       "      <th>171</th>\n",
       "      <th>172</th>\n",
       "      <th>173</th>\n",
       "      <th>174</th>\n",
       "      <th>175</th>\n",
       "    </tr>\n",
       "  </thead>\n",
       "  <tbody>\n",
       "    <tr>\n",
       "      <th>Unnamed: 1</th>\n",
       "      <td>Sample ID on salivette</td>\n",
       "      <td>HOAF  test 01 Sub-01</td>\n",
       "      <td>HOAF test 02 Sub-01</td>\n",
       "      <td>HOAF  test 03 Sub-01</td>\n",
       "      <td>HOAF  test 04 Sub-01</td>\n",
       "      <td>HOAF test  05 Sub-01</td>\n",
       "      <td>HOAF test  06 Sub-01</td>\n",
       "      <td>HOAF  test 01 Sub-02</td>\n",
       "      <td>HOAF  test  02 Sub-02</td>\n",
       "      <td>HOAF  test 03 Sub-02</td>\n",
       "      <td>...</td>\n",
       "      <td>HOAF  03 Sub-28</td>\n",
       "      <td>HOAF  04 Sub-28</td>\n",
       "      <td>HOAF  05 Sub-28</td>\n",
       "      <td>HOAF  06 Sub-28</td>\n",
       "      <td>HOAF  01 Sub-29</td>\n",
       "      <td>HOAF  02 Sub-29</td>\n",
       "      <td>HOAF  03 Sub-29</td>\n",
       "      <td>HOAF  04 Sub-29</td>\n",
       "      <td>HOAF  05 Sub-29</td>\n",
       "      <td>HOAF  06 Sub-29</td>\n",
       "    </tr>\n",
       "    <tr>\n",
       "      <th>Unnamed: 4</th>\n",
       "      <td>Cortisol in nmol/L</td>\n",
       "      <td>2.15202</td>\n",
       "      <td>1.98648</td>\n",
       "      <td>1.57263</td>\n",
       "      <td>1.21396</td>\n",
       "      <td>1.62781</td>\n",
       "      <td>2.34515</td>\n",
       "      <td>9.17367</td>\n",
       "      <td>3.83501</td>\n",
       "      <td>4.44199</td>\n",
       "      <td>...</td>\n",
       "      <td>6.18016</td>\n",
       "      <td>9.27024</td>\n",
       "      <td>15.2297</td>\n",
       "      <td>10.567</td>\n",
       "      <td>8.52531</td>\n",
       "      <td>12.3051</td>\n",
       "      <td>16.4436</td>\n",
       "      <td>20.1407</td>\n",
       "      <td>23.9757</td>\n",
       "      <td>16.4436</td>\n",
       "    </tr>\n",
       "  </tbody>\n",
       "</table>\n",
       "<p>2 rows × 176 columns</p>\n",
       "</div>"
      ],
      "text/plain": [
       "                          Sample #                     1                    2  \\\n",
       "Unnamed: 1  Sample ID on salivette  HOAF  test 01 Sub-01  HOAF test 02 Sub-01   \n",
       "Unnamed: 4      Cortisol in nmol/L               2.15202              1.98648   \n",
       "\n",
       "                               3                     4                     5  \\\n",
       "Unnamed: 1  HOAF  test 03 Sub-01  HOAF  test 04 Sub-01  HOAF test  05 Sub-01   \n",
       "Unnamed: 4               1.57263               1.21396               1.62781   \n",
       "\n",
       "                               6                     7                      8  \\\n",
       "Unnamed: 1  HOAF test  06 Sub-01  HOAF  test 01 Sub-02  HOAF  test  02 Sub-02   \n",
       "Unnamed: 4               2.34515               9.17367                3.83501   \n",
       "\n",
       "                               9  ...              166              167  \\\n",
       "Unnamed: 1  HOAF  test 03 Sub-02  ...  HOAF  03 Sub-28  HOAF  04 Sub-28   \n",
       "Unnamed: 4               4.44199  ...          6.18016          9.27024   \n",
       "\n",
       "                        168              169              170  \\\n",
       "Unnamed: 1  HOAF  05 Sub-28  HOAF  06 Sub-28  HOAF  01 Sub-29   \n",
       "Unnamed: 4          15.2297           10.567          8.52531   \n",
       "\n",
       "                        171              172              173  \\\n",
       "Unnamed: 1  HOAF  02 Sub-29  HOAF  03 Sub-29  HOAF  04 Sub-29   \n",
       "Unnamed: 4          12.3051          16.4436          20.1407   \n",
       "\n",
       "                        174              175  \n",
       "Unnamed: 1  HOAF  05 Sub-29  HOAF  06 Sub-29  \n",
       "Unnamed: 4          23.9757          16.4436  \n",
       "\n",
       "[2 rows x 176 columns]"
      ]
     },
     "execution_count": 6,
     "metadata": {},
     "output_type": "execute_result"
    }
   ],
   "source": [
    "l = df.iloc[:,3]\n",
    "l_t = np.transpose(c_diff, axes=None)\n",
    "l_t"
   ]
  },
  {
   "cell_type": "code",
   "execution_count": null,
   "metadata": {},
   "outputs": [],
   "source": []
  },
  {
   "cell_type": "code",
   "execution_count": 7,
   "metadata": {},
   "outputs": [
    {
     "data": {
      "text/plain": [
       "'#variabel für die Musikgruppe \\nmusic_a = [1,7,13,26,32,62,80,92,110,134,140,152,158,164,170]\\nmusic_b = [i+1 for i in music_a]\\nmusic_c = [i+1 for i in music_b]\\nmusic_d = [i+1 for i in music_c]\\nmusic_e = [i+1 for i in music_d]\\nmusic_f = [i+1 for i in music_e]'"
      ]
     },
     "execution_count": 7,
     "metadata": {},
     "output_type": "execute_result"
    }
   ],
   "source": [
    "'''#variabel für die Musikgruppe \n",
    "music_a = [1,7,13,26,32,62,80,92,110,134,140,152,158,164,170]\n",
    "music_b = [i+1 for i in music_a]\n",
    "music_c = [i+1 for i in music_b]\n",
    "music_d = [i+1 for i in music_c]\n",
    "music_e = [i+1 for i in music_d]\n",
    "music_f = [i+1 for i in music_e]'''\n"
   ]
  },
  {
   "cell_type": "code",
   "execution_count": 8,
   "metadata": {},
   "outputs": [],
   "source": [
    "#variabel für die Musikgruppe nicht alle Probanden\n",
    "music_a = [7,13,26,32,62,80,92,110,134,152,158,164,170]\n",
    "music_b = [i+1 for i in music_a]\n",
    "music_c = [i+1 for i in music_b]\n",
    "music_d = [i+1 for i in music_c]\n",
    "music_e = [i+1 for i in music_d]\n",
    "music_f = [i+1 for i in music_e]"
   ]
  },
  {
   "cell_type": "code",
   "execution_count": 9,
   "metadata": {},
   "outputs": [],
   "source": [
    "# da bei HOAF test sub 03 eine Messung zu viel war wurde die dritte Messung ausgelassen\n",
    "music_e[2] = music_e[2] + 1\n",
    "music_f[2] = music_f[2] + 1\n"
   ]
  },
  {
   "cell_type": "code",
   "execution_count": 10,
   "metadata": {},
   "outputs": [
    {
     "data": {
      "text/plain": [
       "'#Variabel für die sound Gruppe\\nsound_a = [38,44,50,56,68,74,86,98,104,116,122,128,146]\\nsound_b = [i+1 for i in sound_a]\\nsound_c = [i+1 for i in sound_b]\\nsound_d = [i+1 for i in sound_c]\\nsound_e = [i+1 for i in sound_d]\\nsound_f = [i+1 for i in sound_e]'"
      ]
     },
     "execution_count": 10,
     "metadata": {},
     "output_type": "execute_result"
    }
   ],
   "source": [
    "'''#Variabel für die sound Gruppe\n",
    "sound_a = [38,44,50,56,68,74,86,98,104,116,122,128,146]\n",
    "sound_b = [i+1 for i in sound_a]\n",
    "sound_c = [i+1 for i in sound_b]\n",
    "sound_d = [i+1 for i in sound_c]\n",
    "sound_e = [i+1 for i in sound_d]\n",
    "sound_f = [i+1 for i in sound_e]'''\n"
   ]
  },
  {
   "cell_type": "code",
   "execution_count": 11,
   "metadata": {},
   "outputs": [],
   "source": [
    "#Variabel für die sound Gruppe nicht alle Probanden\n",
    "sound_a = [38,44,50,56,68,74,86,98,104,116,122,128,146]\n",
    "sound_b = [i+1 for i in sound_a]\n",
    "sound_c = [i+1 for i in sound_b]\n",
    "sound_d = [i+1 for i in sound_c]\n",
    "sound_e = [i+1 for i in sound_d]\n",
    "sound_f = [i+1 for i in sound_e]"
   ]
  },
  {
   "cell_type": "code",
   "execution_count": 12,
   "metadata": {},
   "outputs": [],
   "source": [
    "#variabel für die gesamte Gruppe\n",
    "alle_a = music_a + sound_a\n",
    "alle_b = music_b + sound_b\n",
    "alle_c = music_c + sound_c\n",
    "alle_d = music_d + sound_d \n",
    "alle_e = music_e + sound_e\n",
    "alle_f = music_f + sound_f"
   ]
  },
  {
   "cell_type": "code",
   "execution_count": 13,
   "metadata": {},
   "outputs": [],
   "source": [
    "#Zugriff Daten für die Musikgruppe\n",
    "am = c_diff_t.iloc[:,music_a]\n",
    "bm = c_diff_t.iloc[:,music_b]\n",
    "cm = c_diff_t.iloc[:,music_c]\n",
    "dm = c_diff_t.iloc[:,music_d]\n",
    "em = c_diff_t.iloc[:,music_e]\n",
    "fm = c_diff_t.iloc[:,music_f]"
   ]
  },
  {
   "cell_type": "code",
   "execution_count": 14,
   "metadata": {},
   "outputs": [],
   "source": [
    "#Zugriff Daten für die soundgruppe\n",
    "aw = c_diff_t.iloc[:,sound_a]\n",
    "bw = c_diff_t.iloc[:,sound_b]\n",
    "cw = c_diff_t.iloc[:,sound_c]\n",
    "dw = c_diff_t.iloc[:,sound_d]\n",
    "ew = c_diff_t.iloc[:,sound_e]\n",
    "fw = c_diff_t.iloc[:,sound_f]\n",
    "\n",
    "#Zugriff Daten für Varianz alle\n",
    "av = c_diff_t.iloc[1,alle_a]\n",
    "bv = c_diff_t.iloc[1,alle_b]\n",
    "cv = c_diff_t.iloc[1,alle_c]\n",
    "dv = c_diff_t.iloc[1,alle_d]\n",
    "ev = c_diff_t.iloc[1,alle_e]\n",
    "fv = c_diff_t.iloc[1,alle_f]\n",
    "\n",
    "#Zugriff Daten Varianz music\n",
    "amv = c_diff_t.iloc[1,music_a]\n",
    "bmv = c_diff_t.iloc[1,music_b]\n",
    "cmv = c_diff_t.iloc[1,music_c]\n",
    "dmv = c_diff_t.iloc[1,music_d]\n",
    "emv = c_diff_t.iloc[1,music_e]\n",
    "fmv = c_diff_t.iloc[1,music_f]\n",
    "\n",
    "#Zugriff Daten Varianz sound\n",
    "awv = c_diff_t.iloc[1,sound_a]\n",
    "bwv = c_diff_t.iloc[1,sound_b]\n",
    "cwv = c_diff_t.iloc[1,sound_c]\n",
    "dwv = c_diff_t.iloc[1,sound_d]\n",
    "ewv = c_diff_t.iloc[1,sound_e]\n",
    "fwv = c_diff_t.iloc[1,sound_f]\n"
   ]
  },
  {
   "cell_type": "code",
   "execution_count": 15,
   "metadata": {},
   "outputs": [],
   "source": [
    "\n",
    "\n",
    "#mean = a.iloc[1,:].mean(),b.iloc[1,:].mean(),c.iloc[1,:].mean(),d.iloc[1,:].mean(),e.iloc[1,:].mean(),f.iloc[1,:].mean()\n",
    "#np.asarray(mean)\n",
    "\n",
    "mean_m = am.iloc[1,:].mean(),bm.iloc[1,:].mean(),cm.iloc[1,:].mean(),dm.iloc[1,:].mean(),em.iloc[1,:].mean(),fm.iloc[1,:].mean()\n",
    "np.asarray(mean_m)\n",
    "\n",
    "mean_w = aw.iloc[1,:].mean(),bw.iloc[1,:].mean(),cw.iloc[1,:].mean(),dw.iloc[1,:].mean(),ew.iloc[1,:].mean(),fw.iloc[1,:].mean()\n",
    "np.asarray(mean_w)\n",
    "\n",
    "vara_alle = av.var(axis=None),bv.var(axis=None),cv.var(axis=None),dv.var(axis=None),ev.var(axis=None),fv.var(axis=None)\n",
    "vara_musik = amv.var(axis=None),bmv.var(axis=None),cmv.var(axis=None),dmv.var(axis=None),emv.var(axis=None),fmv.var(axis=None)\n",
    "vara_sound = awv.var(axis=None),bwv.var(axis=None),cwv.var(axis=None),dwv.var(axis=None),ewv.var(axis=None),fwv.var(axis=None)\n",
    "\n",
    "stda_alle = av.std(axis=None),bv.std(axis=None),cv.std(axis=None),dv.std(axis=None),ev.std(axis=None),fv.std(axis=None)\n",
    "stda_music = amv.std(axis=None),bmv.std(axis=None),cmv.std(axis=None),dmv.std(axis=None),emv.std(axis=None),fmv.std(axis=None)\n",
    "stda_sound = awv.std(axis=None),bwv.std(axis=None),cwv.std(axis=None),dwv.std(axis=None),ewv.std(axis=None),fwv.std(axis=None)"
   ]
  },
  {
   "cell_type": "code",
   "execution_count": 16,
   "metadata": {},
   "outputs": [
    {
     "data": {
      "text/plain": [
       "array([5.96686808, 5.38217231, 8.45631385, 9.29146308, 9.00601269,\n",
       "       7.60422846])"
      ]
     },
     "execution_count": 16,
     "metadata": {},
     "output_type": "execute_result"
    }
   ],
   "source": [
    "mean_m = am.iloc[1,:].mean(),bm.iloc[1,:].mean(),cm.iloc[1,:].mean(),dm.iloc[1,:].mean(),em.iloc[1,:].mean(),fm.iloc[1,:].mean()\n",
    "np.asarray(mean_m)"
   ]
  },
  {
   "cell_type": "code",
   "execution_count": 17,
   "metadata": {},
   "outputs": [],
   "source": [
    "#mean = a.iloc[1,:].mean(),b.iloc[1,:].mean(),c.iloc[1,:].mean(),d.iloc[1,:].mean(),e.iloc[1,:].mean(),f.iloc[1,:].mean()\n",
    "#np.asarray(mean)"
   ]
  },
  {
   "cell_type": "code",
   "execution_count": 18,
   "metadata": {},
   "outputs": [
    {
     "data": {
      "text/plain": [
       "array([5.76843231, 5.85332462, 6.11224615, 7.29861615, 6.90492808,\n",
       "       5.81087846])"
      ]
     },
     "execution_count": 18,
     "metadata": {},
     "output_type": "execute_result"
    }
   ],
   "source": [
    "mean_w = aw.iloc[1,:].mean(),bw.iloc[1,:].mean(),cw.iloc[1,:].mean(),dw.iloc[1,:].mean(),ew.iloc[1,:].mean(),fw.iloc[1,:].mean()\n",
    "np.asarray(mean_w)"
   ]
  },
  {
   "cell_type": "code",
   "execution_count": 35,
   "metadata": {},
   "outputs": [
    {
     "data": {
      "text/plain": [
       "array([0.45251462, 0.83961033, 0.90524903, 1.47989511, 1.50409353,\n",
       "       1.12931542])"
      ]
     },
     "execution_count": 35,
     "metadata": {},
     "output_type": "execute_result"
    }
   ],
   "source": [
    "sem_w = aw.iloc[1,:].sem(),bw.iloc[1,:].sem(),cw.iloc[1,:].sem(),dw.iloc[1,:].sem(),ew.iloc[1,:].sem(),fw.iloc[1,:].sem()\n",
    "np.asarray(sem_w)"
   ]
  },
  {
   "cell_type": "code",
   "execution_count": 36,
   "metadata": {},
   "outputs": [
    {
     "data": {
      "text/plain": [
       "array([0.69184722, 0.86442342, 1.64357319, 1.73984277, 1.97182516,\n",
       "       1.49555295])"
      ]
     },
     "execution_count": 36,
     "metadata": {},
     "output_type": "execute_result"
    }
   ],
   "source": [
    "sem_m = am.iloc[1,:].sem(),bm.iloc[1,:].sem(),cm.iloc[1,:].sem(),dm.iloc[1,:].sem(),em.iloc[1,:].sem(),fm.iloc[1,:].sem()\n",
    "np.asarray(sem_m)"
   ]
  },
  {
   "cell_type": "code",
   "execution_count": null,
   "metadata": {},
   "outputs": [],
   "source": [
    "sem_w = aw.iloc[1,:].sem(),bw.iloc[1,:].sem(),cw.iloc[1,:].sem(),dw.iloc[1,:].sem(),ew.iloc[1,:].sem(),fw.iloc[1,:].mean()\n",
    "np.asarray(sem_w)"
   ]
  },
  {
   "cell_type": "code",
   "execution_count": 19,
   "metadata": {},
   "outputs": [],
   "source": [
    "vara_alle = av.var(axis=None),bv.var(axis=None),cv.var(axis=None),dv.var(axis=None),ev.var(axis=None),fv.var(axis=None)"
   ]
  },
  {
   "cell_type": "code",
   "execution_count": 20,
   "metadata": {},
   "outputs": [
    {
     "data": {
      "text/plain": [
       "(4.274791569662962,\n",
       " 9.11927772235754,\n",
       " 23.398455676151997,\n",
       " 33.58754269113184,\n",
       " 39.52622947657784,\n",
       " 22.751266412073534)"
      ]
     },
     "execution_count": 20,
     "metadata": {},
     "output_type": "execute_result"
    }
   ],
   "source": [
    "vara_alle"
   ]
  },
  {
   "cell_type": "code",
   "execution_count": 21,
   "metadata": {},
   "outputs": [
    {
     "data": {
      "text/plain": [
       "(6.222483414602242,\n",
       " 9.713961986585895,\n",
       " 35.11732666404231,\n",
       " 39.351687191789736,\n",
       " 50.54522790459422,\n",
       " 29.076822185364094)"
      ]
     },
     "execution_count": 21,
     "metadata": {},
     "output_type": "execute_result"
    }
   ],
   "source": [
    "vara_musik"
   ]
  },
  {
   "cell_type": "code",
   "execution_count": 22,
   "metadata": {},
   "outputs": [
    {
     "data": {
      "text/plain": [
       "(2.662003280169231,\n",
       " 9.164291665760254,\n",
       " 10.65318543212564,\n",
       " 28.471164032875635,\n",
       " 29.409865367731403,\n",
       " 16.579593052601602)"
      ]
     },
     "execution_count": 22,
     "metadata": {},
     "output_type": "execute_result"
    }
   ],
   "source": [
    "vara_sound"
   ]
  },
  {
   "cell_type": "code",
   "execution_count": 23,
   "metadata": {},
   "outputs": [
    {
     "data": {
      "text/plain": [
       "(2.0675569084460435,\n",
       " 3.019814186726981,\n",
       " 4.837195021513191,\n",
       " 5.795476053883049,\n",
       " 6.286988903805846,\n",
       " 4.7698287612946375)"
      ]
     },
     "execution_count": 23,
     "metadata": {},
     "output_type": "execute_result"
    }
   ],
   "source": [
    "stda_alle"
   ]
  },
  {
   "cell_type": "code",
   "execution_count": 24,
   "metadata": {},
   "outputs": [
    {
     "data": {
      "text/plain": [
       "(2.494490612249772,\n",
       " 3.116722956341467,\n",
       " 5.9259873999226755,\n",
       " 6.273092314942427,\n",
       " 7.109516713855747,\n",
       " 5.392292850482445)"
      ]
     },
     "execution_count": 24,
     "metadata": {},
     "output_type": "execute_result"
    }
   ],
   "source": [
    "stda_music"
   ]
  },
  {
   "cell_type": "code",
   "execution_count": 25,
   "metadata": {},
   "outputs": [
    {
     "data": {
      "text/plain": [
       "(1.6315646723833017,\n",
       " 3.0272581101981135,\n",
       " 3.263921787072362,\n",
       " 5.3358377067594205,\n",
       " 5.423086332314045,\n",
       " 4.071804643226588)"
      ]
     },
     "execution_count": 25,
     "metadata": {},
     "output_type": "execute_result"
    }
   ],
   "source": [
    "stda_sound"
   ]
  },
  {
   "cell_type": "code",
   "execution_count": 30,
   "metadata": {},
   "outputs": [
    {
     "data": {
      "text/plain": [
       "Text(0.5, 1.0, 'Mittelwerte der Cortisolmessungen in der Sound Gruppe')"
      ]
     },
     "execution_count": 30,
     "metadata": {},
     "output_type": "execute_result"
    },
    {
     "data": {
      "image/png": "[encoded data removed]",
      "text/plain": [
       "<Figure size 432x288 with 1 Axes>"
      ]
     },
     "metadata": {
      "needs_background": "light"
     },
     "output_type": "display_data"
    }
   ],
   "source": [
    "#plot einer Gruppe\n",
    "get_ipython().magic(u'matplotlib inline')\n",
    "plt.plot(mean_w)\n",
    "plt.xlabel('Zeitpunkte')\n",
    "plt.ylabel('Cortisol nmol/L')\n",
    "plt.title(\"Mittelwerte der Cortisolmessungen in der Sound Gruppe\")"
   ]
  },
  {
   "cell_type": "code",
   "execution_count": 27,
   "metadata": {},
   "outputs": [
    {
     "data": {
      "image/png": "[encoded data removed]",
      "text/plain": [
       "<Figure size 432x288 with 1 Axes>"
      ]
     },
     "metadata": {
      "needs_background": "light"
     },
     "output_type": "display_data"
    }
   ],
   "source": [
    "#plot zwei Gruppen gegeneinander\n",
    "get_ipython().magic(u'matplotlib inline')\n",
    "fig, ax = plt.subplots()\n",
    "ax.plot(mean_m, label='musik')\n",
    "ax.plot(mean_w, label='sound')\n",
    "plt.xlabel('Messzeitpunkte')\n",
    "plt.ylabel('Cortisol nmol/L (baseline)')\n",
    "plt.title(\"Mittelwerte der Cortisol Messung\")\n",
    "plt.legend()\n",
    "plt.savefig('Mittelwerte der COrtisolmessung')"
   ]
  },
  {
   "cell_type": "code",
   "execution_count": 28,
   "metadata": {
    "scrolled": false
   },
   "outputs": [
    {
     "data": {
      "image/png": "[encoded data removed]",
      "text/plain": [
       "<Figure size 432x288 with 1 Axes>"
      ]
     },
     "metadata": {
      "needs_background": "light"
     },
     "output_type": "display_data"
    }
   ],
   "source": [
    "x_achse = [1,2,3,4,5,6]\n",
    "x1_achse = [1.07,2.07,3.07,4.07,5.07,6.07]\n",
    "fig, ax = plt.subplots()\n",
    "ax.errorbar(x_achse, mean_m, yerr=stda_music, fmt='-o', capsize=3, label='musik')\n",
    "ax.errorbar(x1_achse, mean_w, yerr=stda_sound, fmt='-^', capsize=3, label= 'sound')\n",
    "plt.xlabel('Zeitpunkte')\n",
    "plt.ylabel('Cortisol nmol/L (baseline)')\n",
    "ax.set_title('Mittelwert und Standartabweichung')\n",
    "plt.legend()\n",
    "plt.savefig(\"mean_stda_baseline.png\")"
   ]
  },
  {
   "cell_type": "code",
   "execution_count": 62,
   "metadata": {},
   "outputs": [],
   "source": [
    "phases = [(1,2),(2,3),(3,4),(4,5),(5,6)]"
   ]
  },
  {
   "cell_type": "code",
   "execution_count": 85,
   "metadata": {},
   "outputs": [],
   "source": [
    "def plot_phases(colors=['0.3', '0.9'], alpha=2):\n",
    "    for i, phase in enumerate(phases):\n",
    "        plt.axvspan(phase[0], phase[1], facecolor=colors[i % 2], alpha=alpha)"
   ]
  },
  {
   "cell_type": "code",
   "execution_count": 94,
   "metadata": {},
   "outputs": [
    {
     "data": {
      "image/png": "[encoded data removed]",
      "text/plain": [
       "<Figure size 432x288 with 1 Axes>"
      ]
     },
     "metadata": {
      "needs_background": "light"
     },
     "output_type": "display_data"
    }
   ],
   "source": [
    "\n",
    "x_achse = [1,2,3,4,5,6]\n",
    "x1_achse = [1.07,2.07,3.07,4.07,5.07,6.07]\n",
    "fig, ax = plt.subplots()\n",
    "plot_phases(colors=[\"white\", \"blue\"], alpha=0.1)\n",
    "ax.errorbar(x_achse, mean_m, yerr=sem_m, fmt='-o', capsize=3, label='musik')\n",
    "ax.errorbar(x1_achse, mean_w, yerr=sem_w, fmt='-^', capsize=3, label= 'sound')\n",
    "plt.text(2.2, 4.5, 'stress', fontsize = 10) \n",
    "plt.text(4.2, 4.5, 'stress', fontsize = 10) \n",
    "plt.xlabel('Zeitpunkte')\n",
    "plt.ylabel('Cortisol nmol/L')\n",
    "plt.legend()\n",
    "plt.savefig(\"mean_stda_baseline.png\")"
   ]
  },
  {
   "cell_type": "code",
   "execution_count": 29,
   "metadata": {},
   "outputs": [
    {
     "ename": "NameError",
     "evalue": "name 'mean_m_log' is not defined",
     "output_type": "error",
     "traceback": [
      "\u001b[0;31m---------------------------------------------------------------------------\u001b[0m",
      "\u001b[0;31mNameError\u001b[0m                                 Traceback (most recent call last)",
      "\u001b[0;32m<ipython-input-29-5a5ed3d1e7b8>\u001b[0m in \u001b[0;36m<module>\u001b[0;34m\u001b[0m\n\u001b[1;32m      2\u001b[0m \u001b[0mx1_achse\u001b[0m \u001b[0;34m=\u001b[0m \u001b[0;34m[\u001b[0m\u001b[0;36m1.07\u001b[0m\u001b[0;34m,\u001b[0m\u001b[0;36m2.07\u001b[0m\u001b[0;34m,\u001b[0m\u001b[0;36m3.07\u001b[0m\u001b[0;34m,\u001b[0m\u001b[0;36m4.07\u001b[0m\u001b[0;34m,\u001b[0m\u001b[0;36m5.07\u001b[0m\u001b[0;34m,\u001b[0m\u001b[0;36m6.07\u001b[0m\u001b[0;34m]\u001b[0m\u001b[0;34m\u001b[0m\u001b[0;34m\u001b[0m\u001b[0m\n\u001b[1;32m      3\u001b[0m \u001b[0mfig\u001b[0m\u001b[0;34m,\u001b[0m \u001b[0max\u001b[0m \u001b[0;34m=\u001b[0m \u001b[0mplt\u001b[0m\u001b[0;34m.\u001b[0m\u001b[0msubplots\u001b[0m\u001b[0;34m(\u001b[0m\u001b[0;34m)\u001b[0m\u001b[0;34m\u001b[0m\u001b[0;34m\u001b[0m\u001b[0m\n\u001b[0;32m----> 4\u001b[0;31m \u001b[0max\u001b[0m\u001b[0;34m.\u001b[0m\u001b[0merrorbar\u001b[0m\u001b[0;34m(\u001b[0m\u001b[0mx_achse\u001b[0m\u001b[0;34m,\u001b[0m \u001b[0mmean_m_log\u001b[0m\u001b[0;34m,\u001b[0m \u001b[0myerr\u001b[0m\u001b[0;34m=\u001b[0m\u001b[0mvara_musik_log\u001b[0m\u001b[0;34m,\u001b[0m \u001b[0mfmt\u001b[0m\u001b[0;34m=\u001b[0m\u001b[0;34m'-o'\u001b[0m\u001b[0;34m,\u001b[0m \u001b[0mcapsize\u001b[0m\u001b[0;34m=\u001b[0m\u001b[0;36m3\u001b[0m\u001b[0;34m,\u001b[0m \u001b[0mlabel\u001b[0m\u001b[0;34m=\u001b[0m\u001b[0;34m'musik'\u001b[0m\u001b[0;34m)\u001b[0m\u001b[0;34m\u001b[0m\u001b[0;34m\u001b[0m\u001b[0m\n\u001b[0m\u001b[1;32m      5\u001b[0m \u001b[0max\u001b[0m\u001b[0;34m.\u001b[0m\u001b[0merrorbar\u001b[0m\u001b[0;34m(\u001b[0m\u001b[0mx1_achse\u001b[0m\u001b[0;34m,\u001b[0m \u001b[0mmean_w_log\u001b[0m\u001b[0;34m,\u001b[0m \u001b[0myerr\u001b[0m\u001b[0;34m=\u001b[0m\u001b[0mvara_sound_log\u001b[0m\u001b[0;34m,\u001b[0m \u001b[0mfmt\u001b[0m\u001b[0;34m=\u001b[0m\u001b[0;34m'-^'\u001b[0m\u001b[0;34m,\u001b[0m \u001b[0mcapsize\u001b[0m\u001b[0;34m=\u001b[0m\u001b[0;36m3\u001b[0m\u001b[0;34m,\u001b[0m \u001b[0mlabel\u001b[0m\u001b[0;34m=\u001b[0m \u001b[0;34m'sound'\u001b[0m\u001b[0;34m)\u001b[0m\u001b[0;34m\u001b[0m\u001b[0;34m\u001b[0m\u001b[0m\n\u001b[1;32m      6\u001b[0m \u001b[0mplt\u001b[0m\u001b[0;34m.\u001b[0m\u001b[0mxlabel\u001b[0m\u001b[0;34m(\u001b[0m\u001b[0;34m'Zeitpunkte'\u001b[0m\u001b[0;34m)\u001b[0m\u001b[0;34m\u001b[0m\u001b[0;34m\u001b[0m\u001b[0m\n",
      "\u001b[0;31mNameError\u001b[0m: name 'mean_m_log' is not defined"
     ]
    },
    {
     "data": {
      "image/png": "[encoded data removed]",
      "text/plain": [
       "<Figure size 432x288 with 1 Axes>"
      ]
     },
     "metadata": {
      "needs_background": "light"
     },
     "output_type": "display_data"
    }
   ],
   "source": [
    "x_achse = [1,2,3,4,5,6]\n",
    "x1_achse = [1.07,2.07,3.07,4.07,5.07,6.07]\n",
    "fig, ax = plt.subplots()\n",
    "ax.errorbar(x_achse, mean_m_log, yerr=vara_musik_log, fmt='-o', capsize=3, label='musik')\n",
    "ax.errorbar(x1_achse, mean_w_log, yerr=vara_sound_log, fmt='-^', capsize=3, label= 'sound')\n",
    "plt.xlabel('Zeitpunkte')\n",
    "plt.ylabel('logCortisol nmol/L (baseline)')\n",
    "ax.set_title('Mittelwert und Varianz')\n",
    "plt.legend()\n",
    "plt.savefig(\"mean_varianz_log_baseline.png\")"
   ]
  },
  {
   "cell_type": "code",
   "execution_count": null,
   "metadata": {
    "scrolled": true
   },
   "outputs": [],
   "source": [
    "import pandas as pd\n",
    "import numpy as np\n",
    "import matplotlib.pyplot as plt\n",
    "import matplotlib.mlab as mlab\n",
    "\n",
    "dm = pd.read_csv('/home/jan/Documents/01_doktorarbeit_1/Daten/Cortisol_werte/Cortisol_musik.csv', header = 0, usecols = [0])\n",
    "dm.loc[:,('Cortisol_in_nmolpro_l')].astype(float)\n",
    "#dw.loc[:,('Zeit')].astype(float)\n",
    "dm = dm.dropna()"
   ]
  },
  {
   "cell_type": "code",
   "execution_count": null,
   "metadata": {},
   "outputs": [],
   "source": [
    "dw = pd.read_csv('/home/jan/Documents/01_doktorarbeit_1/Daten/Cortisol_werte/Cortisol_sound.csv', header = 0, usecols = [0])\n",
    "dw.loc[:,('Cortisol_in_nmolpro_l')].astype(float)\n",
    "dw = dw.dropna()"
   ]
  },
  {
   "cell_type": "code",
   "execution_count": null,
   "metadata": {},
   "outputs": [],
   "source": [
    "#logarythmische Transformation der Soundgruppe\n",
    "log_dw = np.log(dw['Cortisol_in_nmolpro_l'])\n",
    "#logarythmische Transformation der Musikgruppe\n",
    "log_dm = np.log(dm['Cortisol_in_nmolpro_l'])"
   ]
  },
  {
   "cell_type": "code",
   "execution_count": null,
   "metadata": {},
   "outputs": [],
   "source": [
    "log_dw"
   ]
  },
  {
   "cell_type": "code",
   "execution_count": null,
   "metadata": {},
   "outputs": [],
   "source": [
    "#Mittelwert in der sound Gruppe über alle 6 Messungen\n",
    "mean_sound = dw.mean(axis = None, skipna=None, level=None, numeric_only=None)"
   ]
  },
  {
   "cell_type": "code",
   "execution_count": null,
   "metadata": {},
   "outputs": [],
   "source": [
    "#Mittelwert in der Musik Gruppe über alle 6 Messungen\n",
    "mean_music = dm.mean(axis = None, skipna=None, level=None, numeric_only=None)"
   ]
  },
  {
   "cell_type": "code",
   "execution_count": null,
   "metadata": {},
   "outputs": [],
   "source": [
    "#Log Mittelwert in der Sound Gruppe über alle 6 Messungen\n",
    "mean_sound_log = log_dw.mean(axis = None, skipna=None, level=None, numeric_only=None)"
   ]
  },
  {
   "cell_type": "code",
   "execution_count": null,
   "metadata": {},
   "outputs": [],
   "source": [
    "#Mittelwert in der Musik Gruppe über alle 6 Messungen\n",
    "mean_music_log = log_dm.mean(axis = None, skipna=None, level=None, numeric_only=None)"
   ]
  },
  {
   "cell_type": "code",
   "execution_count": null,
   "metadata": {},
   "outputs": [],
   "source": [
    "#Standartabwichung in der Musik Gruppe über alle 6 Messungen\n",
    "std_music = dm.std(axis=None, skipna=None, level=None, ddof=1, numeric_only=None)"
   ]
  },
  {
   "cell_type": "code",
   "execution_count": null,
   "metadata": {},
   "outputs": [],
   "source": [
    "#Standartabwichung in der Musik Gruppe über alle 6 Messungen\n",
    "std_sound = dw.std(axis=None, skipna=None, level=None, ddof=1, numeric_only=None)"
   ]
  },
  {
   "cell_type": "code",
   "execution_count": null,
   "metadata": {},
   "outputs": [],
   "source": [
    "#Log_Standartabwichung in der Sound Gruppe über alle 6 Messungen\n",
    "std_sound_log = log_dw.std(axis=None, skipna=None, level=None, ddof=1, numeric_only=None)"
   ]
  },
  {
   "cell_type": "code",
   "execution_count": null,
   "metadata": {},
   "outputs": [],
   "source": [
    "#Log_Standartabwichung in der Musik Gruppe über alle 6 Messungen\n",
    "std_music_log = log_dm.std(axis=None, skipna=None, level=None, ddof=1, numeric_only=None)"
   ]
  },
  {
   "cell_type": "code",
   "execution_count": null,
   "metadata": {
    "scrolled": true
   },
   "outputs": [],
   "source": [
    "bins = 13\n",
    "dm.hist(column='Cortisol_in_nmolpro_l', color = 'b', bins = bins)\n",
    "plt.title(\"Cortisol Histogram (Musikgruppe)\")\n",
    "plt.xlabel(\"Cortisol (nmol/L)\")\n",
    "plt.ylabel(\"Häufigkeit\")\n",
    "plt.savefig('cortisol_musik')"
   ]
  },
  {
   "cell_type": "code",
   "execution_count": null,
   "metadata": {},
   "outputs": [],
   "source": [
    "bins = 13\n",
    "dw.hist(column='Cortisol_in_nmolpro_l', color = 'b', bins = bins)\n",
    "plt.title(\"Cortisol Histogram (Soundgruppe)\")\n",
    "plt.xlabel(\"Cortisol (nmol/L)\")\n",
    "plt.ylabel(\"Häufigkeit\")\n",
    "plt.savefig('cortisol_sound')"
   ]
  },
  {
   "cell_type": "code",
   "execution_count": null,
   "metadata": {},
   "outputs": [],
   "source": [
    "mean_music"
   ]
  },
  {
   "cell_type": "code",
   "execution_count": null,
   "metadata": {},
   "outputs": [],
   "source": [
    "from scipy.stats import norm\n",
    "import matplotlib.mlab as mlab\n",
    "import matplotlib.pyplot as plt\n",
    "\n",
    "bins_m = 13\n",
    "(mean_music_log, std_music_log) = norm.fit(log_dm)\n",
    "_, bins, _ = plt.hist(log_dm, normed = 1, color = '#42eff5', bins = bins_m)\n",
    "plt.title(\"logarithmische Darstellung (Musikgruppe)\")\n",
    "plt.xlabel(\"Cortisol (log_nmol/L)\")\n",
    "plt.ylabel(\"Häufigkeit\")\n",
    "plt.grid(True)\n",
    "gauss = mlab.normpdf(bins, mean_music_log, std_music_log)\n",
    "plt.plot(bins, gauss, 'r--', linewidth=2)\n",
    "plt.savefig('cortisol_musik_log')\n"
   ]
  },
  {
   "cell_type": "code",
   "execution_count": null,
   "metadata": {},
   "outputs": [],
   "source": [
    "bins_s = 13\n",
    "(mean_sound_log, std_sound_log) = norm.fit(log_dw)\n",
    "_, bins, _ = plt.hist(log_dw, normed = 1, color = '#42eff5', bins = bins_s)\n",
    "plt.title(\"logarithmische Darstellung (Soundgruppe)\")\n",
    "plt.xlabel(\"Cortisol (log_nmol/L)\")\n",
    "plt.ylabel(\"Häufigkeit\")\n",
    "plt.grid(True)\n",
    "y = mlab.normpdf(bins, mean_sound_log, std_sound_log)\n",
    "plt.plot(bins, y, 'r--', linewidth=2)\n",
    "plt.savefig('cortisol_sound_log')"
   ]
  },
  {
   "cell_type": "code",
   "execution_count": null,
   "metadata": {},
   "outputs": [],
   "source": [
    "#Test auf Normalverteilung der Daten in der Sound Gruppe\n",
    "import pingouin as pg \n",
    "pg.normality(dw)"
   ]
  },
  {
   "cell_type": "code",
   "execution_count": null,
   "metadata": {},
   "outputs": [],
   "source": [
    "#Test auf Normalverteilung der Daten in der Sound Gruppe\n",
    "import pingouin as pg \n",
    "pg.normality(dm)"
   ]
  },
  {
   "cell_type": "code",
   "execution_count": null,
   "metadata": {},
   "outputs": [],
   "source": [
    "#Test auf Normalverteilung der Daten in der Sound Gruppe (log Daten)\n",
    "import pingouin as pg \n",
    "pg.normality(log_dw)"
   ]
  },
  {
   "cell_type": "code",
   "execution_count": null,
   "metadata": {},
   "outputs": [],
   "source": [
    "#Test auf Normalverteilung der Daten in der Musik Gruppe (log Daten)\n",
    "import pingouin as pg \n",
    "pg.normality(log_dm)"
   ]
  },
  {
   "cell_type": "code",
   "execution_count": null,
   "metadata": {},
   "outputs": [],
   "source": [
    "mean_m_log=np.log(mean_m)\n",
    "print(np.log(mean_w))"
   ]
  },
  {
   "cell_type": "code",
   "execution_count": null,
   "metadata": {},
   "outputs": [],
   "source": [
    "mean_m_log = (1.6610,1.5451,1.8745,1.9591,1.8878,1.6359)\n",
    "mean_w_log = (1.7110,1.6538,1.6719,1.7702,1.6869,1.5533)\n",
    "stda_music_log = (0.48996,0.55569,0.70542,0.76953,0.78000,0.83529)\n",
    "stda_sound_log = (0.30950,0.49197,0.55005,0.67917,0.72360,0.67254)"
   ]
  },
  {
   "cell_type": "code",
   "execution_count": null,
   "metadata": {},
   "outputs": [],
   "source": [
    "#plot zwei Gruppen \n",
    "x_achse = [1,2,3,4,5,6]\n",
    "get_ipython().magic(u'matplotlib inline')\n",
    "fig, ax = plt.subplots()\n",
    "ax.plot(x_achse, mean_m_log, label='musik')\n",
    "ax.plot(x_achse, mean_w_log, label='sound')\n",
    "plt.xlabel('Messzeitpunkte')\n",
    "plt.ylabel('Cortisol nmol/L (log)')\n",
    "plt.title(\"Mittelwerte der Cortisol Messung\")\n",
    "plt.legend()\n",
    "plt.savefig('Mittelwerte der COrtisolmessung')"
   ]
  },
  {
   "cell_type": "code",
   "execution_count": null,
   "metadata": {},
   "outputs": [],
   "source": [
    "x_achse = [1,2,3,4,5,6]\n",
    "x1_achse = [1.07,2.07,3.07,4.07,5.07,6.07]\n",
    "fig, ax = plt.subplots()\n",
    "ax.errorbar(x_achse, mean_m_log, yerr=stda_music_log, fmt='-o', capsize=3, label='musik')\n",
    "ax.errorbar(x1_achse, mean_w_log, yerr=stda_sound_log, fmt='-^', capsize=3, label= 'sound')\n",
    "plt.xlabel('Messzeitpunkte')\n",
    "plt.ylabel('Cortisol nmol/L (log)')\n",
    "ax.set_title('Mittelwert und Standartabweichung')\n",
    "plt.legend()\n",
    "plt.savefig(\"mean_stda_baseline.png\")"
   ]
  },
  {
   "cell_type": "code",
   "execution_count": null,
   "metadata": {},
   "outputs": [],
   "source": [
    "import sklearn\n",
    "from sklearn import metrics\n",
    "y = np.array([1, 1, 2, 2])\n",
    "pred = np.array([0.1, 0.4, 0.35, 0.8])\n",
    "fpr, tpr, thresholds = metrics.roc_curve(y, pred, pos_label=2)\n",
    "metrics.auc(fpr, tpr)"
   ]
  },
  {
   "cell_type": "code",
   "execution_count": null,
   "metadata": {},
   "outputs": [],
   "source": [
    "import sys"
   ]
  },
  {
   "cell_type": "code",
   "execution_count": null,
   "metadata": {},
   "outputs": [],
   "source": [
    "vara_musik_log=np.log(vara_musik)"
   ]
  },
  {
   "cell_type": "code",
   "execution_count": null,
   "metadata": {},
   "outputs": [],
   "source": [
    "vara_sound_log=np.log(vara_sound)"
   ]
  }
 ],
 "metadata": {
  "kernelspec": {
   "display_name": "Python 3",
   "language": "python",
   "name": "python3"
  },
  "language_info": {
   "codemirror_mode": {
    "name": "ipython",
    "version": 3
   },
   "file_extension": ".py",
   "mimetype": "text/x-python",
   "name": "python",
   "nbconvert_exporter": "python",
   "pygments_lexer": "ipython3",
   "version": "3.6.7"
  }
 },
 "nbformat": 4,
 "nbformat_minor": 2
}
