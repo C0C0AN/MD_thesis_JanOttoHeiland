{
 "cells": [
  {
   "cell_type": "code",
   "execution_count": 203,
   "id": "9d816d70",
   "metadata": {},
   "outputs": [],
   "source": [
    "library(readr) # for importing the datafile\n",
    "library(afex) # for the anova\n",
    "library(tidyverse) # for restructuring it\n",
    "library(rstatix) # for testing assumptions\n",
    "library(ggpubr) # for graphical test of normality\n",
    "library(emmeans) # for post-hoc tests\n"
   ]
  },
  {
   "cell_type": "code",
   "execution_count": 204,
   "id": "ee30b49a",
   "metadata": {},
   "outputs": [
    {
     "data": {
      "text/html": [
       "<table class=\"dataframe\">\n",
       "<caption>A data.frame: 31825 × 11</caption>\n",
       "<thead>\n",
       "\t<tr><th scope=col>prob_nr</th><th scope=col>time_point</th><th scope=col>eda</th><th scope=col>age</th><th scope=col>sex</th><th scope=col>group</th><th scope=col>phase</th><th scope=col>trial_type</th><th scope=col>condition</th><th scope=col>repetition</th><th scope=col>run</th></tr>\n",
       "\t<tr><th scope=col>&lt;int&gt;</th><th scope=col>&lt;int&gt;</th><th scope=col>&lt;chr&gt;</th><th scope=col>&lt;dbl&gt;</th><th scope=col>&lt;chr&gt;</th><th scope=col>&lt;chr&gt;</th><th scope=col>&lt;int&gt;</th><th scope=col>&lt;chr&gt;</th><th scope=col>&lt;chr&gt;</th><th scope=col>&lt;int&gt;</th><th scope=col>&lt;int&gt;</th></tr>\n",
       "</thead>\n",
       "<tbody>\n",
       "\t<tr><td> 9</td><td>0</td><td>1.86e-05              </td><td>30</td><td>M</td><td>Sound</td><td>-1</td><td>pause</td><td>pause</td><td>0</td><td>1</td></tr>\n",
       "\t<tr><td>15</td><td>0</td><td>5.7000000000000005e-06</td><td>23</td><td>F</td><td>Sound</td><td>-1</td><td>pause</td><td>pause</td><td>0</td><td>1</td></tr>\n",
       "\t<tr><td>28</td><td>0</td><td>9.800000000000001e-06 </td><td>24</td><td>F</td><td>Musik</td><td>-1</td><td>pause</td><td>pause</td><td>0</td><td>1</td></tr>\n",
       "\t<tr><td>20</td><td>0</td><td>8.8e-06               </td><td>22</td><td>F</td><td>Sound</td><td>-1</td><td>pause</td><td>pause</td><td>0</td><td>1</td></tr>\n",
       "\t<tr><td>24</td><td>0</td><td>3.6000000000000003e-06</td><td>25</td><td>M</td><td>Musik</td><td>-1</td><td>pause</td><td>pause</td><td>0</td><td>1</td></tr>\n",
       "\t<tr><td>12</td><td>0</td><td>7.1e-06               </td><td>21</td><td>F</td><td>Sound</td><td>-1</td><td>pause</td><td>pause</td><td>0</td><td>1</td></tr>\n",
       "\t<tr><td>14</td><td>0</td><td>1.74e-05              </td><td>23</td><td>F</td><td>Musik</td><td>-1</td><td>pause</td><td>pause</td><td>0</td><td>1</td></tr>\n",
       "\t<tr><td>19</td><td>0</td><td>2.8800000000000002e-05</td><td>24</td><td>M</td><td>Musik</td><td>-1</td><td>pause</td><td>pause</td><td>0</td><td>1</td></tr>\n",
       "\t<tr><td> 3</td><td>0</td><td>1.98e-05              </td><td>23</td><td>M</td><td>Musik</td><td>-1</td><td>pause</td><td>pause</td><td>0</td><td>1</td></tr>\n",
       "\t<tr><td> 5</td><td>0</td><td>6.809999999999999e-05 </td><td>25</td><td>M</td><td>Musik</td><td>-1</td><td>pause</td><td>pause</td><td>0</td><td>1</td></tr>\n",
       "\t<tr><td>11</td><td>0</td><td>1.9399999999999997e-05</td><td>23</td><td>F</td><td>Musik</td><td>-1</td><td>pause</td><td>pause</td><td>0</td><td>1</td></tr>\n",
       "\t<tr><td>16</td><td>0</td><td>1.04e-05              </td><td>25</td><td>M</td><td>Musik</td><td>-1</td><td>pause</td><td>pause</td><td>0</td><td>1</td></tr>\n",
       "\t<tr><td>29</td><td>0</td><td>2.7600000000000003e-05</td><td>25</td><td>M</td><td>Musik</td><td>-1</td><td>pause</td><td>pause</td><td>0</td><td>1</td></tr>\n",
       "\t<tr><td>22</td><td>0</td><td>7.6e-06               </td><td>21</td><td>M</td><td>Sound</td><td>-1</td><td>pause</td><td>pause</td><td>0</td><td>1</td></tr>\n",
       "\t<tr><td>27</td><td>0</td><td>7.400000000000001e-06 </td><td>22</td><td>F</td><td>Musik</td><td>-1</td><td>pause</td><td>pause</td><td>0</td><td>1</td></tr>\n",
       "\t<tr><td>25</td><td>0</td><td>2.8899999999999998e-05</td><td>28</td><td>M</td><td>Sound</td><td>-1</td><td>pause</td><td>pause</td><td>0</td><td>1</td></tr>\n",
       "\t<tr><td>21</td><td>0</td><td>9.699999999999999e-06 </td><td>24</td><td>M</td><td>Sound</td><td>-1</td><td>pause</td><td>pause</td><td>0</td><td>1</td></tr>\n",
       "\t<tr><td>26</td><td>0</td><td>4.4e-06               </td><td>24</td><td>M</td><td>Musik</td><td>-1</td><td>pause</td><td>pause</td><td>0</td><td>1</td></tr>\n",
       "\t<tr><td>17</td><td>0</td><td>1.88e-05              </td><td>23</td><td>M</td><td>Sound</td><td>-1</td><td>pause</td><td>pause</td><td>0</td><td>1</td></tr>\n",
       "\t<tr><td> 2</td><td>0</td><td>1.62e-05              </td><td>26</td><td>F</td><td>Musik</td><td>-1</td><td>pause</td><td>pause</td><td>0</td><td>1</td></tr>\n",
       "\t<tr><td>13</td><td>0</td><td>2.02e-05              </td><td>22</td><td>F</td><td>Sound</td><td>-1</td><td>pause</td><td>pause</td><td>0</td><td>1</td></tr>\n",
       "\t<tr><td>23</td><td>0</td><td>2.1000000000000002e-06</td><td>23</td><td>F</td><td>Musik</td><td>-1</td><td>pause</td><td>pause</td><td>0</td><td>1</td></tr>\n",
       "\t<tr><td>21</td><td>1</td><td>9.699999999999999e-06 </td><td>24</td><td>M</td><td>Sound</td><td>-1</td><td>pause</td><td>pause</td><td>0</td><td>1</td></tr>\n",
       "\t<tr><td>24</td><td>1</td><td>3.6000000000000003e-06</td><td>25</td><td>M</td><td>Musik</td><td>-1</td><td>pause</td><td>pause</td><td>0</td><td>1</td></tr>\n",
       "\t<tr><td>23</td><td>1</td><td>2.1e-06               </td><td>23</td><td>F</td><td>Musik</td><td>-1</td><td>pause</td><td>pause</td><td>0</td><td>1</td></tr>\n",
       "\t<tr><td>12</td><td>1</td><td>7.1e-06               </td><td>21</td><td>F</td><td>Sound</td><td>-1</td><td>pause</td><td>pause</td><td>0</td><td>1</td></tr>\n",
       "\t<tr><td>14</td><td>1</td><td>1.7100000000000002e-05</td><td>23</td><td>F</td><td>Musik</td><td>-1</td><td>pause</td><td>pause</td><td>0</td><td>1</td></tr>\n",
       "\t<tr><td>11</td><td>1</td><td>1.9e-05               </td><td>23</td><td>F</td><td>Musik</td><td>-1</td><td>pause</td><td>pause</td><td>0</td><td>1</td></tr>\n",
       "\t<tr><td>19</td><td>1</td><td>2.8699999999999996e-05</td><td>24</td><td>M</td><td>Musik</td><td>-1</td><td>pause</td><td>pause</td><td>0</td><td>1</td></tr>\n",
       "\t<tr><td> 2</td><td>1</td><td>1.6100000000000002e-05</td><td>26</td><td>F</td><td>Musik</td><td>-1</td><td>pause</td><td>pause</td><td>0</td><td>1</td></tr>\n",
       "\t<tr><td>⋮</td><td>⋮</td><td>⋮</td><td>⋮</td><td>⋮</td><td>⋮</td><td>⋮</td><td>⋮</td><td>⋮</td><td>⋮</td><td>⋮</td></tr>\n",
       "\t<tr><td> 3</td><td>721</td><td>1.84e-05              </td><td>23</td><td>M</td><td>Musik</td><td>-1</td><td>pause</td><td>pause</td><td>0</td><td>2</td></tr>\n",
       "\t<tr><td>15</td><td>722</td><td>1.21e-05              </td><td>23</td><td>F</td><td>Sound</td><td>-1</td><td>pause</td><td>pause</td><td>0</td><td>2</td></tr>\n",
       "\t<tr><td> 3</td><td>722</td><td>1.84e-05              </td><td>23</td><td>M</td><td>Musik</td><td>-1</td><td>pause</td><td>pause</td><td>0</td><td>2</td></tr>\n",
       "\t<tr><td>20</td><td>722</td><td>7.6e-06               </td><td>22</td><td>F</td><td>Sound</td><td>-1</td><td>pause</td><td>pause</td><td>0</td><td>2</td></tr>\n",
       "\t<tr><td>13</td><td>722</td><td>1.47e-05              </td><td>22</td><td>F</td><td>Sound</td><td>-1</td><td>pause</td><td>pause</td><td>0</td><td>2</td></tr>\n",
       "\t<tr><td>14</td><td>722</td><td>1.4400000000000001e-05</td><td>23</td><td>F</td><td>Musik</td><td>-1</td><td>pause</td><td>pause</td><td>0</td><td>2</td></tr>\n",
       "\t<tr><td>12</td><td>722</td><td>9.9e-06               </td><td>21</td><td>F</td><td>Sound</td><td>-1</td><td>pause</td><td>pause</td><td>0</td><td>2</td></tr>\n",
       "\t<tr><td>17</td><td>722</td><td>1.59e-05              </td><td>23</td><td>M</td><td>Sound</td><td>-1</td><td>pause</td><td>pause</td><td>0</td><td>2</td></tr>\n",
       "\t<tr><td>11</td><td>722</td><td>1.59e-05              </td><td>23</td><td>F</td><td>Musik</td><td>-1</td><td>pause</td><td>pause</td><td>0</td><td>2</td></tr>\n",
       "\t<tr><td> 5</td><td>722</td><td>6.579999999999999e-05 </td><td>25</td><td>M</td><td>Musik</td><td>-1</td><td>pause</td><td>pause</td><td>0</td><td>2</td></tr>\n",
       "\t<tr><td>28</td><td>722</td><td>9.3e-06               </td><td>24</td><td>F</td><td>Musik</td><td>-1</td><td>pause</td><td>pause</td><td>0</td><td>2</td></tr>\n",
       "\t<tr><td>26</td><td>722</td><td>3.5000000000000004e-06</td><td>24</td><td>M</td><td>Musik</td><td>-1</td><td>pause</td><td>pause</td><td>0</td><td>2</td></tr>\n",
       "\t<tr><td>16</td><td>722</td><td>1.04e-05              </td><td>25</td><td>M</td><td>Musik</td><td>-1</td><td>pause</td><td>pause</td><td>0</td><td>2</td></tr>\n",
       "\t<tr><td> 9</td><td>722</td><td>1.59e-05              </td><td>30</td><td>M</td><td>Sound</td><td>-1</td><td>pause</td><td>pause</td><td>0</td><td>2</td></tr>\n",
       "\t<tr><td>25</td><td>722</td><td>3.14e-05              </td><td>28</td><td>M</td><td>Sound</td><td>-1</td><td>pause</td><td>pause</td><td>0</td><td>2</td></tr>\n",
       "\t<tr><td> 2</td><td>722</td><td>1.6e-05               </td><td>26</td><td>F</td><td>Musik</td><td>-1</td><td>pause</td><td>pause</td><td>0</td><td>2</td></tr>\n",
       "\t<tr><td>27</td><td>722</td><td>5.0999999999999995e-06</td><td>22</td><td>F</td><td>Musik</td><td>-1</td><td>pause</td><td>pause</td><td>0</td><td>2</td></tr>\n",
       "\t<tr><td>24</td><td>722</td><td>5.9e-06               </td><td>25</td><td>M</td><td>Musik</td><td>-1</td><td>pause</td><td>pause</td><td>0</td><td>2</td></tr>\n",
       "\t<tr><td>23</td><td>722</td><td>2.5e-06               </td><td>23</td><td>F</td><td>Musik</td><td>-1</td><td>pause</td><td>pause</td><td>0</td><td>2</td></tr>\n",
       "\t<tr><td>29</td><td>722</td><td>2.36e-05              </td><td>25</td><td>M</td><td>Musik</td><td>-1</td><td>pause</td><td>pause</td><td>0</td><td>2</td></tr>\n",
       "\t<tr><td>21</td><td>722</td><td>1.52e-05              </td><td>24</td><td>M</td><td>Sound</td><td>-1</td><td>pause</td><td>pause</td><td>0</td><td>2</td></tr>\n",
       "\t<tr><td>19</td><td>722</td><td>3.0799999999999996e-05</td><td>24</td><td>M</td><td>Musik</td><td>-1</td><td>pause</td><td>pause</td><td>0</td><td>2</td></tr>\n",
       "\t<tr><td>22</td><td>722</td><td>6.7e-06               </td><td>21</td><td>M</td><td>Sound</td><td>-1</td><td>pause</td><td>pause</td><td>0</td><td>2</td></tr>\n",
       "\t<tr><td>22</td><td>723</td><td>6.7e-06               </td><td>21</td><td>M</td><td>Sound</td><td>-1</td><td>pause</td><td>pause</td><td>0</td><td>2</td></tr>\n",
       "\t<tr><td>27</td><td>723</td><td>5.0999999999999995e-06</td><td>22</td><td>F</td><td>Musik</td><td>-1</td><td>pause</td><td>pause</td><td>0</td><td>2</td></tr>\n",
       "\t<tr><td>29</td><td>723</td><td>2.35e-05              </td><td>25</td><td>M</td><td>Musik</td><td>-1</td><td>pause</td><td>pause</td><td>0</td><td>2</td></tr>\n",
       "\t<tr><td>25</td><td>723</td><td>3.19e-05              </td><td>28</td><td>M</td><td>Sound</td><td>-1</td><td>pause</td><td>pause</td><td>0</td><td>2</td></tr>\n",
       "\t<tr><td>24</td><td>723</td><td>5.9e-06               </td><td>25</td><td>M</td><td>Musik</td><td>-1</td><td>pause</td><td>pause</td><td>0</td><td>2</td></tr>\n",
       "\t<tr><td>21</td><td>723</td><td>1.52e-05              </td><td>24</td><td>M</td><td>Sound</td><td>-1</td><td>pause</td><td>pause</td><td>0</td><td>2</td></tr>\n",
       "\t<tr><td>16</td><td>723</td><td>1.04e-05              </td><td>25</td><td>M</td><td>Musik</td><td>-1</td><td>pause</td><td>pause</td><td>0</td><td>2</td></tr>\n",
       "</tbody>\n",
       "</table>\n"
      ],
      "text/latex": [
       "A data.frame: 31825 × 11\n",
       "\\begin{tabular}{lllllllllll}\n",
       " prob\\_nr & time\\_point & eda & age & sex & group & phase & trial\\_type & condition & repetition & run\\\\\n",
       " <int> & <int> & <chr> & <dbl> & <chr> & <chr> & <int> & <chr> & <chr> & <int> & <int>\\\\\n",
       "\\hline\n",
       "\t  9 & 0 & 1.86e-05               & 30 & M & Sound & -1 & pause & pause & 0 & 1\\\\\n",
       "\t 15 & 0 & 5.7000000000000005e-06 & 23 & F & Sound & -1 & pause & pause & 0 & 1\\\\\n",
       "\t 28 & 0 & 9.800000000000001e-06  & 24 & F & Musik & -1 & pause & pause & 0 & 1\\\\\n",
       "\t 20 & 0 & 8.8e-06                & 22 & F & Sound & -1 & pause & pause & 0 & 1\\\\\n",
       "\t 24 & 0 & 3.6000000000000003e-06 & 25 & M & Musik & -1 & pause & pause & 0 & 1\\\\\n",
       "\t 12 & 0 & 7.1e-06                & 21 & F & Sound & -1 & pause & pause & 0 & 1\\\\\n",
       "\t 14 & 0 & 1.74e-05               & 23 & F & Musik & -1 & pause & pause & 0 & 1\\\\\n",
       "\t 19 & 0 & 2.8800000000000002e-05 & 24 & M & Musik & -1 & pause & pause & 0 & 1\\\\\n",
       "\t  3 & 0 & 1.98e-05               & 23 & M & Musik & -1 & pause & pause & 0 & 1\\\\\n",
       "\t  5 & 0 & 6.809999999999999e-05  & 25 & M & Musik & -1 & pause & pause & 0 & 1\\\\\n",
       "\t 11 & 0 & 1.9399999999999997e-05 & 23 & F & Musik & -1 & pause & pause & 0 & 1\\\\\n",
       "\t 16 & 0 & 1.04e-05               & 25 & M & Musik & -1 & pause & pause & 0 & 1\\\\\n",
       "\t 29 & 0 & 2.7600000000000003e-05 & 25 & M & Musik & -1 & pause & pause & 0 & 1\\\\\n",
       "\t 22 & 0 & 7.6e-06                & 21 & M & Sound & -1 & pause & pause & 0 & 1\\\\\n",
       "\t 27 & 0 & 7.400000000000001e-06  & 22 & F & Musik & -1 & pause & pause & 0 & 1\\\\\n",
       "\t 25 & 0 & 2.8899999999999998e-05 & 28 & M & Sound & -1 & pause & pause & 0 & 1\\\\\n",
       "\t 21 & 0 & 9.699999999999999e-06  & 24 & M & Sound & -1 & pause & pause & 0 & 1\\\\\n",
       "\t 26 & 0 & 4.4e-06                & 24 & M & Musik & -1 & pause & pause & 0 & 1\\\\\n",
       "\t 17 & 0 & 1.88e-05               & 23 & M & Sound & -1 & pause & pause & 0 & 1\\\\\n",
       "\t  2 & 0 & 1.62e-05               & 26 & F & Musik & -1 & pause & pause & 0 & 1\\\\\n",
       "\t 13 & 0 & 2.02e-05               & 22 & F & Sound & -1 & pause & pause & 0 & 1\\\\\n",
       "\t 23 & 0 & 2.1000000000000002e-06 & 23 & F & Musik & -1 & pause & pause & 0 & 1\\\\\n",
       "\t 21 & 1 & 9.699999999999999e-06  & 24 & M & Sound & -1 & pause & pause & 0 & 1\\\\\n",
       "\t 24 & 1 & 3.6000000000000003e-06 & 25 & M & Musik & -1 & pause & pause & 0 & 1\\\\\n",
       "\t 23 & 1 & 2.1e-06                & 23 & F & Musik & -1 & pause & pause & 0 & 1\\\\\n",
       "\t 12 & 1 & 7.1e-06                & 21 & F & Sound & -1 & pause & pause & 0 & 1\\\\\n",
       "\t 14 & 1 & 1.7100000000000002e-05 & 23 & F & Musik & -1 & pause & pause & 0 & 1\\\\\n",
       "\t 11 & 1 & 1.9e-05                & 23 & F & Musik & -1 & pause & pause & 0 & 1\\\\\n",
       "\t 19 & 1 & 2.8699999999999996e-05 & 24 & M & Musik & -1 & pause & pause & 0 & 1\\\\\n",
       "\t  2 & 1 & 1.6100000000000002e-05 & 26 & F & Musik & -1 & pause & pause & 0 & 1\\\\\n",
       "\t ⋮ & ⋮ & ⋮ & ⋮ & ⋮ & ⋮ & ⋮ & ⋮ & ⋮ & ⋮ & ⋮\\\\\n",
       "\t  3 & 721 & 1.84e-05               & 23 & M & Musik & -1 & pause & pause & 0 & 2\\\\\n",
       "\t 15 & 722 & 1.21e-05               & 23 & F & Sound & -1 & pause & pause & 0 & 2\\\\\n",
       "\t  3 & 722 & 1.84e-05               & 23 & M & Musik & -1 & pause & pause & 0 & 2\\\\\n",
       "\t 20 & 722 & 7.6e-06                & 22 & F & Sound & -1 & pause & pause & 0 & 2\\\\\n",
       "\t 13 & 722 & 1.47e-05               & 22 & F & Sound & -1 & pause & pause & 0 & 2\\\\\n",
       "\t 14 & 722 & 1.4400000000000001e-05 & 23 & F & Musik & -1 & pause & pause & 0 & 2\\\\\n",
       "\t 12 & 722 & 9.9e-06                & 21 & F & Sound & -1 & pause & pause & 0 & 2\\\\\n",
       "\t 17 & 722 & 1.59e-05               & 23 & M & Sound & -1 & pause & pause & 0 & 2\\\\\n",
       "\t 11 & 722 & 1.59e-05               & 23 & F & Musik & -1 & pause & pause & 0 & 2\\\\\n",
       "\t  5 & 722 & 6.579999999999999e-05  & 25 & M & Musik & -1 & pause & pause & 0 & 2\\\\\n",
       "\t 28 & 722 & 9.3e-06                & 24 & F & Musik & -1 & pause & pause & 0 & 2\\\\\n",
       "\t 26 & 722 & 3.5000000000000004e-06 & 24 & M & Musik & -1 & pause & pause & 0 & 2\\\\\n",
       "\t 16 & 722 & 1.04e-05               & 25 & M & Musik & -1 & pause & pause & 0 & 2\\\\\n",
       "\t  9 & 722 & 1.59e-05               & 30 & M & Sound & -1 & pause & pause & 0 & 2\\\\\n",
       "\t 25 & 722 & 3.14e-05               & 28 & M & Sound & -1 & pause & pause & 0 & 2\\\\\n",
       "\t  2 & 722 & 1.6e-05                & 26 & F & Musik & -1 & pause & pause & 0 & 2\\\\\n",
       "\t 27 & 722 & 5.0999999999999995e-06 & 22 & F & Musik & -1 & pause & pause & 0 & 2\\\\\n",
       "\t 24 & 722 & 5.9e-06                & 25 & M & Musik & -1 & pause & pause & 0 & 2\\\\\n",
       "\t 23 & 722 & 2.5e-06                & 23 & F & Musik & -1 & pause & pause & 0 & 2\\\\\n",
       "\t 29 & 722 & 2.36e-05               & 25 & M & Musik & -1 & pause & pause & 0 & 2\\\\\n",
       "\t 21 & 722 & 1.52e-05               & 24 & M & Sound & -1 & pause & pause & 0 & 2\\\\\n",
       "\t 19 & 722 & 3.0799999999999996e-05 & 24 & M & Musik & -1 & pause & pause & 0 & 2\\\\\n",
       "\t 22 & 722 & 6.7e-06                & 21 & M & Sound & -1 & pause & pause & 0 & 2\\\\\n",
       "\t 22 & 723 & 6.7e-06                & 21 & M & Sound & -1 & pause & pause & 0 & 2\\\\\n",
       "\t 27 & 723 & 5.0999999999999995e-06 & 22 & F & Musik & -1 & pause & pause & 0 & 2\\\\\n",
       "\t 29 & 723 & 2.35e-05               & 25 & M & Musik & -1 & pause & pause & 0 & 2\\\\\n",
       "\t 25 & 723 & 3.19e-05               & 28 & M & Sound & -1 & pause & pause & 0 & 2\\\\\n",
       "\t 24 & 723 & 5.9e-06                & 25 & M & Musik & -1 & pause & pause & 0 & 2\\\\\n",
       "\t 21 & 723 & 1.52e-05               & 24 & M & Sound & -1 & pause & pause & 0 & 2\\\\\n",
       "\t 16 & 723 & 1.04e-05               & 25 & M & Musik & -1 & pause & pause & 0 & 2\\\\\n",
       "\\end{tabular}\n"
      ],
      "text/markdown": [
       "\n",
       "A data.frame: 31825 × 11\n",
       "\n",
       "| prob_nr &lt;int&gt; | time_point &lt;int&gt; | eda &lt;chr&gt; | age &lt;dbl&gt; | sex &lt;chr&gt; | group &lt;chr&gt; | phase &lt;int&gt; | trial_type &lt;chr&gt; | condition &lt;chr&gt; | repetition &lt;int&gt; | run &lt;int&gt; |\n",
       "|---|---|---|---|---|---|---|---|---|---|---|\n",
       "|  9 | 0 | 1.86e-05               | 30 | M | Sound | -1 | pause | pause | 0 | 1 |\n",
       "| 15 | 0 | 5.7000000000000005e-06 | 23 | F | Sound | -1 | pause | pause | 0 | 1 |\n",
       "| 28 | 0 | 9.800000000000001e-06  | 24 | F | Musik | -1 | pause | pause | 0 | 1 |\n",
       "| 20 | 0 | 8.8e-06                | 22 | F | Sound | -1 | pause | pause | 0 | 1 |\n",
       "| 24 | 0 | 3.6000000000000003e-06 | 25 | M | Musik | -1 | pause | pause | 0 | 1 |\n",
       "| 12 | 0 | 7.1e-06                | 21 | F | Sound | -1 | pause | pause | 0 | 1 |\n",
       "| 14 | 0 | 1.74e-05               | 23 | F | Musik | -1 | pause | pause | 0 | 1 |\n",
       "| 19 | 0 | 2.8800000000000002e-05 | 24 | M | Musik | -1 | pause | pause | 0 | 1 |\n",
       "|  3 | 0 | 1.98e-05               | 23 | M | Musik | -1 | pause | pause | 0 | 1 |\n",
       "|  5 | 0 | 6.809999999999999e-05  | 25 | M | Musik | -1 | pause | pause | 0 | 1 |\n",
       "| 11 | 0 | 1.9399999999999997e-05 | 23 | F | Musik | -1 | pause | pause | 0 | 1 |\n",
       "| 16 | 0 | 1.04e-05               | 25 | M | Musik | -1 | pause | pause | 0 | 1 |\n",
       "| 29 | 0 | 2.7600000000000003e-05 | 25 | M | Musik | -1 | pause | pause | 0 | 1 |\n",
       "| 22 | 0 | 7.6e-06                | 21 | M | Sound | -1 | pause | pause | 0 | 1 |\n",
       "| 27 | 0 | 7.400000000000001e-06  | 22 | F | Musik | -1 | pause | pause | 0 | 1 |\n",
       "| 25 | 0 | 2.8899999999999998e-05 | 28 | M | Sound | -1 | pause | pause | 0 | 1 |\n",
       "| 21 | 0 | 9.699999999999999e-06  | 24 | M | Sound | -1 | pause | pause | 0 | 1 |\n",
       "| 26 | 0 | 4.4e-06                | 24 | M | Musik | -1 | pause | pause | 0 | 1 |\n",
       "| 17 | 0 | 1.88e-05               | 23 | M | Sound | -1 | pause | pause | 0 | 1 |\n",
       "|  2 | 0 | 1.62e-05               | 26 | F | Musik | -1 | pause | pause | 0 | 1 |\n",
       "| 13 | 0 | 2.02e-05               | 22 | F | Sound | -1 | pause | pause | 0 | 1 |\n",
       "| 23 | 0 | 2.1000000000000002e-06 | 23 | F | Musik | -1 | pause | pause | 0 | 1 |\n",
       "| 21 | 1 | 9.699999999999999e-06  | 24 | M | Sound | -1 | pause | pause | 0 | 1 |\n",
       "| 24 | 1 | 3.6000000000000003e-06 | 25 | M | Musik | -1 | pause | pause | 0 | 1 |\n",
       "| 23 | 1 | 2.1e-06                | 23 | F | Musik | -1 | pause | pause | 0 | 1 |\n",
       "| 12 | 1 | 7.1e-06                | 21 | F | Sound | -1 | pause | pause | 0 | 1 |\n",
       "| 14 | 1 | 1.7100000000000002e-05 | 23 | F | Musik | -1 | pause | pause | 0 | 1 |\n",
       "| 11 | 1 | 1.9e-05                | 23 | F | Musik | -1 | pause | pause | 0 | 1 |\n",
       "| 19 | 1 | 2.8699999999999996e-05 | 24 | M | Musik | -1 | pause | pause | 0 | 1 |\n",
       "|  2 | 1 | 1.6100000000000002e-05 | 26 | F | Musik | -1 | pause | pause | 0 | 1 |\n",
       "| ⋮ | ⋮ | ⋮ | ⋮ | ⋮ | ⋮ | ⋮ | ⋮ | ⋮ | ⋮ | ⋮ |\n",
       "|  3 | 721 | 1.84e-05               | 23 | M | Musik | -1 | pause | pause | 0 | 2 |\n",
       "| 15 | 722 | 1.21e-05               | 23 | F | Sound | -1 | pause | pause | 0 | 2 |\n",
       "|  3 | 722 | 1.84e-05               | 23 | M | Musik | -1 | pause | pause | 0 | 2 |\n",
       "| 20 | 722 | 7.6e-06                | 22 | F | Sound | -1 | pause | pause | 0 | 2 |\n",
       "| 13 | 722 | 1.47e-05               | 22 | F | Sound | -1 | pause | pause | 0 | 2 |\n",
       "| 14 | 722 | 1.4400000000000001e-05 | 23 | F | Musik | -1 | pause | pause | 0 | 2 |\n",
       "| 12 | 722 | 9.9e-06                | 21 | F | Sound | -1 | pause | pause | 0 | 2 |\n",
       "| 17 | 722 | 1.59e-05               | 23 | M | Sound | -1 | pause | pause | 0 | 2 |\n",
       "| 11 | 722 | 1.59e-05               | 23 | F | Musik | -1 | pause | pause | 0 | 2 |\n",
       "|  5 | 722 | 6.579999999999999e-05  | 25 | M | Musik | -1 | pause | pause | 0 | 2 |\n",
       "| 28 | 722 | 9.3e-06                | 24 | F | Musik | -1 | pause | pause | 0 | 2 |\n",
       "| 26 | 722 | 3.5000000000000004e-06 | 24 | M | Musik | -1 | pause | pause | 0 | 2 |\n",
       "| 16 | 722 | 1.04e-05               | 25 | M | Musik | -1 | pause | pause | 0 | 2 |\n",
       "|  9 | 722 | 1.59e-05               | 30 | M | Sound | -1 | pause | pause | 0 | 2 |\n",
       "| 25 | 722 | 3.14e-05               | 28 | M | Sound | -1 | pause | pause | 0 | 2 |\n",
       "|  2 | 722 | 1.6e-05                | 26 | F | Musik | -1 | pause | pause | 0 | 2 |\n",
       "| 27 | 722 | 5.0999999999999995e-06 | 22 | F | Musik | -1 | pause | pause | 0 | 2 |\n",
       "| 24 | 722 | 5.9e-06                | 25 | M | Musik | -1 | pause | pause | 0 | 2 |\n",
       "| 23 | 722 | 2.5e-06                | 23 | F | Musik | -1 | pause | pause | 0 | 2 |\n",
       "| 29 | 722 | 2.36e-05               | 25 | M | Musik | -1 | pause | pause | 0 | 2 |\n",
       "| 21 | 722 | 1.52e-05               | 24 | M | Sound | -1 | pause | pause | 0 | 2 |\n",
       "| 19 | 722 | 3.0799999999999996e-05 | 24 | M | Musik | -1 | pause | pause | 0 | 2 |\n",
       "| 22 | 722 | 6.7e-06                | 21 | M | Sound | -1 | pause | pause | 0 | 2 |\n",
       "| 22 | 723 | 6.7e-06                | 21 | M | Sound | -1 | pause | pause | 0 | 2 |\n",
       "| 27 | 723 | 5.0999999999999995e-06 | 22 | F | Musik | -1 | pause | pause | 0 | 2 |\n",
       "| 29 | 723 | 2.35e-05               | 25 | M | Musik | -1 | pause | pause | 0 | 2 |\n",
       "| 25 | 723 | 3.19e-05               | 28 | M | Sound | -1 | pause | pause | 0 | 2 |\n",
       "| 24 | 723 | 5.9e-06                | 25 | M | Musik | -1 | pause | pause | 0 | 2 |\n",
       "| 21 | 723 | 1.52e-05               | 24 | M | Sound | -1 | pause | pause | 0 | 2 |\n",
       "| 16 | 723 | 1.04e-05               | 25 | M | Musik | -1 | pause | pause | 0 | 2 |\n",
       "\n"
      ],
      "text/plain": [
       "      prob_nr time_point eda                    age sex group phase trial_type\n",
       "1      9      0          1.86e-05               30  M   Sound -1    pause     \n",
       "2     15      0          5.7000000000000005e-06 23  F   Sound -1    pause     \n",
       "3     28      0          9.800000000000001e-06  24  F   Musik -1    pause     \n",
       "4     20      0          8.8e-06                22  F   Sound -1    pause     \n",
       "5     24      0          3.6000000000000003e-06 25  M   Musik -1    pause     \n",
       "6     12      0          7.1e-06                21  F   Sound -1    pause     \n",
       "7     14      0          1.74e-05               23  F   Musik -1    pause     \n",
       "8     19      0          2.8800000000000002e-05 24  M   Musik -1    pause     \n",
       "9      3      0          1.98e-05               23  M   Musik -1    pause     \n",
       "10     5      0          6.809999999999999e-05  25  M   Musik -1    pause     \n",
       "11    11      0          1.9399999999999997e-05 23  F   Musik -1    pause     \n",
       "12    16      0          1.04e-05               25  M   Musik -1    pause     \n",
       "13    29      0          2.7600000000000003e-05 25  M   Musik -1    pause     \n",
       "14    22      0          7.6e-06                21  M   Sound -1    pause     \n",
       "15    27      0          7.400000000000001e-06  22  F   Musik -1    pause     \n",
       "16    25      0          2.8899999999999998e-05 28  M   Sound -1    pause     \n",
       "17    21      0          9.699999999999999e-06  24  M   Sound -1    pause     \n",
       "18    26      0          4.4e-06                24  M   Musik -1    pause     \n",
       "19    17      0          1.88e-05               23  M   Sound -1    pause     \n",
       "20     2      0          1.62e-05               26  F   Musik -1    pause     \n",
       "21    13      0          2.02e-05               22  F   Sound -1    pause     \n",
       "22    23      0          2.1000000000000002e-06 23  F   Musik -1    pause     \n",
       "23    21      1          9.699999999999999e-06  24  M   Sound -1    pause     \n",
       "24    24      1          3.6000000000000003e-06 25  M   Musik -1    pause     \n",
       "25    23      1          2.1e-06                23  F   Musik -1    pause     \n",
       "26    12      1          7.1e-06                21  F   Sound -1    pause     \n",
       "27    14      1          1.7100000000000002e-05 23  F   Musik -1    pause     \n",
       "28    11      1          1.9e-05                23  F   Musik -1    pause     \n",
       "29    19      1          2.8699999999999996e-05 24  M   Musik -1    pause     \n",
       "30     2      1          1.6100000000000002e-05 26  F   Musik -1    pause     \n",
       "⋮     ⋮       ⋮          ⋮                      ⋮   ⋮   ⋮     ⋮     ⋮         \n",
       "31796  3      721        1.84e-05               23  M   Musik -1    pause     \n",
       "31797 15      722        1.21e-05               23  F   Sound -1    pause     \n",
       "31798  3      722        1.84e-05               23  M   Musik -1    pause     \n",
       "31799 20      722        7.6e-06                22  F   Sound -1    pause     \n",
       "31800 13      722        1.47e-05               22  F   Sound -1    pause     \n",
       "31801 14      722        1.4400000000000001e-05 23  F   Musik -1    pause     \n",
       "31802 12      722        9.9e-06                21  F   Sound -1    pause     \n",
       "31803 17      722        1.59e-05               23  M   Sound -1    pause     \n",
       "31804 11      722        1.59e-05               23  F   Musik -1    pause     \n",
       "31805  5      722        6.579999999999999e-05  25  M   Musik -1    pause     \n",
       "31806 28      722        9.3e-06                24  F   Musik -1    pause     \n",
       "31807 26      722        3.5000000000000004e-06 24  M   Musik -1    pause     \n",
       "31808 16      722        1.04e-05               25  M   Musik -1    pause     \n",
       "31809  9      722        1.59e-05               30  M   Sound -1    pause     \n",
       "31810 25      722        3.14e-05               28  M   Sound -1    pause     \n",
       "31811  2      722        1.6e-05                26  F   Musik -1    pause     \n",
       "31812 27      722        5.0999999999999995e-06 22  F   Musik -1    pause     \n",
       "31813 24      722        5.9e-06                25  M   Musik -1    pause     \n",
       "31814 23      722        2.5e-06                23  F   Musik -1    pause     \n",
       "31815 29      722        2.36e-05               25  M   Musik -1    pause     \n",
       "31816 21      722        1.52e-05               24  M   Sound -1    pause     \n",
       "31817 19      722        3.0799999999999996e-05 24  M   Musik -1    pause     \n",
       "31818 22      722        6.7e-06                21  M   Sound -1    pause     \n",
       "31819 22      723        6.7e-06                21  M   Sound -1    pause     \n",
       "31820 27      723        5.0999999999999995e-06 22  F   Musik -1    pause     \n",
       "31821 29      723        2.35e-05               25  M   Musik -1    pause     \n",
       "31822 25      723        3.19e-05               28  M   Sound -1    pause     \n",
       "31823 24      723        5.9e-06                25  M   Musik -1    pause     \n",
       "31824 21      723        1.52e-05               24  M   Sound -1    pause     \n",
       "31825 16      723        1.04e-05               25  M   Musik -1    pause     \n",
       "      condition repetition run\n",
       "1     pause     0          1  \n",
       "2     pause     0          1  \n",
       "3     pause     0          1  \n",
       "4     pause     0          1  \n",
       "5     pause     0          1  \n",
       "6     pause     0          1  \n",
       "7     pause     0          1  \n",
       "8     pause     0          1  \n",
       "9     pause     0          1  \n",
       "10    pause     0          1  \n",
       "11    pause     0          1  \n",
       "12    pause     0          1  \n",
       "13    pause     0          1  \n",
       "14    pause     0          1  \n",
       "15    pause     0          1  \n",
       "16    pause     0          1  \n",
       "17    pause     0          1  \n",
       "18    pause     0          1  \n",
       "19    pause     0          1  \n",
       "20    pause     0          1  \n",
       "21    pause     0          1  \n",
       "22    pause     0          1  \n",
       "23    pause     0          1  \n",
       "24    pause     0          1  \n",
       "25    pause     0          1  \n",
       "26    pause     0          1  \n",
       "27    pause     0          1  \n",
       "28    pause     0          1  \n",
       "29    pause     0          1  \n",
       "30    pause     0          1  \n",
       "⋮     ⋮         ⋮          ⋮  \n",
       "31796 pause     0          2  \n",
       "31797 pause     0          2  \n",
       "31798 pause     0          2  \n",
       "31799 pause     0          2  \n",
       "31800 pause     0          2  \n",
       "31801 pause     0          2  \n",
       "31802 pause     0          2  \n",
       "31803 pause     0          2  \n",
       "31804 pause     0          2  \n",
       "31805 pause     0          2  \n",
       "31806 pause     0          2  \n",
       "31807 pause     0          2  \n",
       "31808 pause     0          2  \n",
       "31809 pause     0          2  \n",
       "31810 pause     0          2  \n",
       "31811 pause     0          2  \n",
       "31812 pause     0          2  \n",
       "31813 pause     0          2  \n",
       "31814 pause     0          2  \n",
       "31815 pause     0          2  \n",
       "31816 pause     0          2  \n",
       "31817 pause     0          2  \n",
       "31818 pause     0          2  \n",
       "31819 pause     0          2  \n",
       "31820 pause     0          2  \n",
       "31821 pause     0          2  \n",
       "31822 pause     0          2  \n",
       "31823 pause     0          2  \n",
       "31824 pause     0          2  \n",
       "31825 pause     0          2  "
      ]
     },
     "metadata": {},
     "output_type": "display_data"
    }
   ],
   "source": [
    "d_long <- read.csv(\"eda/eda_long_new_kombiniert.csv\", sep=\",\")\n",
    "names(d_long)[names(d_long) == \"puls\"] <- \"pulse\"\n",
    "d_long\n"
   ]
  },
  {
   "cell_type": "code",
   "execution_count": 205,
   "id": "004dd801",
   "metadata": {},
   "outputs": [
    {
     "name": "stderr",
     "output_type": "stream",
     "text": [
      "Warning message in eval(expr, envir, enclos):\n",
      "“NAs introduced by coercion”\n"
     ]
    }
   ],
   "source": [
    "d_long$type <- as.factor(d_long$trial_type)\n",
    "d_long$condition <- as.factor(d_long$condition)\n",
    "d_long$group <- as.factor(d_long$group)\n",
    "d_long$sex <- as.factor(d_long$sex)\n",
    "d_long$eda <- as.numeric(d_long$eda)\n",
    "d_long$time<- as.factor(paste(d_long$run, d_long$repetition, sep = \"_\"))\n",
    "\n",
    "# bad data structure. See what happens if I eliminate all rows that are \"pause\" in \"condition\"\n",
    "\n",
    "d_long_new <- d_long[d_long$condition != \"pause\", ] "
   ]
  },
  {
   "cell_type": "code",
   "execution_count": 206,
   "id": "df2660a7",
   "metadata": {},
   "outputs": [],
   "source": [
    "#round(eda)\n",
    "#apply(is.na(d_long_new), 2, which)"
   ]
  },
  {
   "cell_type": "code",
   "execution_count": 217,
   "id": "55f1948c",
   "metadata": {},
   "outputs": [
    {
     "data": {
      "text/html": [
       "<table class=\"dataframe\">\n",
       "<caption>A matrix: 701 × 2 of type int</caption>\n",
       "<thead>\n",
       "\t<tr><th></th><th scope=col>row</th><th scope=col>col</th></tr>\n",
       "</thead>\n",
       "<tbody>\n",
       "\t<tr><th scope=row>156</th><td>  25</td><td>1</td></tr>\n",
       "\t<tr><th scope=row>157</th><td>  26</td><td>3</td></tr>\n",
       "\t<tr><th scope=row>164</th><td>  33</td><td>3</td></tr>\n",
       "\t<tr><th scope=row>230</th><td>  99</td><td>3</td></tr>\n",
       "\t<tr><th scope=row>238</th><td> 107</td><td>3</td></tr>\n",
       "\t<tr><th scope=row>256</th><td> 125</td><td>3</td></tr>\n",
       "\t<tr><th scope=row>285</th><td> 154</td><td>3</td></tr>\n",
       "\t<tr><th scope=row>299</th><td> 168</td><td>3</td></tr>\n",
       "\t<tr><th scope=row>323</th><td> 192</td><td>3</td></tr>\n",
       "\t<tr><th scope=row>340</th><td> 209</td><td>3</td></tr>\n",
       "\t<tr><th scope=row>349</th><td> 218</td><td>3</td></tr>\n",
       "\t<tr><th scope=row>374</th><td> 243</td><td>3</td></tr>\n",
       "\t<tr><th scope=row>449</th><td> 318</td><td>3</td></tr>\n",
       "\t<tr><th scope=row>468</th><td> 337</td><td>3</td></tr>\n",
       "\t<tr><th scope=row>486</th><td> 355</td><td>3</td></tr>\n",
       "\t<tr><th scope=row>573</th><td> 442</td><td>3</td></tr>\n",
       "\t<tr><th scope=row>612</th><td> 481</td><td>3</td></tr>\n",
       "\t<tr><th scope=row>628</th><td> 497</td><td>3</td></tr>\n",
       "\t<tr><th scope=row>630</th><td> 499</td><td>3</td></tr>\n",
       "\t<tr><th scope=row>728</th><td> 597</td><td>3</td></tr>\n",
       "\t<tr><th scope=row>802</th><td> 671</td><td>3</td></tr>\n",
       "\t<tr><th scope=row>899</th><td> 768</td><td>3</td></tr>\n",
       "\t<tr><th scope=row>911</th><td> 780</td><td>3</td></tr>\n",
       "\t<tr><th scope=row>941</th><td> 810</td><td>3</td></tr>\n",
       "\t<tr><th scope=row>956</th><td> 825</td><td>3</td></tr>\n",
       "\t<tr><th scope=row>986</th><td> 855</td><td>3</td></tr>\n",
       "\t<tr><th scope=row>990</th><td> 859</td><td>3</td></tr>\n",
       "\t<tr><th scope=row>1024</th><td> 893</td><td>3</td></tr>\n",
       "\t<tr><th scope=row>1113</th><td> 982</td><td>3</td></tr>\n",
       "\t<tr><th scope=row>1131</th><td>1000</td><td>3</td></tr>\n",
       "\t<tr><th scope=row>⋮</th><td>⋮</td><td>⋮</td></tr>\n",
       "\t<tr><th scope=row>28932</th><td>19664</td><td>3</td></tr>\n",
       "\t<tr><th scope=row>29695</th><td>19811</td><td>3</td></tr>\n",
       "\t<tr><th scope=row>29763</th><td>19879</td><td>3</td></tr>\n",
       "\t<tr><th scope=row>29782</th><td>19898</td><td>3</td></tr>\n",
       "\t<tr><th scope=row>29799</th><td>19915</td><td>3</td></tr>\n",
       "\t<tr><th scope=row>29821</th><td>19937</td><td>3</td></tr>\n",
       "\t<tr><th scope=row>29863</th><td>19979</td><td>3</td></tr>\n",
       "\t<tr><th scope=row>29961</th><td>20077</td><td>3</td></tr>\n",
       "\t<tr><th scope=row>29968</th><td>20084</td><td>3</td></tr>\n",
       "\t<tr><th scope=row>29981</th><td>20097</td><td>3</td></tr>\n",
       "\t<tr><th scope=row>30012</th><td>20128</td><td>3</td></tr>\n",
       "\t<tr><th scope=row>30029</th><td>20145</td><td>3</td></tr>\n",
       "\t<tr><th scope=row>30043</th><td>20159</td><td>3</td></tr>\n",
       "\t<tr><th scope=row>30079</th><td>20195</td><td>3</td></tr>\n",
       "\t<tr><th scope=row>30090</th><td>20206</td><td>3</td></tr>\n",
       "\t<tr><th scope=row>30119</th><td>20235</td><td>3</td></tr>\n",
       "\t<tr><th scope=row>30199</th><td>20315</td><td>3</td></tr>\n",
       "\t<tr><th scope=row>30255</th><td>20371</td><td>3</td></tr>\n",
       "\t<tr><th scope=row>30272</th><td>20388</td><td>3</td></tr>\n",
       "\t<tr><th scope=row>30280</th><td>20396</td><td>3</td></tr>\n",
       "\t<tr><th scope=row>30289</th><td>20405</td><td>3</td></tr>\n",
       "\t<tr><th scope=row>30304</th><td>20420</td><td>3</td></tr>\n",
       "\t<tr><th scope=row>30320</th><td>20436</td><td>3</td></tr>\n",
       "\t<tr><th scope=row>30339</th><td>20455</td><td>3</td></tr>\n",
       "\t<tr><th scope=row>30651</th><td>20767</td><td>3</td></tr>\n",
       "\t<tr><th scope=row>30670</th><td>20786</td><td>3</td></tr>\n",
       "\t<tr><th scope=row>30696</th><td>20812</td><td>3</td></tr>\n",
       "\t<tr><th scope=row>30716</th><td>20832</td><td>3</td></tr>\n",
       "\t<tr><th scope=row>30735</th><td>20851</td><td>3</td></tr>\n",
       "\t<tr><th scope=row>30749</th><td>20865</td><td>3</td></tr>\n",
       "</tbody>\n",
       "</table>\n"
      ],
      "text/latex": [
       "A matrix: 701 × 2 of type int\n",
       "\\begin{tabular}{r|ll}\n",
       "  & row & col\\\\\n",
       "\\hline\n",
       "\t156 &   25 & 1\\\\\n",
       "\t157 &   26 & 3\\\\\n",
       "\t164 &   33 & 3\\\\\n",
       "\t230 &   99 & 3\\\\\n",
       "\t238 &  107 & 3\\\\\n",
       "\t256 &  125 & 3\\\\\n",
       "\t285 &  154 & 3\\\\\n",
       "\t299 &  168 & 3\\\\\n",
       "\t323 &  192 & 3\\\\\n",
       "\t340 &  209 & 3\\\\\n",
       "\t349 &  218 & 3\\\\\n",
       "\t374 &  243 & 3\\\\\n",
       "\t449 &  318 & 3\\\\\n",
       "\t468 &  337 & 3\\\\\n",
       "\t486 &  355 & 3\\\\\n",
       "\t573 &  442 & 3\\\\\n",
       "\t612 &  481 & 3\\\\\n",
       "\t628 &  497 & 3\\\\\n",
       "\t630 &  499 & 3\\\\\n",
       "\t728 &  597 & 3\\\\\n",
       "\t802 &  671 & 3\\\\\n",
       "\t899 &  768 & 3\\\\\n",
       "\t911 &  780 & 3\\\\\n",
       "\t941 &  810 & 3\\\\\n",
       "\t956 &  825 & 3\\\\\n",
       "\t986 &  855 & 3\\\\\n",
       "\t990 &  859 & 3\\\\\n",
       "\t1024 &  893 & 3\\\\\n",
       "\t1113 &  982 & 3\\\\\n",
       "\t1131 & 1000 & 3\\\\\n",
       "\t⋮ & ⋮ & ⋮\\\\\n",
       "\t28932 & 19664 & 3\\\\\n",
       "\t29695 & 19811 & 3\\\\\n",
       "\t29763 & 19879 & 3\\\\\n",
       "\t29782 & 19898 & 3\\\\\n",
       "\t29799 & 19915 & 3\\\\\n",
       "\t29821 & 19937 & 3\\\\\n",
       "\t29863 & 19979 & 3\\\\\n",
       "\t29961 & 20077 & 3\\\\\n",
       "\t29968 & 20084 & 3\\\\\n",
       "\t29981 & 20097 & 3\\\\\n",
       "\t30012 & 20128 & 3\\\\\n",
       "\t30029 & 20145 & 3\\\\\n",
       "\t30043 & 20159 & 3\\\\\n",
       "\t30079 & 20195 & 3\\\\\n",
       "\t30090 & 20206 & 3\\\\\n",
       "\t30119 & 20235 & 3\\\\\n",
       "\t30199 & 20315 & 3\\\\\n",
       "\t30255 & 20371 & 3\\\\\n",
       "\t30272 & 20388 & 3\\\\\n",
       "\t30280 & 20396 & 3\\\\\n",
       "\t30289 & 20405 & 3\\\\\n",
       "\t30304 & 20420 & 3\\\\\n",
       "\t30320 & 20436 & 3\\\\\n",
       "\t30339 & 20455 & 3\\\\\n",
       "\t30651 & 20767 & 3\\\\\n",
       "\t30670 & 20786 & 3\\\\\n",
       "\t30696 & 20812 & 3\\\\\n",
       "\t30716 & 20832 & 3\\\\\n",
       "\t30735 & 20851 & 3\\\\\n",
       "\t30749 & 20865 & 3\\\\\n",
       "\\end{tabular}\n"
      ],
      "text/markdown": [
       "\n",
       "A matrix: 701 × 2 of type int\n",
       "\n",
       "| <!--/--> | row | col |\n",
       "|---|---|---|\n",
       "| 156 |   25 | 1 |\n",
       "| 157 |   26 | 3 |\n",
       "| 164 |   33 | 3 |\n",
       "| 230 |   99 | 3 |\n",
       "| 238 |  107 | 3 |\n",
       "| 256 |  125 | 3 |\n",
       "| 285 |  154 | 3 |\n",
       "| 299 |  168 | 3 |\n",
       "| 323 |  192 | 3 |\n",
       "| 340 |  209 | 3 |\n",
       "| 349 |  218 | 3 |\n",
       "| 374 |  243 | 3 |\n",
       "| 449 |  318 | 3 |\n",
       "| 468 |  337 | 3 |\n",
       "| 486 |  355 | 3 |\n",
       "| 573 |  442 | 3 |\n",
       "| 612 |  481 | 3 |\n",
       "| 628 |  497 | 3 |\n",
       "| 630 |  499 | 3 |\n",
       "| 728 |  597 | 3 |\n",
       "| 802 |  671 | 3 |\n",
       "| 899 |  768 | 3 |\n",
       "| 911 |  780 | 3 |\n",
       "| 941 |  810 | 3 |\n",
       "| 956 |  825 | 3 |\n",
       "| 986 |  855 | 3 |\n",
       "| 990 |  859 | 3 |\n",
       "| 1024 |  893 | 3 |\n",
       "| 1113 |  982 | 3 |\n",
       "| 1131 | 1000 | 3 |\n",
       "| ⋮ | ⋮ | ⋮ |\n",
       "| 28932 | 19664 | 3 |\n",
       "| 29695 | 19811 | 3 |\n",
       "| 29763 | 19879 | 3 |\n",
       "| 29782 | 19898 | 3 |\n",
       "| 29799 | 19915 | 3 |\n",
       "| 29821 | 19937 | 3 |\n",
       "| 29863 | 19979 | 3 |\n",
       "| 29961 | 20077 | 3 |\n",
       "| 29968 | 20084 | 3 |\n",
       "| 29981 | 20097 | 3 |\n",
       "| 30012 | 20128 | 3 |\n",
       "| 30029 | 20145 | 3 |\n",
       "| 30043 | 20159 | 3 |\n",
       "| 30079 | 20195 | 3 |\n",
       "| 30090 | 20206 | 3 |\n",
       "| 30119 | 20235 | 3 |\n",
       "| 30199 | 20315 | 3 |\n",
       "| 30255 | 20371 | 3 |\n",
       "| 30272 | 20388 | 3 |\n",
       "| 30280 | 20396 | 3 |\n",
       "| 30289 | 20405 | 3 |\n",
       "| 30304 | 20420 | 3 |\n",
       "| 30320 | 20436 | 3 |\n",
       "| 30339 | 20455 | 3 |\n",
       "| 30651 | 20767 | 3 |\n",
       "| 30670 | 20786 | 3 |\n",
       "| 30696 | 20812 | 3 |\n",
       "| 30716 | 20832 | 3 |\n",
       "| 30735 | 20851 | 3 |\n",
       "| 30749 | 20865 | 3 |\n",
       "\n"
      ],
      "text/plain": [
       "      row   col\n",
       "156     25  1  \n",
       "157     26  3  \n",
       "164     33  3  \n",
       "230     99  3  \n",
       "238    107  3  \n",
       "256    125  3  \n",
       "285    154  3  \n",
       "299    168  3  \n",
       "323    192  3  \n",
       "340    209  3  \n",
       "349    218  3  \n",
       "374    243  3  \n",
       "449    318  3  \n",
       "468    337  3  \n",
       "486    355  3  \n",
       "573    442  3  \n",
       "612    481  3  \n",
       "628    497  3  \n",
       "630    499  3  \n",
       "728    597  3  \n",
       "802    671  3  \n",
       "899    768  3  \n",
       "911    780  3  \n",
       "941    810  3  \n",
       "956    825  3  \n",
       "986    855  3  \n",
       "990    859  3  \n",
       "1024   893  3  \n",
       "1113   982  3  \n",
       "1131  1000  3  \n",
       "⋮     ⋮     ⋮  \n",
       "28932 19664 3  \n",
       "29695 19811 3  \n",
       "29763 19879 3  \n",
       "29782 19898 3  \n",
       "29799 19915 3  \n",
       "29821 19937 3  \n",
       "29863 19979 3  \n",
       "29961 20077 3  \n",
       "29968 20084 3  \n",
       "29981 20097 3  \n",
       "30012 20128 3  \n",
       "30029 20145 3  \n",
       "30043 20159 3  \n",
       "30079 20195 3  \n",
       "30090 20206 3  \n",
       "30119 20235 3  \n",
       "30199 20315 3  \n",
       "30255 20371 3  \n",
       "30272 20388 3  \n",
       "30280 20396 3  \n",
       "30289 20405 3  \n",
       "30304 20420 3  \n",
       "30320 20436 3  \n",
       "30339 20455 3  \n",
       "30651 20767 3  \n",
       "30670 20786 3  \n",
       "30696 20812 3  \n",
       "30716 20832 3  \n",
       "30735 20851 3  \n",
       "30749 20865 3  "
      ]
     },
     "metadata": {},
     "output_type": "display_data"
    }
   ],
   "source": [
    "which(is.na(d_long_new), arr.ind = TRUE)\n",
    "d_long_new = na.omit(d_long_new)"
   ]
  },
  {
   "cell_type": "code",
   "execution_count": 218,
   "id": "ac6e1d1d",
   "metadata": {},
   "outputs": [
    {
     "data": {
      "text/plain": [
       "    prob_nr        time_point         eda                 age        sex      \n",
       " Min.   : 2.00   Min.   :  6.0   Min.   :2.100e-06   Min.   :21.00   F: 9213  \n",
       " 1st Qu.:12.00   1st Qu.:182.0   1st Qu.:7.800e-06   1st Qu.:23.00   M:11118  \n",
       " Median :17.00   Median :329.0   Median :1.550e-05   Median :23.00            \n",
       " Mean   :17.23   Mean   :344.2   Mean   :1.693e-05   Mean   :23.92            \n",
       " 3rd Qu.:24.00   3rd Qu.:535.0   3rd Qu.:1.970e-05   3rd Qu.:25.00            \n",
       " Max.   :29.00   Max.   :681.0   Max.   :7.220e-05   Max.   :30.00            \n",
       "   group           phase        trial_type         condition    \n",
       " Musik:11882   Min.   :0.000   Length:20331       pause :    0  \n",
       " Sound: 8449   1st Qu.:2.000   Class :character   relax :10165  \n",
       "               Median :3.000   Mode  :character   stress:10166  \n",
       "               Mean   :3.509                                    \n",
       "               3rd Qu.:6.000                                    \n",
       "               Max.   :7.000                                    \n",
       "   repetition         run            type        time     \n",
       " Min.   :1.000   Min.   :1.0   math    :10218   1_0:   0  \n",
       " 1st Qu.:1.000   1st Qu.:1.0   pause   :    0   1_1:5091  \n",
       " Median :1.000   Median :2.0   rotation:10113   1_2:5074  \n",
       " Mean   :1.499   Mean   :1.5                    2_0:   0  \n",
       " 3rd Qu.:2.000   3rd Qu.:2.0                    2_1:5092  \n",
       " Max.   :2.000   Max.   :2.0                    2_2:5074  "
      ]
     },
     "metadata": {},
     "output_type": "display_data"
    }
   ],
   "source": [
    "summary(d_long_new)"
   ]
  },
  {
   "cell_type": "code",
   "execution_count": 191,
   "id": "7b0cae2c",
   "metadata": {},
   "outputs": [],
   "source": [
    "# our four factors are:\n",
    "# music vs sound (d_long$group, btw)\n",
    "# stress vs relaxation (d_long$type, wth)\n",
    "# maths vs rotation (d_long$condition, wth)\n",
    "# run + repetition within run (d_long$time, wth)\n",
    "# \n",
    "# covariates are:\n",
    "# age (d_long$age, btw)\n",
    "# gender (d_long$sex, btw)"
   ]
  },
  {
   "cell_type": "markdown",
   "id": "1ed66384",
   "metadata": {},
   "source": [
    "Test assumptions"
   ]
  },
  {
   "cell_type": "code",
   "execution_count": 219,
   "id": "e294c67f",
   "metadata": {
    "scrolled": true
   },
   "outputs": [
    {
     "data": {
      "text/html": [
       "<table class=\"dataframe\">\n",
       "<caption>A tibble: 32 × 7</caption>\n",
       "<thead>\n",
       "\t<tr><th scope=col>group</th><th scope=col>condition</th><th scope=col>type</th><th scope=col>time</th><th scope=col>variable</th><th scope=col>statistic</th><th scope=col>p</th></tr>\n",
       "\t<tr><th scope=col>&lt;fct&gt;</th><th scope=col>&lt;fct&gt;</th><th scope=col>&lt;fct&gt;</th><th scope=col>&lt;fct&gt;</th><th scope=col>&lt;chr&gt;</th><th scope=col>&lt;dbl&gt;</th><th scope=col>&lt;dbl&gt;</th></tr>\n",
       "</thead>\n",
       "<tbody>\n",
       "\t<tr><td>Musik</td><td>relax </td><td>math    </td><td>1_1</td><td>eda</td><td>0.7545841</td><td>1.497510e-31</td></tr>\n",
       "\t<tr><td>Sound</td><td>relax </td><td>math    </td><td>1_1</td><td>eda</td><td>0.8362742</td><td>4.730985e-23</td></tr>\n",
       "\t<tr><td>Musik</td><td>stress</td><td>math    </td><td>1_1</td><td>eda</td><td>0.7772391</td><td>1.346264e-30</td></tr>\n",
       "\t<tr><td>Sound</td><td>stress</td><td>math    </td><td>1_1</td><td>eda</td><td>0.9083926</td><td>2.089074e-17</td></tr>\n",
       "\t<tr><td>Musik</td><td>relax </td><td>rotation</td><td>1_1</td><td>eda</td><td>0.7598363</td><td>1.178780e-31</td></tr>\n",
       "\t<tr><td>Sound</td><td>relax </td><td>rotation</td><td>1_1</td><td>eda</td><td>0.8656462</td><td>1.524941e-20</td></tr>\n",
       "\t<tr><td>Musik</td><td>stress</td><td>rotation</td><td>1_1</td><td>eda</td><td>0.7687465</td><td>5.082465e-31</td></tr>\n",
       "\t<tr><td>Sound</td><td>stress</td><td>rotation</td><td>1_1</td><td>eda</td><td>0.8704858</td><td>8.383085e-21</td></tr>\n",
       "\t<tr><td>Musik</td><td>relax </td><td>math    </td><td>1_2</td><td>eda</td><td>0.7544967</td><td>6.260891e-32</td></tr>\n",
       "\t<tr><td>Sound</td><td>relax </td><td>math    </td><td>1_2</td><td>eda</td><td>0.8319139</td><td>5.011102e-23</td></tr>\n",
       "\t<tr><td>Musik</td><td>stress</td><td>math    </td><td>1_2</td><td>eda</td><td>0.7413667</td><td>1.382165e-32</td></tr>\n",
       "\t<tr><td>Sound</td><td>stress</td><td>math    </td><td>1_2</td><td>eda</td><td>0.8622537</td><td>2.250803e-21</td></tr>\n",
       "\t<tr><td>Musik</td><td>relax </td><td>rotation</td><td>1_2</td><td>eda</td><td>0.7549884</td><td>1.639674e-31</td></tr>\n",
       "\t<tr><td>Sound</td><td>relax </td><td>rotation</td><td>1_2</td><td>eda</td><td>0.8605663</td><td>1.067030e-20</td></tr>\n",
       "\t<tr><td>Musik</td><td>stress</td><td>rotation</td><td>1_2</td><td>eda</td><td>0.7489489</td><td>5.051061e-32</td></tr>\n",
       "\t<tr><td>Sound</td><td>stress</td><td>rotation</td><td>1_2</td><td>eda</td><td>0.8574239</td><td>1.114919e-21</td></tr>\n",
       "\t<tr><td>Musik</td><td>relax </td><td>math    </td><td>2_1</td><td>eda</td><td>0.7772391</td><td>1.346264e-30</td></tr>\n",
       "\t<tr><td>Sound</td><td>relax </td><td>math    </td><td>2_1</td><td>eda</td><td>0.9083926</td><td>2.089074e-17</td></tr>\n",
       "\t<tr><td>Musik</td><td>stress</td><td>math    </td><td>2_1</td><td>eda</td><td>0.7545841</td><td>1.497510e-31</td></tr>\n",
       "\t<tr><td>Sound</td><td>stress</td><td>math    </td><td>2_1</td><td>eda</td><td>0.8362742</td><td>4.730985e-23</td></tr>\n",
       "\t<tr><td>Musik</td><td>relax </td><td>rotation</td><td>2_1</td><td>eda</td><td>0.7687465</td><td>5.082465e-31</td></tr>\n",
       "\t<tr><td>Sound</td><td>relax </td><td>rotation</td><td>2_1</td><td>eda</td><td>0.8704858</td><td>8.383085e-21</td></tr>\n",
       "\t<tr><td>Musik</td><td>stress</td><td>rotation</td><td>2_1</td><td>eda</td><td>0.7598363</td><td>1.178780e-31</td></tr>\n",
       "\t<tr><td>Sound</td><td>stress</td><td>rotation</td><td>2_1</td><td>eda</td><td>0.8652626</td><td>1.364571e-20</td></tr>\n",
       "\t<tr><td>Musik</td><td>relax </td><td>math    </td><td>2_2</td><td>eda</td><td>0.7413667</td><td>1.382165e-32</td></tr>\n",
       "\t<tr><td>Sound</td><td>relax </td><td>math    </td><td>2_2</td><td>eda</td><td>0.8622537</td><td>2.250803e-21</td></tr>\n",
       "\t<tr><td>Musik</td><td>stress</td><td>math    </td><td>2_2</td><td>eda</td><td>0.7544967</td><td>6.260891e-32</td></tr>\n",
       "\t<tr><td>Sound</td><td>stress</td><td>math    </td><td>2_2</td><td>eda</td><td>0.8319139</td><td>5.011102e-23</td></tr>\n",
       "\t<tr><td>Musik</td><td>relax </td><td>rotation</td><td>2_2</td><td>eda</td><td>0.7489489</td><td>5.051061e-32</td></tr>\n",
       "\t<tr><td>Sound</td><td>relax </td><td>rotation</td><td>2_2</td><td>eda</td><td>0.8574239</td><td>1.114919e-21</td></tr>\n",
       "\t<tr><td>Musik</td><td>stress</td><td>rotation</td><td>2_2</td><td>eda</td><td>0.7549884</td><td>1.639674e-31</td></tr>\n",
       "\t<tr><td>Sound</td><td>stress</td><td>rotation</td><td>2_2</td><td>eda</td><td>0.8605663</td><td>1.067030e-20</td></tr>\n",
       "</tbody>\n",
       "</table>\n"
      ],
      "text/latex": [
       "A tibble: 32 × 7\n",
       "\\begin{tabular}{lllllll}\n",
       " group & condition & type & time & variable & statistic & p\\\\\n",
       " <fct> & <fct> & <fct> & <fct> & <chr> & <dbl> & <dbl>\\\\\n",
       "\\hline\n",
       "\t Musik & relax  & math     & 1\\_1 & eda & 0.7545841 & 1.497510e-31\\\\\n",
       "\t Sound & relax  & math     & 1\\_1 & eda & 0.8362742 & 4.730985e-23\\\\\n",
       "\t Musik & stress & math     & 1\\_1 & eda & 0.7772391 & 1.346264e-30\\\\\n",
       "\t Sound & stress & math     & 1\\_1 & eda & 0.9083926 & 2.089074e-17\\\\\n",
       "\t Musik & relax  & rotation & 1\\_1 & eda & 0.7598363 & 1.178780e-31\\\\\n",
       "\t Sound & relax  & rotation & 1\\_1 & eda & 0.8656462 & 1.524941e-20\\\\\n",
       "\t Musik & stress & rotation & 1\\_1 & eda & 0.7687465 & 5.082465e-31\\\\\n",
       "\t Sound & stress & rotation & 1\\_1 & eda & 0.8704858 & 8.383085e-21\\\\\n",
       "\t Musik & relax  & math     & 1\\_2 & eda & 0.7544967 & 6.260891e-32\\\\\n",
       "\t Sound & relax  & math     & 1\\_2 & eda & 0.8319139 & 5.011102e-23\\\\\n",
       "\t Musik & stress & math     & 1\\_2 & eda & 0.7413667 & 1.382165e-32\\\\\n",
       "\t Sound & stress & math     & 1\\_2 & eda & 0.8622537 & 2.250803e-21\\\\\n",
       "\t Musik & relax  & rotation & 1\\_2 & eda & 0.7549884 & 1.639674e-31\\\\\n",
       "\t Sound & relax  & rotation & 1\\_2 & eda & 0.8605663 & 1.067030e-20\\\\\n",
       "\t Musik & stress & rotation & 1\\_2 & eda & 0.7489489 & 5.051061e-32\\\\\n",
       "\t Sound & stress & rotation & 1\\_2 & eda & 0.8574239 & 1.114919e-21\\\\\n",
       "\t Musik & relax  & math     & 2\\_1 & eda & 0.7772391 & 1.346264e-30\\\\\n",
       "\t Sound & relax  & math     & 2\\_1 & eda & 0.9083926 & 2.089074e-17\\\\\n",
       "\t Musik & stress & math     & 2\\_1 & eda & 0.7545841 & 1.497510e-31\\\\\n",
       "\t Sound & stress & math     & 2\\_1 & eda & 0.8362742 & 4.730985e-23\\\\\n",
       "\t Musik & relax  & rotation & 2\\_1 & eda & 0.7687465 & 5.082465e-31\\\\\n",
       "\t Sound & relax  & rotation & 2\\_1 & eda & 0.8704858 & 8.383085e-21\\\\\n",
       "\t Musik & stress & rotation & 2\\_1 & eda & 0.7598363 & 1.178780e-31\\\\\n",
       "\t Sound & stress & rotation & 2\\_1 & eda & 0.8652626 & 1.364571e-20\\\\\n",
       "\t Musik & relax  & math     & 2\\_2 & eda & 0.7413667 & 1.382165e-32\\\\\n",
       "\t Sound & relax  & math     & 2\\_2 & eda & 0.8622537 & 2.250803e-21\\\\\n",
       "\t Musik & stress & math     & 2\\_2 & eda & 0.7544967 & 6.260891e-32\\\\\n",
       "\t Sound & stress & math     & 2\\_2 & eda & 0.8319139 & 5.011102e-23\\\\\n",
       "\t Musik & relax  & rotation & 2\\_2 & eda & 0.7489489 & 5.051061e-32\\\\\n",
       "\t Sound & relax  & rotation & 2\\_2 & eda & 0.8574239 & 1.114919e-21\\\\\n",
       "\t Musik & stress & rotation & 2\\_2 & eda & 0.7549884 & 1.639674e-31\\\\\n",
       "\t Sound & stress & rotation & 2\\_2 & eda & 0.8605663 & 1.067030e-20\\\\\n",
       "\\end{tabular}\n"
      ],
      "text/markdown": [
       "\n",
       "A tibble: 32 × 7\n",
       "\n",
       "| group &lt;fct&gt; | condition &lt;fct&gt; | type &lt;fct&gt; | time &lt;fct&gt; | variable &lt;chr&gt; | statistic &lt;dbl&gt; | p &lt;dbl&gt; |\n",
       "|---|---|---|---|---|---|---|\n",
       "| Musik | relax  | math     | 1_1 | eda | 0.7545841 | 1.497510e-31 |\n",
       "| Sound | relax  | math     | 1_1 | eda | 0.8362742 | 4.730985e-23 |\n",
       "| Musik | stress | math     | 1_1 | eda | 0.7772391 | 1.346264e-30 |\n",
       "| Sound | stress | math     | 1_1 | eda | 0.9083926 | 2.089074e-17 |\n",
       "| Musik | relax  | rotation | 1_1 | eda | 0.7598363 | 1.178780e-31 |\n",
       "| Sound | relax  | rotation | 1_1 | eda | 0.8656462 | 1.524941e-20 |\n",
       "| Musik | stress | rotation | 1_1 | eda | 0.7687465 | 5.082465e-31 |\n",
       "| Sound | stress | rotation | 1_1 | eda | 0.8704858 | 8.383085e-21 |\n",
       "| Musik | relax  | math     | 1_2 | eda | 0.7544967 | 6.260891e-32 |\n",
       "| Sound | relax  | math     | 1_2 | eda | 0.8319139 | 5.011102e-23 |\n",
       "| Musik | stress | math     | 1_2 | eda | 0.7413667 | 1.382165e-32 |\n",
       "| Sound | stress | math     | 1_2 | eda | 0.8622537 | 2.250803e-21 |\n",
       "| Musik | relax  | rotation | 1_2 | eda | 0.7549884 | 1.639674e-31 |\n",
       "| Sound | relax  | rotation | 1_2 | eda | 0.8605663 | 1.067030e-20 |\n",
       "| Musik | stress | rotation | 1_2 | eda | 0.7489489 | 5.051061e-32 |\n",
       "| Sound | stress | rotation | 1_2 | eda | 0.8574239 | 1.114919e-21 |\n",
       "| Musik | relax  | math     | 2_1 | eda | 0.7772391 | 1.346264e-30 |\n",
       "| Sound | relax  | math     | 2_1 | eda | 0.9083926 | 2.089074e-17 |\n",
       "| Musik | stress | math     | 2_1 | eda | 0.7545841 | 1.497510e-31 |\n",
       "| Sound | stress | math     | 2_1 | eda | 0.8362742 | 4.730985e-23 |\n",
       "| Musik | relax  | rotation | 2_1 | eda | 0.7687465 | 5.082465e-31 |\n",
       "| Sound | relax  | rotation | 2_1 | eda | 0.8704858 | 8.383085e-21 |\n",
       "| Musik | stress | rotation | 2_1 | eda | 0.7598363 | 1.178780e-31 |\n",
       "| Sound | stress | rotation | 2_1 | eda | 0.8652626 | 1.364571e-20 |\n",
       "| Musik | relax  | math     | 2_2 | eda | 0.7413667 | 1.382165e-32 |\n",
       "| Sound | relax  | math     | 2_2 | eda | 0.8622537 | 2.250803e-21 |\n",
       "| Musik | stress | math     | 2_2 | eda | 0.7544967 | 6.260891e-32 |\n",
       "| Sound | stress | math     | 2_2 | eda | 0.8319139 | 5.011102e-23 |\n",
       "| Musik | relax  | rotation | 2_2 | eda | 0.7489489 | 5.051061e-32 |\n",
       "| Sound | relax  | rotation | 2_2 | eda | 0.8574239 | 1.114919e-21 |\n",
       "| Musik | stress | rotation | 2_2 | eda | 0.7549884 | 1.639674e-31 |\n",
       "| Sound | stress | rotation | 2_2 | eda | 0.8605663 | 1.067030e-20 |\n",
       "\n"
      ],
      "text/plain": [
       "   group condition type     time variable statistic p           \n",
       "1  Musik relax     math     1_1  eda      0.7545841 1.497510e-31\n",
       "2  Sound relax     math     1_1  eda      0.8362742 4.730985e-23\n",
       "3  Musik stress    math     1_1  eda      0.7772391 1.346264e-30\n",
       "4  Sound stress    math     1_1  eda      0.9083926 2.089074e-17\n",
       "5  Musik relax     rotation 1_1  eda      0.7598363 1.178780e-31\n",
       "6  Sound relax     rotation 1_1  eda      0.8656462 1.524941e-20\n",
       "7  Musik stress    rotation 1_1  eda      0.7687465 5.082465e-31\n",
       "8  Sound stress    rotation 1_1  eda      0.8704858 8.383085e-21\n",
       "9  Musik relax     math     1_2  eda      0.7544967 6.260891e-32\n",
       "10 Sound relax     math     1_2  eda      0.8319139 5.011102e-23\n",
       "11 Musik stress    math     1_2  eda      0.7413667 1.382165e-32\n",
       "12 Sound stress    math     1_2  eda      0.8622537 2.250803e-21\n",
       "13 Musik relax     rotation 1_2  eda      0.7549884 1.639674e-31\n",
       "14 Sound relax     rotation 1_2  eda      0.8605663 1.067030e-20\n",
       "15 Musik stress    rotation 1_2  eda      0.7489489 5.051061e-32\n",
       "16 Sound stress    rotation 1_2  eda      0.8574239 1.114919e-21\n",
       "17 Musik relax     math     2_1  eda      0.7772391 1.346264e-30\n",
       "18 Sound relax     math     2_1  eda      0.9083926 2.089074e-17\n",
       "19 Musik stress    math     2_1  eda      0.7545841 1.497510e-31\n",
       "20 Sound stress    math     2_1  eda      0.8362742 4.730985e-23\n",
       "21 Musik relax     rotation 2_1  eda      0.7687465 5.082465e-31\n",
       "22 Sound relax     rotation 2_1  eda      0.8704858 8.383085e-21\n",
       "23 Musik stress    rotation 2_1  eda      0.7598363 1.178780e-31\n",
       "24 Sound stress    rotation 2_1  eda      0.8652626 1.364571e-20\n",
       "25 Musik relax     math     2_2  eda      0.7413667 1.382165e-32\n",
       "26 Sound relax     math     2_2  eda      0.8622537 2.250803e-21\n",
       "27 Musik stress    math     2_2  eda      0.7544967 6.260891e-32\n",
       "28 Sound stress    math     2_2  eda      0.8319139 5.011102e-23\n",
       "29 Musik relax     rotation 2_2  eda      0.7489489 5.051061e-32\n",
       "30 Sound relax     rotation 2_2  eda      0.8574239 1.114919e-21\n",
       "31 Musik stress    rotation 2_2  eda      0.7549884 1.639674e-31\n",
       "32 Sound stress    rotation 2_2  eda      0.8605663 1.067030e-20"
      ]
     },
     "metadata": {},
     "output_type": "display_data"
    },
    {
     "data": {
      "text/plain": [
       "    prob_nr        time_point         eda                 age        sex      \n",
       " Min.   : 2.00   Min.   :  6.0   Min.   :2.100e-06   Min.   :21.00   F: 9213  \n",
       " 1st Qu.:12.00   1st Qu.:182.0   1st Qu.:7.800e-06   1st Qu.:23.00   M:11118  \n",
       " Median :17.00   Median :329.0   Median :1.550e-05   Median :23.00            \n",
       " Mean   :17.23   Mean   :344.2   Mean   :1.693e-05   Mean   :23.92            \n",
       " 3rd Qu.:24.00   3rd Qu.:535.0   3rd Qu.:1.970e-05   3rd Qu.:25.00            \n",
       " Max.   :29.00   Max.   :681.0   Max.   :7.220e-05   Max.   :30.00            \n",
       "   group           phase        trial_type         condition    \n",
       " Musik:11882   Min.   :0.000   Length:20331       pause :    0  \n",
       " Sound: 8449   1st Qu.:2.000   Class :character   relax :10165  \n",
       "               Median :3.000   Mode  :character   stress:10166  \n",
       "               Mean   :3.509                                    \n",
       "               3rd Qu.:6.000                                    \n",
       "               Max.   :7.000                                    \n",
       "   repetition         run            type        time     \n",
       " Min.   :1.000   Min.   :1.0   math    :10218   1_0:   0  \n",
       " 1st Qu.:1.000   1st Qu.:1.0   pause   :    0   1_1:5091  \n",
       " Median :1.000   Median :2.0   rotation:10113   1_2:5074  \n",
       " Mean   :1.499   Mean   :1.5                    2_0:   0  \n",
       " 3rd Qu.:2.000   3rd Qu.:2.0                    2_1:5092  \n",
       " Max.   :2.000   Max.   :2.0                    2_2:5074  "
      ]
     },
     "metadata": {},
     "output_type": "display_data"
    }
   ],
   "source": [
    "# 1) normality\n",
    "\n",
    "d_long_new %>%\n",
    "  group_by(time, type, condition, group) %>%\n",
    "  shapiro_test(eda)\n",
    "\n",
    "d_long_new %>%\n",
    "  group_by(time, type, condition, group) %>%\n",
    "  summary()"
   ]
  },
  {
   "cell_type": "code",
   "execution_count": 193,
   "id": "a8abd575",
   "metadata": {},
   "outputs": [
    {
     "ename": "ERROR",
     "evalue": "Error in `[.data.frame`(d_long_new, group = \"Musik\"): unused argument (group = \"Musik\")\n",
     "output_type": "error",
     "traceback": [
      "Error in `[.data.frame`(d_long_new, group = \"Musik\"): unused argument (group = \"Musik\")\nTraceback:\n",
      "1. ggqqplot(d_long_new[group = \"Musik\"], \"eda\", ggtheme = theme_bw(), \n .     title = \"Probanden in Musikbedingung\")",
      "2. d_long_new[group = \"Musik\"]"
     ]
    }
   ],
   "source": [
    "ggqqplot(d_long_new[group = \"Musik\"], \"eda\", ggtheme = theme_bw(),\n",
    "         title = 'Probanden in Musikbedingung') +\n",
    "  facet_grid(time ~ type)\n",
    "\n",
    "ggqqplot(d_long_new[group = 'Sound'], \"eda\", ggtheme = theme_bw(),\n",
    "         title = 'Probanden in Soundbedingung') +\n",
    "  facet_grid(condition ~ type)\n",
    "\n",
    "ggqqplot(d_long_new[group = 'Sound'], \"eda\", ggtheme = theme_bw(),\n",
    "         title = 'Probanden in Soundbedingung') +\n",
    "  facet_grid(condition ~ group)\n",
    "\n",
    "ggqqplot(d_long_new[group = 'Sound'], \"eda\", ggtheme = theme_bw(),\n",
    "         title = 'Probanden in Soundbedingung') +\n",
    "  facet_grid(time ~ group)\n",
    "\n",
    "\n",
    "ggqqplot(d_long_new[group = 'Musik'], \"eda\", ggtheme = theme_bw(),\n",
    "         title = 'Probanden in Musikbedingung') +\n",
    "  facet_grid(time ~ type)\n",
    "\n",
    "ggqqplot(d_long_new[group = 'Sound'], \"eda\", ggtheme = theme_bw(),\n",
    "         title = 'Probanden in Soundbedingung') +\n",
    "  facet_grid(condition ~ type)\n",
    "\n",
    "ggqqplot(d_long_new[group = 'Sound'], \"eda\", ggtheme = theme_bw(),\n",
    "         title = 'Probanden in Soundbedingung') +\n",
    "  facet_grid(condition ~ group)\n",
    "\n",
    "ggqqplot(d_long_new[group = 'Sound'], \"eda\", ggtheme = theme_bw(),\n",
    "         title = 'Probanden in Soundbedingung') +\n",
    "  facet_grid(time ~ group)\n",
    "\n",
    "# qqplots show that distribution is mostly OK"
   ]
  },
  {
   "cell_type": "code",
   "execution_count": 209,
   "id": "37868487",
   "metadata": {},
   "outputs": [],
   "source": [
    "# Installing\n",
    "#install.packages(\"readr\")\n",
    "# Loading\n",
    "#library(\"readr\")"
   ]
  },
  {
   "cell_type": "code",
   "execution_count": 220,
   "id": "a57131ae",
   "metadata": {},
   "outputs": [
    {
     "data": {
      "text/html": [
       "<table class=\"dataframe\">\n",
       "<caption>A tibble: 18 × 6</caption>\n",
       "<thead>\n",
       "\t<tr><th scope=col>phase</th><th scope=col>run</th><th scope=col>df1</th><th scope=col>df2</th><th scope=col>statistic</th><th scope=col>p</th></tr>\n",
       "\t<tr><th scope=col>&lt;int&gt;</th><th scope=col>&lt;int&gt;</th><th scope=col>&lt;int&gt;</th><th scope=col>&lt;int&gt;</th><th scope=col>&lt;dbl&gt;</th><th scope=col>&lt;dbl&gt;</th></tr>\n",
       "</thead>\n",
       "<tbody>\n",
       "\t<tr><td>-1</td><td>1</td><td>1</td><td>5251</td><td>399.58648</td><td>9.768483e-86</td></tr>\n",
       "\t<tr><td> 0</td><td>1</td><td>1</td><td>1261</td><td> 87.12329</td><td>4.444200e-20</td></tr>\n",
       "\t<tr><td> 1</td><td>1</td><td>1</td><td>1265</td><td>107.58460</td><td>3.009714e-24</td></tr>\n",
       "\t<tr><td> 2</td><td>1</td><td>1</td><td>1282</td><td>108.67826</td><td>1.759882e-24</td></tr>\n",
       "\t<tr><td> 3</td><td>1</td><td>1</td><td>1276</td><td>111.61639</td><td>4.541908e-25</td></tr>\n",
       "\t<tr><td> 4</td><td>1</td><td>1</td><td>1229</td><td>109.13727</td><td>1.557490e-24</td></tr>\n",
       "\t<tr><td> 5</td><td>1</td><td>1</td><td>1271</td><td> 93.39425</td><td>2.279136e-21</td></tr>\n",
       "\t<tr><td> 6</td><td>1</td><td>1</td><td>1277</td><td> 84.98670</td><td>1.201497e-19</td></tr>\n",
       "\t<tr><td> 7</td><td>1</td><td>1</td><td>1289</td><td> 98.09217</td><td>2.447810e-22</td></tr>\n",
       "\t<tr><td>-1</td><td>2</td><td>1</td><td>5252</td><td>400.33347</td><td>6.888902e-86</td></tr>\n",
       "\t<tr><td> 0</td><td>2</td><td>1</td><td>1261</td><td> 87.12329</td><td>4.444200e-20</td></tr>\n",
       "\t<tr><td> 1</td><td>2</td><td>1</td><td>1265</td><td>107.58460</td><td>3.009714e-24</td></tr>\n",
       "\t<tr><td> 2</td><td>2</td><td>1</td><td>1282</td><td>108.67826</td><td>1.759882e-24</td></tr>\n",
       "\t<tr><td> 3</td><td>2</td><td>1</td><td>1276</td><td>111.61639</td><td>4.541908e-25</td></tr>\n",
       "\t<tr><td> 4</td><td>2</td><td>1</td><td>1229</td><td>109.13727</td><td>1.557490e-24</td></tr>\n",
       "\t<tr><td> 5</td><td>2</td><td>1</td><td>1271</td><td> 93.39425</td><td>2.279136e-21</td></tr>\n",
       "\t<tr><td> 6</td><td>2</td><td>1</td><td>1277</td><td> 84.98670</td><td>1.201497e-19</td></tr>\n",
       "\t<tr><td> 7</td><td>2</td><td>1</td><td>1289</td><td> 98.09217</td><td>2.447810e-22</td></tr>\n",
       "</tbody>\n",
       "</table>\n"
      ],
      "text/latex": [
       "A tibble: 18 × 6\n",
       "\\begin{tabular}{llllll}\n",
       " phase & run & df1 & df2 & statistic & p\\\\\n",
       " <int> & <int> & <int> & <int> & <dbl> & <dbl>\\\\\n",
       "\\hline\n",
       "\t -1 & 1 & 1 & 5251 & 399.58648 & 9.768483e-86\\\\\n",
       "\t  0 & 1 & 1 & 1261 &  87.12329 & 4.444200e-20\\\\\n",
       "\t  1 & 1 & 1 & 1265 & 107.58460 & 3.009714e-24\\\\\n",
       "\t  2 & 1 & 1 & 1282 & 108.67826 & 1.759882e-24\\\\\n",
       "\t  3 & 1 & 1 & 1276 & 111.61639 & 4.541908e-25\\\\\n",
       "\t  4 & 1 & 1 & 1229 & 109.13727 & 1.557490e-24\\\\\n",
       "\t  5 & 1 & 1 & 1271 &  93.39425 & 2.279136e-21\\\\\n",
       "\t  6 & 1 & 1 & 1277 &  84.98670 & 1.201497e-19\\\\\n",
       "\t  7 & 1 & 1 & 1289 &  98.09217 & 2.447810e-22\\\\\n",
       "\t -1 & 2 & 1 & 5252 & 400.33347 & 6.888902e-86\\\\\n",
       "\t  0 & 2 & 1 & 1261 &  87.12329 & 4.444200e-20\\\\\n",
       "\t  1 & 2 & 1 & 1265 & 107.58460 & 3.009714e-24\\\\\n",
       "\t  2 & 2 & 1 & 1282 & 108.67826 & 1.759882e-24\\\\\n",
       "\t  3 & 2 & 1 & 1276 & 111.61639 & 4.541908e-25\\\\\n",
       "\t  4 & 2 & 1 & 1229 & 109.13727 & 1.557490e-24\\\\\n",
       "\t  5 & 2 & 1 & 1271 &  93.39425 & 2.279136e-21\\\\\n",
       "\t  6 & 2 & 1 & 1277 &  84.98670 & 1.201497e-19\\\\\n",
       "\t  7 & 2 & 1 & 1289 &  98.09217 & 2.447810e-22\\\\\n",
       "\\end{tabular}\n"
      ],
      "text/markdown": [
       "\n",
       "A tibble: 18 × 6\n",
       "\n",
       "| phase &lt;int&gt; | run &lt;int&gt; | df1 &lt;int&gt; | df2 &lt;int&gt; | statistic &lt;dbl&gt; | p &lt;dbl&gt; |\n",
       "|---|---|---|---|---|---|\n",
       "| -1 | 1 | 1 | 5251 | 399.58648 | 9.768483e-86 |\n",
       "|  0 | 1 | 1 | 1261 |  87.12329 | 4.444200e-20 |\n",
       "|  1 | 1 | 1 | 1265 | 107.58460 | 3.009714e-24 |\n",
       "|  2 | 1 | 1 | 1282 | 108.67826 | 1.759882e-24 |\n",
       "|  3 | 1 | 1 | 1276 | 111.61639 | 4.541908e-25 |\n",
       "|  4 | 1 | 1 | 1229 | 109.13727 | 1.557490e-24 |\n",
       "|  5 | 1 | 1 | 1271 |  93.39425 | 2.279136e-21 |\n",
       "|  6 | 1 | 1 | 1277 |  84.98670 | 1.201497e-19 |\n",
       "|  7 | 1 | 1 | 1289 |  98.09217 | 2.447810e-22 |\n",
       "| -1 | 2 | 1 | 5252 | 400.33347 | 6.888902e-86 |\n",
       "|  0 | 2 | 1 | 1261 |  87.12329 | 4.444200e-20 |\n",
       "|  1 | 2 | 1 | 1265 | 107.58460 | 3.009714e-24 |\n",
       "|  2 | 2 | 1 | 1282 | 108.67826 | 1.759882e-24 |\n",
       "|  3 | 2 | 1 | 1276 | 111.61639 | 4.541908e-25 |\n",
       "|  4 | 2 | 1 | 1229 | 109.13727 | 1.557490e-24 |\n",
       "|  5 | 2 | 1 | 1271 |  93.39425 | 2.279136e-21 |\n",
       "|  6 | 2 | 1 | 1277 |  84.98670 | 1.201497e-19 |\n",
       "|  7 | 2 | 1 | 1289 |  98.09217 | 2.447810e-22 |\n",
       "\n"
      ],
      "text/plain": [
       "   phase run df1 df2  statistic p           \n",
       "1  -1    1   1   5251 399.58648 9.768483e-86\n",
       "2   0    1   1   1261  87.12329 4.444200e-20\n",
       "3   1    1   1   1265 107.58460 3.009714e-24\n",
       "4   2    1   1   1282 108.67826 1.759882e-24\n",
       "5   3    1   1   1276 111.61639 4.541908e-25\n",
       "6   4    1   1   1229 109.13727 1.557490e-24\n",
       "7   5    1   1   1271  93.39425 2.279136e-21\n",
       "8   6    1   1   1277  84.98670 1.201497e-19\n",
       "9   7    1   1   1289  98.09217 2.447810e-22\n",
       "10 -1    2   1   5252 400.33347 6.888902e-86\n",
       "11  0    2   1   1261  87.12329 4.444200e-20\n",
       "12  1    2   1   1265 107.58460 3.009714e-24\n",
       "13  2    2   1   1282 108.67826 1.759882e-24\n",
       "14  3    2   1   1276 111.61639 4.541908e-25\n",
       "15  4    2   1   1229 109.13727 1.557490e-24\n",
       "16  5    2   1   1271  93.39425 2.279136e-21\n",
       "17  6    2   1   1277  84.98670 1.201497e-19\n",
       "18  7    2   1   1289  98.09217 2.447810e-22"
      ]
     },
     "metadata": {},
     "output_type": "display_data"
    }
   ],
   "source": [
    "# 2) homogeneity of variance (only for between-subject factors)\n",
    "\n",
    "d_long %>%\n",
    "  group_by(run, phase) %>%\n",
    "  levene_test(eda ~ group)\n",
    "# not given, we need to correct the results."
   ]
  },
  {
   "cell_type": "code",
   "execution_count": null,
   "id": "5f12d952",
   "metadata": {},
   "outputs": [],
   "source": [
    "# 3) assumption of sphericity (only for within-subject factors)\n",
    "\n",
    "# will be checked and corrected for automatically when computing the ANOVA. Look at that then."
   ]
  },
  {
   "cell_type": "markdown",
   "id": "c953d0b0",
   "metadata": {},
   "source": [
    "Define model "
   ]
  },
  {
   "cell_type": "code",
   "execution_count": 221,
   "id": "8efe49fa",
   "metadata": {},
   "outputs": [
    {
     "ename": "ERROR",
     "evalue": "Error: Empty cells in within-subjects design  (i.e., bad data structure).\ntable(data[c(\"time\", \"condition\", \"type\")])\n# , , type = math\n# \n#       condition\n# time   pause relax stress\n#   X1_0     0     0      0\n#   X1_1     0  1320   1320\n#   X1_2     0  1298   1320\n#   X2_0     0     0      0\n#   X2_1     0  1320   1320\n#   X2_2     0  1320   1298\n# \n# , , type = pause\n# \n#       condition\n# time   pause relax stress\n#   X1_0  5396     0      0\n#   X1_1     0     0      0\n#   X1_2     0     0      0\n#   X2_0  5397     0      0\n#   X2_1     0     0      0\n#   X2_2     0     0      0\n# \n# , , type = rotation\n# \n#       condition\n# time   pause relax stress\n#   X1_0     0     0      0\n#   X1_1     0  1298   1342\n#   X1_2     0  1298   1320\n#   X2_0     0     0      0\n#   X2_1     0  1342   1298\n#   X2_2     0  1320   1298\n# \n",
     "output_type": "error",
     "traceback": [
      "Error: Empty cells in within-subjects design  (i.e., bad data structure).\ntable(data[c(\"time\", \"condition\", \"type\")])\n# , , type = math\n# \n#       condition\n# time   pause relax stress\n#   X1_0     0     0      0\n#   X1_1     0  1320   1320\n#   X1_2     0  1298   1320\n#   X2_0     0     0      0\n#   X2_1     0  1320   1320\n#   X2_2     0  1320   1298\n# \n# , , type = pause\n# \n#       condition\n# time   pause relax stress\n#   X1_0  5396     0      0\n#   X1_1     0     0      0\n#   X1_2     0     0      0\n#   X2_0  5397     0      0\n#   X2_1     0     0      0\n#   X2_2     0     0      0\n# \n# , , type = rotation\n# \n#       condition\n# time   pause relax stress\n#   X1_0     0     0      0\n#   X1_1     0  1298   1342\n#   X1_2     0  1298   1320\n#   X2_0     0     0      0\n#   X2_1     0  1342   1298\n#   X2_2     0  1320   1298\n# \nTraceback:\n",
      "1. aov_ez(\"prob_nr\", \"eda\", d_long, between = c(\"group\", \"sex\"), \n .     within = c(\"time\", \"condition\", \"type\"), include_aov = TRUE)",
      "2. aov_car(formula = as.formula(formula), data = data, fun_aggregate = fun_aggregate, \n .     type = type, return = return, factorize = factorize, check_contrasts = check_contrasts, \n .     observed = observed, anova_table = anova_table, include_aov = include_aov, \n .     ...)",
      "3. stop(\"Empty cells in within-subjects design \", \" (i.e., bad data structure).\\n\", \n .     \"\", paste0(\"table(data[\", deparse(within), \"])\"), \"\\n# \", \n .     paste(utils::capture.output(table(data[within])), collapse = \"\\n# \"), \n .     call. = FALSE)"
     ]
    }
   ],
   "source": [
    "model1 <- aov_ez(\"prob_nr\", # Variable/column defining your participants\n",
    "       \"eda\", # dv\n",
    "       d_long, # name of your dataframe\n",
    "       between = c(\"group\", \"sex\"), # if sex was also included, this would be c('group', 'sex')\n",
    "       within = c(\"time\", \"condition\", \"type\"), \n",
    "       include_aov = TRUE)\n",
    "\n",
    "\n",
    "model1\n",
    "summary(model1)"
   ]
  },
  {
   "cell_type": "code",
   "execution_count": 222,
   "id": "a68be8c8",
   "metadata": {},
   "outputs": [
    {
     "name": "stderr",
     "output_type": "stream",
     "text": [
      "Warning message:\n",
      "“More than one observation per cell, aggregating the data using mean (i.e, fun_aggregate = mean)!”\n",
      "Contrasts set to contr.sum for the following variables: group, sex\n",
      "\n"
     ]
    },
    {
     "data": {
      "text/plain": [
       "Anova Table (Type 3 tests)\n",
       "\n",
       "Response: eda\n",
       "                          Effect    df  MSE        F   ges p.value\n",
       "1                          group 1, 18 0.00     0.28  .015    .601\n",
       "2                            sex 1, 18 0.00     2.30  .112    .147\n",
       "3                      group:sex 1, 18 0.00     0.16  .009    .693\n",
       "4                           time 3, 54 0.00   3.59 * <.001    .019\n",
       "5                     group:time 3, 54 0.00     2.06 <.001    .117\n",
       "6                       sex:time 3, 54 0.00     0.04 <.001    .990\n",
       "7                 group:sex:time 3, 54 0.00     0.78 <.001    .508\n",
       "8                      condition 1, 18 0.00     1.97 <.001    .177\n",
       "9                group:condition 1, 18 0.00     1.97 <.001    .177\n",
       "10                 sex:condition 1, 18 0.00     1.97 <.001    .177\n",
       "11           group:sex:condition 1, 18 0.00     1.97 <.001    .177\n",
       "12                          type 1, 18 0.00     0.75 <.001    .399\n",
       "13                    group:type 1, 18 0.00     0.49 <.001    .493\n",
       "14                      sex:type 1, 18 0.00     0.45 <.001    .511\n",
       "15                group:sex:type 1, 18 0.00     0.67 <.001    .425\n",
       "16                time:condition 3, 54 0.00 7.22 *** <.001   <.001\n",
       "17          group:time:condition 3, 54 0.00   2.57 + <.001    .064\n",
       "18            sex:time:condition 3, 54 0.00     0.18 <.001    .907\n",
       "19      group:sex:time:condition 3, 54 0.00     0.30 <.001    .828\n",
       "20                     time:type 3, 54 0.00   2.36 + <.001    .082\n",
       "21               group:time:type 3, 54 0.00     0.07 <.001    .976\n",
       "22                 sex:time:type 3, 54 0.00  6.06 ** <.001    .001\n",
       "23           group:sex:time:type 3, 54 0.00     0.03 <.001    .993\n",
       "24                condition:type 1, 18 0.00     1.97 <.001    .177\n",
       "25          group:condition:type 1, 18 0.00     1.97 <.001    .177\n",
       "26            sex:condition:type 1, 18 0.00     1.97 <.001    .177\n",
       "27      group:sex:condition:type 1, 18 0.00     1.97 <.001    .177\n",
       "28           time:condition:type 3, 54 0.00 9.35 *** <.001   <.001\n",
       "29     group:time:condition:type 3, 54 0.00     1.40 <.001    .252\n",
       "30       sex:time:condition:type 3, 54 0.00   2.96 * <.001    .040\n",
       "31 group:sex:time:condition:type 3, 54 0.00     0.62 <.001    .605\n",
       "---\n",
       "Signif. codes:  0 ‘***’ 0.001 ‘**’ 0.01 ‘*’ 0.05 ‘+’ 0.1 ‘ ’ 1\n",
       "\n",
       "Sphericity correction method: GG "
      ]
     },
     "metadata": {},
     "output_type": "display_data"
    },
    {
     "name": "stderr",
     "output_type": "stream",
     "text": [
      "Warning message in summary.Anova.mlm(object$Anova, multivariate = FALSE):\n",
      "“Singular error SSP matrix:\n",
      "non-sphericity test and corrections not available”\n"
     ]
    },
    {
     "data": {
      "text/plain": [
       "\n",
       "Univariate Type III Repeated-Measures ANOVA Assuming Sphericity\n",
       "\n",
       "                                 Sum Sq num Df Error SS den Df F value\n",
       "(Intercept)                   8.626e-08      1 5.69e-08     18 27.2879\n",
       "group                         8.980e-10      1 5.69e-08     18  0.2840\n",
       "sex                           7.259e-09      1 5.69e-08     18  2.2964\n",
       "group:sex                     5.110e-10      1 5.69e-08     18  0.1615\n",
       "time                          4.700e-11      3 2.34e-10     54  3.5914\n",
       "group:time                    2.700e-11      3 2.34e-10     54  2.0558\n",
       "sex:time                      1.000e-12      3 2.34e-10     54  0.0391\n",
       "group:sex:time                1.000e-11      3 2.34e-10     54  0.7841\n",
       "condition                     0.000e+00      1 0.00e+00     18  1.9749\n",
       "group:condition               0.000e+00      1 0.00e+00     18  1.9749\n",
       "sex:condition                 0.000e+00      1 0.00e+00     18  1.9749\n",
       "group:sex:condition           0.000e+00      1 0.00e+00     18  1.9749\n",
       "type                          2.000e-12      1 4.00e-11     18  0.7453\n",
       "group:type                    1.000e-12      1 4.00e-11     18  0.4900\n",
       "sex:type                      1.000e-12      1 4.00e-11     18  0.4489\n",
       "group:sex:type                1.000e-12      1 4.00e-11     18  0.6670\n",
       "time:condition                5.400e-11      3 1.35e-10     54  7.2202\n",
       "group:time:condition          1.900e-11      3 1.35e-10     54  2.5671\n",
       "sex:time:condition            1.000e-12      3 1.35e-10     54  0.1841\n",
       "group:sex:time:condition      2.000e-12      3 1.35e-10     54  0.2964\n",
       "time:type                     1.000e-12      3 1.10e-11     54  2.3582\n",
       "group:time:type               0.000e+00      3 1.10e-11     54  0.0696\n",
       "sex:time:type                 4.000e-12      3 1.10e-11     54  6.0616\n",
       "group:sex:time:type           0.000e+00      3 1.10e-11     54  0.0287\n",
       "condition:type                0.000e+00      1 0.00e+00     18  1.9750\n",
       "group:condition:type          0.000e+00      1 0.00e+00     18  1.9750\n",
       "sex:condition:type            0.000e+00      1 0.00e+00     18  1.9750\n",
       "group:sex:condition:type      0.000e+00      1 0.00e+00     18  1.9750\n",
       "time:condition:type           2.600e-11      3 5.10e-11     54  9.3475\n",
       "group:time:condition:type     4.000e-12      3 5.10e-11     54  1.4042\n",
       "sex:time:condition:type       8.000e-12      3 5.10e-11     54  2.9566\n",
       "group:sex:time:condition:type 2.000e-12      3 5.10e-11     54  0.6201\n",
       "                                 Pr(>F)    \n",
       "(Intercept)                   5.735e-05 ***\n",
       "group                          0.600582    \n",
       "sex                            0.147041    \n",
       "group:sex                      0.692510    \n",
       "time                           0.019323 *  \n",
       "group:time                     0.116928    \n",
       "sex:time                       0.989558    \n",
       "group:sex:time                 0.508003    \n",
       "condition                      0.176955    \n",
       "group:condition                0.176955    \n",
       "sex:condition                  0.176955    \n",
       "group:sex:condition            0.176955    \n",
       "type                           0.399338    \n",
       "group:type                     0.492880    \n",
       "sex:type                       0.511379    \n",
       "group:sex:type                 0.424786    \n",
       "time:condition                 0.000368 ***\n",
       "group:time:condition           0.063923 .  \n",
       "sex:time:condition             0.906731    \n",
       "group:sex:time:condition       0.827857    \n",
       "time:type                      0.081790 .  \n",
       "group:time:type                0.975901    \n",
       "sex:time:type                  0.001238 ** \n",
       "group:sex:time:type            0.993385    \n",
       "condition:type                 0.176948    \n",
       "group:condition:type           0.176948    \n",
       "sex:condition:type             0.176948    \n",
       "group:sex:condition:type       0.176948    \n",
       "time:condition:type           4.475e-05 ***\n",
       "group:time:condition:type      0.251550    \n",
       "sex:time:condition:type        0.040440 *  \n",
       "group:sex:time:condition:type  0.605065    \n",
       "---\n",
       "Signif. codes:  0 ‘***’ 0.001 ‘**’ 0.01 ‘*’ 0.05 ‘.’ 0.1 ‘ ’ 1"
      ]
     },
     "metadata": {},
     "output_type": "display_data"
    }
   ],
   "source": [
    "# with pause excluded\n",
    "\n",
    "model1 <- aov_ez(\"prob_nr\", # Variable/column defining your participants\n",
    "                 \"eda\", # dv\n",
    "                 d_long_new, # name of your dataframe\n",
    "                 between = c(\"group\", \"sex\"), # if sex was also included, this would be c('group', 'sex')\n",
    "                 within = c(\"time\", \"condition\", \"type\"), \n",
    "                 include_aov = TRUE, na.rm=TRUE)\n",
    "model1\n",
    "summary(model1)\n",
    "\n",
    "\n",
    "# we see that the assumption of sphericity was corrected for using the Greenhouse-Geisser correction\n",
    "# we also see that we have an effect for time\n",
    "# and for time*condition*type"
   ]
  },
  {
   "cell_type": "markdown",
   "id": "e6b9b6d7",
   "metadata": {},
   "source": [
    "# post hoc tests:"
   ]
  },
  {
   "cell_type": "code",
   "execution_count": 196,
   "id": "15474892",
   "metadata": {},
   "outputs": [
    {
     "data": {
      "text/plain": [
       " time   emmean       SE df lower.CL upper.CL\n",
       " X1_1 1.64e-05 3.15e-06 18 9.75e-06 2.30e-05\n",
       " X1_2 1.56e-05 2.98e-06 18 9.36e-06 2.19e-05\n",
       " X2_1 1.64e-05 3.15e-06 18 9.75e-06 2.30e-05\n",
       " X2_2 1.56e-05 2.98e-06 18 9.36e-06 2.19e-05\n",
       "\n",
       "Results are averaged over the levels of: group, sex, type, condition \n",
       "Confidence level used: 0.95 "
      ]
     },
     "metadata": {},
     "output_type": "display_data"
    },
    {
     "data": {
      "text/plain": [
       " contrast     estimate       SE df t.ratio p.value\n",
       " X1_1 - X1_2  7.45e-07 3.93e-07 18   1.895  0.2648\n",
       " X1_1 - X2_1 -5.70e-12 4.00e-12 18  -1.405  0.5122\n",
       " X1_1 - X2_2  7.45e-07 3.93e-07 18   1.895  0.2648\n",
       " X1_2 - X2_1 -7.45e-07 3.93e-07 18  -1.895  0.2648\n",
       " X1_2 - X2_2  0.00e+00 0.00e+00 18     NaN     NaN\n",
       " X2_1 - X2_2  7.45e-07 3.93e-07 18   1.895  0.2648\n",
       "\n",
       "Results are averaged over the levels of: group, sex, type, condition \n",
       "P value adjustment: tukey method for comparing a family of 4 estimates "
      ]
     },
     "metadata": {},
     "output_type": "display_data"
    }
   ],
   "source": [
    "m1_ph <- emmeans(model1, \"time\") # defining here which variables plus their interaction I would like to include in my posthoc-Tests\n",
    "m1_ph\n",
    "pairs(m1_ph) # gives you a massive table with all pair comparisons between the two significant factors, with p-values already corrected for multiple testing\n",
    "\n",
    "# to combine pairs of factor levels define contrasts:\n",
    "# e.g. test phases -1 to 3 against phases 4 to 7, but define that for each of the runs"
   ]
  },
  {
   "cell_type": "code",
   "execution_count": 268,
   "id": "df987e06",
   "metadata": {},
   "outputs": [
    {
     "data": {
      "text/plain": [
       " contrast    estimate       SE df t.ratio p.value\n",
       " run1vsrun2 -5.70e-12 4.00e-12 18  -1.405  0.1769\n",
       " runwdh      1.49e-06 7.86e-07 18   1.895  0.1485\n",
       "\n",
       "Results are averaged over the levels of: group, sex, type, condition \n",
       "P value adjustment: holm method for 2 tests "
      ]
     },
     "metadata": {},
     "output_type": "display_data"
    }
   ],
   "source": [
    "c1 <- list(run1vsrun2 = c(1, 1, -1, -1), \n",
    "           runwdh = c(1, -1, 1, -1)\n",
    "        # this vector gives each line in the object 'm1_ph' a weight\n",
    "          )\n",
    "\n",
    "# if several contrasts are defined, these go into a list of vectors and each get their own name.\n",
    "  \n",
    "contrast(m1_ph, c1, adjust = \"holm\") # here we define how to adjust the alpha-level, specified here is the Bonferroni-Holm correction, \n",
    "                                     # which is less strict than the Bonferroni correction\n",
    "\n",
    "# and we see: there is a difference, t(20) = 3.222, p = 0.0043"
   ]
  },
  {
   "cell_type": "markdown",
   "id": "1eb8d740",
   "metadata": {},
   "source": [
    "plots"
   ]
  },
  {
   "cell_type": "code",
   "execution_count": 275,
   "id": "e28aacb6",
   "metadata": {
    "scrolled": false
   },
   "outputs": [
    {
     "data": {
      "image/png": "[encoded data removed]",
      "text/plain": [
       "plot without title"
      ]
     },
     "metadata": {
      "image/png": {
       "height": 420,
       "width": 420
      }
     },
     "output_type": "display_data"
    },
    {
     "data": {
      "image/png": "[encoded data removed]",
      "text/plain": [
       "plot without title"
      ]
     },
     "metadata": {
      "image/png": {
       "height": 420,
       "width": 420
      }
     },
     "output_type": "display_data"
    },
    {
     "data": {
      "image/png": "[encoded data removed]",
      "text/plain": [
       "plot without title"
      ]
     },
     "metadata": {
      "image/png": {
       "height": 420,
       "width": 420
      }
     },
     "output_type": "display_data"
    },
    {
     "data": {
      "image/png": "[encoded data removed]",
      "text/plain": [
       "plot without title"
      ]
     },
     "metadata": {
      "image/png": {
       "height": 420,
       "width": 420
      }
     },
     "output_type": "display_data"
    },
    {
     "data": {
      "image/png": "[encoded data removed]",
      "text/plain": [
       "plot without title"
      ]
     },
     "metadata": {
      "image/png": {
       "height": 420,
       "width": 420
      }
     },
     "output_type": "display_data"
    },
    {
     "data": {
      "image/png": "[encoded data removed]",
      "text/plain": [
       "plot without title"
      ]
     },
     "metadata": {
      "image/png": {
       "height": 420,
       "width": 420
      }
     },
     "output_type": "display_data"
    },
    {
     "data": {
      "image/png": "[encoded data removed]",
      "text/plain": [
       "plot without title"
      ]
     },
     "metadata": {
      "image/png": {
       "height": 420,
       "width": 420
      }
     },
     "output_type": "display_data"
    },
    {
     "data": {
      "image/png": "[encoded data removed]",
      "text/plain": [
       "plot without title"
      ]
     },
     "metadata": {
      "image/png": {
       "height": 420,
       "width": 420
      }
     },
     "output_type": "display_data"
    },
    {
     "data": {
      "image/png": "[encoded data removed]",
      "text/plain": [
       "plot without title"
      ]
     },
     "metadata": {
      "image/png": {
       "height": 420,
       "width": 420
      }
     },
     "output_type": "display_data"
    },
    {
     "data": {
      "image/png": "[encoded data removed]",
      "text/plain": [
       "plot without title"
      ]
     },
     "metadata": {
      "image/png": {
       "height": 420,
       "width": 420
      }
     },
     "output_type": "display_data"
    }
   ],
   "source": [
    "p_groupxtime <- ggboxplot(\n",
    "  d_long_new, x = \"time\", y = \"eda\",\n",
    "  color = \"group\", palette = \"grey\"\n",
    ")\n",
    "p_groupxtime\n",
    "\n",
    "p_groupxtime1 <- ggboxplot(\n",
    "  d_long_new, x = \"time\", y = \"eda\",\n",
    "  color = \"condition\", palette = \"grey\"\n",
    ")\n",
    "p_groupxtime1\n",
    "  \n",
    "  \n",
    "p_groupxtime2 <- ggboxplot(\n",
    "  d_long_new, x = \"condition\", y = \"eda\",\n",
    "  palette = \"grey\"\n",
    ")\n",
    "p_groupxtime2\n",
    "\n",
    "  \n",
    "p_groupxtime3 <- ggboxplot(\n",
    "  d_long_new, x = \"time\", y = \"eda\",\n",
    "  palette = \"grey\"\n",
    ")\n",
    "p_groupxtime3\n",
    "\n",
    "\n",
    "p_groupxtime4 <- ggboxplot(\n",
    "  d_long_new, x = \"sex\", y = \"eda\",\n",
    "  palette = \"grey\"\n",
    ")\n",
    "p_groupxtime4\n",
    "\n",
    "p_groupxtime5 <- ggboxplot(\n",
    "  d_long_new, x = \"run\", y = \"eda\",\n",
    "  color = \"group\", palette = \"grey\"\n",
    ")\n",
    "p_groupxtime5\n",
    "\n",
    "p_groupxtype8 <- ggboxplot(\n",
    "  d_long_new, x = \"type\", y = \"eda\",\n",
    "  color = \"group\", palette = \"grey\"\n",
    ")\n",
    "p_groupxtype8 \n",
    "\n",
    "\n",
    "p_timextype6 <- ggboxplot(\n",
    "  d_long_new, x = \"type\", y = \"eda\", facet.by = \"condition\",\n",
    "  color = \"sex\", palette = \"grey\", title = \"sex-type-condition-Interaktion\",\n",
    ")\n",
    "p_timextype6\n",
    "\n",
    "p_timextype7 <- ggboxplot(\n",
    "  d_long_new, x = \"time\", y = \"eda\", facet.by = \"condition\",\n",
    "  color = \"type\", palette = \"grey\", title = \"condition-time-type\",\n",
    ")\n",
    "p_timextype7\n",
    "\n",
    "p_timextype8 <- ggboxplot(\n",
    "  d_long_new, x = \"time\", y = \"eda\", facet.by = \"type\",\n",
    "  color = \"sex\", palette = \"grey\", title = \"sex-time-type-Interaktion\",\n",
    ")\n",
    "p_timextype8\n",
    "\n",
    "\n"
   ]
  },
  {
   "cell_type": "code",
   "execution_count": 282,
   "id": "1b742837",
   "metadata": {},
   "outputs": [
    {
     "data": {
      "text/html": [
       "<strong>png:</strong> 2"
      ],
      "text/latex": [
       "\\textbf{png:} 2"
      ],
      "text/markdown": [
       "**png:** 2"
      ],
      "text/plain": [
       "png \n",
       "  2 "
      ]
     },
     "metadata": {},
     "output_type": "display_data"
    },
    {
     "data": {
      "text/html": [
       "<strong>png:</strong> 2"
      ],
      "text/latex": [
       "\\textbf{png:} 2"
      ],
      "text/markdown": [
       "**png:** 2"
      ],
      "text/plain": [
       "png \n",
       "  2 "
      ]
     },
     "metadata": {},
     "output_type": "display_data"
    },
    {
     "data": {
      "text/html": [
       "<strong>png:</strong> 2"
      ],
      "text/latex": [
       "\\textbf{png:} 2"
      ],
      "text/markdown": [
       "**png:** 2"
      ],
      "text/plain": [
       "png \n",
       "  2 "
      ]
     },
     "metadata": {},
     "output_type": "display_data"
    },
    {
     "data": {
      "text/html": [
       "<strong>png:</strong> 2"
      ],
      "text/latex": [
       "\\textbf{png:} 2"
      ],
      "text/markdown": [
       "**png:** 2"
      ],
      "text/plain": [
       "png \n",
       "  2 "
      ]
     },
     "metadata": {},
     "output_type": "display_data"
    },
    {
     "data": {
      "text/html": [
       "<strong>png:</strong> 2"
      ],
      "text/latex": [
       "\\textbf{png:} 2"
      ],
      "text/markdown": [
       "**png:** 2"
      ],
      "text/plain": [
       "png \n",
       "  2 "
      ]
     },
     "metadata": {},
     "output_type": "display_data"
    },
    {
     "data": {
      "text/html": [
       "<strong>png:</strong> 2"
      ],
      "text/latex": [
       "\\textbf{png:} 2"
      ],
      "text/markdown": [
       "**png:** 2"
      ],
      "text/plain": [
       "png \n",
       "  2 "
      ]
     },
     "metadata": {},
     "output_type": "display_data"
    },
    {
     "data": {
      "text/html": [
       "<strong>png:</strong> 2"
      ],
      "text/latex": [
       "\\textbf{png:} 2"
      ],
      "text/markdown": [
       "**png:** 2"
      ],
      "text/plain": [
       "png \n",
       "  2 "
      ]
     },
     "metadata": {},
     "output_type": "display_data"
    },
    {
     "data": {
      "text/html": [
       "<strong>png:</strong> 2"
      ],
      "text/latex": [
       "\\textbf{png:} 2"
      ],
      "text/markdown": [
       "**png:** 2"
      ],
      "text/plain": [
       "png \n",
       "  2 "
      ]
     },
     "metadata": {},
     "output_type": "display_data"
    },
    {
     "data": {
      "text/html": [
       "<strong>png:</strong> 2"
      ],
      "text/latex": [
       "\\textbf{png:} 2"
      ],
      "text/markdown": [
       "**png:** 2"
      ],
      "text/plain": [
       "png \n",
       "  2 "
      ]
     },
     "metadata": {},
     "output_type": "display_data"
    },
    {
     "data": {
      "text/html": [
       "<strong>png:</strong> 2"
      ],
      "text/latex": [
       "\\textbf{png:} 2"
      ],
      "text/markdown": [
       "**png:** 2"
      ],
      "text/plain": [
       "png \n",
       "  2 "
      ]
     },
     "metadata": {},
     "output_type": "display_data"
    }
   ],
   "source": [
    "# PNG device\n",
    "png(\"plot1.png\")\n",
    "\n",
    "# Code\n",
    "plot(p_groupxtime)\n",
    "\n",
    "# Close device\n",
    "dev.off()\n",
    "\n",
    "png(\"plot2.png\")\n",
    "plot(p_groupxtime1)\n",
    "dev.off()\n",
    "\n",
    "png(\"plot3.png\")\n",
    "plot(p_groupxtime2)\n",
    "dev.off()\n",
    "\n",
    "png(\"plot4.png\")\n",
    "plot(p_groupxtime3)\n",
    "dev.off()\n",
    "\n",
    "png(\"plot5.png\")\n",
    "plot(p_groupxtime4)\n",
    "dev.off()\n",
    "\n",
    "png(\"plot6.png\")\n",
    "plot(p_groupxtime5)\n",
    "dev.off()\n",
    "\n",
    "png(\"plot7.png\")\n",
    "plot(p_groupxtype8)\n",
    "dev.off()\n",
    "\n",
    "png(\"plot8.png\")\n",
    "plot(p_timextype6)\n",
    "dev.off()\n",
    "\n",
    "png(\"plot9.png\")\n",
    "plot(p_timextype7)\n",
    "dev.off()\n",
    "\n",
    "png(\"plot10.png\")\n",
    "plot(p_timextype8)\n",
    "dev.off()"
   ]
  }
 ],
 "metadata": {
  "kernelspec": {
   "display_name": "R",
   "language": "R",
   "name": "ir"
  },
  "language_info": {
   "codemirror_mode": "r",
   "file_extension": ".r",
   "mimetype": "text/x-r-source",
   "name": "R",
   "pygments_lexer": "r",
   "version": "4.1.2"
  }
 },
 "nbformat": 4,
 "nbformat_minor": 5
}
