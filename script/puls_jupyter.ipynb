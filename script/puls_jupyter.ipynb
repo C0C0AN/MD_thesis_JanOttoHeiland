{
 "cells": [
  {
   "cell_type": "code",
   "execution_count": 78,
   "metadata": {},
   "outputs": [],
   "source": [
    "import pandas as pd\n",
    "import numpy as np\n",
    "from scipy import *\n",
    "import pingouin as pg\n",
    "from scipy import stats\n",
    "import matplotlib.pyplot as plt\n",
    "from pingouin import ttest"
   ]
  },
  {
   "cell_type": "code",
   "execution_count": 79,
   "metadata": {},
   "outputs": [],
   "source": [
    "df = pd.read_excel('/home/jan/Documents/Doktorarbeit/Analyse/Physio/Physio_combindet_ohne_Kommata.xlsx', index_col=0)\n",
    "df1 = pd.read_excel('/home/jan/Documents/Doktorarbeit/Analyse/Physio/Physio_maxima.xlsx', index_col=0)"
   ]
  },
  {
   "cell_type": "code",
   "execution_count": 80,
   "metadata": {},
   "outputs": [],
   "source": [
    "block1a = df.iloc[6:154,:]\n",
    "block1b = df.iloc[182:330,:]\n",
    "block1c = df.iloc[358:506,:]\n",
    "block1d = df.iloc[534:682,:]"
   ]
  },
  {
   "cell_type": "code",
   "execution_count": 81,
   "metadata": {},
   "outputs": [],
   "source": [
    "index = df.index\n",
    "columns = df.columns\n",
    "values = df.values"
   ]
  },
  {
   "cell_type": "code",
   "execution_count": 82,
   "metadata": {},
   "outputs": [],
   "source": [
    "'''m=musik generell, md=musik diff, ad=alle diff'''\n",
    "\n",
    "m = ['P5;1','P5;2','P5;3','P6;1','P6;2','P6;3','P11;1','P11;2','P11;3','P14;1','P14;2','P14;3','P16;1','P16;2','P16;3','P19;1','P19;2','P19;3','P23;1','P23;2','P23;3','P24;1','P24;2','P24;3','P26;1','P26;2','P26;3','P27;1','P27;2','P27;3','P28;1','P28;2','P28;3','P29;1','P29;2','P29;3']\n",
    "s = ['P7;1','P7;2','P7;3','P8;1','P8;2','P8;3','P9;1','P9;2','P9;3','P10;1','P10;2','P10;3','P12;1','P12;2','P12;3','P13;1','P13;2','P13;2','P15;1','P15;2','P15;3','P17;1','P17;2','P17;3','P18;1','P18;2','P18;3','P20;1','P20;2','P20;3','P21;1','P21;2','P21;3','P22;1','P22;2','P22;3','P25;1','P25;2','P25;3']\n",
    "md = ['P5;1','P6;1','P11;1','P14;1','P16;1','P19;1','P23;1','P24;1','P26;1','P27;1','P28;1','P29;1']\n",
    "sd = ['P7;1','P8;1','P9;1','P10;1','P12;1','P13;1','P15;1','P17;1','P18;1','P20;1','P21;1','P22;1','P25;1']\n",
    "ad = [4,7,10,13,16,19,22,25,28,31,34,37,40,43,46,49,52,55,58,61,64,67,70,73,76,79,82,85,88]"
   ]
  },
  {
   "cell_type": "code",
   "execution_count": 83,
   "metadata": {},
   "outputs": [],
   "source": [
    "music = df.loc[:,m]\n",
    "sound = df.loc[:,s]"
   ]
  },
  {
   "cell_type": "code",
   "execution_count": 84,
   "metadata": {},
   "outputs": [],
   "source": [
    "d_music = music.describe()"
   ]
  },
  {
   "cell_type": "code",
   "execution_count": 85,
   "metadata": {},
   "outputs": [],
   "source": [
    "df1_g = df1.iloc[[8,9,10],ad]"
   ]
  },
  {
   "cell_type": "code",
   "execution_count": 86,
   "metadata": {},
   "outputs": [],
   "source": [
    "music_diff = df1_g.loc[:,md]\n",
    "sound_diff = df1_g.loc[:,sd]"
   ]
  },
  {
   "cell_type": "code",
   "execution_count": 87,
   "metadata": {},
   "outputs": [],
   "source": [
    "col_rename= {'P5;1':'P5','P6;1':'P6','P11;1':'P11','P14;1':'P14','P16;1':'P16','P19;1':'P19','P23;1':'P23','P24;1':'P24','P26;1':'P26','P27;1':'P27','P28;1':'P28','P29;1':'P29'}\n",
    "idx_rename = {'Diff_max_1_3_alle_P':'m_diff_max_13', 'Diff_mean_1_3_alle_P':'m_diff_mean_13', 'Diff_min_1_3_alle_P':'m_diff_min13'}\n",
    "cols_rename= {'P7;1':'P7','P8;1':'P8','P9;1':'P9','P10;1':'P10','P12;1':'P12','P13;1':'P13','P15;1':'P15','P17;1':'P17','P18;1':'P18','P21;1':'P21','P20;1':'P20','P22;1':'P22','P25;1':'P25'}\n",
    "idxs_rename = {'Diff_max_1_3_alle_P':'s_diff_max_13', 'Diff_mean_1_3_alle_P':'s_diff_mean_13', 'Diff_min_1_3_alle_P':'s_diff_min13'}"
   ]
  },
  {
   "cell_type": "code",
   "execution_count": 88,
   "metadata": {},
   "outputs": [],
   "source": [
    "music_diff_r = music_diff.rename(index=idx_rename, columns=col_rename)\n",
    "sound_diff_r = sound_diff.rename(index=idxs_rename, columns=cols_rename)"
   ]
  },
  {
   "cell_type": "code",
   "execution_count": 89,
   "metadata": {},
   "outputs": [],
   "source": [
    "cols_rename= {'P7;1':'P7','P8;1':'P8','P9;1':'P9','P10;1':'P10','P12;1':'P12','P13;1':'P13','P15;1':'P15','P17;1':'P17','P18;1':'P18','P21;1':'P21','P20;1':'P20','P22;1':'P22','P25;1':'P25'}\n",
    "idxs_rename = {'Diff_max_1_3_alle_P':'s_diff_max_13', 'Diff_mean_1_3_alle_P':'s_diff_mean_13', 'Diff_min_1_3_alle_P':'s_diff_min13'}"
   ]
  },
  {
   "cell_type": "code",
   "execution_count": 90,
   "metadata": {},
   "outputs": [],
   "source": [
    "music_diff_r_tr = np.transpose(music_diff_r, axes=None)\n",
    "sound_diff_r_tr = np.transpose(sound_diff_r, axes=None)"
   ]
  },
  {
   "cell_type": "code",
   "execution_count": 91,
   "metadata": {},
   "outputs": [],
   "source": [
    "#Diff der Mittelwerte in der Musikgruppe mit Nan Werten\n",
    "m_na = music_diff_r_tr.iloc[:,[1]]\n",
    "s_na = sound_diff_r_tr.iloc[:,[1]]"
   ]
  },
  {
   "cell_type": "code",
   "execution_count": 92,
   "metadata": {},
   "outputs": [
    {
     "name": "stderr",
     "output_type": "stream",
     "text": [
      "/usr/local/lib/python3.6/dist-packages/ipykernel_launcher.py:4: FutureWarning: Sorting because non-concatenation axis is not aligned. A future version\n",
      "of pandas will change to not sort by default.\n",
      "\n",
      "To accept the future behavior, pass 'sort=False'.\n",
      "\n",
      "To retain the current behavior and silence the warning, pass 'sort=True'.\n",
      "\n",
      "  after removing the cwd from sys.path.\n",
      "/usr/local/lib/python3.6/dist-packages/ipykernel_launcher.py:5: FutureWarning: Method .as_matrix will be removed in a future version. Use .values instead.\n",
      "  \"\"\"\n",
      "/usr/local/lib/python3.6/dist-packages/ipykernel_launcher.py:6: FutureWarning: Method .as_matrix will be removed in a future version. Use .values instead.\n",
      "  \n"
     ]
    }
   ],
   "source": [
    "#ohne Nan Werte\n",
    "m = m_na.dropna()\n",
    "s = s_na.dropna()\n",
    "ms = pd.concat([s,m])\n",
    "m_array = m.as_matrix()\n",
    "s_array = s.as_matrix()"
   ]
  },
  {
   "cell_type": "code",
   "execution_count": 93,
   "metadata": {},
   "outputs": [
    {
     "data": {
      "text/plain": [
       "m_diff_max_13     2.001235\n",
       "m_diff_mean_13    0.950093\n",
       "m_diff_min13     -1.659111\n",
       "dtype: float64"
      ]
     },
     "execution_count": 93,
     "metadata": {},
     "output_type": "execute_result"
    }
   ],
   "source": [
    "np.mean(music_diff_r, axis =1)"
   ]
  },
  {
   "cell_type": "code",
   "execution_count": 94,
   "metadata": {},
   "outputs": [
    {
     "data": {
      "text/plain": [
       "s_diff_max_13     2.775959\n",
       "s_diff_mean_13    2.386157\n",
       "s_diff_min13      0.285810\n",
       "dtype: float64"
      ]
     },
     "execution_count": 94,
     "metadata": {},
     "output_type": "execute_result"
    }
   ],
   "source": [
    "np.mean(sound_diff_r, axis =1)"
   ]
  },
  {
   "cell_type": "code",
   "execution_count": 106,
   "metadata": {},
   "outputs": [
    {
     "data": {
      "text/plain": [
       "m_diff_max_13     18.988972\n",
       "m_diff_mean_13     9.638524\n",
       "m_diff_min13      10.324909\n",
       "dtype: float64"
      ]
     },
     "execution_count": 106,
     "metadata": {},
     "output_type": "execute_result"
    }
   ],
   "source": [
    "np.var(music_diff_r, axis = 1)"
   ]
  },
  {
   "cell_type": "code",
   "execution_count": 107,
   "metadata": {},
   "outputs": [
    {
     "data": {
      "text/plain": [
       "s_diff_max_13     111.275114\n",
       "s_diff_mean_13     19.324783\n",
       "s_diff_min13        8.611404\n",
       "dtype: float64"
      ]
     },
     "execution_count": 107,
     "metadata": {},
     "output_type": "execute_result"
    }
   ],
   "source": [
    "np.var(sound_diff_r, axis = 1)"
   ]
  },
  {
   "cell_type": "code",
   "execution_count": 95,
   "metadata": {},
   "outputs": [
    {
     "data": {
      "text/plain": [
       "m_diff_max_13     4.357634\n",
       "m_diff_mean_13    3.104597\n",
       "m_diff_min13      3.213240\n",
       "dtype: float64"
      ]
     },
     "execution_count": 95,
     "metadata": {},
     "output_type": "execute_result"
    }
   ],
   "source": [
    "np.std(music_diff_r, axis = 1)"
   ]
  },
  {
   "cell_type": "code",
   "execution_count": 96,
   "metadata": {},
   "outputs": [
    {
     "data": {
      "text/plain": [
       "s_diff_max_13     10.548702\n",
       "s_diff_mean_13     4.395996\n",
       "s_diff_min13       2.934519\n",
       "dtype: float64"
      ]
     },
     "execution_count": 96,
     "metadata": {},
     "output_type": "execute_result"
    }
   ],
   "source": [
    "np.std(sound_diff_r, axis = 1)"
   ]
  },
  {
   "cell_type": "code",
   "execution_count": 97,
   "metadata": {},
   "outputs": [
    {
     "data": {
      "image/png": "[encoded data removed]",
      "text/plain": [
       "<Figure size 432x288 with 1 Axes>"
      ]
     },
     "metadata": {
      "needs_background": "light"
     },
     "output_type": "display_data"
    }
   ],
   "source": [
    "%matplotlib inline\n",
    "ms.boxplot(column=['s_diff_mean_13','m_diff_mean_13']);"
   ]
  },
  {
   "cell_type": "code",
   "execution_count": 98,
   "metadata": {},
   "outputs": [
    {
     "data": {
      "text/plain": [
       "(array([2., 1., 1., 1., 0., 3., 1., 0., 0., 2.]),\n",
       " array([-3.78056549, -2.76630235, -1.75203921, -0.73777607,  0.27648706,\n",
       "         1.2907502 ,  2.30501334,  3.31927648,  4.33353962,  5.34780276,\n",
       "         6.36206589]),\n",
       " <a list of 10 Patch objects>)"
      ]
     },
     "execution_count": 98,
     "metadata": {},
     "output_type": "execute_result"
    },
    {
     "data": {
      "image/png": "[encoded data removed]",
      "text/plain": [
       "<Figure size 432x288 with 1 Axes>"
      ]
     },
     "metadata": {
      "needs_background": "light"
     },
     "output_type": "display_data"
    }
   ],
   "source": [
    "plt.hist(m_array)"
   ]
  },
  {
   "cell_type": "code",
   "execution_count": 99,
   "metadata": {},
   "outputs": [
    {
     "data": {
      "text/plain": [
       "(array([1., 1., 0., 1., 1., 1., 2., 0., 1., 3.]),\n",
       " array([-5.66739295, -4.30687553, -2.94635812, -1.5858407 , -0.22532329,\n",
       "         1.13519413,  2.49571154,  3.85622896,  5.21674637,  6.57726379,\n",
       "         7.9377812 ]),\n",
       " <a list of 10 Patch objects>)"
      ]
     },
     "execution_count": 99,
     "metadata": {},
     "output_type": "execute_result"
    },
    {
     "data": {
      "image/png": "[encoded data removed]",
      "text/plain": [
       "<Figure size 432x288 with 1 Axes>"
      ]
     },
     "metadata": {
      "needs_background": "light"
     },
     "output_type": "display_data"
    }
   ],
   "source": [
    "plt.hist(s_array)"
   ]
  },
  {
   "cell_type": "code",
   "execution_count": 100,
   "metadata": {},
   "outputs": [
    {
     "data": {
      "text/plain": [
       "(0.9643765687942505, 0.8248171806335449)"
      ]
     },
     "execution_count": 100,
     "metadata": {},
     "output_type": "execute_result"
    }
   ],
   "source": [
    "# Normalverteilt\n",
    "stats.shapiro(m_array)"
   ]
  },
  {
   "cell_type": "code",
   "execution_count": 101,
   "metadata": {},
   "outputs": [
    {
     "data": {
      "text/plain": [
       "(0.9277293086051941, 0.38834190368652344)"
      ]
     },
     "execution_count": 101,
     "metadata": {},
     "output_type": "execute_result"
    }
   ],
   "source": [
    "# Normalverteilt\n",
    "stats.shapiro(s_array)"
   ]
  },
  {
   "cell_type": "code",
   "execution_count": 102,
   "metadata": {},
   "outputs": [
    {
     "data": {
      "text/html": [
       "<div>\n",
       "<style scoped>\n",
       "    .dataframe tbody tr th:only-of-type {\n",
       "        vertical-align: middle;\n",
       "    }\n",
       "\n",
       "    .dataframe tbody tr th {\n",
       "        vertical-align: top;\n",
       "    }\n",
       "\n",
       "    .dataframe thead th {\n",
       "        text-align: right;\n",
       "    }\n",
       "</style>\n",
       "<table border=\"1\" class=\"dataframe\">\n",
       "  <thead>\n",
       "    <tr style=\"text-align: right;\">\n",
       "      <th></th>\n",
       "      <th>T</th>\n",
       "      <th>p-val</th>\n",
       "      <th>dof</th>\n",
       "      <th>tail</th>\n",
       "      <th>cohen-d</th>\n",
       "      <th>power</th>\n",
       "      <th>BF10</th>\n",
       "    </tr>\n",
       "  </thead>\n",
       "  <tbody>\n",
       "    <tr>\n",
       "      <th>T-test</th>\n",
       "      <td>-0.844</td>\n",
       "      <td>0.40875</td>\n",
       "      <td>20</td>\n",
       "      <td>two-sided</td>\n",
       "      <td>0.36</td>\n",
       "      <td>0.124</td>\n",
       "      <td>0.496</td>\n",
       "    </tr>\n",
       "  </tbody>\n",
       "</table>\n",
       "</div>"
      ],
      "text/plain": [
       "            T    p-val  dof       tail  cohen-d  power   BF10\n",
       "T-test -0.844  0.40875   20  two-sided     0.36  0.124  0.496"
      ]
     },
     "execution_count": 102,
     "metadata": {},
     "output_type": "execute_result"
    }
   ],
   "source": [
    "# T-Test ungepaart Werte sind nicht voneinander abhängig, der beiden Diff means der sound und der Musik Gruppe\n",
    "ttest(m_array, s_array, paired =False)"
   ]
  },
  {
   "cell_type": "code",
   "execution_count": 103,
   "metadata": {},
   "outputs": [
    {
     "data": {
      "text/html": [
       "<div>\n",
       "<style scoped>\n",
       "    .dataframe tbody tr th:only-of-type {\n",
       "        vertical-align: middle;\n",
       "    }\n",
       "\n",
       "    .dataframe tbody tr th {\n",
       "        vertical-align: top;\n",
       "    }\n",
       "\n",
       "    .dataframe thead th {\n",
       "        text-align: right;\n",
       "    }\n",
       "</style>\n",
       "<table border=\"1\" class=\"dataframe\">\n",
       "  <thead>\n",
       "    <tr style=\"text-align: right;\">\n",
       "      <th></th>\n",
       "      <th>U-val</th>\n",
       "      <th>p-val</th>\n",
       "      <th>RBC</th>\n",
       "      <th>CLES</th>\n",
       "    </tr>\n",
       "  </thead>\n",
       "  <tbody>\n",
       "    <tr>\n",
       "      <th>MWU</th>\n",
       "      <td>46.0</td>\n",
       "      <td>0.357933</td>\n",
       "      <td>0.239669</td>\n",
       "      <td>0.619835</td>\n",
       "    </tr>\n",
       "  </tbody>\n",
       "</table>\n",
       "</div>"
      ],
      "text/plain": [
       "     U-val     p-val       RBC      CLES\n",
       "MWU   46.0  0.357933  0.239669  0.619835"
      ]
     },
     "execution_count": 103,
     "metadata": {},
     "output_type": "execute_result"
    }
   ],
   "source": [
    "#Man Whitney U Test , angenommen nicht parametrisch\n",
    "pg.mwu(m_array, s_array)"
   ]
  },
  {
   "cell_type": "code",
   "execution_count": 104,
   "metadata": {},
   "outputs": [
    {
     "data": {
      "text/html": [
       "<div>\n",
       "<style scoped>\n",
       "    .dataframe tbody tr th:only-of-type {\n",
       "        vertical-align: middle;\n",
       "    }\n",
       "\n",
       "    .dataframe tbody tr th {\n",
       "        vertical-align: top;\n",
       "    }\n",
       "\n",
       "    .dataframe thead th {\n",
       "        text-align: right;\n",
       "    }\n",
       "</style>\n",
       "<table border=\"1\" class=\"dataframe\">\n",
       "  <thead>\n",
       "    <tr style=\"text-align: right;\">\n",
       "      <th></th>\n",
       "      <th>n</th>\n",
       "      <th>r</th>\n",
       "      <th>CI95%</th>\n",
       "      <th>r2</th>\n",
       "      <th>adj_r2</th>\n",
       "      <th>p-val</th>\n",
       "      <th>BF10</th>\n",
       "      <th>power</th>\n",
       "    </tr>\n",
       "  </thead>\n",
       "  <tbody>\n",
       "    <tr>\n",
       "      <th>pearson</th>\n",
       "      <td>11</td>\n",
       "      <td>0.016</td>\n",
       "      <td>[[-0.59], [0.61]]</td>\n",
       "      <td>0.0</td>\n",
       "      <td>-0.25</td>\n",
       "      <td>0.963842</td>\n",
       "      <td>0.223</td>\n",
       "      <td>0.049</td>\n",
       "    </tr>\n",
       "  </tbody>\n",
       "</table>\n",
       "</div>"
      ],
      "text/plain": [
       "          n      r              CI95%   r2  adj_r2     p-val   BF10  power\n",
       "pearson  11  0.016  [[-0.59], [0.61]]  0.0   -0.25  0.963842  0.223  0.049"
      ]
     },
     "metadata": {},
     "output_type": "display_data"
    }
   ],
   "source": [
    "# hier ist die Frage, ob es überhaupt sinnhaft ist die Korrelationen zu rechnen\n",
    "pearson_correlation = pg.corr(s_array, m_array)\n",
    "display(pearson_correlation)\n",
    "cor_coeeficient = pearson_correlation['r']\n",
    "n =  len(s+m)"
   ]
  }
 ],
 "metadata": {
  "kernelspec": {
   "display_name": "Python 3",
   "language": "python",
   "name": "python3"
  },
  "language_info": {
   "codemirror_mode": {
    "name": "ipython",
    "version": 3
   },
   "file_extension": ".py",
   "mimetype": "text/x-python",
   "name": "python",
   "nbconvert_exporter": "python",
   "pygments_lexer": "ipython3",
   "version": "3.6.7"
  }
 },
 "nbformat": 4,
 "nbformat_minor": 2
}
