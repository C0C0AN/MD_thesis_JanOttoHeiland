{
 "cells": [
  {
   "cell_type": "code",
   "execution_count": 6,
   "metadata": {},
   "outputs": [],
   "source": [
    "from __future__ import print_function\n",
    "from resp import load_vhdr\n",
    "data_dir = \"../../Daten/BekJan\"\n",
    "fname = data_dir + \"/HOAF_02.vhdr\"\n",
    "\n"
   ]
  },
  {
   "cell_type": "code",
   "execution_count": 4,
   "metadata": {},
   "outputs": [
    {
     "name": "stdout",
     "output_type": "stream",
     "text": [
      "Extracting parameters from ../../Daten/BekJan/HOAF_02.vhdr...\n",
      "Setting channel info structure...\n",
      "Reading 0 ... 18681399  =      0.000 ...  3736.280 secs...\n"
     ]
    },
    {
     "name": "stderr",
     "output_type": "stream",
     "text": [
      "resp.py:28: DeprecationWarning: stim_channel (default True in 0.17) will change to False in 0.18 and be removed in 0.19, set it to False in 0.17 to avoid this warning\n",
      "  raw = read_raw_brainvision(fname, preload=True)\n",
      "resp.py:28: RuntimeWarning: Channels contain different highpass filters. Lowest (weakest) filter setting (0.00 Hz) will be stored.\n",
      "  raw = read_raw_brainvision(fname, preload=True)\n",
      "resp.py:28: RuntimeWarning: Channels contain different lowpass filters. Highest (weakest) filter setting (2500.00 Hz, Nyquist limit) will be stored.\n",
      "  raw = read_raw_brainvision(fname, preload=True)\n"
     ]
    },
    {
     "name": "stdout",
     "output_type": "stream",
     "text": [
      "Used Annotations descriptions: ['Response/R128']\n"
     ]
    },
    {
     "name": "stderr",
     "output_type": "stream",
     "text": [
      "resp.py:28: RuntimeWarning: 1 event(s) will be dropped, such as ['SyncStatus/Sync Off']. Consider using the event_id parameter to parse events that do not follow the BrainVision format. For more information, see the docstring of read_raw_brainvision.\n",
      "  raw = read_raw_brainvision(fname, preload=True)\n"
     ]
    },
    {
     "data": {
      "text/plain": [
       "array([0.0000000e+00, 2.0000000e-04, 4.0000000e-04, ..., 3.7362794e+03,\n",
       "       3.7362796e+03, 3.7362798e+03])"
      ]
     },
     "execution_count": 4,
     "metadata": {},
     "output_type": "execute_result"
    }
   ],
   "source": [
    "data, times, raw = load_vhdr(fname)\n",
    "times"
   ]
  },
  {
   "cell_type": "code",
   "execution_count": 7,
   "metadata": {},
   "outputs": [
    {
     "name": "stdout",
     "output_type": "stream",
     "text": [
      "loaded ../../Daten/BekJan/HOAF_16.vhdr\n",
      "loaded ../../Daten/BekJan/HOAF_03.vhdr\n",
      "loaded ../../Daten/BekJan/HOAF_04.vhdr\n",
      "loaded ../../Daten/BekJan/HOAF_15.vhdr\n",
      "loaded ../../Daten/BekJan/HOAF_12.vhdr\n",
      "loaded ../../Daten/BekJan/HOAF_09.vhdr\n",
      "loaded ../../Daten/BekJan/HOAF_T04__EDA_Resp0002.vhdr\n",
      "loaded ../../Daten/BekJan/HOAF_19.vhdr\n",
      "loaded ../../Daten/BekJan/HOAF_11.vhdr\n",
      "loaded ../../Daten/BekJan/HOAF_17.vhdr\n",
      "loaded ../../Daten/BekJan/HOAF_01.vhdr\n",
      "loaded ../../Daten/BekJan/HOAF_05.vhdr\n",
      "loaded ../../Daten/BekJan/HOAF_EDA_Resp0002.vhdr\n",
      "loaded ../../Daten/BekJan/HOAF_18.vhdr\n",
      "loaded ../../Daten/BekJan/HOAF_13.vhdr\n",
      "loaded ../../Daten/BekJan/HOAF_02.vhdr\n",
      "loaded ../../Daten/BekJan/HOAF_14.vhdr\n",
      "loaded ../../Daten/BekJan/HOAF_20.vhdr\n"
     ]
    }
   ],
   "source": [
    "from resp import find_vhdrs\n",
    "\n",
    "for fname in find_vhdrs(data_dir):\n",
    "    # data, times, raw = load_vhdr(fname)\n",
    "    print(\"loaded\", fname)"
   ]
  }
 ],
 "metadata": {
  "kernelspec": {
   "display_name": "Python 2",
   "language": "python",
   "name": "python2"
  },
  "language_info": {
   "codemirror_mode": {
    "name": "ipython",
    "version": 2
   },
   "file_extension": ".py",
   "mimetype": "text/x-python",
   "name": "python",
   "nbconvert_exporter": "python",
   "pygments_lexer": "ipython2",
   "version": "2.7.15"
  }
 },
 "nbformat": 4,
 "nbformat_minor": 2
}
