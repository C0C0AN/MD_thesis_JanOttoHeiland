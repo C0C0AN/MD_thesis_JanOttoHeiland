{
 "cells": [
  {
   "cell_type": "code",
   "execution_count": null,
   "metadata": {},
   "outputs": [],
   "source": [
    "from os.path import join as opj\n",
    "from nipype.interfaces.io import SelectFiles, DataSink\n",
    "from nipype.interfaces.spm import (OneSampleTTestDesign, EstimateModel,\n",
    "                                   EstimateContrast, Threshold)\n",
    "from nipype.interfaces.utility import IdentityInterface\n",
    "from nipype.pipeline.engine import Workflow, Node\n",
    "\n",
    "from nipype.algorithms.misc import Gunzip\n",
    "from nipype.pipeline.engine import MapNode\n",
    "\n",
    "# SPM standalone\n",
    "matlab_cmd = '/usr/local/spm12/run_spm12.sh /usr/local/MATLAB/MATLAB_Compiler_Runtime/v713 script'\n",
    "spm.SPMCommand.set_mlab_paths(matlab_cmd=matlab_cmd, use_mcr=True)"
   ]
  },
  {
   "cell_type": "code",
   "execution_count": 49,
   "metadata": {},
   "outputs": [],
   "source": [
    "experiment_dir = '/media/lmn/86A406A0A406933B6/HOAF/HOAF_BIDS' # location of experiment folder\n",
    "output_dir = '/derivatives/secondlevel/output' # name of 2nd-level output folder\n",
    "input_dir_norm = 'derivatives/secondlevel/datasink'# name of norm output folder\n",
    "working_dir = 'workingdir'# name of working directory\n",
    "subject_list = [ 'sub006','sub007', 'sub008', 'sub009','sub010']# list of subject identifiers\n",
    "contrast_list = [ 'con_0004']"
   ]
  },
  {
   "cell_type": "code",
   "execution_count": 50,
   "metadata": {},
   "outputs": [],
   "source": [
    "# One Sample T-Test Design - creates one sample T-Test Design\n",
    "onesamplettestdes = Node(OneSampleTTestDesign(),\n",
    "                         name=\"onesampttestdes\")\n",
    "\n",
    "# EstimateModel - estimate the parameters of the model\n",
    "level2estimate = Node(EstimateModel(estimation_method={'Classical': 1}),\n",
    "                      name=\"level2estimate\")\n",
    "\n",
    "# EstimateContrast - estimates simple group contrast\n",
    "level2conestimate = Node(EstimateContrast(group_contrast=True),\n",
    "                         name=\"level2conestimate\")\n",
    "cont1 = ['Group', 'T', ['mean'], [1]]\n",
    "level2conestimate.inputs.contrasts = [cont1]"
   ]
  },
  {
   "cell_type": "code",
   "execution_count": 51,
   "metadata": {},
   "outputs": [],
   "source": [
    "# Specify 2nd-Level Analysis Workflow & Connect Nodes\n",
    "l2analysis = Workflow(name='l2analysis')\n",
    "l2analysis.base_dir = opj(experiment_dir, working_dir)\n",
    "\n",
    "# Connect up the 2nd-level analysis components\n",
    "l2analysis.connect([(onesamplettestdes, level2estimate, [('spm_mat_file',\n",
    "                                                          'spm_mat_file')] ),\n",
    "                    (level2estimate, level2conestimate, [('spm_mat_file',\n",
    "                                                          'spm_mat_file'),\n",
    "                                                         ('beta_images',\n",
    "                                                          'beta_images'),\n",
    "                                                         ('residual_image',\n",
    "                                                          'residual_image')]),\n",
    "                    ])\n"
   ]
  },
  {
   "cell_type": "code",
   "execution_count": 52,
   "metadata": {},
   "outputs": [],
   "source": [
    "# Infosource - a function free node to iterate over the list of subject names\n",
    "infosource = Node(IdentityInterface(fields=['contrast_id']),\n",
    "                  name=\"infosource\")\n",
    "infosource.iterables = [('contrast_id', contrast_list)]\n",
    "\n",
    "# SelectFiles - to grab the data (alternative to DataGrabber)\n",
    "con_file = opj(input_dir_norm, 'norm_ants', 'sub-*_fwhm4', '{contrast_id}_trans.nii')\n",
    "templates = {'cons': con_file}\n",
    "\n",
    "selectfiles = Node(SelectFiles(templates,\n",
    "                               base_directory=experiment_dir),\n",
    "                   name=\"selectfiles\")\n",
    "\n",
    "# Datasink - creates output folder for important outputs\n",
    "datasink = Node(DataSink(base_directory=experiment_dir,\n",
    "                         container=output_dir),\n",
    "                name=\"datasink\")\n",
    "\n",
    "# Use the following DataSink output substitutions\n",
    "substitutions = [('_contrast_id_', '')]\n",
    "datasink.inputs.substitutions = substitutions"
   ]
  },
  {
   "cell_type": "code",
   "execution_count": 54,
   "metadata": {},
   "outputs": [],
   "source": [
    "# Connect SelectFiles and DataSink to the workflow\n",
    "l2analysis.connect([(infosource, selectfiles, [('contrast_id',\n",
    "                                                'contrast_id')]),\n",
    "                    (selectfiles, onesamplettestdes, [('cons', 'in_files')]),\n",
    "                    (level2conestimate, datasink, [('spm_mat_file',\n",
    "                                                    'contrasts.@spm_mat'),\n",
    "                                                   ('spmT_images',\n",
    "                                                    'contrasts.@T'),\n",
    "                                                   ('con_images',\n",
    "                                                    'contrasts.@con')]),\n",
    "                    ])"
   ]
  },
  {
   "cell_type": "code",
   "execution_count": null,
   "metadata": {},
   "outputs": [],
   "source": [
    "l2analysis.write_graph(graph2use='colored')\n",
    "l2analysis.run('MultiProc', plugin_args={'n_procs': 8})"
   ]
  }
 ],
 "metadata": {
  "kernelspec": {
   "display_name": "Python 3",
   "language": "python",
   "name": "python3"
  },
  "language_info": {
   "codemirror_mode": {
    "name": "ipython",
    "version": 3
   },
   "file_extension": ".py",
   "mimetype": "text/x-python",
   "name": "python",
   "nbconvert_exporter": "python",
   "pygments_lexer": "ipython3",
   "version": "3.6.7"
  }
 },
 "nbformat": 4,
 "nbformat_minor": 2
}
