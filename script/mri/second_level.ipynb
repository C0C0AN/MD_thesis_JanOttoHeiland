{
 "cells": [
  {
   "cell_type": "markdown",
   "metadata": {},
   "source": [
    "Import modules and specify interface behaviors"
   ]
  },
  {
   "cell_type": "code",
   "execution_count": null,
   "metadata": {},
   "outputs": [],
   "source": [
    "from os.path import join as opj\n",
    "from nipype.interfaces.io import SelectFiles, DataSink\n",
    "from nipype.interfaces.spm import (OneSampleTTestDesign, EstimateModel,\n",
    "                                   EstimateContrast, Threshold)\n",
    "from nipype.interfaces.utility import IdentityInterface\n",
    "from nipype.pipeline.engine import Workflow, Node\n",
    "\n",
    "# Specification to MATLAB\n",
    "from nipype.interfaces.matlab import MatlabCommand\n",
    "MatlabCommand.set_default_paths('/usr/local/MATLAB/R2014a/toolbox/spm12')\n",
    "MatlabCommand.set_default_matlab_cmd(\"matlab -nodesktop -nosplash\")"
   ]
  },
  {
   "cell_type": "markdown",
   "metadata": {},
   "source": [
    "Define experiment specific parameters"
   ]
  },
  {
   "cell_type": "code",
   "execution_count": null,
   "metadata": {},
   "outputs": [],
   "source": [
    "experiment_dir = '/media/lmn/86A406A0A406933B2/HOAF/HOAF_BIDS/derivatives/secondlevel/'           # location of experiment folder\n",
    "output_dir = 'output_secondlevel'    # name of 2nd-level output folder\n",
    "input_dir_norm = '_ants'# name of norm output folder\n",
    "working_dir = 'working_secondlevel'# name of working directory\n",
    "\n",
    "subject_list = ['sub-01', 'sub-02']\n",
    "\n",
    "# list of subject identifiers\n",
    "#['sub-03', 'sub-04', 'sub-05', 'sub-06', 'sub-07', 'sub-08', 'sub-09', 'sub-10', 'sub-11', 'sub-12', 'sub-13', 'sub-14', 'sub-15', 'sub-16', 'sub-17', 'sub-18', 'sub-19', 'sub-20', 'sub-21', 'sub-22', 'sub-23', 'sub-24', 'sub-25', 'sub-26', 'sub-27', 'sub-28', 'sub-29']\n",
    "\n",
    "# Condition names\n",
    "\n",
    "'''\n",
    "condition_names = ['stress', 'relax', 'stress_gremium']\n",
    "\n",
    "cont01 = ['stress','T', condition_names, [1, 0, 0, 0, 0, 0, 0, 0, 0, 1, 0, 0, 0, 0, 0, 0, 0, 0]]\n",
    "cont02 = ['relax','T', condition_names, [0, 1, 0, 0, 0, 0, 0, 0, 0, 0, 1, 0, 0, 0, 0, 0, 0, 0]]\n",
    "cont03 = ['stress > relax','T', condition_names, [1, -1, 0, 0, 0, 0, 0, 0, 0, 1, -1, 0, 0, 0, 0, 0, 0, 0]]\n",
    "cont04 = ['relax > stress','T', condition_names, [-1, 1, 0, 0, 0, 0, 0, 0, 0, -1, 1, 0, 0, 0, 0, 0, 0, 0]]\n",
    "cont05 = ['stress_gremium','T', condition_names, [0, 0, 1, 0, 0, 0, 0, 0, 0, 0, 0, 1, 0, 0, 0, 0, 0, 0]]\n",
    "'''\n",
    "\n",
    "contrast_list = [cont01, cont02, cont03, cont04, cont05] # list of contrast identifiers"
   ]
  },
  {
   "cell_type": "markdown",
   "metadata": {},
   "source": [
    "Create nodes"
   ]
  },
  {
   "cell_type": "code",
   "execution_count": null,
   "metadata": {},
   "outputs": [],
   "source": [
    "# One Sample T-Test Design - creates one sample T-Test Design\n",
    "onesamplettestdes = Node(OneSampleTTestDesign(),\n",
    "                         name=\"onesampttestdes\")\n",
    "\n",
    "# EstimateModel - estimate the parameters of the model\n",
    "level2estimate = Node(EstimateModel(estimation_method={'Classical': 1}),\n",
    "                      name=\"level2estimate\")\n",
    "\n",
    "# EstimateContrast - estimates simple group contrast\n",
    "level2conestimate = Node(EstimateContrast(group_contrast=True),\n",
    "                         name=\"level2conestimate\")\n",
    "cont1 = ['Group', 'T', ['mean'], [1]]\n",
    "level2conestimate.inputs.contrasts = [cont1]"
   ]
  },
  {
   "cell_type": "markdown",
   "metadata": {},
   "source": [
    "Create the pipeline and connect nodes to it"
   ]
  },
  {
   "cell_type": "code",
   "execution_count": null,
   "metadata": {},
   "outputs": [],
   "source": [
    "# Specify 2nd-Level Analysis Workflow & Connect Nodes\n",
    "l2analysis = Workflow(name='l2analysis')\n",
    "l2analysis.base_dir = opj(experiment_dir, working_dir)\n",
    "\n",
    "# Connect up the 2nd-level analysis components\n",
    "l2analysis.connect([(onesamplettestdes, level2estimate, [('spm_mat_file',\n",
    "                                                          'spm_mat_file')] ),\n",
    "                    (level2estimate, level2conestimate, [('spm_mat_file',\n",
    "                                                          'spm_mat_file'),\n",
    "                                                         ('beta_images',\n",
    "                                                          'beta_images'),\n",
    "                                                         ('residual_image',\n",
    "                                                          'residual_image')]),\n",
    "                    ])"
   ]
  },
  {
   "cell_type": "markdown",
   "metadata": {},
   "source": [
    "Establish Input & Output Stream"
   ]
  },
  {
   "cell_type": "code",
   "execution_count": null,
   "metadata": {},
   "outputs": [],
   "source": [
    "# contrast template for ANTs normalization (complete)\n",
    "con_file = opj(input_dir_norm, 'warp_complete', 'sub*', 'warpall*',\n",
    "               '{contrast_id}_trans.nii')\n",
    "\n",
    "# Infosource - a function free node to iterate over the list of subject names\n",
    "infosource = Node(IdentityInterface(fields=['contrast_id']),\n",
    "                  name=\"infosource\")\n",
    "infosource.iterables = [('contrast_id', contrast_list)]\n",
    "\n",
    "# SelectFiles - to grab the data (alternative to DataGrabber)\n",
    "con_file = opj(input_dir_norm, 'warp_complete', 'sub*', 'warpall*',\n",
    "               '{contrast_id}_trans.nii')\n",
    "templates = {'cons': con_file}\n",
    "\n",
    "selectfiles = Node(SelectFiles(templates,\n",
    "                               base_directory=experiment_dir),\n",
    "                   name=\"selectfiles\")\n",
    "\n",
    "# Datasink - creates output folder for important outputs\n",
    "datasink = Node(DataSink(base_directory=experiment_dir,\n",
    "                         container=output_dir),\n",
    "                name=\"datasink\")\n",
    "\n",
    "# Use the following DataSink output substitutions\n",
    "substitutions = [('_contrast_id_', '')]\n",
    "datasink.inputs.substitutions = substitutions\n",
    "\n",
    "# Connect SelectFiles and DataSink to the workflow\n",
    "l2analysis.connect([(infosource, selectfiles, [('contrast_id',\n",
    "                                                'contrast_id')]),\n",
    "                    (selectfiles, onesamplettestdes, [('cons', 'in_files')]),\n",
    "                    (level2conestimate, datasink, [('spm_mat_file',\n",
    "                                                    'contrasts.@spm_mat'),\n",
    "                                                   ('spmT_images',\n",
    "                                                    'contrasts.@T'),\n",
    "                                                   ('con_images',\n",
    "                                                    'contrasts.@con')]),\n",
    "                    ])"
   ]
  },
  {
   "cell_type": "markdown",
   "metadata": {},
   "source": [
    "Generate the graph"
   ]
  },
  {
   "cell_type": "code",
   "execution_count": null,
   "metadata": {},
   "outputs": [],
   "source": [
    "l2analysis.write_graph(graph2use='colored')\n"
   ]
  },
  {
   "cell_type": "markdown",
   "metadata": {},
   "source": [
    "run the workflow"
   ]
  },
  {
   "cell_type": "code",
   "execution_count": null,
   "metadata": {},
   "outputs": [],
   "source": [
    "l2analysis.run('MultiProc', plugin_args={'n_procs': 8})"
   ]
  }
 ],
 "metadata": {
  "kernelspec": {
   "display_name": "Python 3",
   "language": "python",
   "name": "python3"
  },
  "language_info": {
   "codemirror_mode": {
    "name": "ipython",
    "version": 3
   },
   "file_extension": ".py",
   "mimetype": "text/x-python",
   "name": "python",
   "nbconvert_exporter": "python",
   "pygments_lexer": "ipython3",
   "version": "3.6.7"
  }
 },
 "nbformat": 4,
 "nbformat_minor": 2
}
